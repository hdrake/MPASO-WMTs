{
 "cells": [
  {
   "cell_type": "code",
   "execution_count": 26,
   "id": "06d4e4bc-a4a8-47d2-98d8-9fe400c86dc2",
   "metadata": {},
   "outputs": [],
   "source": [
    "import uxarray as ux\n",
    "import xarray as xr\n",
    "import numpy as np"
   ]
  },
  {
   "cell_type": "markdown",
   "id": "3b7f325a-fa5c-4de9-8427-f554460c5616",
   "metadata": {},
   "source": [
    "### Exploring how MPAS-Ocean grids and datasets are represented in `uxarray`\n",
    "\n",
    "See https://uxarray.readthedocs.io/en/v2024.01.1/examples/004-working-with-mpas-grids.html"
   ]
  },
  {
   "cell_type": "code",
   "execution_count": 52,
   "id": "762062fc-3011-42cf-937e-1674fb8f9d88",
   "metadata": {},
   "outputs": [],
   "source": [
    "mesh_path = '/global/cfs/projectdirs/e3sm/inputdata/ocn/mpas-o/EC30to60E2r2/ocean.EC30to60E2r2.210210.nc'\n",
    "\n",
    "bmm_filepath = '/pscratch/sd/b/bmoorema/run_001_062/'\n",
    "dataset_path = bmm_filepath + '20210421_sim7_CORE_60to30E2r2.mpaso.hist.am.timeSeriesStatsMonthly.0063-12-01.nc'\n",
    "dso = ux.open_dataset(\n",
    "    mesh_path,\n",
    "    dataset_path,\n",
    "    decode_timedelta=True\n",
    ")"
   ]
  },
  {
   "cell_type": "markdown",
   "id": "7bc77d55-ef3c-40f7-9275-74529b81ffa8",
   "metadata": {},
   "source": [
    "#### Add integer index coordinates for each dimension\n",
    "\n",
    "This is only required for multi-dimensional `.sel` methods later!"
   ]
  },
  {
   "cell_type": "code",
   "execution_count": 53,
   "id": "7a68c8ef-b3e2-4564-9d2d-729436ae884c",
   "metadata": {},
   "outputs": [],
   "source": [
    "# Add grid coordinates\n",
    "dso = dso.assign_coords({\n",
    "    c:xr.DataArray(np.arange(dso.sizes[c]), dims=(c,))\n",
    "    for c in dso.dims\n",
    "})\n",
    "dso = dso.assign_coords({\"two\":xr.DataArray([0,1], dims=(\"two\",))})"
   ]
  },
  {
   "cell_type": "markdown",
   "id": "8eac0d73-f365-4ea2-9659-add91d8fecbb",
   "metadata": {},
   "source": [
    "### Mask faces on edges"
   ]
  },
  {
   "cell_type": "code",
   "execution_count": 63,
   "id": "d35d3621-6bb7-4d37-bddc-3c8298a70139",
   "metadata": {},
   "outputs": [],
   "source": [
    "faces_on_edges = dso.uxgrid.edge_face_connectivity.assign_coords({\"n_edge\":dso.n_edge, \"two\":dso.two})\n",
    "valid_face_mask = faces_on_edges >= 0\n",
    "faces_on_edges = faces_on_edges.where(valid_face_mask, 0) # arbitrarily set all implicit land faces to cell 0"
   ]
  },
  {
   "cell_type": "code",
   "execution_count": 64,
   "id": "3b5063c6-534f-4a3c-b488-b608e69dd323",
   "metadata": {},
   "outputs": [],
   "source": [
    "dso[\"timeMonthly_avg_density_onEdge\"] = (\n",
    "    dso.timeMonthly_avg_density\n",
    "    .chunk({\"nVertLevels\":1}) # make chunks smaller to keep memory impact low\n",
    "    .sel(n_face=faces_on_edges) # select faces\n",
    "    .where(valid_face_mask, np.nan) # remember to mask the implicit land faces!\n",
    "    .mean(\"two\") # take a mean across densities\n",
    ")"
   ]
  }
 ],
 "metadata": {
  "kernelspec": {
   "display_name": "Python (MPASO-WMT)",
   "language": "python",
   "name": "mpaso-wmt"
  },
  "language_info": {
   "codemirror_mode": {
    "name": "ipython",
    "version": 3
   },
   "file_extension": ".py",
   "mimetype": "text/x-python",
   "name": "python",
   "nbconvert_exporter": "python",
   "pygments_lexer": "ipython3",
   "version": "3.13.9"
  }
 },
 "nbformat": 4,
 "nbformat_minor": 5
}

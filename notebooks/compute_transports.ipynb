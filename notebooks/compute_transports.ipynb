{
 "cells": [
  {
   "cell_type": "code",
   "execution_count": 165,
   "id": "17fd3564-9968-4145-b194-e639ccce49be",
   "metadata": {},
   "outputs": [
    {
     "name": "stdout",
     "output_type": "stream",
     "text": [
      "The autoreload extension is already loaded. To reload it, use:\n",
      "  %reload_ext autoreload\n"
     ]
    }
   ],
   "source": [
    "%load_ext autoreload\n",
    "%autoreload 2"
   ]
  },
  {
   "cell_type": "code",
   "execution_count": 166,
   "id": "5288a4ad-133a-4ef2-9752-2b0473ced07a",
   "metadata": {},
   "outputs": [],
   "source": [
    "#Packages \n",
    "import numpy as np\n",
    "import xarray as xr\n",
    "import cmocean.cm as cmo\n",
    "import matplotlib.pyplot as plt\n",
    "import mpas_tools\n",
    "\n",
    "from geometric_features import GeometricFeatures\n",
    "from geometric_features import read_feature_collection\n",
    "\n",
    "from mpas_tools.mesh.mask import compute_mpas_region_masks\n",
    "from mpas_tools.parallel import create_pool\n",
    "from mpas_tools.io import write_netcdf\n",
    "\n",
    "import geojson\n",
    "import json\n",
    "import mosaic\n",
    "import os.path\n",
    "import mpasregions.sections as mps"
   ]
  },
  {
   "cell_type": "code",
   "execution_count": 167,
   "id": "9451922a-38dd-4e22-989a-ea6544bfc3a0",
   "metadata": {},
   "outputs": [
    {
     "name": "stderr",
     "output_type": "stream",
     "text": [
      "/tmp/ipykernel_1587336/638316685.py:10: FutureWarning: In a future version, xarray will not decode timedelta values based on the presence of a timedelta-like units attribute by default. Instead it will rely on the presence of a timedelta64 dtype attribute, which is now xarray's default way of encoding timedelta64 values. To continue decoding timedeltas based on the presence of a timedelta-like units attribute, users will need to explicitly opt-in by passing True or CFTimedeltaCoder(decode_via_units=True) to decode_timedelta. To silence this warning, set decode_timedelta to True, False, or a 'CFTimedeltaCoder' instance.\n",
      "  dso = xr.open_dataset(bmm_filepath + '20210421_sim7_CORE_60to30E2r2.mpaso.hist.am.timeSeriesStatsMonthly.0063-12-01.nc')\n"
     ]
    }
   ],
   "source": [
    "# global mesh\n",
    "mesh_path = '/global/cfs/projectdirs/e3sm/inputdata/ocn/mpas-o/EC30to60E2r2/ocean.EC30to60E2r2.210210.nc'\n",
    "mesh = xr.open_dataset(mesh_path)\n",
    "mesh = mesh.assign_coords({\n",
    "\"VertexID\": xr.DataArray(mesh.indexToVertexID, dims=('nVertices',)),\n",
    "})\n",
    "\n",
    "# global data\n",
    "bmm_filepath = '/pscratch/sd/b/bmoorema/run_001_062/'\n",
    "dso = xr.open_dataset(bmm_filepath + '20210421_sim7_CORE_60to30E2r2.mpaso.hist.am.timeSeriesStatsMonthly.0063-12-01.nc')\n",
    "\n",
    "# open base mask that we will fill with 0s according to the original mask (this new mask will contain cells PLUS their corresponding edges and vertices)\n",
    "base_mask = xr.open_dataset('./mpas-o_EC30to60_global_base_mask.nc')\n"
   ]
  },
  {
   "cell_type": "code",
   "execution_count": 168,
   "id": "857d1ce1-4e19-43ba-85ac-89b7a36f93ec",
   "metadata": {},
   "outputs": [],
   "source": [
    "# set up descriptor for plotting \n",
    "# # set up mesh to apply polypcolor\n",
    "mesh.attrs['is_periodic'] = 'YES'\n",
    "mesh.attrs['x_period'] = 360\n",
    "mesh.attrs['y_period'] = 0.0\n",
    "\n",
    "descriptor = mosaic.Descriptor(mesh,use_latlon=False)"
   ]
  },
  {
   "cell_type": "markdown",
   "id": "5133a877-26ee-4766-968a-36d0c08f2f3d",
   "metadata": {},
   "source": [
    "### get edge and vertex indices for a transect created from an algorithm"
   ]
  },
  {
   "cell_type": "code",
   "execution_count": 186,
   "id": "a779e208-ad65-4bbf-9580-2389738aa2be",
   "metadata": {},
   "outputs": [
    {
     "name": "stdout",
     "output_type": "stream",
     "text": [
      "LS_test_transect_from_alg.geojson exists!\n",
      "Opening LS_test_transect_from_alg.nc as dsMasks\n"
     ]
    }
   ],
   "source": [
    "# LS_lats= np.array([54, 60, 66, 64, 58])   \n",
    "# LS_lons= np.array([302, 315, 310, 295, 296])\n",
    "\n",
    "# LS_lats = np.append(LS_lats, LS_lats[0])\n",
    "# LS_lons = np.append(LS_lons, LS_lons[0])\n",
    "\n",
    "# # calculate transects from algorithm, sort vertices & edges to be in consecutive order\n",
    "test_edges, test_verts = mps.calculate_transects_multiple_pts(LS_lons, LS_lats, mesh)\n",
    "\n",
    "# from the transect, create a mask to capture the entire region specified by the transects\n",
    "# this will also output lats and lons corresponding to test_verts\n",
    "path = './'\n",
    "filename = 'LS_test'\n",
    "geojson_file_name = 'Labrador Sea from transect algorithm'\n",
    "tags = \"Labrador_Sea;Davis_Strait\"\n",
    "author = \"Kaila Uyeda\"\n",
    "\n",
    "    \n",
    "test_verts_lats, test_verts_lons, dsMasks = mps.transect_from_alg_create_nc(test_verts, \n",
    "                                                                            mesh, \n",
    "                                                                            path,\n",
    "                                                                            filename, \n",
    "                                                                            geojson_file_name,\n",
    "                                                                            tags, \n",
    "                                                                            author)\n",
    "\n",
    "# use the dsMasks file to get the ACTUAL working vertices that you will need\n",
    "# this eliminates duplicate vertices that would occur if the transect moves back on itself\n",
    "# check that the vertices and edges from the mask are actually at the same plaaces...\n",
    "# in other words, we have the correct cells for the mask but extra edges and vertices because of how the transect is created.\n",
    "# we have to do this after we create a mask with the cells. Otherwise, we don't know what side of the boundary\n",
    "# is considered \"inside the mask\"\n",
    "\n",
    "alg_edges, alg_vertices = mps.find_and_sort_transect_edges_and_vertices(mesh,dsMasks)"
   ]
  },
  {
   "cell_type": "code",
   "execution_count": 196,
   "id": "27b70014-7db8-4ed9-843f-8e38c1ed9c84",
   "metadata": {},
   "outputs": [],
   "source": [
    "# get just the OSNAP edges and vertices\n",
    "\n",
    "OSNAP_target_start_lat = 54\n",
    "OSNAP_target_start_lon = 302\n",
    "OSNAP_target_end_lat = 60\n",
    "OSNAP_target_end_lon = 315\n",
    "\n",
    "# get the raw/test edges and vertices.\n",
    "# we consider these to be \"raw\" because, by how these points have been chosen,\n",
    "# cellsOnEdge[nEdge,0] = land cell and cellsOnEdge[nEdge,1] = open ocean not in mask\n",
    "OSNAP_edges_raw, OSNAP_verts_raw = mps.calculate_transects(OSNAP_target_start_lat, OSNAP_target_start_lon, OSNAP_target_end_lat, OSNAP_target_end_lon, mesh)\n",
    "\n",
    "# we know that the alg_edges, alg_vertices remove the above discussed edges and vertices by how we define edges on transect \n",
    "# take the intersection of OSNAP_*_raw with alg_* to only get the edges and vertices along the transect\n",
    "OSNAP_edges = np.intersect1d(OSNAP_edges_raw, alg_edges)\n",
    "OSNAP_vertices = np.intersect1d(OSNAP_verts_raw, alg_vertices)"
   ]
  },
  {
   "cell_type": "markdown",
   "id": "c2ba8b5e-3c31-43c2-bbfb-5bd3b75a3c25",
   "metadata": {},
   "source": [
    "### get edge and vertex indices for a transect created from a mask"
   ]
  },
  {
   "cell_type": "code",
   "execution_count": 170,
   "id": "523c2cb1-faa6-494e-ba52-047199225066",
   "metadata": {},
   "outputs": [
    {
     "name": "stdout",
     "output_type": "stream",
     "text": [
      "Opening LS_test_transect_from_mask.nc file as mask\n"
     ]
    }
   ],
   "source": [
    "# open mask of desired region (this is to find transects from a pre-existing mask)\n",
    "\n",
    "path = './'\n",
    "filename = 'LS_test_transect_from_mask'\n",
    "\n",
    "check_nc_existence = os.path.isfile(path + filename + '.nc')\n",
    "\n",
    "# check if .nc mask file exists\n",
    "if check_nc_existence == True:\n",
    "    print(f'Opening {filename}.nc file as mask')\n",
    "    mask = xr.open_dataset(path + filename + '.nc')\n",
    "else: \n",
    "    print('Creating .nc file')\n",
    "    check_geojson_existence = os.path.isfile(path + filename + '.geojson')\n",
    "\n",
    "    # convert LS_test.geojson to LS_test.nc mask file\n",
    "    if check_geojson_existence == True:\n",
    "        print(f'Using {filename}.geojson to create .nc file')\n",
    "        fcMask = read_feature_collection(path + filename + '.geojson')\n",
    "        # pool = create_pool(process_count=8)\n",
    "        dsMasks = compute_mpas_region_masks(mesh, fcMask, maskTypes =('cell',), pool=pool)\n",
    "        dsMasks.to_netcdf(path + filename + '.nc', format='NETCDF4', mode='w')\n",
    "        mask = xr.open_dataset(path + filename + '.nc')\n",
    "        print(f'{filename}.nc created and opened as masks')\n",
    "    else:\n",
    "        print(f'{filename}.geojson does NOT exist!')\n",
    "\n",
    "mask_edges, mask_vertices = mps.find_and_sort_transect_edges_and_vertices(mesh,mask)"
   ]
  },
  {
   "cell_type": "markdown",
   "id": "35da08ce-5ca1-4270-89fc-696d1284283f",
   "metadata": {},
   "source": [
    "### Set up choice of edges and vertices based on method of creation."
   ]
  },
  {
   "cell_type": "code",
   "execution_count": 171,
   "id": "ba6225ba-b0dc-4c48-bc26-379f5fb58aac",
   "metadata": {},
   "outputs": [],
   "source": [
    "method = 'alg' # 'mask'\n",
    "if method == 'alg':\n",
    "    edges, vertices = alg_edges, alg_vertices\n",
    "    mask = dsMasks\n",
    "\n",
    "if method == 'mask':\n",
    "    edges, vertices = mask_edges, mask_vertices\n",
    "    mask = mask"
   ]
  },
  {
   "cell_type": "markdown",
   "id": "d59be8cb-8cda-49cd-926c-61ba66c05c0f",
   "metadata": {},
   "source": [
    "### A note on sign convention from normal velocity taken from [this python script on Github](https://github.com/milenaveneziani/analysis/blob/c7eb78deabb6fe9529d43fecdae6ce700eefff38/common_functions.py#L119) where \n",
    "`cellsOnEdge[nEdge,0]` is equivalent to my use of `A` cell, and \\\n",
    "`cellsonEdge[nEdge,1]` is equivalent to my use of `B` cell.\n",
    "\n",
    "```ruby\n",
    "# Compute edgeSigns so that transport INTO the region is positive. This is \n",
    "    # calculated considering that normalVelocity is positive when pointing from\n",
    "    # cellsOnEdges[nEdge, 0] to cellsOnEdges[nEdge, 1]. Therefore, if \n",
    "    # cellsOnEdges[nEdge, 0] is outside the region and cellsOnEdges[nEdge, 1]\n",
    "    # is inside the region, the sign remains unchanged (np.sign(regionMask[cellsOnEdges[nEdge, 1]] - 0.5)=1).\n",
    "    # But, if cellsOnEdges[nEdge, 0] is inside the region and cellsOnEdges[nEdge, 1]\n",
    "    # is outside the region, then the sign is flipped (np.sign(regionMask[cellsOnEdges[nEdge, 1]] - 0.5)\n",
    "    # becomes -1. With this reasoning, the following also works (and we have verified that):\n",
    "    # openBoundarySigns = -np.sign(regionMask[cellsOnEdges[~landEdges, 0]] - 0.5)\n",
    "```"
   ]
  },
  {
   "cell_type": "code",
   "execution_count": 172,
   "id": "4afc7c51-56b5-4804-9a98-c0ae473566de",
   "metadata": {},
   "outputs": [],
   "source": [
    "# Use normal velocity to calculate transport direction (We want positive into the mask and negative out of the mask)\n",
    "# We make the assumption that normal velocity is positive toward the A cell where mesh.cellsOnEdge = [A,B]\n",
    "\n",
    "# create a new datavariable for the velocity into the mask to be stored (we will change the normal velocity sign)\n",
    "# I only subtract 100 because I want to show where land is (nans) and make that distinct from places in the ocean that aren't part of \n",
    "# the mask (-100)\n",
    "def calculate_velo_into_mask(mesh, mask, outside_mask_values):\n",
    "    mesh['veloIntoMask'] = mesh.normalVelocity * 0 + outside_mask_values\n",
    "    \n",
    "    # find edges on land\n",
    "    xr_all_edgesOnLand_TWO0 = mesh.nEdges.where(np.isin(mesh.cellsOnEdge.isel(TWO=0),0))\n",
    "    xr_all_edgesOnLand_TWO1 = mesh.nEdges.where(np.isin(mesh.cellsOnEdge.isel(TWO=1),0))\n",
    "    xr_all_edgesOnLand = np.union1d(xr_all_edgesOnLand_TWO0, xr_all_edgesOnLand_TWO1)\n",
    "    \n",
    "    # of those edges on land, get only the ones that are part of the transect\n",
    "    xr_transect_edgesOnLand = np.intersect1d(edges, xr_all_edgesOnLand)\n",
    "    \n",
    "    # get only the open ocean edges\n",
    "    xr_transect_edgesOnOcean = np.setxor1d(edges, xr_transect_edgesOnLand) \n",
    "    \n",
    "    # make these values a coordinate. This will allow us to later .isel instead of .where without losing the nEdges dimension used to identify the edges\n",
    "    xr_transect_edgesOnOcean_da = xr.DataArray(\n",
    "        np.int32(xr_transect_edgesOnOcean),\n",
    "        coords={\"nEdges\":np.int32(xr_transect_edgesOnOcean)},\n",
    "        dims=(\"nEdges\",))\n",
    "    \n",
    "    \n",
    "    # select all the cells inside the mask\n",
    "    xr_cells_inside, ignore_xr_inside_edges, ignore_xr_inside_vertices = mps.xr_inside_mask_info(mesh,mask)\n",
    "    \n",
    "    # of these open ocean edges, determine if the normal velocity is into or out of the mask\n",
    "    \n",
    "    # find the cells on open ocean edges\n",
    "    n_transect_cellsOnOceanEdges =  mesh.cellsOnEdge.isel(nEdges = xr_transect_edgesOnOcean_da)\n",
    "    xr_transect_cellsOnOceanEdges = mps.n_to_xr_idx(n_transect_cellsOnOceanEdges)\n",
    "\n",
    "    # determine if the normal velocity points into or out of the mask\n",
    "    \n",
    "    for i in range(0,len(xr_transect_edgesOnOcean)):\n",
    "        cellsOnSelectedEdge = xr_transect_cellsOnOceanEdges.isel(nEdges = i)\n",
    "        selectedEdge = xr_transect_cellsOnOceanEdges.nEdges[i]\n",
    "        \n",
    "        if cellsOnSelectedEdge.isel(TWO=0).isin(xr_cells_inside): # if A is in the mask \n",
    "            mesh.veloIntoMask.loc[dict(Time=0, nEdges = selectedEdge)] = mesh.normalVelocity.loc[dict(Time=0,nEdges= selectedEdge)] * -1\n",
    "            \n",
    "        if cellsOnSelectedEdge.isel(TWO=1).isin(xr_cells_inside): # if B is in the mask\n",
    "            mesh.veloIntoMask.loc[dict(Time=0, nEdges = selectedEdge)] = mesh.normalVelocity.loc[dict(Time=0,nEdges = selectedEdge)] * 1\n",
    "\n",
    "    return mesh,xr_transect_cellsOnOceanEdges"
   ]
  },
  {
   "cell_type": "code",
   "execution_count": 173,
   "id": "53bd923d-f085-4fc9-89ed-fed8ad0cd9e2",
   "metadata": {},
   "outputs": [],
   "source": [
    "outside_mask_values = np.nan\n",
    "mesh_plot, xr_transect_cellsOnOceanEdges = calculate_velo_into_mask(mesh,mask,outside_mask_values)"
   ]
  },
  {
   "cell_type": "code",
   "execution_count": 174,
   "id": "2e904d8a-a46c-48bb-a37a-49a435f8775d",
   "metadata": {},
   "outputs": [],
   "source": [
    "# fig,ax = plt.subplots(nrows=1,ncols=1,constrained_layout=True,figsize=(14,10))\n",
    "\n",
    "# c = mosaic.polypcolor(ax,descriptor,\n",
    "#                   mesh_plot.veloIntoMask.isel(Time=0,nVertLevels=10),cmap='RdBu_r', vmin=-0.5,vmax=0.5,\n",
    "#                   antialiaseds=False)\n",
    "# ax.set_xlim(290, 318)\n",
    "# ax.set_ylim(51.5, 68)\n",
    "# fig.colorbar(c, extend='both')\n",
    "# # this is making me feel like I should flip the signs of the for loop"
   ]
  },
  {
   "cell_type": "code",
   "execution_count": 175,
   "id": "157480fa-57cd-43f7-8af8-dc07673670de",
   "metadata": {},
   "outputs": [],
   "source": [
    "# calculate the area of the edge-layerThickness plane that the normal velocity moves through\n",
    "\n",
    "# --------- INTERPOLATE LAYER THICKNESS ONTO NEDGES ---------\n",
    "# layerThickness sits on nCells, but veloIntoMask sits on nEdges\n",
    "# we need to interpolate layerThickness onto nEdges by taking the average of the layerThickness of 2 cells that sit on the transect edge\n",
    "\n",
    "# select only the layerThicknesses that are on edges in the transect\n",
    "cellsOnTransectEdge_layerThickness = mesh.layerThickness.isel(Time=0, nCells = xr_transect_cellsOnOceanEdges)\n",
    "\n",
    "# take the mean of the layer thicknesses along the dimension \"TWO\" (take the mean of layer thickness between TWO=0 cell and TWO=1 cell)\n",
    "interp_transectEdgeLayerThickness = cellsOnTransectEdge_layerThickness.mean(dim='TWO')\n",
    "\n",
    "# --------- FIND THE WIDTH OF EACH TRANSECT EDGE---------\n",
    "# find the dvEdge for all edges in transect\n",
    "transectEdgeLength = mesh.dvEdge.isel(nEdges = xr_transect_cellsOnOceanEdges.nEdges)\n",
    "\n",
    "# --------- CALCULATE THE CROSS-SECTIONAL AREA OF THE TRANSECT BY MULTIPLYING THE LAYERTHICKNESS BY THE EDGELENGTH ---------\n",
    "transect_area = interp_transectEdgeLayerThickness * transectEdgeLength\n",
    "\n",
    "# --------- CALCULATE THE TRANSPORT INTO THE MASK --------\n",
    "# multiply the cross-sectional area by the veloIntoMask\n",
    "transport = transect_area * mesh.veloIntoMask.isel(Time=0, nEdges = xr_transect_cellsOnOceanEdges.nEdges)"
   ]
  },
  {
   "cell_type": "code",
   "execution_count": 261,
   "id": "41edd45b-5835-4d85-9542-587dcf5bf80b",
   "metadata": {},
   "outputs": [],
   "source": [
    "# create a new datavariable for transport, assign the transport to the corresponding edge\n",
    "mesh['transportIntoMask'] = mesh.veloIntoMask * 0 + np.nan\n",
    "\n",
    "for i in range(0,len(interp_transectEdgeLayerThickness)):\n",
    "    selectedEdge = transport.nEdges.isel(nEdges=i)\n",
    "    \n",
    "    mesh.transportIntoMask.loc[dict(Time=0, nEdges = selectedEdge)] = transport.loc[dict(nEdges = selectedEdge)]\n",
    "\n",
    "transportIntoMask_Sv = mesh.transportIntoMask / 10**6"
   ]
  },
  {
   "cell_type": "code",
   "execution_count": 177,
   "id": "2fde2e70-e302-4ce1-a3d4-615dbb857ed7",
   "metadata": {},
   "outputs": [
    {
     "name": "stdout",
     "output_type": "stream",
     "text": [
      "LS_test_transect_from_alg.geojson exists!\n",
      "Opening LS_test_transect_from_alg.nc as dsMasks\n"
     ]
    }
   ],
   "source": [
    "# from the transect, create a mask to capture the entire region specified by the transects\n",
    "# this will also output lats and lons corresponding to test_verts\n",
    "filepath = './'\n",
    "filename = 'LS_test'\n",
    "geojson_file_name = 'Labrador Sea from transect algorithm'\n",
    "tags = \"Labrador_Sea;Davis_Strait\"\n",
    "author = \"Kaila Uyeda\"\n",
    "\n",
    "test_verts_lats, test_verts_lons, dsMasks = mps.transect_from_alg_create_nc(test_verts, \n",
    "                                                                            mesh, \n",
    "                                                                            filepath,\n",
    "                                                                            filename, \n",
    "                                                                            geojson_file_name,\n",
    "                                                                            tags, \n",
    "                                                                            author)"
   ]
  },
  {
   "cell_type": "code",
   "execution_count": 304,
   "id": "3453f0ca-19c7-4a4c-ad04-44597ab19ff0",
   "metadata": {},
   "outputs": [],
   "source": [
    "net_transportIntoMask_Sv = transportIntoMask_Sv.isel(Time=0).sum()"
   ]
  },
  {
   "cell_type": "code",
   "execution_count": 268,
   "id": "e0460953-162f-4bda-8752-3517ccdb66d6",
   "metadata": {},
   "outputs": [],
   "source": [
    "column_transport = mesh.transportIntoMask.isel(Time=0).sum(dim='nVertLevels')\n",
    "OSNAP_column_transport = column_transport.where(np.isin(mesh.nEdges, OSNAP_edges))\n",
    "OSNAP_column_transport_Sv = OSNAP_column_transport / 10**6"
   ]
  },
  {
   "cell_type": "code",
   "execution_count": 294,
   "id": "eb2a122e-b446-4802-8544-03261e30a4e0",
   "metadata": {},
   "outputs": [],
   "source": [
    "non_OSNAP_column_transport = column_transport.where(~np.isin(mesh.nEdges, OSNAP_edges))\n",
    "non_OSNAP_column_transport = non_OSNAP_column_transport / 10**6"
   ]
  },
  {
   "cell_type": "code",
   "execution_count": 302,
   "id": "fa7030d0-b546-4135-ad2e-ebd28e44a144",
   "metadata": {},
   "outputs": [],
   "source": [
    "# PLOT JUST OSNAP\n",
    "# fig,ax = plt.subplots(nrows=1,ncols=1,constrained_layout=True,figsize=(14,10))\n",
    "\n",
    "# cellmask = dsMasks.regionCellMasks.isel(nRegions=0).astype(bool)\n",
    "# b = mosaic.polypcolor(ax,descriptor,\n",
    "#                   cellmask.astype(int),cmap='cool',alpha = 0.4,\n",
    "#                   antialiaseds=False)\n",
    "\n",
    "\n",
    "# c = mosaic.polypcolor(ax,descriptor,\n",
    "#                   OSNAP_column_transport_Sv,cmap=cmo.balance,vmin=-10,vmax=10,\n",
    "#                   antialiaseds=False)\n",
    "# ax.set_xlim(290, 318)\n",
    "# ax.set_ylim(51.5, 68)\n",
    "# fig.colorbar(c, extend='both')\n",
    "# ax.set_title('Net transport into mask through \"OSNAP\" array is ' + OSNAP_rounded_total_transport)\n",
    "# # this is making me feel like I should flip the signs of the for loop?? \n",
    "# # But then this would mean there's a net increase of water in this region instead of export"
   ]
  },
  {
   "cell_type": "code",
   "execution_count": 285,
   "id": "6e60fcbd-ef1e-47a3-8b8e-7de99e3006eb",
   "metadata": {},
   "outputs": [],
   "source": [
    "# PLOT A SELECTED LEVEL\n",
    "# fig,ax = plt.subplots(nrows=1,ncols=1,constrained_layout=True,figsize=(14,10))\n",
    "\n",
    "# cellmask = dsMasks.regionCellMasks.isel(nRegions=0).astype(bool)\n",
    "# b = mosaic.polypcolor(ax,descriptor,\n",
    "#                   cellmask.astype(int),cmap='cool',alpha = 0.4,\n",
    "#                   antialiaseds=False)\n",
    "\n",
    "\n",
    "# c = mosaic.polypcolor(ax,descriptor,\n",
    "#                   transportIntoMask_Sv.isel(Time=0,nVertLevels=20),cmap=cmo.balance,vmin=-0.05,vmax=0.05,\n",
    "#                   antialiaseds=False)\n",
    "# ax.set_xlim(290, 318)\n",
    "# ax.set_ylim(51.5, 68)\n",
    "# fig.colorbar(c, extend='both')\n",
    "# # this is making me feel like I should flip the signs of the for loop?? \n",
    "# # But then this would mean there's a net increase of water in this region instead of export"
   ]
  },
  {
   "cell_type": "code",
   "execution_count": 303,
   "id": "15f4c47c-95be-401d-874c-236ce458b124",
   "metadata": {},
   "outputs": [],
   "source": [
    "OSNAP_rounded_total_transport = str(np.round(OSNAP_column_transport_Sv.sum().values,decimals=3))\n",
    "str_net_transportIntoMask_Sv = str(np.round(net_transportIntoMask_Sv.values,decimals=3))\n",
    "str_nonOSNAP_transportIntoMask_Sv = str(np.round(non_OSNAP_column_transport.sum().values,decimals=3))"
   ]
  },
  {
   "cell_type": "code",
   "execution_count": 300,
   "id": "d8af5c67-3a97-466b-bd7c-a2ae5f74bed5",
   "metadata": {},
   "outputs": [
    {
     "data": {
      "text/plain": [
       "Text(0.5, 1.0, 'Net transport into mask is 6.038Sv \\n OSNAP: 0.385 & non-OSNAP: 5.653')"
      ]
     },
     "execution_count": 300,
     "metadata": {},
     "output_type": "execute_result"
    },
    {
     "data": {
      "image/png": "[encoded data removed]",
      "text/plain": [
       "<Figure size 1400x1000 with 2 Axes>"
      ]
     },
     "metadata": {},
     "output_type": "display_data"
    }
   ],
   "source": [
    "\n",
    "fig,ax = plt.subplots(nrows=1,ncols=1,constrained_layout=True,figsize=(14,10))\n",
    "\n",
    "cellmask = dsMasks.regionCellMasks.isel(nRegions=0).astype(bool)\n",
    "b = mosaic.polypcolor(ax,descriptor,\n",
    "                  cellmask.astype(int),cmap='cool',alpha = 0.4,\n",
    "                  antialiaseds=False)\n",
    "\n",
    "c = mosaic.polypcolor(ax,descriptor,\n",
    "                  transportIntoMask_Sv.isel(Time=0).sum(dim='nVertLevels'),cmap=cmo.balance,vmin=-6,vmax=6,\n",
    "                  antialiaseds=False)\n",
    "\n",
    "\n",
    "ax.set_xlim(290, 318)\n",
    "ax.set_ylim(51.5, 68)\n",
    "fig.colorbar(c, extend='both')\n",
    "ax.set_title('Net transport into mask is ' + str_net_transportIntoMask_Sv + 'Sv \\n OSNAP: ' + OSNAP_rounded_total_transport + ' & non-OSNAP: ' + str_nonOSNAP_transportIntoMask_Sv)\n",
    "# this is making me feel like I should flip the signs of the for loop?? \n",
    "# But then this would mean there's a net increase of water in this region instead of export"
   ]
  },
  {
   "cell_type": "code",
   "execution_count": null,
   "id": "3c9ff009-0959-49ac-81d3-cd77ede088f6",
   "metadata": {},
   "outputs": [],
   "source": []
  },
  {
   "cell_type": "code",
   "execution_count": null,
   "id": "39cf1f2d-aae4-44cc-8f50-476c166e1db6",
   "metadata": {},
   "outputs": [],
   "source": []
  }
 ],
 "metadata": {
  "kernelspec": {
   "display_name": "lanl_env",
   "language": "python",
   "name": "lanl_env"
  },
  "language_info": {
   "codemirror_mode": {
    "name": "ipython",
    "version": 3
   },
   "file_extension": ".py",
   "mimetype": "text/x-python",
   "name": "python",
   "nbconvert_exporter": "python",
   "pygments_lexer": "ipython3",
   "version": "3.13.3"
  }
 },
 "nbformat": 4,
 "nbformat_minor": 5
}

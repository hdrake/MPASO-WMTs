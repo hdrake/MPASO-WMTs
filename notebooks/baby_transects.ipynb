{
 "cells": [
  {
   "cell_type": "markdown",
   "id": "8abc6817-d9c8-46a5-b4fa-1e57f3ef59e3",
   "metadata": {},
   "source": [
    "## Baby attempt at algorithm for determining transects\n",
    "\n",
    "### some notes\n",
    "`isel` with `xr` coordinate (index).\\\n",
    "Returns datavariable in `n` coordinate (ID).\n",
    "\n",
    "## Part 1: Create mask\n",
    "### Objective\n",
    "We will use the mask to select all of the cells that appear in the original mask. We will\n",
    "\n",
    "<ol>\n",
    "    <li>Select all of the cells that appear in the original mask.</li>\n",
    "    <li>Of those cells, select their corresponding vertices and edges to include inside the mask (this prevents cells from being halved if the original mask were to be applied).</li>\n",
    "    <li>Select these cells, edges, and vertices in the base_mask to create a new mask.</li>\n",
    "    <li>Apply this mask to the dso datavariable to plot the datavariable in the new masked area.</li>\n",
    "</ol>"
   ]
  },
  {
   "cell_type": "code",
   "execution_count": 307,
   "id": "166564fd-0d8d-4d8f-958d-88054404b814",
   "metadata": {},
   "outputs": [],
   "source": [
    "#Packages \n",
    "import numpy as np\n",
    "import xarray as xr\n",
    "import cmocean.cm as cmo\n",
    "import matplotlib.pyplot as plt\n",
    "import mpas_tools\n",
    "from mpas_tools.planar_hex import make_planar_hex_mesh\n",
    "from mpas_tools.mesh.conversion import convert, cull, mask\n",
    "from mpas_tools.io import write_netcdf\n",
    "from geometric_features import GeometricFeatures\n",
    "from geometric_features import read_feature_collection\n",
    "\n",
    "from geometric_features import read_feature_collection\n",
    "from mpas_tools.mesh.mask import compute_mpas_region_masks\n",
    "from mpas_tools.parallel import create_pool\n",
    "from mpas_tools.io import write_netcdf\n",
    "\n",
    "import json\n",
    "import mosaic\n",
    "import mpasregions.sections as mps"
   ]
  },
  {
   "cell_type": "markdown",
   "id": "776e713d-d1dd-42da-9b97-9d64af52a00d",
   "metadata": {},
   "source": [
    "### Set up datasets\n",
    "**To create a base mask (a global \"mask\" filled with 1s):**\n",
    "```ruby\n",
    "# create a global base mask of ones everywhere. \n",
    "# We will then apply the mask where we specifically choose nCells, nVertices, and nEdges that are contained in the original mask to this basemask \n",
    "# This creates a new mask with all parts of the cell included. \n",
    "\n",
    "\n",
    "# create a base mask\n",
    "mask['regionCellMasks'] = mask.regionCellMasks * 0 + 1\n",
    "mask['regionVertexMasks'] = mask.regionVertexMasks * 0 + 1\n",
    "mask['regionEdgeMasks'] = mask.regionEdgeMasks * 0 + 1\n",
    "mask['regionNames'] = 'whole cell LS'\n",
    "mask.attrs['How to use'] = 'open separate dataset with nCell, nVertices, nEdges xr index arrays. base_mask.regionCellMasks.where(base_mask.nCells.isin(cells_inside),other = 0)'\n",
    "mask.to_netcdf('/global/homes/k/kuyeda/WMT_NBs/mpas-o_EC30to60_global_base_mask.nc',format='netCDF4',mode='w')\n",
    "mask\n",
    "```\n",
    "\n",
    "**To convert the original mask .geojson file to a .nc file:**\n",
    "```ruby\n",
    "# convert geojson to .nc mask file\n",
    "\n",
    "wmtnb_filepath = '/global/u2/k/kuyeda/WMT_NBs/'\n",
    "fcMask = read_feature_collection(wmtnb_filepath + 'LS_test.geojson')\n",
    "# pool = create_pool(process_count=8)\n",
    "dsMasks = compute_mpas_region_masks(\n",
    "    dsMesh, fcMask, maskTypes=('cell', 'vertex', 'edge'), pool=pool\n",
    ")\n",
    "# dsMasks.to_netcdf(wmtnb_filepath + 'LS_CEV_masks.nc', format='NETCDF4', mode='w')\n",
    "```"
   ]
  },
  {
   "cell_type": "markdown",
   "id": "53e407bb-0e0b-4457-81b0-5bb5a9eb67b0",
   "metadata": {},
   "source": [
    "### Open necessary datasets\n",
    "```mesh``` $\\rightarrow$ contains information about the mesh and cells \\\n",
    "```dso``` $\\rightarrow$ diagnostics from the simulations (datavariables we actually want to plot) \\\n",
    "```mask``` $\\rightarrow$ a mask of 0s and 1s created from a geojson file (created using geojson.io) that was then converted into a netcdf file using ```compute_mpas_region_masks``` \\\n",
    "```base_mask``` $\\rightarrow$ a mask of 1s for the entire globe.\n"
   ]
  },
  {
   "cell_type": "code",
   "execution_count": 308,
   "id": "20690b80-9d00-46c9-9ec1-f061b3b72429",
   "metadata": {},
   "outputs": [
    {
     "name": "stderr",
     "output_type": "stream",
     "text": [
      "/tmp/ipykernel_2030442/3657922681.py:10: FutureWarning: In a future version, xarray will not decode timedelta values based on the presence of a timedelta-like units attribute by default. Instead it will rely on the presence of a timedelta64 dtype attribute, which is now xarray's default way of encoding timedelta64 values. To continue decoding timedeltas based on the presence of a timedelta-like units attribute, users will need to explicitly opt-in by passing True or CFTimedeltaCoder(decode_via_units=True) to decode_timedelta. To silence this warning, set decode_timedelta to True, False, or a 'CFTimedeltaCoder' instance.\n",
      "  dso = xr.open_dataset(bmm_filepath + '20210421_sim7_CORE_60to30E2r2.mpaso.hist.am.timeSeriesStatsMonthly.0063-12-01.nc')\n"
     ]
    }
   ],
   "source": [
    "# global mesh\n",
    "mesh_path = '/global/cfs/projectdirs/e3sm/inputdata/ocn/mpas-o/EC30to60E2r2/ocean.EC30to60E2r2.210210.nc'\n",
    "mesh = xr.open_dataset(mesh_path)\n",
    "mesh = mesh.assign_coords({\n",
    "\"VertexID\": xr.DataArray(mesh.indexToVertexID, dims=('nVertices',)),\n",
    "})\n",
    "\n",
    "# global data\n",
    "bmm_filepath = '/pscratch/sd/b/bmoorema/run_001_062/'\n",
    "dso = xr.open_dataset(bmm_filepath + '20210421_sim7_CORE_60to30E2r2.mpaso.hist.am.timeSeriesStatsMonthly.0063-12-01.nc')\n",
    "\n",
    "# open original (from geojson file) mask to use to make dataset smaller\n",
    "wmtnb_filepath = './'\n",
    "mask = xr.open_dataset(wmtnb_filepath + 'LS_CEV_masks.nc')\n",
    "\n",
    "# open base mask that we will fill with 0s according to the original mask (this new mask will contain cells PLUS their corresponding edges and vertices)\n",
    "base_mask = xr.open_dataset('./mpas-o_EC30to60_global_base_mask.nc')"
   ]
  },
  {
   "cell_type": "markdown",
   "id": "62443c2b-364e-4538-9844-7432719ee7ae",
   "metadata": {},
   "source": [
    "### functions to convert between index (xr) and ID (n) "
   ]
  },
  {
   "cell_type": "code",
   "execution_count": 309,
   "id": "b70139f1-03f6-4f6e-83a9-5ae00baa867e",
   "metadata": {},
   "outputs": [],
   "source": [
    "def n_to_xr_idx(n):\n",
    "    return n-1\n",
    "\n",
    "def xr_to_n_idx(xr):\n",
    "    return xr+1"
   ]
  },
  {
   "cell_type": "markdown",
   "id": "7665ed8f-2fe0-4f3f-b47b-9d75f681a8bb",
   "metadata": {},
   "source": [
    "This code below can be rewritten to use `mesh.indexToEdgeID` or something related to it, but the I/O was messed up the day that I was doing this, so we're using the `n_to_xr_idx` and the `xr_to_n_idx` functions.\n",
    "Also, just subtracting one feels easier and there is a straightforward conversion from ID (n) to index (xr) values. But the equivalent functions are below\n",
    "```ruby\n",
    "def xr_to_n_idx(xr):\n",
    "    return xr+1\n",
    "```\n",
    "\n",
    "The equivalent conversion from  the index (xr) to ID (n) is\n",
    "```ruby\n",
    "cell_part = 'Cell' # 'Edge', 'Vertex'\n",
    "ds = mesh\n",
    "def idx_to_id(idx,cell_part,ds):\n",
    "    id = ds[f'indexTo{cell_part}ID'].isel(nCells=idx).values\n",
    "    return id\n",
    "```"
   ]
  },
  {
   "cell_type": "markdown",
   "id": "19fc0535-41ce-4026-8cc8-e5b5d513d8e5",
   "metadata": {},
   "source": [
    "### function to get cells, edges, and vertices inside a mask"
   ]
  },
  {
   "cell_type": "code",
   "execution_count": 310,
   "id": "d7171751-2d05-4d1a-88bc-b676a120775f",
   "metadata": {},
   "outputs": [],
   "source": [
    "# def xr_inside_mask_info(mesh,mask):\n",
    "#     # STEP 1: Select all of the cells inside teh mask\n",
    "#     # create mask of cells so that whole cells are included in the mask\n",
    "#     cellmask = mask.regionCellMasks.isel(nRegions=0).astype(bool)\n",
    "    \n",
    "#     # --------- GET CELLS IN XR COORDINATES --------------\n",
    "#     # apply the mask to the mesh \n",
    "#     # this returns cells in the xr coordinate\n",
    "#     xr_cells_inside = np.int32(mesh.nCells.where(cellmask,drop=True))\n",
    "    \n",
    "#     # --------- GET VERTICES IN XR COORDINATES --------------\n",
    "    \n",
    "#     # we also need all the vertices associated with the cells_inside masked mesh\n",
    "#     # this returns vertices in the n coordinate\n",
    "#     n_vertices_inside = mesh.verticesOnCell.isel(nCells=xr_cells_inside)\n",
    "    \n",
    "#     # we want the vertices in the xr coordinate\n",
    "#     xr_vertices_inside_raw = n_to_xr_idx(n_vertices_inside)\n",
    "    \n",
    "#     # remove repeat vertex values, remove -1 values (these were originally 0s and represented \"blank\" array spaces where there were fewer than 7 vertices\n",
    "#     xr_vertices_inside = np.delete(np.unique(xr_vertices_inside_raw), np.unique(xr_vertices_inside_raw)==-1)\n",
    "    \n",
    "#     # --------- GET EDGES IN XR COORDINATES --------------\n",
    "    \n",
    "#     # we also need all the edges associated with the cells_inside masked mesh\n",
    "#     # this returns edges in the n coordinate\n",
    "#     n_edges_inside = mesh.edgesOnCell.isel(nCells=xr_cells_inside)\n",
    "    \n",
    "#     # we want  the edges in the xr coordinate\n",
    "#     xr_edges_inside_raw = n_to_xr_idx(n_edges_inside)\n",
    "    \n",
    "#     # remove repeat edge values, remove -1 values (these were originally 0s and represented \"blank\" array spaces where there were fewer than 7 edges\n",
    "#     xr_edges_inside = np.delete(np.unique(xr_edges_inside_raw), np.unique(xr_edges_inside_raw)==-1)\n",
    "\n",
    "#     return xr_cells_inside, xr_vertices_inside, xr_edges_inside"
   ]
  },
  {
   "cell_type": "markdown",
   "id": "0a23c7da-7998-4fec-a923-59d6bd15c898",
   "metadata": {},
   "source": [
    "### Step 1 & 2. Select all of the cells that appear inside the original mask and their corresponding vertices and edges. "
   ]
  },
  {
   "cell_type": "code",
   "execution_count": 311,
   "id": "b878d080-a300-408c-8860-9d0e61bb3275",
   "metadata": {},
   "outputs": [],
   "source": [
    "xr_cells_inside, xr_vertices_inside, xr_edges_inside = mps.xr_inside_mask_info(mesh,mask)"
   ]
  },
  {
   "cell_type": "markdown",
   "id": "78b81b9a-1014-4bc5-8879-c6c982188257",
   "metadata": {},
   "source": [
    "### Step 3. Create a new mask that contains all of the cells inside with their corresponding vertices and edges. "
   ]
  },
  {
   "cell_type": "code",
   "execution_count": 312,
   "id": "ef57086f-ab3b-417b-9ef9-055c0023a102",
   "metadata": {},
   "outputs": [],
   "source": [
    "base_mask['regionCellMasks'] = base_mask.regionCellMasks.where(base_mask.nCells.isin(xr_cells_inside), other = 0)\n",
    "base_mask['regionVertexMasks'] = base_mask.regionVertexMasks.where(base_mask.nVertices.isin(xr_vertices_inside), other = 0)\n",
    "base_mask['regionEdgeMasks'] = base_mask.regionEdgeMasks.where(base_mask.nEdges.isin(xr_edges_inside), other = 0)\n",
    "LS_mask_whole_cells = base_mask"
   ]
  },
  {
   "cell_type": "code",
   "execution_count": 313,
   "id": "6b82575a-73f6-4175-85d8-ef2dfde4b3c4",
   "metadata": {},
   "outputs": [],
   "source": [
    "# convert the 1s and 0s new mask to boolean T/F\n",
    "cellmask = LS_mask_whole_cells.regionCellMasks.isel(nRegions=0).astype(bool)\n",
    "edgemask = LS_mask_whole_cells.regionEdgeMasks.isel(nRegions=0).astype(bool)\n",
    "vertexmask = LS_mask_whole_cells.regionVertexMasks.isel(nRegions=0).astype(bool)"
   ]
  },
  {
   "cell_type": "markdown",
   "id": "cf384601-334c-4ac6-8466-1bfb8946e401",
   "metadata": {},
   "source": [
    "### Step 4. Apply this mask to the dso variable to plot the datavariable in the new masked area. "
   ]
  },
  {
   "cell_type": "code",
   "execution_count": 314,
   "id": "7ed27e46-ccc5-47bd-855b-f71e9d23a94d",
   "metadata": {},
   "outputs": [
    {
     "data": {
      "text/plain": [
       "(51.5, 68.0)"
      ]
     },
     "execution_count": 314,
     "metadata": {},
     "output_type": "execute_result"
    },
    {
     "data": {
      "image/png": "[encoded data removed]",
      "text/plain": [
       "<Figure size 640x480 with 2 Axes>"
      ]
     },
     "metadata": {},
     "output_type": "display_data"
    }
   ],
   "source": [
    "\n",
    "# scratch plot to check stuff\n",
    "# set up mesh to apply polypcolor\n",
    "mesh.attrs['is_periodic'] = 'YES'\n",
    "mesh.attrs['x_period'] = 360\n",
    "mesh.attrs['y_period'] = 0.0\n",
    "\n",
    "descriptor = mosaic.Descriptor(mesh,use_latlon=False)\n",
    "\n",
    "\n",
    "# ds_t0 = dso['timeMonthly_avg_activeTracers_temperature'].isel(nVertLevels=30,Time=0)\n",
    "\n",
    "ds_t0 = dso['timeMonthly_avg_latentHeatFlux'].isel(Time=0)\n",
    "\n",
    "# remove the nans\n",
    "if ds_t0.min() < -9**33:\n",
    "    ds_nonans = ds_t0.where(ds_t0 > -9**33)\n",
    "    print('fake nans detected')\n",
    "else:\n",
    "    ds_nonans = ds_t0\n",
    "\n",
    "# apply the mask\n",
    "ds_masked = ds_nonans.where(cellmask,drop=False)\n",
    "\n",
    "# plot\n",
    "fig,ax = plt.subplots(nrows=1,ncols=1,constrained_layout=True)\n",
    "c = mosaic.polypcolor(ax,descriptor,\n",
    "                  ds_masked,cmap='viridis',\n",
    "                  antialiaseds=False)\n",
    "fig.colorbar(c, extend='both')\n",
    "ax.set_xlim(290, 318)\n",
    "ax.set_ylim(51.5, 68)"
   ]
  },
  {
   "cell_type": "markdown",
   "id": "e5d7f6c3-bbcb-472e-9c8b-44b26bef6dba",
   "metadata": {},
   "source": [
    "<div class=\"alert alert-block alert-info\">\n",
    "<b>All above this is correct:</b> Stop.\n",
    "</div>"
   ]
  },
  {
   "cell_type": "markdown",
   "id": "2e858425-5a3b-4b3e-83a8-ab484e073f82",
   "metadata": {},
   "source": [
    "## Part 2: Algorithm to create transects"
   ]
  },
  {
   "cell_type": "markdown",
   "id": "f80c32a9-c6b6-430c-b403-2096112d744b",
   "metadata": {},
   "source": [
    "## Identify transect based on desired transect location"
   ]
  },
  {
   "cell_type": "markdown",
   "id": "53b25142-e44f-48fa-868d-1c8f06a522e7",
   "metadata": {},
   "source": [
    "### function to select dso data inside mask"
   ]
  },
  {
   "cell_type": "code",
   "execution_count": 315,
   "id": "f87a030b-622e-4de5-a949-a7d0252c58c9",
   "metadata": {},
   "outputs": [],
   "source": [
    "def format_ds(xr_cells_inside_ints, ds, datavariable):\n",
    "    # select just the cells in the masked area\n",
    "    ds_masked = ds[datavariable].isel(nCells=xr_cells_inside_ints)\n",
    "\n",
    "    # remove the nans\n",
    "    if ds_masked.min() > 10**33:\n",
    "        print('fake nans detected')\n",
    "        ds_nonans = ds_masked.where(ds != ds_masked.min())\n",
    "    else:\n",
    "        ds_nonans = ds_masked\n",
    "\n",
    "    # select a specific time\n",
    "    ds_formatted = ds_nonans.to_dataset(name=datavariable)\n",
    "    \n",
    "    return ds_formatted"
   ]
  },
  {
   "cell_type": "markdown",
   "id": "38d5410b-664f-4d83-8eb2-17b8d3b8e5c3",
   "metadata": {},
   "source": [
    "### function to calculate distance between 2 points on a sphere (directly copied from henri's `sectionate/section.py` script"
   ]
  },
  {
   "cell_type": "code",
   "execution_count": 316,
   "id": "d5956061-4aec-47ee-aa07-ea196f6c80f8",
   "metadata": {},
   "outputs": [],
   "source": [
    "def distance_on_unit_sphere(lon1, lat1, lon2, lat2, R=6.371e6, method=\"vincenty\"):\n",
    "    \"\"\"\n",
    "    Calculate geodesic arc distance between points (lon1, lat1) and (lon2, lat2).\n",
    "\n",
    "    PARAMETERS:\n",
    "    -----------\n",
    "        lon1 : float\n",
    "            Start longitude(s), in degrees\n",
    "        lat1 : float\n",
    "            Start latitude(s), in degrees\n",
    "        lon2 : float\n",
    "            End longitude(s), in degrees\n",
    "        lat2 : float\n",
    "            End latitude(s), in degrees\n",
    "        R : float\n",
    "            Radius of sphere. Default: 6.371e6 (realistic Earth value). Set to 1 for\n",
    "            arc distance in radius.\n",
    "        method : str\n",
    "            Name of method. Supported methods: [\"vincenty\", \"haversine\", \"law of cosines\"].\n",
    "            Default: \"vincenty\", which is the most robust. Note, however, that it still can result in\n",
    "            vanishingly small (but crucially non-zero) errors; such as that the distance between (0., 0.)\n",
    "            and (360., 0.) is 1.e-16 meters when it should be identically zero.\n",
    "\n",
    "    RETURNS:\n",
    "    --------\n",
    "\n",
    "    dist : float\n",
    "        Geodesic distance between points (lon1, lat1) and (lon2, lat2).\n",
    "    \"\"\"\n",
    "    \n",
    "    phi1 = np.deg2rad(lat1)\n",
    "    phi2 = np.deg2rad(lat2)\n",
    "    dphi = np.abs(phi2-phi1)\n",
    "    \n",
    "    lam1 = np.deg2rad(lon1)\n",
    "    lam2 = np.deg2rad(lon2)\n",
    "    dlam = np.abs(lam2-lam1)\n",
    "    \n",
    "    if method==\"vincenty\":\n",
    "        numerator = np.sqrt(\n",
    "            (np.cos(phi2)*np.sin(dlam))**2 +\n",
    "            (np.cos(phi1)*np.sin(phi2) - np.sin(phi1)*np.cos(phi2)*np.cos(dlam))**2\n",
    "        )\n",
    "        denominator = np.sin(phi1)*np.sin(phi2) + np.cos(phi1)*np.cos(phi2)*np.cos(dlam)\n",
    "        arc = np.arctan2(numerator, denominator)\n",
    "        \n",
    "    elif method==\"haversine\":\n",
    "        arc = 2*np.arcsin(np.sqrt(\n",
    "            np.sin(dphi/2.)**2 + (1. - np.sin(dphi/2.)**2 - np.sin((phi1+phi2)/2.)**2)*np.sin(dlam/2.)**2\n",
    "        ))\n",
    "    \n",
    "        \n",
    "    elif method==\"law of cosines\":\n",
    "        arc = np.arccos(\n",
    "            np.sin(phi1)*np.sin(phi2) + np.cos(phi1)*np.cos(phi2)*np.cos(dlam)\n",
    "        )\n",
    "\n",
    "    return R * arc\n"
   ]
  },
  {
   "cell_type": "markdown",
   "id": "a29da991-acc8-4d0e-8abb-71b8a4823ad8",
   "metadata": {},
   "source": [
    "### function that uses an algorithm to create transects given a start and end point. "
   ]
  },
  {
   "cell_type": "code",
   "execution_count": 317,
   "id": "fb3a10ad-27b6-44d9-b1cc-55c049a859f3",
   "metadata": {},
   "outputs": [],
   "source": [
    "# function to calculate transect given a target start point, target end point, and mesh\n",
    "def calculate_transects(target_start_lat, target_start_lon, target_end_lat, target_end_lon, mesh, mask):\n",
    "    \"\"\"\n",
    "    Calculate transects given a defined target start and end point.\n",
    "\n",
    "    PARAMETERS:\n",
    "    -----------\n",
    "        target_start_lat : float\n",
    "            Target start latitude, in degrees\n",
    "        target_start_lon : float\n",
    "            Target start longitude, in degrees\n",
    "        target_end_lat : float\n",
    "            Target end latitude, in degrees\n",
    "        mesh: xarray.core.dataset.Dataset\n",
    "            Mesh dataset containing lat/lon Cell/Edge/Vertex\n",
    "        mask: xarray.core.dataset.Dataset\n",
    "            Mask of 0s and 1s to define the desired study region (can be created using __ function)\n",
    "            \n",
    "    RETURNS:\n",
    "    -----------\n",
    "        next_vertices: np.ndarray\n",
    "            xr indices of nVertices that define the transect\n",
    "        xr_transect_edges: np.ndarray\n",
    "            xr indices of edges that define the transect\n",
    "        \n",
    "    \"\"\"\n",
    "    # ---------- INITIATE START VERTEX ----------------\n",
    "    # of these transect cells, select the one that is closest to the desired starting point.\n",
    "    # desired values in deg\n",
    "    # distance_on_unit_sphere(lon1, lat1, lon2, lat 2)\n",
    "    # find the shortest path between the two points\n",
    "    # of all of the points, find the vertex that is closest to the desired start point\n",
    "    distance = distance_on_unit_sphere(mesh.lonVertex * 180/np.pi, mesh.latVertex * 180/np.pi, target_start_lon, target_start_lat)\n",
    "    xr_start_vertex = distance.argmin()\n",
    "    n_start_vertex = xr_to_n_idx(xr_start_vertex)\n",
    "\n",
    "    # repeat to find the vertex that is closest to the desired end point\n",
    "    dist_to_end = distance_on_unit_sphere(mesh.lonVertex * 180/np.pi, mesh.latVertex * 180/np.pi, target_end_lon, target_end_lat)\n",
    "    xr_end_vertex = dist_to_end.argmin()\n",
    "    end_lon = mesh.isel(nVertices = xr_end_vertex).lonVertex * 180/np.pi\n",
    "    end_lat = mesh.isel(nVertices = xr_end_vertex).latVertex * 180/np.pi\n",
    "\n",
    "    print('start vertex is ','(lon,lat)= (', np.float32(mesh.lonVertex.isel(nVertices=xr_start_vertex).values * 180/np.pi), \n",
    "                                             ', ' , np.float32(mesh.latVertex.isel(nVertices=xr_start_vertex).values * 180/np.pi), ')')\n",
    "    print('start vertex xr_index is ', xr_start_vertex.values)\n",
    "\n",
    "    # ---------- FIND NEXT VERTEX ----------------\n",
    "    start_vertices = np.array([])\n",
    "    next_vertices = np.array([])\n",
    "    \n",
    "    count = 0\n",
    "\n",
    "    while distance.min() > 5000:\n",
    "        # get the edges attached to the start vertex\n",
    "        n_edgesOnStartVertex = mesh.edgesOnVertex.isel(nVertices = xr_start_vertex)\n",
    "        xr_edgesOnStartVertex = n_to_xr_idx(n_edgesOnStartVertex)\n",
    "        \n",
    "        # check that the edges you selected are connected to the start vertex (returns in n indices)\n",
    "        # mesh.verticesOnEdge.isel(nEdges = xr_edgesOnStartVertex[0])\n",
    "        \n",
    "        # for each of these edges, find the vertices they are connected to and then remove the start_vertex (we don't want to \"travel back\" to that vertex)\n",
    "        n_vertices_nextToStartVertex = np.unique(mesh.verticesOnEdge.isel(nEdges = np.int32(xr_edgesOnStartVertex)))\n",
    "        xr_vertices_nextToStartVertex = n_to_xr_idx(n_vertices_nextToStartVertex)\n",
    "        # print(xr_vertices_nextToStartVertex)\n",
    "    \n",
    "        used_vertices = np.union1d(start_vertices, xr_start_vertex)\n",
    "        \n",
    "        xr_vertices_nextToStartVertex_Use = np.delete(xr_vertices_nextToStartVertex, np.where(np.isin(xr_vertices_nextToStartVertex, used_vertices)))\n",
    "        # print(xr_vertices_nextToStartVertex_Use)\n",
    "        # calculate the distance from these new vertices to the desired end point\n",
    "            # retrieve the lat and lon of the vertex\n",
    "        ds_vertices_nextLatLon = mesh[['lonVertex','latVertex']].where(mesh.nVertices.isin(xr_vertices_nextToStartVertex_Use))\n",
    "        ds_vertices_nextLatLon['lonVertex'] = ds_vertices_nextLatLon.lonVertex * 180 / np.pi\n",
    "        ds_vertices_nextLatLon['latVertex'] = ds_vertices_nextLatLon.latVertex * 180 / np.pi\n",
    "        \n",
    "            # calculate the distance between the next vertices and the end\n",
    "        distance = distance_on_unit_sphere(ds_vertices_nextLatLon.lonVertex, ds_vertices_nextLatLon.latVertex, end_lon, end_lat)\n",
    "        \n",
    "            # select the nVertex that is the shortest distance from the end point\n",
    "        xr_chosen_nextVertex = distance.argmin()\n",
    "        \n",
    "        # ---------- UPDATE ARRAYS ----------------\n",
    "        # store vertices\n",
    "        start_vertices = np.append(start_vertices, xr_start_vertex)\n",
    "        next_vertices = np.append(next_vertices, xr_chosen_nextVertex)\n",
    "    \n",
    "        xr_start_vertex = xr_chosen_nextVertex \n",
    "    \n",
    "        # if count%100==0:\n",
    "        #     print('(lon,lat)= (', mesh.lonVertex.isel(nVertices=xr_chosen_nextVertex).values * 180/np.pi, mesh.latVertex.isel(nVertices=xr_chosen_nextVertex).values * 180/np.pi, ')')\n",
    "        #     print('xr vertex = ', xr_start_vertex.values)\n",
    "        count +=1\n",
    "        if distance.min() < 10000: # 1 grid cell ~ 100km. distance is measured in meters (see R units) \n",
    "            break\n",
    "\n",
    "# ---------- FIND EDGES OF TRANSECT ---------------- \n",
    "    # We want to identify the edges that connect the vertices. The vertices are already ordered consecutively (because the transects are built from an algorithm)\n",
    "    # We will take advantage of this fact using a for loop to extract the edges that are shared between vertices next to each other\n",
    "    \n",
    "    # modify next_vertices to also include the start vertex\n",
    "    next_vertices = np.insert(next_vertices, 0, n_to_xr_idx(n_start_vertex))\n",
    "\n",
    "    \n",
    "    # next vertices are in xr indices\n",
    "    int_next_vertices = np.int32(next_vertices)\n",
    "    n_transect_edges = np.array([])\n",
    "    \n",
    "    for i in range(0,len(int_next_vertices)-1):\n",
    "        edgesOnVertex0 = mesh.edgesOnVertex.isel(nVertices = int_next_vertices[i]).values\n",
    "        edgesOnVertex1 = mesh.edgesOnVertex.isel(nVertices = int_next_vertices[i+1]).values\n",
    "        shared_edge = np.intersect1d(edgesOnVertex0, edgesOnVertex1)\n",
    "        n_transect_edges = np.append(n_transect_edges, shared_edge)\n",
    "    \n",
    "    xr_transect_edges = n_to_xr_idx(n_transect_edges)\n",
    "\n",
    "    # we also want to identify the cells that border the edges and vertices...\n",
    "    # this is harder because we need to define to which side of the cells we would like to define the mask.\n",
    "\n",
    "    return next_vertices, xr_transect_edges\n",
    "        "
   ]
  },
  {
   "cell_type": "markdown",
   "id": "c946a26c-f8bd-45dd-82e6-0f157e278936",
   "metadata": {},
   "source": [
    "### function to calculate transects given multiple points"
   ]
  },
  {
   "cell_type": "code",
   "execution_count": 318,
   "id": "2cab1cc1-b018-4cfa-b586-9a6c61692004",
   "metadata": {},
   "outputs": [],
   "source": [
    "# calculate transects using multiple points\n",
    "\n",
    "# make_transect_nv, make_transect_e = calculate_transects(target_start_lat, target_start_lon, target_end_lat, target_end_lon, mesh, mask)\n",
    "def calculate_transects_multiple_pts(segment_lons,segment_lats,mesh,mask):\n",
    "    all_xr_transect_vertices = np.array([])\n",
    "    all_xr_transect_edges = np.array([])\n",
    "    for i in range(0,len(segment_lons)-1):\n",
    "        \n",
    "        # set start and end target points based on segment lons and lats\n",
    "        target_start_lat = segment_lats[i]\n",
    "        target_start_lon = segment_lons[i]\n",
    "\n",
    "        target_end_lat = segment_lats[i+1]\n",
    "        target_end_lon = segment_lons[i+1]\n",
    "        \n",
    "        xr_next_vertices, xr_transect_edges_segment = calculate_transects(target_start_lat, target_start_lon, target_end_lat, target_end_lon, mesh, mask)\n",
    "\n",
    "        # update all_xr_transect_ arrays\n",
    "        all_xr_transect_vertices = np.concatenate((all_xr_transect_vertices, xr_next_vertices))\n",
    "        all_xr_transect_edges = np.concatenate((all_xr_transect_edges, xr_transect_edges_segment))\n",
    "\n",
    "    return all_xr_transect_vertices, all_xr_transect_edges\n",
    "        "
   ]
  },
  {
   "cell_type": "markdown",
   "id": "02a0abd6-2cdf-442d-af0c-d9cacd67b649",
   "metadata": {},
   "source": [
    "### calculate transects from algorithm "
   ]
  },
  {
   "cell_type": "code",
   "execution_count": 319,
   "id": "dfba55fa-f8cd-4499-b097-68790f98fd29",
   "metadata": {},
   "outputs": [],
   "source": [
    "# # # # LS\n",
    "# target_start_lat, target_start_lon = 54, 302\n",
    "# target_end_lat, target_end_lon = 60, 315\n",
    "# next_vertices, xr_transect_edges = calculate_transects(target_start_lat, target_start_lon, target_end_lat, target_end_lon, mesh, mask)"
   ]
  },
  {
   "cell_type": "code",
   "execution_count": 320,
   "id": "824adea9-c75f-4245-9a46-30cef4f22993",
   "metadata": {},
   "outputs": [],
   "source": [
    "# base_mask = xr.open_dataset('./mpas-o_EC30to60_global_base_mask.nc')\n",
    "# # LS\n",
    "# base_mask['regionEdgeMasks'] = base_mask.regionEdgeMasks.where(base_mask.nEdges.isin(xr_transect_edges),other=0)\n",
    "\n",
    "# # GofM\n",
    "# # base_mask['regionVertexMasks'] = base_mask.regionVertexMasks.where(base_mask.nVertices.isin(next_vertices),other=1)\n",
    "\n",
    "# edgemask = base_mask.regionEdgeMasks.isel(nRegions=0).astype(bool)\n",
    "\n",
    "# # # set up mesh to apply polypcolor\n",
    "# mesh.attrs['is_periodic'] = 'YES'\n",
    "# mesh.attrs['x_period'] = 360\n",
    "# mesh.attrs['y_period'] = 0.0\n",
    "\n",
    "# descriptor = mosaic.Descriptor(mesh,use_latlon=False)\n",
    "\n",
    "# fig,ax = plt.subplots(nrows=1,ncols=1,constrained_layout=True)\n",
    "# c = mosaic.polypcolor(ax,descriptor,\n",
    "#                   edgemask.astype(int),cmap='viridis',\n",
    "#                   antialiaseds=False)\n",
    "# fig.colorbar(c, extend='both')\n",
    "\n",
    "# # LS\n",
    "# ax.set_xlim(300, 318)\n",
    "# ax.set_ylim(51.5, 68)\n",
    "\n",
    "# # # GofM\n",
    "# # ax.set_xlim(250, 318)\n",
    "# # ax.set_ylim(15, 35)"
   ]
  },
  {
   "cell_type": "code",
   "execution_count": 321,
   "id": "12df667e-3201-483f-83c3-c197c448c9fe",
   "metadata": {},
   "outputs": [
    {
     "name": "stdout",
     "output_type": "stream",
     "text": [
      "start vertex is  (lon,lat)= ( 302.24057 ,  54.05217 )\n",
      "start vertex xr_index is  264002\n",
      "start vertex is  (lon,lat)= ( 315.2718 ,  60.094044 )\n",
      "start vertex xr_index is  157224\n",
      "start vertex is  (lon,lat)= ( 307.87173 ,  65.39093 )\n",
      "start vertex xr_index is  310634\n",
      "start vertex is  (lon,lat)= ( 295.1961 ,  63.954773 )\n",
      "start vertex xr_index is  408499\n",
      "start vertex is  (lon,lat)= ( 297.02753 ,  58.27477 )\n",
      "start vertex xr_index is  59513\n"
     ]
    }
   ],
   "source": [
    "LS_lats= np.array([54, 60, 66, 64, 58])   \n",
    "LS_lons= np.array([302, 315, 310, 295, 296])\n",
    "\n",
    "LS_lats = np.append(LS_lats, LS_lats[0])\n",
    "LS_lons = np.append(LS_lons, LS_lons[0])\n",
    "\n",
    "test_verts, test_edges = calculate_transects_multiple_pts(LS_lons, LS_lats, mesh, mask)"
   ]
  },
  {
   "cell_type": "code",
   "execution_count": 322,
   "id": "b1e7f9a3-b494-43d6-b308-192f2264e2d5",
   "metadata": {},
   "outputs": [
    {
     "data": {
      "text/plain": [
       "(51.5, 68.0)"
      ]
     },
     "execution_count": 322,
     "metadata": {},
     "output_type": "execute_result"
    },
    {
     "data": {
      "image/png": "[encoded data removed]",
      "text/plain": [
       "<Figure size 640x480 with 2 Axes>"
      ]
     },
     "metadata": {},
     "output_type": "display_data"
    }
   ],
   "source": [
    "# assign index numbers to each of the chosen region masks to check sorted order \n",
    "base_mask = xr.open_dataset('./mpas-o_EC30to60_global_base_mask.nc')\n",
    "base_mask['regionEdgeMasks'] = base_mask.regionEdgeMasks.where(base_mask.nEdges.isin(test_edges),other=0)\n",
    "\n",
    "modified_test_edges = test_edges[test_edges != -1]\n",
    "for i in range(0,len(modified_test_edges)):\n",
    "    base_mask.regionEdgeMasks.isel(nRegions=0)[np.int32(modified_test_edges[i])]= i\n",
    "    \n",
    "# # set up mesh to apply polypcolor\n",
    "mesh.attrs['is_periodic'] = 'YES'\n",
    "mesh.attrs['x_period'] = 360\n",
    "mesh.attrs['y_period'] = 0.0\n",
    "\n",
    "descriptor = mosaic.Descriptor(mesh,use_latlon=False)\n",
    "\n",
    "fig,ax = plt.subplots(nrows=1,ncols=1,constrained_layout=True)\n",
    "c = mosaic.polypcolor(ax,descriptor,\n",
    "                  base_mask.regionEdgeMasks.isel(nRegions=0),cmap='viridis',\n",
    "                  antialiaseds=False)\n",
    "fig.colorbar(c, extend='both')\n",
    "\n",
    "# LS\n",
    "ax.set_xlim(290, 318)\n",
    "ax.set_ylim(51.5, 68)\n",
    "\n",
    "# # GofM\n",
    "# ax.set_xlim(250, 318)\n",
    "# ax.set_ylim(15, 35)"
   ]
  },
  {
   "cell_type": "code",
   "execution_count": 323,
   "id": "104427ae-ac7d-40d7-9ad2-e2d7acb5fa2e",
   "metadata": {},
   "outputs": [
    {
     "data": {
      "text/plain": [
       "(51.5, 68.0)"
      ]
     },
     "execution_count": 323,
     "metadata": {},
     "output_type": "execute_result"
    },
    {
     "data": {
      "image/png": "[encoded data removed]",
      "text/plain": [
       "<Figure size 640x480 with 2 Axes>"
      ]
     },
     "metadata": {},
     "output_type": "display_data"
    }
   ],
   "source": [
    "base_mask = xr.open_dataset('./mpas-o_EC30to60_global_base_mask.nc')\n",
    "# LS\n",
    "base_mask['regionVertexMasks'] = base_mask.regionVertexMasks.where(base_mask.nVertices.isin(test_verts),other=0)\n",
    "\n",
    "# GofM\n",
    "# base_mask['regionVertexMasks'] = base_mask.regionVertexMasks.where(base_mask.nVertices.isin(next_vertices),other=1)\n",
    "\n",
    "for i in range(0,len(test_verts)):\n",
    "    base_mask.regionVertexMasks.isel(nRegions=0)[np.int32(test_verts[i])]= i\n",
    "\n",
    "# # set up mesh to apply polypcolor\n",
    "mesh.attrs['is_periodic'] = 'YES'\n",
    "mesh.attrs['x_period'] = 360\n",
    "mesh.attrs['y_period'] = 0.0\n",
    "\n",
    "descriptor = mosaic.Descriptor(mesh,use_latlon=False)\n",
    "\n",
    "fig,ax = plt.subplots(nrows=1,ncols=1,constrained_layout=True)\n",
    "c = mosaic.polypcolor(ax,descriptor,\n",
    "                  base_mask.regionVertexMasks.isel(nRegions=0),cmap='viridis',\n",
    "                  antialiaseds=False)\n",
    "fig.colorbar(c, extend='both')\n",
    "\n",
    "# LS\n",
    "ax.set_xlim(290, 318)\n",
    "ax.set_ylim(51.5, 68)\n",
    "\n",
    "# # GofM\n",
    "# ax.set_xlim(250, 318)\n",
    "# ax.set_ylim(15, 35)"
   ]
  },
  {
   "cell_type": "code",
   "execution_count": 324,
   "id": "83fcb448-2b91-4f9b-bae1-9a5d8490656e",
   "metadata": {},
   "outputs": [
    {
     "data": {
      "text/plain": [
       "array([264002.,  12420., 257751., 111702., 413469., 377418., 457650.,\n",
       "        59942., 160775., 204117., 389666., 205939.,  81491., 113102.,\n",
       "       439596.,  53874., 428632., 236513., 339438., 245571., 130507.,\n",
       "       399562., 154778., 419300., 178196., 169206., 128089., 258046.,\n",
       "       188267., 222343., 124814., 246326., 285556., 391807., 457672.,\n",
       "        78601.,  48894., 157224., 157224.,  48894., 391349., 247122.,\n",
       "       274654., 133882., 362175., 160036., 156911., 261751.,  55750.,\n",
       "       435072., 477177., 308354., 249021., 359004., 231671., 118567.,\n",
       "       339276., 440396., 212998., 358606., 342730.,  69210., 249478.,\n",
       "       431523.,  88829.,   5993., 136645., 473586., 231845., 226583.,\n",
       "       282724., 310634., 310634., 468959.,  71491., 152324., 445577.,\n",
       "       392181., 284165., 302258., 360935.,  97061., 417288., 123634.,\n",
       "       425001.,  58914., 174863., 355993., 403879., 333595., 284559.,\n",
       "       315951., 209149.,  88134., 177374.,  73276., 278878., 213521.,\n",
       "       418458.,  27749., 417761., 408499., 408499., 417761., 441125.,\n",
       "       278305.,  53746., 369473., 109587., 142555.,  98452., 252868.,\n",
       "       126936., 382754., 164988., 157522., 278696.,  13068., 247033.,\n",
       "       473947., 308384., 473075., 337221.,  42209., 144100., 205068.,\n",
       "       124578., 387772.,  59513.,  59513., 326716., 458949., 373184.,\n",
       "       472701., 105446., 219238., 157464., 384757.,   2753., 124671.,\n",
       "       418758., 408346., 214982., 437100., 382566., 247353., 154711.,\n",
       "       361783., 127079., 285600.,  56196., 463333., 111702., 257751.,\n",
       "        12420., 264002.])"
      ]
     },
     "execution_count": 324,
     "metadata": {},
     "output_type": "execute_result"
    }
   ],
   "source": [
    "test_verts"
   ]
  },
  {
   "cell_type": "markdown",
   "id": "10191f88-d0e7-431d-9efb-6efc25db298f",
   "metadata": {},
   "source": [
    "<div class=\"alert alert-warning\" role=\"alert\">\n",
    "  <b>END OF TRANSECT CREATION FROM ALGORITHM </b> \n",
    "</div>\n"
   ]
  },
  {
   "cell_type": "markdown",
   "id": "b13773d1-9c6e-499b-a9e0-4bf104a28fb5",
   "metadata": {},
   "source": [
    "## identify transect based on mask"
   ]
  },
  {
   "cell_type": "markdown",
   "id": "bbb3129a-2548-40d7-9179-942ff6b522f8",
   "metadata": {},
   "source": [
    "## An attempt to select edge cells that surround the mask without using an algorithm"
   ]
  },
  {
   "cell_type": "markdown",
   "id": "d5ae593d-ce57-4d45-b400-f5c495d2d872",
   "metadata": {},
   "source": [
    "### these are cells on the edge but NOT inside. "
   ]
  },
  {
   "cell_type": "code",
   "execution_count": 325,
   "id": "e0dd33d2-3ffb-4003-8325-427abafc9517",
   "metadata": {},
   "outputs": [],
   "source": [
    "xr_cells_inside, xr_vertices_inside, xr_edges_inside = mps.xr_inside_mask_info(mesh,mask)"
   ]
  },
  {
   "cell_type": "code",
   "execution_count": 326,
   "id": "2737bc71-b966-4b89-8f60-832e6f23b90d",
   "metadata": {},
   "outputs": [],
   "source": [
    "# get all cells on edge\n",
    "masked_mesh = mesh.isel(nCells=xr_cells_inside,nEdges=xr_edges_inside,nVertices=xr_vertices_inside)\n",
    "\n",
    "nCellsOnEdge = np.unique(masked_mesh.cellsOnEdge)\n",
    "\n",
    "xrCellsOnEdge = n_to_xr_idx(nCellsOnEdge)\n",
    "\n",
    "xr_border_cells = xrCellsOnEdge[~np.isin(xrCellsOnEdge, xr_cells_inside)]\n",
    "\n",
    "n_border_cells = n_to_xr_idx(xr_border_cells)\n",
    "\n",
    "\n",
    "# base_mask = xr.open_dataset('./mpas-o_EC30to60_global_base_mask.nc')\n",
    "# #base_mask['regionCellMasks'] = base_mask.regionCellMasks.where(base_mask.nCells.isin(n_border_cells+1), other = 1)\n",
    "# base_mask['regionCellMasks'] = base_mask.regionCellMasks.where(base_mask.nCells.isin(xr_border_cells), other = 1)\n",
    "\n"
   ]
  },
  {
   "cell_type": "code",
   "execution_count": 327,
   "id": "19bea842-3215-497a-9591-efd0e8afd7d4",
   "metadata": {},
   "outputs": [],
   "source": [
    "# --------------- GET BORDER VERTICES IN XR COORDINATES ---------------\n",
    "# get the vertices that correspond to the xr_border_cells\n",
    "# this returns vertices in n coordinate\n",
    "n_border_vertices = mesh.verticesOnCell.isel(nCells = xr_border_cells)\n",
    "\n",
    "# we want the vertices in the xr coordinate\n",
    "xr_border_vertices_raw = n_to_xr_idx(n_border_vertices)\n",
    "\n",
    "# remove repeat vertex values, remove -1 values (these were origianlly 0s and represented \"blank array spaces\")\n",
    "xr_border_vertices = np.delete(np.unique(xr_border_vertices_raw),np.unique(xr_border_vertices_raw)==-1)\n",
    "\n",
    "# --------------- GET BORDER EDGES IN XR COORDINATES ---------------\n",
    "# get the edges that correspond to the xr_border_cells\n",
    "n_border_edges = mesh.edgesOnCell.isel(nCells = xr_border_cells)\n",
    "\n",
    "# we want the edges in the xr coordinate\n",
    "xr_border_edges_raw = n_to_xr_idx(n_border_edges)\n",
    "\n",
    "# remove repeat edge values, remove -1 values (these were origianlly 0s and represented \"blank array spaces\")\n",
    "xr_border_edges = np.delete(np.unique(xr_border_edges_raw),np.unique(xr_border_edges_raw)==-1)"
   ]
  },
  {
   "cell_type": "code",
   "execution_count": 328,
   "id": "c9754839-41b2-4a27-82ef-668b2c10dbe7",
   "metadata": {},
   "outputs": [],
   "source": [
    "# --------------- GET VERTICES IN MASK AND ON BORDER CELLS ---------------\n",
    "# get the cells that share an edge with the border cells\n",
    "n_cellsOnBorderEdges = np.unique(mesh.cellsOnEdge.isel(nEdges = xr_border_edges))\n",
    "xr_cellsOnBorderEdges = n_to_xr_idx(n_cellsOnBorderEdges)\n",
    "\n",
    "# we only want the cells that share an edge with the border cells AND are inside the mask\n",
    "mask_transect_cells = np.intersect1d(xr_cellsOnBorderEdges, xr_cells_inside)\n",
    "\n",
    "# we want vertices that are in the border cell vertices AND in the mask vertices\n",
    "xr_transect_vertices = np.intersect1d(xr_border_vertices, xr_vertices_inside)\n",
    "n_transect_vertices = xr_to_n_idx(xr_transect_vertices)\n",
    "\n",
    "\n",
    "# now we connect these vertices... Uhhh do I actually even have to do this\n",
    "# choose a starting point\n",
    "transect_vertices_ds = mesh[['latVertex', 'lonVertex']].isel(nVertices = xr_transect_vertices)\n",
    "\n",
    "# get the edges that connect these vertices\n",
    "n_transect_edgesOnVertex = mesh.edgesOnVertex.where(mesh.nVertices.isin(xr_transect_vertices),drop='all')\n",
    "xr_transect_edgesOnVertex = n_to_xr_idx(n_transect_edgesOnVertex)\n",
    "\n",
    "# --------------- GET EDGES IN MASK AND ON BORDER CELLS ---------------\n",
    "# get the edges that both surround border cells AND surround masked cells\n",
    "test_edge_transect = np.intersect1d(xr_border_edges, xr_edges_inside)\n",
    "\n",
    "# we want edges that are on the transect vertices AND are on the cells inside the mask\n",
    "# len(np.intersect1d(xr_edges_inside, xr_transect_edgesOnVertex))"
   ]
  },
  {
   "cell_type": "code",
   "execution_count": 329,
   "id": "e13a91c5-7613-4f32-bea2-2ddb7198c6f4",
   "metadata": {},
   "outputs": [],
   "source": [
    "# --------- FIND VERTICES NEXT TO LAND ---------\n",
    "# find the vertices and edges next to land\n",
    "n_cellsNextToLand = mesh.cellsOnVertex.where(np.isin(mesh.cellsOnVertex,0),drop=False) + 1\n",
    "n_cellsNextToLand_ds = n_cellsNextToLand.to_dataset(name='cellsOnVertex')\n",
    "\n",
    "# reduce along the vertexDegree dimension\n",
    "reduced_cellsNextToLand_ds = n_cellsNextToLand_ds.cellsOnVertex.sum(dim='vertexDegree')\n",
    "\n",
    "# we want the vertices where cellsOnVertex !=0 (vertex is next to land)\n",
    "xr_verticesNextToLand = reduced_cellsNextToLand_ds.nVertices.where(reduced_cellsNextToLand_ds > 0, drop = True)\n",
    "\n",
    "# get only the vertices that are also in the masked area\n",
    "xr_mask_verticesOnLandCell = np.intersect1d(xr_verticesNextToLand, xr_vertices_inside)\n",
    "\n",
    "# combine with the mask vertices in the open ocean\n",
    "xr_mask_vertices = np.union1d(xr_mask_verticesOnLandCell, xr_transect_vertices)\n",
    "\n",
    "\n",
    "# --------- FIND EDGES NEXT TO LAND ---------\n",
    "\n",
    "# find the edges connected to the vertices next to land\n",
    "n_edgesOnLandVertex = mesh.edgesOnVertex.isel(nVertices = np.int32(xr_verticesNextToLand))\n",
    "xr_edgesOnLandVertex = np.unique(n_to_xr_idx(n_edgesOnLandVertex))\n",
    "\n",
    "# get only the edges that are also in the masked area\n",
    "xr_mask_edgesOnLandVertex = np.intersect1d(xr_edgesOnLandVertex, xr_edges_inside)\n",
    "\n",
    "# combine with the mask edges in the open ocean\n",
    "xr_mask_edges = np.union1d(xr_mask_edgesOnLandVertex, test_edge_transect)\n"
   ]
  },
  {
   "cell_type": "code",
   "execution_count": 330,
   "id": "750d83f0-bf92-469e-b94b-893f36c4241e",
   "metadata": {},
   "outputs": [
    {
     "data": {
      "text/plain": [
       "282"
      ]
     },
     "execution_count": 330,
     "metadata": {},
     "output_type": "execute_result"
    }
   ],
   "source": [
    "# --------- FIND EDGES NEXT TO LAND ---------\n"
   ]
  },
  {
   "cell_type": "code",
   "execution_count": 331,
   "id": "a3288297-4598-43a9-9748-e3a58f111355",
   "metadata": {},
   "outputs": [
    {
     "data": {
      "text/plain": [
       "282"
      ]
     },
     "execution_count": 331,
     "metadata": {},
     "output_type": "execute_result"
    }
   ],
   "source": [
    "len(np.unique(xr_mask_edges))"
   ]
  },
  {
   "cell_type": "code",
   "execution_count": null,
   "id": "b9d9d50b-26d1-4edd-9a32-363573085f8d",
   "metadata": {},
   "outputs": [],
   "source": []
  },
  {
   "cell_type": "code",
   "execution_count": 332,
   "id": "268fc919-226d-4bed-8c56-8763014a3da3",
   "metadata": {},
   "outputs": [
    {
     "data": {
      "text/plain": [
       "(51.5, 68.0)"
      ]
     },
     "execution_count": 332,
     "metadata": {},
     "output_type": "execute_result"
    },
    {
     "data": {
      "image/png": "[encoded data removed]",
      "text/plain": [
       "<Figure size 640x480 with 2 Axes>"
      ]
     },
     "metadata": {},
     "output_type": "display_data"
    }
   ],
   "source": [
    "base_mask = xr.open_dataset('./mpas-o_EC30to60_global_base_mask.nc')\n",
    "# LS\n",
    "base_mask['regionEdgeMasks'] = base_mask.regionEdgeMasks.where(base_mask.nEdges.isin(xr_mask_edges),other=0)\n",
    "\n",
    "# GofM\n",
    "# base_mask['regionVertexMasks'] = base_mask.regionVertexMasks.where(base_mask.nVertices.isin(next_vertices),other=1)\n",
    "\n",
    "edgemask = base_mask.regionEdgeMasks.isel(nRegions=0).astype(bool)\n",
    "\n",
    "# # set up mesh to apply polypcolor\n",
    "mesh.attrs['is_periodic'] = 'YES'\n",
    "mesh.attrs['x_period'] = 360\n",
    "mesh.attrs['y_period'] = 0.0\n",
    "\n",
    "descriptor = mosaic.Descriptor(mesh,use_latlon=False)\n",
    "\n",
    "fig,ax = plt.subplots(nrows=1,ncols=1,constrained_layout=True)\n",
    "c = mosaic.polypcolor(ax,descriptor,\n",
    "                  edgemask.astype(int),cmap='viridis',\n",
    "                  antialiaseds=False)\n",
    "fig.colorbar(c, extend='both')\n",
    "\n",
    "# LS\n",
    "ax.set_xlim(290, 318)\n",
    "ax.set_ylim(51.5, 68)\n",
    "\n",
    "# # GofM\n",
    "# ax.set_xlim(250, 318)\n",
    "# ax.set_ylim(15, 35)"
   ]
  },
  {
   "cell_type": "code",
   "execution_count": 333,
   "id": "6c06e0d8-0144-4784-8bf6-219f443a8354",
   "metadata": {},
   "outputs": [],
   "source": [
    "# assign index numbers to each of the chosen region masks to check sorted order \n",
    "\n",
    "for i in range(0,len(xr_mask_verticesOnLandCell)):\n",
    "    base_mask.regionVertexMasks.isel(nRegions=0)[np.int32(xr_mask_verticesOnLandCell[i])]= i"
   ]
  },
  {
   "cell_type": "code",
   "execution_count": 334,
   "id": "8e247815-7e03-42d6-856c-16a8ca93efc9",
   "metadata": {},
   "outputs": [
    {
     "data": {
      "text/plain": [
       "(51.5, 68.0)"
      ]
     },
     "execution_count": 334,
     "metadata": {},
     "output_type": "execute_result"
    },
    {
     "data": {
      "image/png": "[encoded data removed]",
      "text/plain": [
       "<Figure size 640x480 with 2 Axes>"
      ]
     },
     "metadata": {},
     "output_type": "display_data"
    }
   ],
   "source": [
    "base_mask = xr.open_dataset('./mpas-o_EC30to60_global_base_mask.nc')\n",
    "# LS\n",
    "base_mask['regionEdgeMasks'] = base_mask.regionEdgeMasks.where(base_mask.nEdges.isin(xr_mask_edges),other=0)\n",
    "\n",
    "for i in range(0,len(xr_mask_verticesOnLandCell)):\n",
    "    base_mask.regionEdgeMasks.isel(nRegions=0)[np.int32(xr_mask_edges[i])]= i\n",
    "\n",
    "# # set up mesh to apply polypcolor\n",
    "mesh.attrs['is_periodic'] = 'YES'\n",
    "mesh.attrs['x_period'] = 360\n",
    "mesh.attrs['y_period'] = 0.0\n",
    "\n",
    "descriptor = mosaic.Descriptor(mesh,use_latlon=False)\n",
    "\n",
    "fig,ax = plt.subplots(nrows=1,ncols=1,constrained_layout=True)\n",
    "\n",
    "new_cmap = plt.get_cmap('viridis')\n",
    "new_cmap.set_under('magenta')\n",
    "\n",
    "c = mosaic.polypcolor(ax,descriptor,\n",
    "                  base_mask.regionEdgeMasks.isel(nRegions=0),cmap=new_cmap,vmin=1,\n",
    "                  antialiaseds=False)\n",
    "fig.colorbar(c, extend='both')\n",
    "\n",
    "# LS\n",
    "ax.set_xlim(290, 318)\n",
    "ax.set_ylim(51.5, 68)\n",
    "\n",
    "# # GofM\n",
    "# ax.set_xlim(250, 318)\n",
    "# ax.set_ylim(15, 35)"
   ]
  },
  {
   "cell_type": "code",
   "execution_count": 335,
   "id": "de8e0a16-99f0-440d-a678-12b8085281cc",
   "metadata": {},
   "outputs": [],
   "source": [
    "# assign index numbers to each of the chosen region masks to check sorted order \n",
    "\n",
    "for i in range(0,len(xr_transect_vertices)):\n",
    "    base_mask.regionVertexMasks.isel(nRegions=0)[xr_transect_vertices[i]]= i"
   ]
  },
  {
   "cell_type": "code",
   "execution_count": 336,
   "id": "58109c8c-8922-4884-a137-01931c3fe1e0",
   "metadata": {},
   "outputs": [
    {
     "data": {
      "image/png": "[encoded data removed]",
      "text/html": [
       "<div style=\"vertical-align: middle;\"><strong>viridis</strong> </div><div class=\"cmap\"><img alt=\"viridis colormap\" title=\"viridis\" style=\"border: 1px solid #555;\" src=\"data:image/png;base64,iVBORw0KGgoAAAANSUhEUgAAAgAAAABACAYAAABsv8+/AAAAFnRFWHRUaXRsZQB2aXJpZGlzIGNvbG9ybWFwrE0mCwAAABx0RVh0RGVzY3JpcHRpb24AdmlyaWRpcyBjb2xvcm1hcAtjl3IAAAAxdEVYdEF1dGhvcgBNYXRwbG90bGliIHYzLjEwLjMsIGh0dHBzOi8vbWF0cGxvdGxpYi5vcmeGenhVAAAAM3RFWHRTb2Z0d2FyZQBNYXRwbG90bGliIHYzLjEwLjMsIGh0dHBzOi8vbWF0cGxvdGxpYi5vcmcjXmuhAAACIklEQVR4nO3WQZKbMBRF0S/YWpaQ/S8l9CAyFAIZx5XZO2fikvQRVA+6bvvVfm9VVdVa/f1d+s95XX3dXnNL3x/Wx/n98+N7LvfO7r/ce/+7PZzPnt/28/ryvE737/Ot7ueG+8b563q8f3ZvDc8N9ywP55fn37/nef3p/ffrb9/zv+9/nKv3c5/vb989X0/z21ffMZ4fc5Pz/Ttmz7/fb5O5dlkPz9U4N/xbm64f9vu9y2V+6/s1rMfz+3tmc/tvPZwPc0v78+HceX795/Pze9a6f++4v76eq4f1673D+67r++847j1//zF/vu86P7xvtj98x+x71xr/Lue/53rZr75f5/W+34b9vu77+7pPHPNL/+1zbTndAwAEEQAAEEgAAEAgAQAAgQQAAAQSAAAQSAAAQCABAACBBAAABBIAABBIAABAIAEAAIEEAAAEEgAAEEgAAEAgAQAAgQQAAAQSAAAQSAAAQCABAACBBAAABBIAABBIAABAIAEAAIEEAAAEEgAAEEgAAEAgAQAAgQQAAAQSAAAQSAAAQCABAACBBAAABBIAABBIAABAIAEAAIEEAAAEEgAAEEgAAEAgAQAAgQQAAAQSAAAQSAAAQCABAACBBAAABBIAABBIAABAIAEAAIEEAAAEEgAAEEgAAEAgAQAAgQQAAAQSAAAQSAAAQCABAACBBAAABBIAABBIAABAIAEAAIEEAAAEEgAAEEgAAECgH25wiYfFwpm0AAAAAElFTkSuQmCC\"></div><div style=\"vertical-align: middle; max-width: 514px; display: flex; justify-content: space-between;\"><div style=\"float: left;\"><div title=\"#440154ff\" style=\"display: inline-block; width: 1em; height: 1em; margin: 0; vertical-align: middle; border: 1px solid #555; background-color: #440154ff;\"></div> under</div><div style=\"margin: 0 auto; display: inline-block;\">bad <div title=\"#00000000\" style=\"display: inline-block; width: 1em; height: 1em; margin: 0; vertical-align: middle; border: 1px solid #555; background-color: #00000000;\"></div></div><div style=\"float: right;\">over <div title=\"#fde725ff\" style=\"display: inline-block; width: 1em; height: 1em; margin: 0; vertical-align: middle; border: 1px solid #555; background-color: #fde725ff;\"></div></div></div>"
      ],
      "text/plain": [
       "<matplotlib.colors.ListedColormap at 0x7f95f3a122d0>"
      ]
     },
     "execution_count": 336,
     "metadata": {},
     "output_type": "execute_result"
    }
   ],
   "source": [
    "plt.get_cmap('viridis')"
   ]
  },
  {
   "cell_type": "code",
   "execution_count": 337,
   "id": "e56c97d3-f96e-4fad-ac25-2e47a60a1889",
   "metadata": {},
   "outputs": [
    {
     "data": {
      "text/plain": [
       "(51.5, 68.0)"
      ]
     },
     "execution_count": 337,
     "metadata": {},
     "output_type": "execute_result"
    },
    {
     "data": {
      "image/png": "[encoded data removed]",
      "text/plain": [
       "<Figure size 640x480 with 2 Axes>"
      ]
     },
     "metadata": {},
     "output_type": "display_data"
    }
   ],
   "source": [
    "base_mask = xr.open_dataset('./mpas-o_EC30to60_global_base_mask.nc')\n",
    "\n",
    "\n",
    "base_mask['regionVertexMasks'] = base_mask.regionVertexMasks.where(base_mask.nVertices.isin(xr_transect_vertices),other=0)\n",
    "\n",
    "for i in range(0,len(xr_transect_vertices)):\n",
    "    base_mask.regionVertexMasks.isel(nRegions=0)[xr_transect_vertices[i]]= i\n",
    "\n",
    "    \n",
    "# # set up mesh to apply polypcolor\n",
    "mesh.attrs['is_periodic'] = 'YES'\n",
    "mesh.attrs['x_period'] = 360\n",
    "mesh.attrs['y_period'] = 0.0\n",
    "\n",
    "descriptor = mosaic.Descriptor(mesh,use_latlon=False)\n",
    "\n",
    "fig,ax = plt.subplots(nrows=1,ncols=1,constrained_layout=True)\n",
    "new_cmap = plt.get_cmap('viridis')\n",
    "new_cmap.set_under('magenta')\n",
    "\n",
    "c = mosaic.polypcolor(ax,descriptor,\n",
    "                  base_mask.regionVertexMasks.isel(nRegions=0),cmap=new_cmap,vmin=1,\n",
    "                  antialiaseds=False)\n",
    "fig.colorbar(c, extend='both')\n",
    "\n",
    "# LS\n",
    "ax.set_xlim(290, 318)\n",
    "ax.set_ylim(51.5, 68)\n",
    "\n",
    "# # GofM\n",
    "# ax.set_xlim(250, 318)\n",
    "# ax.set_ylim(15, 35)"
   ]
  },
  {
   "cell_type": "code",
   "execution_count": 338,
   "id": "61619963-9a57-44fc-976e-2693726d5b23",
   "metadata": {},
   "outputs": [
    {
     "data": {
      "text/plain": [
       "(51.5, 68.0)"
      ]
     },
     "execution_count": 338,
     "metadata": {},
     "output_type": "execute_result"
    },
    {
     "data": {
      "image/png": "[encoded data removed]",
      "text/plain": [
       "<Figure size 640x480 with 2 Axes>"
      ]
     },
     "metadata": {},
     "output_type": "display_data"
    }
   ],
   "source": [
    "base_mask = xr.open_dataset('./mpas-o_EC30to60_global_base_mask.nc')\n",
    "# LS\n",
    "base_mask['regionVertexMasks'] = base_mask.regionVertexMasks.where(base_mask.nVertices.isin(xr_mask_vertices),other=0)\n",
    "\n",
    "\n",
    "vertexmask = base_mask.regionVertexMasks.isel(nRegions=0).astype(bool)\n",
    "\n",
    "fig,ax = plt.subplots(nrows=1,ncols=1,constrained_layout=True)\n",
    "c = mosaic.polypcolor(ax,descriptor,\n",
    "                  vertexmask.astype(int),cmap='viridis',\n",
    "                  antialiaseds=False)\n",
    "fig.colorbar(c, extend='both')\n",
    "\n",
    "# LS\n",
    "ax.set_xlim(290, 318)\n",
    "ax.set_ylim(51.5, 68)"
   ]
  },
  {
   "cell_type": "markdown",
   "id": "e043f151-aed7-4a85-a16e-5736986bea1c",
   "metadata": {},
   "source": [
    "### from the masking method:\n",
    "`xr_mask_edges` \\\n",
    "`xr_mask_vertices`"
   ]
  },
  {
   "cell_type": "code",
   "execution_count": 339,
   "id": "d43633eb-7c03-4752-830e-9e49499b46fc",
   "metadata": {},
   "outputs": [],
   "source": [
    "# from collections import Counter\n",
    "\n",
    "# # For each vertex, count how many transect edges touch it\n",
    "# deg = Counter()\n",
    "# for e in xr_mask_edges:\n",
    "#     v0, v1 = n_to_xr_idx(mesh.verticesOnEdge.isel(nEdges=e))\n",
    "#     deg[int(v0)] += 1\n",
    "#     deg[int(v1)] += 1\n",
    "\n",
    "# print(\"Vertices with degree != 2 (should only be 2 endpoints with degree=1):\")\n",
    "# for v, d in deg.items():\n",
    "#     if d != 2:\n",
    "#         print(v, d)\n"
   ]
  },
  {
   "cell_type": "code",
   "execution_count": 340,
   "id": "82de63ee-eaf0-4b2f-9c12-596670f28965",
   "metadata": {},
   "outputs": [
    {
     "ename": "AttributeError",
     "evalue": "'numpy.ndarray' object has no attribute 'values'",
     "output_type": "error",
     "traceback": [
      "\u001b[31m---------------------------------------------------------------------------\u001b[39m",
      "\u001b[31mAttributeError\u001b[39m                            Traceback (most recent call last)",
      "\u001b[36mCell\u001b[39m\u001b[36m \u001b[39m\u001b[32mIn[340]\u001b[39m\u001b[32m, line 1\u001b[39m\n\u001b[32m----> \u001b[39m\u001b[32m1\u001b[39m \u001b[43mxr_mask_edges\u001b[49m\u001b[43m.\u001b[49m\u001b[43mvalues\u001b[49m\n",
      "\u001b[31mAttributeError\u001b[39m: 'numpy.ndarray' object has no attribute 'values'"
     ]
    }
   ],
   "source": [
    "xr_mask_edges.values"
   ]
  },
  {
   "cell_type": "code",
   "execution_count": null,
   "id": "aca65cec-5ce3-4021-a0bf-f646dec60fa4",
   "metadata": {},
   "outputs": [],
   "source": [
    "mesh.edgesOnVertex.isel(nVertices = np.int32(xr_nextVertex))"
   ]
  },
  {
   "cell_type": "code",
   "execution_count": null,
   "id": "cb0d591e-66cc-4289-86dd-3d6d51a31c1c",
   "metadata": {},
   "outputs": [],
   "source": [
    "xr_nextEdge"
   ]
  },
  {
   "cell_type": "code",
   "execution_count": null,
   "id": "35c24442-b1ab-4267-a25e-42f71461e3fe",
   "metadata": {},
   "outputs": [],
   "source": [
    "xr_verticesOnStartEdge"
   ]
  },
  {
   "cell_type": "code",
   "execution_count": null,
   "id": "0747a165-93ab-4ae5-a877-da4bb5911bb0",
   "metadata": {},
   "outputs": [],
   "source": [
    "next_vertices[-1]"
   ]
  },
  {
   "cell_type": "code",
   "execution_count": null,
   "id": "05e40455-9343-4809-b886-2c604ec61b08",
   "metadata": {},
   "outputs": [],
   "source": [
    "xr_verticesOnStartEdge."
   ]
  },
  {
   "cell_type": "code",
   "execution_count": null,
   "id": "dc8b43d3-ed28-400a-8c42-2a40e0de2bd5",
   "metadata": {},
   "outputs": [],
   "source": [
    "xr_nextVertex"
   ]
  },
  {
   "cell_type": "code",
   "execution_count": null,
   "id": "b01f5ddd-80e3-494e-82af-df35c67c4455",
   "metadata": {},
   "outputs": [],
   "source": [
    "xr_nextEdges[~np.isin(xr_nextEdges,remaining_edges)]"
   ]
  },
  {
   "cell_type": "code",
   "execution_count": null,
   "id": "1b1362c7-983b-4727-b875-d53452cc6534",
   "metadata": {},
   "outputs": [],
   "source": [
    "xr_nextEdges"
   ]
  },
  {
   "cell_type": "code",
   "execution_count": null,
   "id": "0680e2ae-d804-461f-b32d-a986f2607a30",
   "metadata": {},
   "outputs": [],
   "source": [
    "a = np.arange(0,10)\n",
    "isin = np.array([3,4])\n",
    "\n",
    "# we want the values of a that are in the isin array\n",
    "a[np.isin(a,isin)]"
   ]
  },
  {
   "cell_type": "code",
   "execution_count": null,
   "id": "99a834de-b34a-4851-b372-54a8e940769d",
   "metadata": {},
   "outputs": [],
   "source": []
  },
  {
   "cell_type": "code",
   "execution_count": null,
   "id": "1e57bdad-13af-4602-8733-5d80cb0c4cd1",
   "metadata": {},
   "outputs": [],
   "source": [
    "# sort edges to get consecutive vertices and edges \n",
    "# allow for vertices to be reused but not edges\n",
    "# get the first edge and its corresponding vertex\n",
    "xr_startEdge = np.int32(xr_mask_edges[0])\n",
    "n_startVertex = mesh.verticesOnEdge.isel(nEdges = xr_startEdge)\n",
    "xr_startVertex = n_to_xr_idx(n_startVertex)[0]\n",
    "\n",
    "# set up arrays\n",
    "next_edges = np.array([xr_startEdge])\n",
    "next_vertices = np.array([xr_startVertex])\n",
    "remaining_edges = xr_mask_edges[xr_mask_edges != xr_startEdge]\n",
    "# remaining_vertices = xr_mask_vertices[xr_mask_vertices != xr_startVertex.values]\n",
    "\n",
    "while len(remaining_edges)>0:\n",
    "    print(xr_startEdge)\n",
    "    # get the next vertex attached to the start edge\n",
    "    n_verticesOnStartEdge = mesh.verticesOnEdge.isel(nEdges = xr_startEdge)\n",
    "    xr_verticesOnStartEdge = np.int32(n_to_xr_idx(n_verticesOnStartEdge))\n",
    "    \n",
    "    # choose the vertex that isn't the previous vertex\n",
    "    xr_nextVertex = xr_verticesOnStartEdge[xr_verticesOnStartEdge != next_vertices[-1]]\n",
    "\n",
    "    # find the edges attached to this vertex \n",
    "    n_nextEdges_raw = mesh.edgesOnVertex.isel(nVertices = xr_nextVertex)\n",
    "    xr_nextEdges_raw = n_to_xr_idx(n_nextEdges_raw)\n",
    "\n",
    "    # get only the edges that are also in the transect and have not been previously used\n",
    "    xr_nextEdge = np.intersect1d(xr_nextEdges, remaining_edges)\n",
    "    # xr_nextEdge = xr_nextEdges[np.isin(xr_nextEdges,remaining_edges)]\n",
    "\n",
    "    # update arrays\n",
    "    next_edges = np.append(next_edges, xr_nextEdge)\n",
    "    next_vertices = np.append(next_vertices, xr_nextVertex)\n",
    "    remaining_edges = remaining_edges[remaining_edges != xr_nextEdge]\n",
    "    # remaining_vertices = remaining_vertices[remaining_vertices != xr_nextVertex]\n",
    "    \n",
    "    # update to make the next_edge the new start_edge\n",
    "    xr_startEdge = xr_nextEdge\n",
    "\n",
    "    #breakasdflkj"
   ]
  },
  {
   "cell_type": "code",
   "execution_count": null,
   "id": "fdebaf93-a5d3-4938-b25a-14919ff73433",
   "metadata": {},
   "outputs": [],
   "source": [
    "xr_nextVertex"
   ]
  },
  {
   "cell_type": "code",
   "execution_count": null,
   "id": "2db9065b-1f16-46ca-8f93-2d64476e08cd",
   "metadata": {},
   "outputs": [],
   "source": [
    "a = mesh.edgesOnVertex.isel(nVertices=xr_nextVertex).values\n",
    "a"
   ]
  },
  {
   "cell_type": "code",
   "execution_count": null,
   "id": "128cc077-e233-4106-988e-5d61dcb54bc3",
   "metadata": {},
   "outputs": [],
   "source": [
    "np.intersect1d(a,xr_mask_edges)"
   ]
  },
  {
   "cell_type": "code",
   "execution_count": null,
   "id": "66434a2b-c7c4-4d24-a2cd-ed16eed4cc06",
   "metadata": {},
   "outputs": [],
   "source": [
    "# sort to get consecutive vertices and edges\n",
    "#  ------- SURVEY EDGES CONNECTED TO THIS EDGE FOR THE EDGE THAT IS ALSO IN THE TRANSECT ----------\n",
    "# get the first edge and its corresponding vertex\n",
    "xr_startEdge = np.int32(xr_mask_edges[0])\n",
    "n_startVertex = mesh.verticesOnEdge.isel(nEdges = xr_startEdge)\n",
    "xr_startVertex = n_to_xr_idx(n_startVertex)[0]\n",
    "\n",
    "# set up arrays\n",
    "next_edges = np.array([xr_startEdge])\n",
    "next_vertices = np.array([xr_startVertex])\n",
    "remaining_edges = xr_mask_edges[xr_mask_edges != xr_startEdge]\n",
    "remaining_vertices = xr_mask_vertices[xr_mask_vertices != xr_startVertex.values]\n",
    "\n",
    "\n",
    "while len(remaining_edges)>0:\n",
    "    # get the next vertex attached to the start edge\n",
    "    n_verticesOnStartEdge = mesh.verticesOnEdge.isel(nEdges = xr_startEdge)\n",
    "    xr_verticesOnStartEdge = n_to_xr_idx(n_verticesOnStartEdge)\n",
    "\n",
    "    # get only the vertex that is not equal to the previously chosen vertex\n",
    "    xr_nextVertex = np.intersect1d(xr_verticesOnStartEdge, remaining_vertices)\n",
    "    print('unofficial xr_nextVertex is ', xr_nextVertex)\n",
    "\n",
    "    # get the edges connected to the next vertex\n",
    "    n_nextEdges = mesh.edgesOnVertex.isel(nVertices = np.int32(xr_nextVertex))\n",
    "    xr_nextEdges = n_to_xr_idx(n_nextEdges)\n",
    "\n",
    "    # select the edge that is also in the transect\n",
    "    xr_nextEdge = np.intersect1d(xr_nextEdges, remaining_edges)\n",
    "    print('first guess at xr_nextEdge is ', xr_nextEdge)\n",
    "\n",
    "    if xr_nextEdge.size > 1:\n",
    "        # find the two vertices that are connected to the two possible edges (that AREN'T the xr_nextVertex)\n",
    "        n_end_edge_vertices_raw = mesh.verticesOnEdge.isel(nEdges = xr_nextEdge)\n",
    "        xr_end_edge_vertices_raw = np.unique(n_to_xr_idx(n_end_edge_vertices_raw))\n",
    "\n",
    "        xr_end_edge_vertices = xr_end_edge_vertices_raw[xr_end_edge_vertices_raw != xr_nextVertex]\n",
    "\n",
    "        # find the lat and lon of these end edge vertices\n",
    "        end_edge_vertex0Lon = mesh.lonVertex.isel(nVertices = xr_end_edge_vertices[0]) * 180 / np.pi\n",
    "        end_edge_vertex0Lat = mesh.latVertex.isel(nVertices = xr_end_edge_vertices[0]) * 180 / np.pi\n",
    "\n",
    "        end_edge_vertex1Lon = mesh.lonVertex.isel(nVertices = xr_end_edge_vertices[1]) * 180 / np.pi\n",
    "        end_edge_vertex1Lat = mesh.latVertex.isel(nVertices = xr_end_edge_vertices[1]) * 180 / np.pi    \n",
    "        \n",
    "        # find the lat and lon of the xr_nextVertex\n",
    "        xr_nextVertexLon = mesh.lonVertex.isel(nVertices = np.int32(xr_nextVertex)) * 180 / np.pi\n",
    "        xr_nextVertexLat = mesh.latVertex.isel(nVertices = np.int32(xr_nextVertex)) * 180 / np.pi\n",
    "\n",
    "        # calculate the distance between xr_nextVertex and the 2 possible end vertices\n",
    "        distance_nextVertex0_endEdges = distance_on_unit_sphere(xr_nextVertexLon, end_edge_vertex0Lon, xr_nextVertexLat, end_edge_vertex0Lat)\n",
    "        distance_nextVertex1_endEdges = distance_on_unit_sphere(xr_nextVertexLon, end_edge_vertex1Lon, xr_nextVertexLat, end_edge_vertex1Lat)\n",
    "\n",
    "        # take the minimum distance\n",
    "        if distance_nextVertex0_endEdges > distance_nextVertex1_endEdges:\n",
    "            shortest_edge_vertex = xr_end_edge_vertices[1]\n",
    "        else:\n",
    "            shortest_edge_vertex = xr_end_edge_vertices[0]\n",
    "\n",
    "        # get the edge that this vertex is attached to\n",
    "        n_edgesonShortestEdgeVertex = mesh.edgesOnVertex.isel(nVertices = shortest_edge_vertex)\n",
    "        xr_edgesOnShortestEdgeVertex = n_to_xr_idx(n_edgesonShortestEdgeVertex)\n",
    "\n",
    "        xr_nextEdge = np.intersect1d(xr_edgesOnShortestEdgeVertex, xr_nextEdge)\n",
    "        if np.isin(xr_nextEdge, next_edges):\n",
    "            print('used edge already')\n",
    "        \n",
    "        \n",
    "    # update arrays \n",
    "    print('official xr_nextEdge is ', xr_nextEdge)\n",
    "    print('official xr_nextVertex is ', xr_nextVertex)\n",
    "    next_edges = np.append(next_edges, xr_nextEdge)\n",
    "    next_vertices = np.append(next_vertices, xr_nextVertex)\n",
    "    remaining_edges = remaining_edges[remaining_edges != xr_nextEdge]\n",
    "    remaining_vertices = remaining_vertices[remaining_vertices != xr_nextVertex]\n",
    "    print('edges left ', len(remaining_edges))\n",
    "    print('vertices left ', len(remaining_vertices))\n",
    "\n",
    "    # update to make the next_edge the new start_edge\n",
    "    xr_startEdge = xr_nextEdge"
   ]
  },
  {
   "cell_type": "code",
   "execution_count": null,
   "id": "445805ec-86a9-4f73-a1fa-da809db3944d",
   "metadata": {},
   "outputs": [],
   "source": [
    "xr_nextVertex"
   ]
  },
  {
   "cell_type": "markdown",
   "id": "66b4c76e-1b44-4026-ad3e-bfe314d0a2d8",
   "metadata": {},
   "source": [
    "xr_verticesOnStartEdge"
   ]
  },
  {
   "cell_type": "code",
   "execution_count": null,
   "id": "4389d039-a054-453a-b0b6-7eb65c21524a",
   "metadata": {},
   "outputs": [],
   "source": [
    "xr_verticesOnStartEdge"
   ]
  },
  {
   "cell_type": "code",
   "execution_count": null,
   "id": "889ebead-2c07-48f5-a8d3-c4b394c50a5b",
   "metadata": {},
   "outputs": [],
   "source": [
    "np.intersect1d(xr_verticesOnStartEdge, remaining_vertices)"
   ]
  },
  {
   "cell_type": "code",
   "execution_count": null,
   "id": "485c5cff-f22f-443d-a7c2-588aaa6c3449",
   "metadata": {},
   "outputs": [],
   "source": [
    "xr_nextEdge"
   ]
  },
  {
   "cell_type": "code",
   "execution_count": null,
   "id": "d12c3db6-efb4-4fa7-ae8f-e136ba3d047f",
   "metadata": {},
   "outputs": [],
   "source": [
    "xr_end_edge_vertices"
   ]
  },
  {
   "cell_type": "code",
   "execution_count": null,
   "id": "09404c88-6545-4fab-b049-fe050d3ae376",
   "metadata": {},
   "outputs": [],
   "source": [
    "xr_nextVertex"
   ]
  },
  {
   "cell_type": "code",
   "execution_count": null,
   "id": "225bae02-37ac-4d68-b66f-5697cfb32b87",
   "metadata": {},
   "outputs": [],
   "source": [
    "next_edges"
   ]
  },
  {
   "cell_type": "code",
   "execution_count": null,
   "id": "6f20a503-bea1-41e2-9c80-7f7ffc635313",
   "metadata": {},
   "outputs": [],
   "source": [
    "xr_nextEdges"
   ]
  },
  {
   "cell_type": "code",
   "execution_count": null,
   "id": "db8b4677-6d1b-4f73-b3e2-9d6effd8c409",
   "metadata": {},
   "outputs": [],
   "source": [
    "argmin_edges_raw = n_to_xr_idx(mesh.edgesOnVertex.isel(nVertices = xr_nextVertex))\n",
    "argmin_edges = np.intersect1d(argmin_edges_raw, remaining_edges)\n",
    "n_argmin_edges_vertices_0 = mesh.verticesOnEdge.where(mesh.nEdges.isin(argmin_edges[0]))\n",
    "n_argmin_edges_vertices_1 = mesh.verticesOnEdge.where(mesh.nEdges.isin(argmin_edges[1]))"
   ]
  },
  {
   "cell_type": "code",
   "execution_count": null,
   "id": "83d91b57-b06b-4d9a-8b20-803d0a6d390a",
   "metadata": {},
   "outputs": [],
   "source": [
    "np.unique(argmin_edges_vertices_0)"
   ]
  },
  {
   "cell_type": "code",
   "execution_count": null,
   "id": "d582996b-17b1-42fb-bb22-ece5bce70eee",
   "metadata": {},
   "outputs": [],
   "source": [
    "np.unique(n_argmin_edges_vertices_1)"
   ]
  },
  {
   "cell_type": "code",
   "execution_count": null,
   "id": "ece00218-6ef4-457e-b4a9-89dbecf7e070",
   "metadata": {},
   "outputs": [],
   "source": [
    "condition = ((mesh.verticesOnEdge.isel(TWO=0) == xr_nextVertex) & (mesh.verticesOnEdge.isel(TWO=1) == current_vertex)) | \\\n",
    "((mesh.verticesOnEdge.isel(TWO=0) == current_vertex) & (mesh.verticesOnEdge.isel(TWO=1) == xr_nextVertex))                                                 "
   ]
  },
  {
   "cell_type": "code",
   "execution_count": null,
   "id": "a413a808-826a-40a7-a6ea-24793179e7ce",
   "metadata": {},
   "outputs": [],
   "source": [
    "np.unique(((mesh.verticesOnEdge.isel(TWO=0) == xr_nextVertex) & (mesh.verticesOnEdge.isel(TWO=1) == current_vertex)))"
   ]
  },
  {
   "cell_type": "code",
   "execution_count": null,
   "id": "3e494183-d454-45ad-ab2e-37ba8e20cb8d",
   "metadata": {},
   "outputs": [],
   "source": [
    "np.unique(((mesh.verticesOnEdge.isel(TWO=0) == current_vertex) & (mesh.verticesOnEdge.isel(TWO=1) == xr_nextVertex)) )"
   ]
  },
  {
   "cell_type": "code",
   "execution_count": null,
   "id": "ee40d99d-11e2-4c93-a1f5-f949e044fce5",
   "metadata": {},
   "outputs": [],
   "source": [
    "mesh.verticesOnEdge"
   ]
  },
  {
   "cell_type": "code",
   "execution_count": null,
   "id": "e4a61ea6-b93c-41b0-85ea-689b1baf597d",
   "metadata": {},
   "outputs": [],
   "source": [
    "next_vertices"
   ]
  },
  {
   "cell_type": "code",
   "execution_count": null,
   "id": "bfede70a-a514-4e03-b9a8-7206fa6786ca",
   "metadata": {},
   "outputs": [],
   "source": [
    "next_edges"
   ]
  },
  {
   "cell_type": "code",
   "execution_count": null,
   "id": "ca902b5d-f2c9-4ab8-bf62-d6fbdd1332f8",
   "metadata": {},
   "outputs": [],
   "source": [
    "next_edges"
   ]
  },
  {
   "cell_type": "code",
   "execution_count": null,
   "id": "fa63ab33-ec6c-44c2-af49-fcfbab58bddc",
   "metadata": {},
   "outputs": [],
   "source": [
    "xr_nextEdges"
   ]
  },
  {
   "cell_type": "code",
   "execution_count": null,
   "id": "e2095982-9718-454e-8300-324338ed3ee2",
   "metadata": {},
   "outputs": [],
   "source": [
    "current_vertex = next_vertices[-1]\n",
    "possible_vertices = mesh.verticesOnEdge.isel(nEdges = xr_nextEdge)\n",
    "possible_vertices\n",
    "\n",
    "n_possible_vertices_raw = np.unique(mesh.verticesOnEdge.isel(nEdges = xr_nextEdge))\n",
    "n_possible_vertices = n_possible_vertices_raw[n_possible_vertices_raw != current_vertex]"
   ]
  },
  {
   "cell_type": "code",
   "execution_count": null,
   "id": "19cd3fd8-42b9-44e5-b0e7-6f096b7fcb00",
   "metadata": {},
   "outputs": [],
   "source": [
    "np.intersect1d(xr_nextEdges, xr_mask_edges)"
   ]
  },
  {
   "cell_type": "code",
   "execution_count": null,
   "id": "9892914f-465a-423e-a4fc-a8da62741174",
   "metadata": {},
   "outputs": [],
   "source": [
    "mesh.edgesOnVertex.isel(nVertices = xr_nextVertex)"
   ]
  },
  {
   "cell_type": "code",
   "execution_count": null,
   "id": "f90b3040-3053-4fbc-a543-a034c5b9176f",
   "metadata": {},
   "outputs": [],
   "source": [
    "base_mask = xr.open_dataset('./mpas-o_EC30to60_global_base_mask.nc')\n",
    "# LS\n",
    "base_mask['regionEdgeMasks'] = base_mask.regionEdgeMasks.where(base_mask.nEdges.isin(np.array([125371])),other=0)\n",
    "\n",
    "\n",
    "edgemask = base_mask.regionEdgeMasks.isel(nRegions=0).astype(bool)\n",
    "\n",
    "fig,ax = plt.subplots(nrows=1,ncols=1,constrained_layout=True)\n",
    "c = mosaic.polypcolor(ax,descriptor,\n",
    "                  edgemask.astype(int),cmap='viridis',\n",
    "                  antialiaseds=False)\n",
    "fig.colorbar(c, extend='both')\n",
    "\n",
    "# LS\n",
    "ax.set_xlim(290, 318)\n",
    "ax.set_ylim(51.5, 68)"
   ]
  },
  {
   "cell_type": "code",
   "execution_count": null,
   "id": "1d9e4565-4cd7-4c1c-9158-fe9a0e51020c",
   "metadata": {},
   "outputs": [],
   "source": [
    "base_mask = xr.open_dataset('./mpas-o_EC30to60_global_base_mask.nc')\n",
    "# LS\n",
    "base_mask['regionEdgeMasks'] = base_mask.regionEdgeMasks.where(base_mask.nEdges.isin(np.array([125371,58236])),other=0)\n",
    "\n",
    "\n",
    "edgemask = base_mask.regionEdgeMasks.isel(nRegions=0).astype(bool)\n",
    "\n",
    "fig,ax = plt.subplots(nrows=1,ncols=1,constrained_layout=True)\n",
    "c = mosaic.polypcolor(ax,descriptor,\n",
    "                  edgemask.astype(int),cmap='viridis',\n",
    "                  antialiaseds=False)\n",
    "fig.colorbar(c, extend='both')\n",
    "\n",
    "# LS\n",
    "ax.set_xlim(290, 318)\n",
    "ax.set_ylim(51.5, 68)"
   ]
  },
  {
   "cell_type": "code",
   "execution_count": null,
   "id": "f51bdfb6-63d5-4645-9f8e-61038366946d",
   "metadata": {},
   "outputs": [],
   "source": [
    "base_mask = xr.open_dataset('./mpas-o_EC30to60_global_base_mask.nc')\n",
    "# LS\n",
    "base_mask['regionEdgeMasks'] = base_mask.regionEdgeMasks.where(base_mask.nEdges.isin(np.array([125371,348615])),other=0)\n",
    "\n",
    "\n",
    "edgemask = base_mask.regionEdgeMasks.isel(nRegions=0).astype(bool)\n",
    "\n",
    "fig,ax = plt.subplots(nrows=1,ncols=1,constrained_layout=True)\n",
    "c = mosaic.polypcolor(ax,descriptor,\n",
    "                  edgemask.astype(int),cmap='viridis',\n",
    "                  antialiaseds=False)\n",
    "fig.colorbar(c, extend='both')\n",
    "\n",
    "# LS\n",
    "ax.set_xlim(290, 318)\n",
    "ax.set_ylim(51.5, 68)"
   ]
  },
  {
   "cell_type": "code",
   "execution_count": null,
   "id": "dd1d6d58-3e99-48e6-b350-7a407f0eccdd",
   "metadata": {},
   "outputs": [],
   "source": [
    "base_mask = xr.open_dataset('./mpas-o_EC30to60_global_base_mask.nc')\n",
    "# LS\n",
    "base_mask['regionEdgeMasks'] = base_mask.regionEdgeMasks.where(base_mask.nEdges.isin(np.array([125371,58236,348615])),other=0)\n",
    "\n",
    "\n",
    "edgemask = base_mask.regionEdgeMasks.isel(nRegions=0).astype(bool)\n",
    "\n",
    "fig,ax = plt.subplots(nrows=1,ncols=1,constrained_layout=True)\n",
    "c = mosaic.polypcolor(ax,descriptor,\n",
    "                  edgemask.astype(int),cmap='viridis',\n",
    "                  antialiaseds=False)\n",
    "fig.colorbar(c, extend='both')\n",
    "\n",
    "# LS\n",
    "ax.set_xlim(290, 318)\n",
    "ax.set_ylim(51.5, 68)"
   ]
  },
  {
   "cell_type": "code",
   "execution_count": null,
   "id": "aebf3023-27ad-4309-9f2e-b6df80b5e4ab",
   "metadata": {},
   "outputs": [],
   "source": [
    "xr_nextVertex"
   ]
  },
  {
   "cell_type": "code",
   "execution_count": null,
   "id": "3f015c03-c39a-449b-886a-10cc9a92a0a0",
   "metadata": {},
   "outputs": [],
   "source": [
    "xr_startEdge"
   ]
  },
  {
   "cell_type": "code",
   "execution_count": null,
   "id": "a79148bc-1d49-49de-9577-2611f4006172",
   "metadata": {},
   "outputs": [],
   "source": [
    "xr_nextEdge"
   ]
  },
  {
   "cell_type": "markdown",
   "id": "358c780d-2eca-4fc1-a7cf-df624fd76246",
   "metadata": {},
   "source": [
    "```mask_transect_cells``` \\\n",
    "```xr_transect_vertices``` \\\n",
    "```test_edge_transect```\n"
   ]
  },
  {
   "cell_type": "code",
   "execution_count": null,
   "id": "bf04d03b-75aa-4780-8b19-68ac8ceda6c1",
   "metadata": {},
   "outputs": [],
   "source": [
    "# get the cells/vertices/edges that are in the transect IN ORDER\n",
    "# we want to travel from the start vertex to the end vertex\n",
    "# ID the start vertex\n",
    "# GofM\n",
    "target_start_lat, target_start_lon = 20, 270\n",
    "target_end_lat, target_end_lon = 26, 280\n",
    "\n",
    "# # distance_on_unit_sphere(lon1, lat1, lon2, lat 2)\n",
    "# # find the shortest path between the two points\n",
    "# # of all of the points, find the vertex that is closest to the desired start point\n",
    "# distance = distance_on_unit_sphere(mesh.lonVertex * 180/np.pi, mesh.latVertex * 180/np.pi, target_start_lon, target_start_lat)\n",
    "# xr_start_vertex = distance.argmin()\n",
    "# n_start_vertex = xr_to_n_idx(xr_start_vertex)\n",
    "# print('started at n vertex ', n_start_vertex.values)\n",
    "\n",
    "# # repeat to find the vertex that is closest to the desired end point\n",
    "# dist_to_end = distance_on_unit_sphere(mesh.lonVertex * 180/np.pi, mesh.latVertex * 180/np.pi, target_end_lon, target_end_lat)\n",
    "# xr_end_vertex = dist_to_end.argmin()\n",
    "# end_lon = mesh.isel(nVertices = xr_end_vertex).lonVertex * 180/np.pi\n",
    "# end_lat = mesh.isel(nVertices = xr_end_vertex).latVertex * 180/np.pi\n",
    "\n",
    "# we only want to look at the cells/vertices/edges that are in the transect\n",
    "# so we need to apply the algorithm to the test_mask (modified base_mask)\n",
    "# xr_border_edges\n",
    "base_mask = xr.open_dataset('./mpas-o_EC30to60_global_base_mask.nc')\n",
    "#base_mask['regionCellMasks'] = base_mask.regionCellMasks.where(base_mask.nCells.isin(n_border_cells+1), other = 1)\n",
    "base_mask['regionCellMasks'] = base_mask.regionCellMasks.where(base_mask.nCells.isin(mask_transect_cells), other = 0)\n",
    "base_mask['regionEdgeMasks'] = base_mask.regionEdgeMasks.where(base_mask.nEdges.isin(test_edge_transect),other=0)\n",
    "base_mask['regionVertexMasks'] = base_mask.regionVertexMasks.where(base_mask.nVertices.isin(xr_transect_vertices),other=0)\n",
    "print('finished selecting base_mask values')\n",
    "\n",
    "test_mask = base_mask\n",
    "\n",
    "# convert the 1s and 0s new mask to boolean T/F\n",
    "cellmask = test_mask.regionCellMasks.isel(nRegions=0).astype(bool)\n",
    "edgemask = test_mask.regionEdgeMasks.isel(nRegions=0).astype(bool)\n",
    "vertexmask = test_mask.regionVertexMasks.isel(nRegions=0).astype(bool)\n",
    "print('converted test_mask to bool')"
   ]
  },
  {
   "cell_type": "code",
   "execution_count": null,
   "id": "2aa83d78-ad9d-4220-a4bd-115db2543f2f",
   "metadata": {},
   "outputs": [],
   "source": [
    "# retrieve lats and lons that correspond to the cells/vertices/edges in the transect\n",
    "mesh_cellLatsLons = mesh[['lonCell','latCell']].where(cellmask,drop=False)\n",
    "mesh_vertexLatsLons = mesh[['lonVertex','latVertex']].where(vertexmask,drop=False)\n",
    "mesh_edgeLatsLons =  mesh[['lonEdge','latEdge']].where(edgemask,drop=False)\n",
    "mesh_edgesOnVertex = mesh['edgesOnVertex'].where(vertexmask,drop=False)\n",
    "mesh_verticesOnEdge = mesh['verticesOnEdge'].where(edgemask,drop=False)\n",
    "mesh_cellsOnVertex = mesh['cellsOnVertex'].where(vertexmask,drop=False)\n",
    "mesh_edgesOnCell = mesh['edgesOnCell'].where(cellmask, drop=False)\n",
    "\n",
    "transect_mesh = xr.merge([mesh_cellLatsLons, mesh_vertexLatsLons, mesh_edgeLatsLons, mesh_edgesOnVertex, mesh_verticesOnEdge, mesh_cellsOnVertex])\n",
    "#transect_mesh\n",
    "\n"
   ]
  },
  {
   "cell_type": "code",
   "execution_count": null,
   "id": "9bd9a8ad-00e2-4d05-88bf-cf35a71d72cb",
   "metadata": {},
   "outputs": [],
   "source": [
    "def find_land_start_edge(i,transect_mesh,test_edge_transect):\n",
    "    \"\"\"\n",
    "    function to find the transect edges that border land\n",
    "    \"\"\"\n",
    "    \n",
    "    # to order edges\n",
    "    # ------- FIND START POINT NEXT TO LAND ----------\n",
    "    # specify a starting vertex that is right next to land \n",
    "    # find the vertices that are next to land cells (i.e., cellsOnVertex is nan) by creating a mask (all cells next to land have a value of 1)\n",
    "    all_transectCellsOnVertex = transect_mesh.cellsOnVertex.where(np.isin(transect_mesh.cellsOnVertex,0),drop=False) + 1\n",
    "    all_transect_cellsOnVertex_ds = all_transectCellsOnVertex.to_dataset(name='cellsOnVertex')\n",
    "    \n",
    "    # reduce along the vertexDegree dimension\n",
    "    reduced_transect_cellsOnVertex_ds= all_transect_cellsOnVertex_ds.cellsOnVertex.sum(dim='vertexDegree')\n",
    "    \n",
    "    # we want the vertices where the cellsOnVertex = 1 (i.e., is land)\n",
    "    xr_transect_landCellsOnVertex = reduced_transect_cellsOnVertex_ds.nVertices.where(reduced_transect_cellsOnVertex_ds==1,drop=True)\n",
    "    total_transect_landCellsOnVertex = len(xr_transect_landCellsOnVertex)\n",
    "    \n",
    "    # choose the first vertex to start at \n",
    "    xr_landCellsOnVertex_start = np.int32(xr_transect_landCellsOnVertex[i].values)\n",
    "    \n",
    "    # find the edges that this vertex is connected to\n",
    "    n_edgesOnStartVertex = transect_mesh.edgesOnVertex.isel(nVertices = xr_landCellsOnVertex_start)\n",
    "    xr_edgesOnStartVertex = n_to_xr_idx(n_edgesOnStartVertex)\n",
    "    \n",
    "    # get the intersection of the edges on the start vertex and the edges in the transect (gives starting edge)\n",
    "    xr_startEdge = np.int32(np.intersect1d(xr_edgesOnStartVertex, test_edge_transect))\n",
    "        \n",
    "    \n",
    "    return xr_startEdge, xr_landCellsOnVertex_start, total_transect_landCellsOnVertex"
   ]
  },
  {
   "cell_type": "code",
   "execution_count": null,
   "id": "e07273a2-f70d-4db2-bf58-52092e6131a5",
   "metadata": {},
   "outputs": [],
   "source": [
    "xr_startEdge, xr_startLandVertex, total_transect_landCellsOnVertex = find_land_start_edge(0,transect_mesh,test_edge_transect)"
   ]
  },
  {
   "cell_type": "code",
   "execution_count": null,
   "id": "4aa71739-35bb-43b0-8815-919696b89bd3",
   "metadata": {},
   "outputs": [],
   "source": [
    "# xr_startEdge, xr_startLandVertex, total_transect_landCellsOnVertex = find_land_start_edge(0,transect_mesh,test_edge_transect)\n",
    "\n",
    "# get an array of all possible transect land starting edges\n",
    "xr_transect_landEdges = np.array([])\n",
    "transect_landLonEdges = np.array([])\n",
    "transect_landLatEdges = np.array([])\n",
    "xr_transect_landVertices = np.array([])\n",
    "\n",
    "for i in range(0,total_transect_landCellsOnVertex):\n",
    "    xr_transect_landEdge, xr_transect_landVertex, ignore_length = find_land_start_edge(i,transect_mesh,test_edge_transect)\n",
    "    xr_transect_landEdges = np.append(xr_transect_landEdge, xr_transect_landEdges)\n",
    "    xr_transect_landVertices = np.append(xr_transect_landVertex, xr_transect_landVertices)\n",
    "\n",
    "    # get the lats and lons of the possible transect land starting edges\n",
    "    transect_edges_landLatLon = mesh[['lonEdge','latEdge']].where(mesh.nEdges.isin(xr_transect_landEdges))\n"
   ]
  },
  {
   "cell_type": "code",
   "execution_count": null,
   "id": "f1845af0-53ea-4d17-b704-197dc26f012c",
   "metadata": {},
   "outputs": [],
   "source": [
    "#  ------- SURVEY EDGES CONNECTED TO THIS EDGE FOR THE EDGE THAT IS ALSO IN THE TRANSECT ----------\n",
    "# get the first edge and its corresponding vertex\n",
    "xr_startEdge = np.int32(xr_transect_landEdges[0])\n",
    "xr_startVertex = np.int32(xr_transect_landVertices[0])\n",
    "\n",
    "# set up arrays\n",
    "next_edges = np.array([xr_startEdge])\n",
    "next_vertices = np.array([xr_startVertex])\n",
    "remaining_edges = test_edge_transect[test_edge_transect != xr_startEdge]\n",
    "remaining_vertices = xr_transect_vertices[xr_transect_vertices != xr_startVertex]\n",
    "\n",
    "# set up counter for land vertices\n",
    "land_vertices_counter = 0\n",
    "\n",
    "while len(remaining_edges)>0:\n",
    "    # get the next vertex attached to the start edge\n",
    "    n_verticesOnStartEdge = mesh.verticesOnEdge.isel(nEdges = xr_startEdge)\n",
    "    xr_verticesOnStartEdge = n_to_xr_idx(n_verticesOnStartEdge)\n",
    "\n",
    "    # get only the vertex that is not equal to the previously chosen vertex\n",
    "    xr_nextVertex = np.intersect1d(xr_verticesOnStartEdge, remaining_vertices)\n",
    "\n",
    "    # get the edges connected to the next vertex\n",
    "    n_nextEdges = mesh.edgesOnVertex.isel(nVertices = xr_nextVertex)\n",
    "    xr_nextEdges = n_to_xr_idx(n_nextEdges)\n",
    "\n",
    "    # select the edge that is also in the transect\n",
    "    xr_nextEdge = np.intersect1d(xr_nextEdges, remaining_edges)\n",
    "\n",
    "    # if the land is blocking getting the next start vertex\n",
    "    if xr_nextEdge.size == 0:\n",
    "        print('finding next land start point')\n",
    "        current_edge = next_edges[-1]\n",
    "        current_edgeLon = mesh.lonEdge.isel(nEdges = current_edge) * 180 / np.pi\n",
    "        current_edgeLat = mesh.latEdge.isel(nEdges = current_edge) * 180 / np.pi\n",
    "\n",
    "        # consider only the unused land edges\n",
    "        remaining_landEdges = np.intersect1d(remaining_edges, xr_transect_landEdges)\n",
    "\n",
    "        # calculate the distance between the current edge and the remaining land edges\n",
    "        remaining_landLatLon = transect_edges_landLatLon.where(transect_edges_landLatLon.nEdges.isin(remaining_landEdges))\n",
    "        \n",
    "        current_to_land = distance_on_unit_sphere(current_edgeLon, remaining_landLatLon.lonEdge, current_edgeLat, remaining_landLatLon.latEdge)\n",
    "        xr_nextEdge = current_to_land.argmin().values\n",
    "\n",
    "        # find the vertices attached to this edge that is also next to land\n",
    "        n_verticesOnNextEdge = mesh.verticesOnEdge.isel(nEdges = xr_nextEdge)\n",
    "        xr_verticesOnNextEdge = n_to_xr_idx(n_verticesOnNextEdge)\n",
    "\n",
    "        xr_nextVertex = np.intersect1d(xr_verticesOnNextEdge, xr_transect_landVertices)\n",
    "\n",
    "    # update arrays \n",
    "    # print(xr_nextEdge)\n",
    "    next_edges = np.append(next_edges, xr_nextEdge)\n",
    "    next_vertices = np.append(next_vertices, xr_nextVertex)\n",
    "    remaining_edges = remaining_edges[remaining_edges != xr_nextEdge]\n",
    "    remaining_vertices = remaining_vertices[remaining_vertices != xr_nextVertex]\n",
    "\n",
    "    # update to make the next_edge the new start_edge\n",
    "    xr_startEdge = xr_nextEdge"
   ]
  },
  {
   "cell_type": "markdown",
   "id": "d601bfef-1162-4d33-b206-f2e41d9ce6a5",
   "metadata": {},
   "source": [
    "<div class=\"alert alert-warning\" role=\"alert\">\n",
    "  <b>9/16/25 you need to differentiate between the two methods. Also, I have no idea how to check if this is correct... </b> \n",
    "</div>\n"
   ]
  },
  {
   "cell_type": "code",
   "execution_count": null,
   "id": "65c1ee06-2f97-463e-99da-39d7d88ff4c0",
   "metadata": {},
   "outputs": [],
   "source": [
    "next_edges"
   ]
  },
  {
   "cell_type": "code",
   "execution_count": null,
   "id": "f5cfd14c-eaaf-40a7-ba6c-44198d58df46",
   "metadata": {},
   "outputs": [],
   "source": [
    "# assign index numbers to each of the chosen region masks to check sorted order \n",
    "\n",
    "for i in range(0,len(next_edges)):\n",
    "    base_mask.regionEdgeMasks.isel(nRegions=0)[next_edges[i]]= i"
   ]
  },
  {
   "cell_type": "code",
   "execution_count": null,
   "id": "ebb68449-7cb2-4ac5-9d85-900a47622411",
   "metadata": {},
   "outputs": [],
   "source": [
    "# # set up mesh to apply polypcolor\n",
    "mesh.attrs['is_periodic'] = 'YES'\n",
    "mesh.attrs['x_period'] = 360\n",
    "mesh.attrs['y_period'] = 0.0\n",
    "\n",
    "descriptor = mosaic.Descriptor(mesh,use_latlon=False)\n",
    "\n",
    "fig,ax = plt.subplots(nrows=1,ncols=1,constrained_layout=True)\n",
    "c = mosaic.polypcolor(ax,descriptor,\n",
    "                  base_mask.regionEdgeMasks.isel(nRegions=0),cmap='viridis',\n",
    "                  antialiaseds=False)\n",
    "fig.colorbar(c, extend='both')\n",
    "\n",
    "# LS\n",
    "ax.set_xlim(290, 318)\n",
    "ax.set_ylim(51.5, 68)\n",
    "\n",
    "# # GofM\n",
    "# ax.set_xlim(250, 318)\n",
    "# ax.set_ylim(15, 35)"
   ]
  },
  {
   "cell_type": "code",
   "execution_count": null,
   "id": "c616e864-0691-4e78-a1ff-2b670f7263c0",
   "metadata": {},
   "outputs": [],
   "source": [
    "\n",
    "# distance_on_unit_sphere(lon1, lat1, lon2, lat 2)\n",
    "# find the shortest path between the two points\n",
    "# of all of the points, find the vertex that is closest to the desired start point\n",
    "distance = distance_on_unit_sphere(transect_mesh.lonVertex * 180/np.pi, transect_mesh.latVertex * 180/np.pi, target_start_lon, target_start_lat)\n",
    "xr_start_vertex = distance.argmin()\n",
    "n_start_vertex = xr_to_n_idx(xr_start_vertex)\n",
    "print('started at n vertex ', n_start_vertex.values)\n",
    "\n",
    "target_start_lon = transect_mesh.isel(nVertices=xr_start_vertex).lonVertex * 180/np.pi\n",
    "target_start_lat = transect_mesh.isel(nVertices=xr_start_vertex).latVertex * 180/np.pi\n",
    "\n",
    "# repeat to find the vertex that is closest to the desired end point\n",
    "dist_to_end = distance_on_unit_sphere(transect_mesh.lonVertex * 180/np.pi, mesh.latVertex * 180/np.pi, target_end_lon, target_end_lat)\n",
    "xr_end_vertex = dist_to_end.argmin()\n",
    "target_end_lon = transect_mesh.isel(nVertices = xr_end_vertex).lonVertex * 180/np.pi\n",
    "target_end_lat = transect_mesh.isel(nVertices = xr_end_vertex).latVertex * 180/np.pi"
   ]
  },
  {
   "cell_type": "code",
   "execution_count": null,
   "id": "764b11dc-10a6-4a76-b160-22287b801f7e",
   "metadata": {},
   "outputs": [],
   "source": [
    "# next_vertices, xr_transect_edges = calculate_transects(target_start_lat, target_start_lon, target_end_lat, target_end_lon, transect_mesh, test_mask)"
   ]
  },
  {
   "cell_type": "code",
   "execution_count": null,
   "id": "aa50d4e6-5854-4378-9927-7bfab3724da7",
   "metadata": {},
   "outputs": [],
   "source": [
    "mesh.isel(nVertices = xr_end_vertex).cellsOnVertex"
   ]
  },
  {
   "cell_type": "code",
   "execution_count": null,
   "id": "e58d6cce-6167-415f-ada4-ef5ba4f0e9c4",
   "metadata": {},
   "outputs": [],
   "source": [
    "conV = mesh.cellsOnVertex.isel(nVertices=xr_transect_vertices)\n",
    "a = conV.where(np.isin(conV,0))\n",
    "np.unique(a,return_counts=True)"
   ]
  },
  {
   "cell_type": "code",
   "execution_count": null,
   "id": "80d56a8d-d499-47d7-82c7-3793a38dcca4",
   "metadata": {},
   "outputs": [],
   "source": [
    "base_mask = xr.open_dataset('./mpas-o_EC30to60_global_base_mask.nc')\n",
    "# LS\n",
    "base_mask['regionEdgeMasks'] = base_mask.regionEdgeMasks.where(base_mask.nEdges.isin(test_edge_transect),other=0)\n",
    "\n",
    "# GofM\n",
    "# base_mask['regionVertexMasks'] = base_mask.regionVertexMasks.where(base_mask.nVertices.isin(next_vertices),other=1)\n",
    "\n",
    "edgemask = base_mask.regionEdgeMasks.isel(nRegions=0).astype(bool)\n",
    "\n",
    "# # set up mesh to apply polypcolor\n",
    "mesh.attrs['is_periodic'] = 'YES'\n",
    "mesh.attrs['x_period'] = 360\n",
    "mesh.attrs['y_period'] = 0.0\n",
    "\n",
    "descriptor = mosaic.Descriptor(mesh,use_latlon=False)\n",
    "\n",
    "fig,ax = plt.subplots(nrows=1,ncols=1,constrained_layout=True)\n",
    "c = mosaic.polypcolor(ax,descriptor,\n",
    "                  edgemask.astype(int),cmap='viridis',\n",
    "                  antialiaseds=False)\n",
    "fig.colorbar(c, extend='both')\n",
    "\n",
    "# LS\n",
    "ax.set_xlim(290, 318)\n",
    "ax.set_ylim(51.5, 68)\n",
    "\n",
    "# # GofM\n",
    "# ax.set_xlim(250, 318)\n",
    "# ax.set_ylim(15, 35)"
   ]
  },
  {
   "cell_type": "code",
   "execution_count": null,
   "id": "7d953ec4-9568-47f8-80ce-ebedbe635cc0",
   "metadata": {},
   "outputs": [],
   "source": [
    "# LS_lats= np.array([54, 60, 66, 64, 58])   \n",
    "# LS_lons= np.array([302, 315, 310, 295, 296])\n",
    "\n",
    "# LS_lats = np.append(LS_lats, LS_lats[0])\n",
    "# LS_lons = np.append(LS_lons, LS_lons[0])\n",
    "\n",
    "# test_verts, test_edges = calculate_transects_multiple_pts(LS_lons, LS_lats, mesh, mask)"
   ]
  },
  {
   "cell_type": "code",
   "execution_count": null,
   "id": "7f900637-7026-40d3-937e-a328fa675bde",
   "metadata": {},
   "outputs": [],
   "source": [
    "mesh"
   ]
  },
  {
   "cell_type": "markdown",
   "id": "a210342c-c98f-4e0b-afac-7b12d79ee5dd",
   "metadata": {},
   "source": [
    "### Here would be a good place to put a function to calculate the transect for this \"mesh\""
   ]
  },
  {
   "cell_type": "code",
   "execution_count": null,
   "id": "6c377dd4-d7ed-4b7a-a7fc-b81c1a1e289d",
   "metadata": {},
   "outputs": [],
   "source": [
    "# scratch plot to check stuff\n",
    "# set up mesh to apply polypcolor\n",
    "mesh.attrs['is_periodic'] = 'YES'\n",
    "mesh.attrs['x_period'] = 360\n",
    "mesh.attrs['y_period'] = 0.0\n",
    "\n",
    "descriptor = mosaic.Descriptor(mesh,use_latlon=False)\n",
    "\n",
    "\n",
    "# ds_t0 = dso['timeMonthly_avg_activeTracers_temperature'].isel(nVertLevels=30,Time=0)\n",
    "\n",
    "# ds_t0 = dso['timeMonthly_avg_latentHeatFlux'].isel(Time=0)\n",
    "\n",
    "ds_t0 = dso['timeMonthly_avg_normalVelocitySquared'].isel(Time=0,nVertLevels=0)\n",
    "\n",
    "# remove the nans\n",
    "if ds_t0.min() < -9**33:\n",
    "    ds_nonans = ds_t0.where(ds_t0 > -9**33)\n",
    "    print('fake nans detected')\n",
    "else:\n",
    "    ds_nonans = ds_t0\n",
    "\n",
    "# apply the mask\n",
    "# ds_masked = ds_nonans.where(cellmask,drop=False)\n",
    "print('beginning masked.where')\n",
    "ds_masked = ds_nonans.where(edgemask,drop=False)\n",
    "\n",
    "# plot\n",
    "fig,ax = plt.subplots(nrows=1,ncols=1,constrained_layout=True)\n",
    "c = mosaic.polypcolor(ax,descriptor,\n",
    "                  edgemask.astype(int),cmap='viridis',\n",
    "                  antialiaseds=False)\n",
    "fig.colorbar(c, extend='both')\n",
    "ax.set_xlim(290, 318)\n",
    "ax.set_ylim(51.5, 68)\n",
    "# ax.set_xlim(0, 360)\n"
   ]
  },
  {
   "cell_type": "code",
   "execution_count": null,
   "id": "2f98de63-6a1c-41bb-93a4-a572626ed330",
   "metadata": {},
   "outputs": [],
   "source": [
    "# xr_transect_vertices\n",
    "base_mask = xr.open_dataset('./mpas-o_EC30to60_global_base_mask.nc')\n",
    "#base_mask['regionCellMasks'] = base_mask.regionCellMasks.where(base_mask.nCells.isin(n_border_cells+1), other = 1)\n",
    "base_mask['regionCellMasks'] = base_mask.regionCellMasks.where(base_mask.nCells.isin(mask_transect_cells), other = 0)\n",
    "base_mask['regionEdgeMasks'] = base_mask.regionEdgeMasks.where(base_mask.nEdges.isin(test_edge_transect),other=0)\n",
    "base_mask['regionVertexMasks'] = base_mask.regionVertexMasks.where(base_mask.nVertices.isin(xr_transect_vertices),other=0)\n",
    "print('finished selecting base_mask values')\n",
    "\n",
    "test_mask = base_mask\n",
    "\n",
    "# convert the 1s and 0s new mask to boolean T/F\n",
    "cellmask = test_mask.regionCellMasks.isel(nRegions=0).astype(bool)\n",
    "edgemask = test_mask.regionEdgeMasks.isel(nRegions=0).astype(bool)\n",
    "vertexmask = test_mask.regionVertexMasks.isel(nRegions=0).astype(bool)\n",
    "print('converted test_mask to bool')\n",
    "\n",
    "\n",
    "# scratch plot to check stuff\n",
    "# set up mesh to apply polypcolor\n",
    "mesh.attrs['is_periodic'] = 'YES'\n",
    "mesh.attrs['x_period'] = 360\n",
    "mesh.attrs['y_period'] = 0.0\n",
    "\n",
    "descriptor = mosaic.Descriptor(mesh,use_latlon=False)\n",
    "\n",
    "\n",
    "# ds_t0 = dso['timeMonthly_avg_activeTracers_temperature'].isel(nVertLevels=30,Time=0)\n",
    "\n",
    "# ds_t0 = dso['timeMonthly_avg_latentHeatFlux'].isel(Time=0)\n",
    "\n",
    "ds_t0 = dso['timeMonthly_avg_normalVelocitySquared'].isel(Time=0,nVertLevels=0)\n",
    "\n",
    "# remove the nans\n",
    "if ds_t0.min() < -9**33:\n",
    "    ds_nonans = ds_t0.where(ds_t0 > -9**33)\n",
    "    print('fake nans detected')\n",
    "else:\n",
    "    ds_nonans = ds_t0\n",
    "\n",
    "# apply the mask\n",
    "# ds_masked = ds_nonans.where(cellmask,drop=False)\n",
    "print('beginning masked.where')\n",
    "ds_masked = ds_nonans.where(edgemask,drop=False)\n",
    "\n",
    "# plot\n",
    "fig,ax = plt.subplots(nrows=1,ncols=1,constrained_layout=True)\n",
    "c = mosaic.polypcolor(ax,descriptor,\n",
    "                  vertexmask.astype(int),cmap='viridis',\n",
    "                  antialiaseds=False)\n",
    "fig.colorbar(c, extend='both')\n",
    "ax.set_xlim(290, 318)\n",
    "ax.set_ylim(51.5, 68)\n",
    "# ax.set_xlim(0, 360)\n"
   ]
  },
  {
   "cell_type": "code",
   "execution_count": null,
   "id": "1ef61340-f4ce-4289-85ab-d9c294cff112",
   "metadata": {},
   "outputs": [],
   "source": [
    "# edgemask\n",
    "fig,ax = plt.subplots(nrows=1,ncols=1,constrained_layout=True)\n",
    "c = mosaic.polypcolor(ax,descriptor,\n",
    "                  edgemask.astype(int),cmap='viridis',\n",
    "                  antialiaseds=False)\n",
    "fig.colorbar(c, extend='both')\n",
    "ax.set_xlim(290, 318)\n",
    "ax.set_ylim(51.5, 68)\n",
    "# ax.set_xlim(0, 360)\n"
   ]
  },
  {
   "cell_type": "code",
   "execution_count": null,
   "id": "a7fdda29-5f4e-4310-9077-0a2a715e7f8a",
   "metadata": {},
   "outputs": [],
   "source": [
    "# cellmask\n",
    "fig,ax = plt.subplots(nrows=1,ncols=1,constrained_layout=True)\n",
    "c = mosaic.polypcolor(ax,descriptor,\n",
    "                  cellmask.astype(int),cmap='viridis',\n",
    "                  antialiaseds=False)\n",
    "fig.colorbar(c, extend='both')\n",
    "ax.set_xlim(290, 318)\n",
    "ax.set_ylim(51.5, 68)\n",
    "# ax.set_xlim(0, 360)\n"
   ]
  },
  {
   "cell_type": "code",
   "execution_count": null,
   "id": "0a9de61b-45eb-48e2-97f6-1cd47c829c7f",
   "metadata": {},
   "outputs": [],
   "source": [
    "# get the cells that share an edge with the border cells\n",
    "n_cellsOnBorderEdges = np.unique(mesh.cellsOnEdge.isel(nEdges = xr_border_edges))\n",
    "xr_cellsOnBorderEdges = n_to_xr_idx(n_cellsOnBorderEdges)\n",
    "\n",
    "# we only want the cells that share an edge with the border cells AND are inside the mask\n",
    "mask_transect_cells = np.intersect1d(xr_cellsOnBorderEdges, xr_cells_inside)"
   ]
  },
  {
   "cell_type": "code",
   "execution_count": null,
   "id": "794b4c39-c903-4800-a178-c9512e0902d9",
   "metadata": {},
   "outputs": [],
   "source": [
    "# xr_border_edges\n",
    "base_mask = xr.open_dataset('./mpas-o_EC30to60_global_base_mask.nc')\n",
    "#base_mask['regionCellMasks'] = base_mask.regionCellMasks.where(base_mask.nCells.isin(n_border_cells+1), other = 1)\n",
    "base_mask['regionCellMasks'] = base_mask.regionCellMasks.where(base_mask.nCells.isin(mask_transect_cells), other = 0)\n",
    "base_mask['regionEdgeMasks'] = base_mask.regionEdgeMasks.where(base_mask.nEdges.isin(xr_border_edges),other=0)\n",
    "# base_mask['regionVertexMasks'] = base_mask.regionVertexMasks.where(base_mask.nVertices.isin(xr_border_vertices),other=1)\n",
    "print('finished selecting base_mask values')\n",
    "\n",
    "test_mask = base_mask\n",
    "\n",
    "# convert the 1s and 0s new mask to boolean T/F\n",
    "cellmask = test_mask.regionCellMasks.isel(nRegions=0).astype(bool)\n",
    "edgemask = test_mask.regionEdgeMasks.isel(nRegions=0).astype(bool)\n",
    "vertexmask = test_mask.regionVertexMasks.isel(nRegions=0).astype(bool)\n",
    "print('converted test_mask to bool')\n",
    "\n",
    "\n",
    "# scratch plot to check stuff\n",
    "# set up mesh to apply polypcolor\n",
    "mesh.attrs['is_periodic'] = 'YES'\n",
    "mesh.attrs['x_period'] = 360\n",
    "mesh.attrs['y_period'] = 0.0\n",
    "\n",
    "descriptor = mosaic.Descriptor(mesh,use_latlon=False)\n",
    "\n",
    "\n",
    "# ds_t0 = dso['timeMonthly_avg_activeTracers_temperature'].isel(nVertLevels=30,Time=0)\n",
    "\n",
    "# ds_t0 = dso['timeMonthly_avg_latentHeatFlux'].isel(Time=0)\n",
    "\n",
    "ds_t0 = dso['timeMonthly_avg_normalVelocitySquared'].isel(Time=0,nVertLevels=0)\n",
    "\n",
    "# remove the nans\n",
    "if ds_t0.min() < -9**33:\n",
    "    ds_nonans = ds_t0.where(ds_t0 > -9**33)\n",
    "    print('fake nans detected')\n",
    "else:\n",
    "    ds_nonans = ds_t0\n",
    "\n",
    "# apply the mask\n",
    "# ds_masked = ds_nonans.where(cellmask,drop=False)\n",
    "print('beginning masked.where')\n",
    "ds_masked = ds_nonans.where(edgemask,drop=False)\n",
    "\n",
    "# plot\n",
    "fig,ax = plt.subplots(nrows=1,ncols=1,constrained_layout=True)\n",
    "c = mosaic.polypcolor(ax,descriptor,\n",
    "                  edgemask.astype(int),cmap='viridis',\n",
    "                  antialiaseds=False)\n",
    "fig.colorbar(c, extend='both')\n",
    "ax.set_xlim(290, 318)\n",
    "ax.set_ylim(51.5, 68)\n",
    "# ax.set_xlim(0, 360)\n"
   ]
  },
  {
   "cell_type": "markdown",
   "id": "54606f54-d1c4-4a21-918a-4fdf3d90662c",
   "metadata": {},
   "source": [
    "attempt to plot the cells that are inside the mask by at the border \n",
    "xr_cellsOnBorderEdges\n",
    "cells_inside"
   ]
  },
  {
   "cell_type": "code",
   "execution_count": null,
   "id": "2c986e8d-2c90-4321-811a-8558829820bb",
   "metadata": {},
   "outputs": [],
   "source": [
    "# xr_cells_inside\n",
    "base_mask = xr.open_dataset('./mpas-o_EC30to60_global_base_mask.nc')\n",
    "#base_mask['regionCellMasks'] = base_mask.regionCellMasks.where(base_mask.nCells.isin(n_border_cells+1), other = 1)\n",
    "base_mask['regionCellMasks'] = base_mask.regionCellMasks.where(base_mask.nCells.isin(xr_cells_inside), other = 0)\n",
    "base_mask['regionEdgeMasks'] = base_mask.regionEdgeMasks.where(base_mask.nEdges.isin(xr_border_edges),other=0)\n",
    "base_mask['regionVertexMasks'] = base_mask.regionVertexMasks.where(base_mask.nVertices.isin(xr_border_vertices),other=0)\n",
    "print('finished selecting base_mask values')\n",
    "\n",
    "test_mask = base_mask\n",
    "\n",
    "# convert the 1s and 0s new mask to boolean T/F\n",
    "cellmask = test_mask.regionCellMasks.isel(nRegions=0).astype(bool)\n",
    "edgemask = test_mask.regionEdgeMasks.isel(nRegions=0).astype(bool)\n",
    "vertexmask = test_mask.regionVertexMasks.isel(nRegions=0).astype(bool)\n",
    "print('converted test_mask to bool')\n",
    "\n",
    "\n",
    "# scratch plot to check stuff\n",
    "# set up mesh to apply polypcolor\n",
    "mesh.attrs['is_periodic'] = 'YES'\n",
    "mesh.attrs['x_period'] = 360\n",
    "mesh.attrs['y_period'] = 0.0\n",
    "\n",
    "descriptor = mosaic.Descriptor(mesh,use_latlon=False)\n",
    "\n",
    "\n",
    "# ds_t0 = dso['timeMonthly_avg_activeTracers_temperature'].isel(nVertLevels=30,Time=0)\n",
    "\n",
    "# ds_t0 = dso['timeMonthly_avg_latentHeatFlux'].isel(Time=0)\n",
    "\n",
    "ds_t0 = dso['timeMonthly_avg_normalVelocitySquared'].isel(Time=0,nVertLevels=0)\n",
    "\n",
    "# remove the nans\n",
    "if ds_t0.min() < -9**33:\n",
    "    ds_nonans = ds_t0.where(ds_t0 > -9**33)\n",
    "    print('fake nans detected')\n",
    "else:\n",
    "    ds_nonans = ds_t0\n",
    "\n",
    "# apply the mask\n",
    "# ds_masked = ds_nonans.where(cellmask,drop=False)\n",
    "print('beginning masked.where')\n",
    "ds_masked = ds_nonans.where(edgemask,drop=False)\n",
    "\n",
    "# plot\n",
    "fig,ax = plt.subplots(nrows=1,ncols=1,constrained_layout=True)\n",
    "c = mosaic.polypcolor(ax,descriptor,\n",
    "                  cellmask.astype(int),cmap='viridis',\n",
    "                  antialiaseds=False)\n",
    "fig.colorbar(c, extend='both')\n",
    "ax.set_xlim(290, 318)\n",
    "ax.set_ylim(51.5, 68)\n",
    "# ax.set_xlim(0, 360)\n"
   ]
  },
  {
   "cell_type": "code",
   "execution_count": null,
   "id": "af94e314-d053-4a32-b2f0-11bbef465488",
   "metadata": {},
   "outputs": [],
   "source": [
    "# mask_transect_cells\n",
    "base_mask = xr.open_dataset('./mpas-o_EC30to60_global_base_mask.nc')\n",
    "#base_mask['regionCellMasks'] = base_mask.regionCellMasks.where(base_mask.nCells.isin(n_border_cells+1), other = 1)\n",
    "base_mask['regionCellMasks'] = base_mask.regionCellMasks.where(base_mask.nCells.isin(mask_transect_cells), other = 0)\n",
    "base_mask['regionEdgeMasks'] = base_mask.regionEdgeMasks.where(base_mask.nEdges.isin(xr_border_edges),other=0)\n",
    "base_mask['regionVertexMasks'] = base_mask.regionVertexMasks.where(base_mask.nVertices.isin(xr_border_vertices),other=0)\n",
    "print('finished selecting base_mask values')\n",
    "\n",
    "test_mask = base_mask\n",
    "\n",
    "# convert the 1s and 0s new mask to boolean T/F\n",
    "cellmask = test_mask.regionCellMasks.isel(nRegions=0).astype(bool)\n",
    "edgemask = test_mask.regionEdgeMasks.isel(nRegions=0).astype(bool)\n",
    "vertexmask = test_mask.regionVertexMasks.isel(nRegions=0).astype(bool)\n",
    "print('converted test_mask to bool')\n",
    "\n",
    "\n",
    "# scratch plot to check stuff\n",
    "# set up mesh to apply polypcolor\n",
    "mesh.attrs['is_periodic'] = 'YES'\n",
    "mesh.attrs['x_period'] = 360\n",
    "mesh.attrs['y_period'] = 0.0\n",
    "\n",
    "descriptor = mosaic.Descriptor(mesh,use_latlon=False)\n",
    "\n",
    "\n",
    "# ds_t0 = dso['timeMonthly_avg_activeTracers_temperature'].isel(nVertLevels=30,Time=0)\n",
    "\n",
    "# ds_t0 = dso['timeMonthly_avg_latentHeatFlux'].isel(Time=0)\n",
    "\n",
    "ds_t0 = dso['timeMonthly_avg_normalVelocitySquared'].isel(Time=0,nVertLevels=0)\n",
    "\n",
    "# remove the nans\n",
    "if ds_t0.min() < -9**33:\n",
    "    ds_nonans = ds_t0.where(ds_t0 > -9**33)\n",
    "    print('fake nans detected')\n",
    "else:\n",
    "    ds_nonans = ds_t0\n",
    "\n",
    "# apply the mask\n",
    "# ds_masked = ds_nonans.where(cellmask,drop=False)\n",
    "print('beginning masked.where')\n",
    "ds_masked = ds_nonans.where(edgemask,drop=False)\n",
    "\n",
    "# plot\n",
    "fig,ax = plt.subplots(nrows=1,ncols=1,constrained_layout=True)\n",
    "c = mosaic.polypcolor(ax,descriptor,\n",
    "                  cellmask.astype(int),cmap='viridis',\n",
    "                  antialiaseds=False)\n",
    "fig.colorbar(c, extend='both')\n",
    "ax.set_xlim(290, 318)\n",
    "ax.set_ylim(51.5, 68)\n",
    "# ax.set_xlim(0, 360)\n"
   ]
  },
  {
   "cell_type": "code",
   "execution_count": null,
   "id": "4c8a4deb-ec00-4c32-a736-53d9256a9808",
   "metadata": {},
   "outputs": [],
   "source": []
  },
  {
   "cell_type": "markdown",
   "id": "1555e462-beda-49dd-9f3e-6ccb115a911e",
   "metadata": {},
   "source": [
    "<div class=\"alert alert-block alert-info\">\n",
    "<b>Everything above this is somewhat correct except for the boolean / .where choices...:</b> Stop.\n",
    "</div>"
   ]
  },
  {
   "cell_type": "markdown",
   "id": "e8ff5e85-bb9c-4e58-9834-5db27f18be71",
   "metadata": {
    "jp-MarkdownHeadingCollapsed": true
   },
   "source": [
    "### check indices between n and xr for Cells\n",
    "`isel` with `xr` coordinate.\\\n",
    "Returns datavariable in `n` coordinate."
   ]
  },
  {
   "cell_type": "code",
   "execution_count": null,
   "id": "1d282047-6cb2-4942-8e87-4d12d53eb9b9",
   "metadata": {},
   "outputs": [],
   "source": [
    "# get the edges connected to a cell with the xr_ID of 0 (isel(nCells=0)). Then choose the first edge of that cell\n",
    "# returns edges in the n coordinate\n",
    "edge_nCell0_0 = mesh.edgesOnCell.isel(nCells=0).values[0] \n",
    "display(edge_nCell0_0)\n",
    "\n",
    "# convert the edge in the n coordinate to the xr coordinate (xr = n -1) \n",
    "xr_edge_nCell0_0 = edge_nCell0_0 -1\n",
    "display(xr_edge_nCell0_0)\n",
    "\n",
    "# check our work \n",
    "# get the cells connected to an edge identified with xr_ID and n\n",
    "mesh.cellsOnEdge.isel(nEdges=xr_edge_nCell0_0).values\n",
    "# indices returned in the ncell indices"
   ]
  },
  {
   "cell_type": "markdown",
   "id": "0e72d6e0-841b-4968-85a2-4c4d57187b76",
   "metadata": {},
   "source": [
    "### check indices between n and xr for Vertices"
   ]
  },
  {
   "cell_type": "code",
   "execution_count": null,
   "id": "3167adba-aa70-4906-8218-ae094b4f9c38",
   "metadata": {},
   "outputs": [],
   "source": [
    "# get the vertices connected to a cell with the xr_ID of 0 (isel(nCells=0)). then choose the first vertex of that cell\n",
    "# returns vertices in the n coordinate\n",
    "nCell_idx = 0\n",
    "vert_nCell0_0 = mesh.verticesOnCell.isel(nCells=nCell_idx).values[0]\n",
    "display(vert_nCell0_0)\n",
    "\n",
    "# convert the vertex in the n coordinate to the xr coordinate (xr = n-1)\n",
    "xr_vert_nCell0_0 = n_to_xr_idx(vert_nCell0_0)\n",
    "display(xr_vert_nCell0_0)\n",
    "\n",
    "# check our work\n",
    "# get the cells connected to the vertex identified with xr_ID and n\n",
    "nCell_vert31235_0 = mesh.cellsOnVertex.isel(nVertices = xr_vert_nCell0_0).values\n",
    "\n",
    "# indices returned in the ncell indices. Convert ncell index to xr index\n",
    "nCell_from_vertex = n_to_xr_idx(nCell_vert31235_0)\n",
    "display(nCell_from_vertex)\n"
   ]
  }
 ],
 "metadata": {
  "kernelspec": {
   "display_name": "lanl_env",
   "language": "python",
   "name": "lanl_env"
  },
  "language_info": {
   "codemirror_mode": {
    "name": "ipython",
    "version": 3
   },
   "file_extension": ".py",
   "mimetype": "text/x-python",
   "name": "python",
   "nbconvert_exporter": "python",
   "pygments_lexer": "ipython3",
   "version": "3.13.3"
  }
 },
 "nbformat": 4,
 "nbformat_minor": 5
}

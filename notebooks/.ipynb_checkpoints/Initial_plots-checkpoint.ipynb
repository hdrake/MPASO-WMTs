{
 "cells": [
  {
   "cell_type": "markdown",
   "id": "9afa7cb8-7ac9-4a9f-a598-5b7cea7cbba6",
   "metadata": {},
   "source": [
    "An attempt to understand polypcolor and mosaic"
   ]
  },
  {
   "cell_type": "code",
   "execution_count": 1,
   "id": "5d49ddbe-5597-4e66-bf14-488acbc57ce0",
   "metadata": {},
   "outputs": [],
   "source": [
    "#Packages \n",
    "import numpy as np\n",
    "import xarray as xr\n",
    "import cmocean.cm as cmo\n",
    "import matplotlib.pyplot as plt\n",
    "import mpas_tools\n",
    "from mpas_tools.planar_hex import make_planar_hex_mesh\n",
    "from mpas_tools.mesh.conversion import convert, cull, mask\n",
    "from mpas_tools.io import write_netcdf\n",
    "import mosaic\n",
    "from dask.diagnostics import ProgressBar"
   ]
  },
  {
   "cell_type": "code",
   "execution_count": 2,
   "id": "6f11f9c6-ce0f-4efd-b2cb-6948f8817bb6",
   "metadata": {},
   "outputs": [
    {
     "name": "stderr",
     "output_type": "stream",
     "text": [
      "/tmp/ipykernel_1863083/117611068.py:13: FutureWarning: In a future version, xarray will not decode timedelta values based on the presence of a timedelta-like units attribute by default. Instead it will rely on the presence of a timedelta64 dtype attribute, which is now xarray's default way of encoding timedelta64 values. To continue decoding timedeltas based on the presence of a timedelta-like units attribute, users will need to explicitly opt-in by passing True or CFTimedeltaCoder(decode_via_units=True) to decode_timedelta. To silence this warning, set decode_timedelta to True, False, or a 'CFTimedeltaCoder' instance.\n",
      "  ds = xr.open_dataset(bmm_filepath + '20210421_sim7_CORE_60to30E2r2.mpaso.hist.am.timeSeriesStatsMonthly.0063-12-01.nc')\n"
     ]
    }
   ],
   "source": [
    "# open mesh\n",
    "mesh_path = '/global/cfs/projectdirs/e3sm/inputdata/ocn/mpas-o/EC30to60E2r2/ocean.EC30to60E2r2.210210.nc'\n",
    "mesh = xr.open_dataset(mesh_path)\n",
    "dsMesh = mesh\n",
    "\n",
    "# open mask\n",
    "wmtnb_filepath = '/global/u2/k/kuyeda/WMT_NBs/'\n",
    "mask = xr.open_dataset(wmtnb_filepath + 'LS_CEV_masks.nc')\n",
    "mask\n",
    "\n",
    "# open simulation data\n",
    "bmm_filepath = '/pscratch/sd/b/bmoorema/run_001_062/'\n",
    "ds = xr.open_dataset(bmm_filepath + '20210421_sim7_CORE_60to30E2r2.mpaso.hist.am.timeSeriesStatsMonthly.0063-12-01.nc')\n",
    "nVertLevels_ind = 30\n",
    "nVertLevelsP1_ind = 30\n",
    "\n",
    "# select datavariables\n",
    "dvs = ['timeMonthly_avg_activeTracers_temperature','timeMonthly_avg_activeTracers_salinity','timeMonthly_avg_latentHeatFlux',\n",
    "               'timeMonthly_avg_sensibleHeatFlux','timeMonthly_avg_velocityMeridional','timeMonthly_avg_velocityZonal','timeMonthly_avg_vertVelocityTop','timeMonthly_avg_normalVelocity']\n",
    "dsSims = ds[dvs].isel(Time=0,nVertLevels=nVertLevels_ind,nVertLevelsP1=nVertLevels_ind)\n",
    "\n"
   ]
  },
  {
   "cell_type": "code",
   "execution_count": 3,
   "id": "26fdf319-5f37-4ceb-afc6-42d63c183357",
   "metadata": {},
   "outputs": [],
   "source": [
    "# set up mesh to apply polypcolor\n",
    "mesh.attrs['is_periodic'] = 'YES'\n",
    "mesh.attrs['x_period'] = 360\n",
    "mesh.attrs['y_period'] = 0.0\n",
    "\n",
    "# Mosaic descriptor object, needed to plot the polygons\n",
    "descriptor = mosaic.Descriptor(mesh,use_latlon=False)"
   ]
  },
  {
   "cell_type": "code",
   "execution_count": 4,
   "id": "a6733f83-1547-4352-a007-8c90085949bb",
   "metadata": {},
   "outputs": [],
   "source": [
    "def polypcolor_plots(ds_str, dsSims, descriptor):\n",
    "    # get the correct dataset\n",
    "    ds_name = ds_str\n",
    "    ds = dsSims[ds_str]\n",
    "    \n",
    "    # use a .where to convert the lowest value (~-10 * 10^33) to a nan\n",
    "    ds_filled_nans = ds.where(ds != ds.min())\n",
    "    \n",
    "    # create a new colorbar centered at 0\n",
    "    # create a new colorbar \n",
    "    # bounds\n",
    "    ds_min = float(ds_filled_nans.min().values)\n",
    "    ds_max = float(ds_filled_nans.max().values)\n",
    "    \n",
    "    if (ds_min < 0) and (ds_max > 0):\n",
    "        pivot = 0\n",
    "    else:\n",
    "        pivot = np.round(((ds_max - ds_min) / 2) + ds_min)\n",
    "    \n",
    "    new_cmap = cmo.tools.crop(cmo.balance,ds_min,ds_max,pivot)\n",
    "    \n",
    "    # plot\n",
    "    fig,ax = plt.subplots(nrows=1,ncols=1,constrained_layout=True)\n",
    "    \n",
    "    c = mosaic.polypcolor(ax,descriptor,\n",
    "                      ds_filled_nans,cmap=new_cmap,\n",
    "                      antialiaseds=False)\n",
    "    fig.colorbar(c, extend='both')\n",
    "    ax.set_xlim(0,360)\n",
    "    ax.set_title(ds_name + '\\n Level=30, time=0')\n",
    "    \n",
    "    # # save figs \n",
    "    # fig_path = '/global/homes/k/kuyeda/WMT_NBs/initial_figs/polypcolor_figs_masked/'\n",
    "    # plt.savefig(fig_path + ds_name + '.png' , bbox_inches='tight')\n",
    "    # plt.close(fig)"
   ]
  },
  {
   "cell_type": "code",
   "execution_count": 81,
   "id": "fff177de-761d-4242-8f70-690e801395a5",
   "metadata": {},
   "outputs": [],
   "source": [
    "for i in range(0,len(dvs)):\n",
    "    polypcolor_plots(dvs[i],dsSims,descriptor)"
   ]
  },
  {
   "cell_type": "code",
   "execution_count": 29,
   "id": "d4c4fe7d-fb52-4706-8333-6501ba3ba7b1",
   "metadata": {},
   "outputs": [],
   "source": [
    "def polypcolor_masked_plots(ds_str, dsSims, mask, descriptor):\n",
    "    # establish masks\n",
    "    cellmask = mask.regionCellMasks.isel(nRegions=0).astype(bool)\n",
    "    edgemask = mask.regionEdgeMasks.isel(nRegions=0).astype(bool)\n",
    "    vertexmask = mask.regionVertexMasks.isel(nRegions=0).astype(bool)\n",
    "    \n",
    "    # get the correct dataset\n",
    "    ds_name = ds_str\n",
    "    ds = dsSims[ds_str]\n",
    "    # create nans\n",
    "    ds_nans = ds.where(ds != ds.min())\n",
    "    \n",
    "    # specify which mask based on coordinates of datavariable\n",
    "    if 'nCells' in ds_nans.dims:\n",
    "        grid_mask = cellmask\n",
    "    elif 'nEdges' in ds_nans.dims:\n",
    "        grid_mask = edgemask\n",
    "    \n",
    "    \n",
    "    # apply the mask\n",
    "    ds_masked = ds_nans.where(grid_mask,drop=False)\n",
    "\n",
    "    # create a new colorbar centered at 0\n",
    "    # create a new colorbar \n",
    "    # bounds\n",
    "    ds_min = float(ds_masked.min().values)\n",
    "    ds_max = float(ds_masked.max().values)\n",
    "    \n",
    "    if (ds_min < 0) and (ds_max > 0):\n",
    "        pivot = 0\n",
    "    else:\n",
    "        pivot = np.round(((ds_max - ds_min) / 2) + ds_min, decimals=5)\n",
    "    \n",
    "    new_cmap = cmo.tools.crop(cmo.balance,ds_min,ds_max,pivot)\n",
    "    \n",
    "    # plot\n",
    "    fig,ax = plt.subplots(nrows=1,ncols=1,constrained_layout=True)\n",
    "    \n",
    "    c = mosaic.polypcolor(ax,descriptor,\n",
    "                      ds_masked,cmap=new_cmap,\n",
    "                      antialiaseds=False)\n",
    "    fig.colorbar(c, extend='both')\n",
    "    ax.set_xlim(290, 315)\n",
    "    ax.set_ylim(51.5, 68)\n",
    "    ax.set_title(ds_name + '\\n Level=30, time=0')\n",
    "    \n",
    "    # save figs \n",
    "    fig_path = '/global/homes/k/kuyeda/WMT_NBs/initial_figs/polypcolor_figs/'\n",
    "    plt.savefig(fig_path + 'LSmask_' + ds_name + '.png' , bbox_inches='tight')\n",
    "    plt.close(fig)"
   ]
  },
  {
   "cell_type": "code",
   "execution_count": 30,
   "id": "3264a8f8-9acc-4da7-a9ed-23a6a759faf5",
   "metadata": {},
   "outputs": [],
   "source": [
    "for i in range(0,len(dvs)):\n",
    "    polypcolor_masked_plots(dvs[i],dsSims,mask,descriptor)"
   ]
  }
 ],
 "metadata": {
  "kernelspec": {
   "display_name": "lanl_env",
   "language": "python",
   "name": "lanl_env"
  },
  "language_info": {
   "codemirror_mode": {
    "name": "ipython",
    "version": 3
   },
   "file_extension": ".py",
   "mimetype": "text/x-python",
   "name": "python",
   "nbconvert_exporter": "python",
   "pygments_lexer": "ipython3",
   "version": "3.13.3"
  }
 },
 "nbformat": 4,
 "nbformat_minor": 5
}

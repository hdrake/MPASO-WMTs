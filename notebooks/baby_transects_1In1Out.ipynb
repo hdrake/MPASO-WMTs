{
 "cells": [
  {
   "cell_type": "markdown",
   "id": "8abc6817-d9c8-46a5-b4fa-1e57f3ef59e3",
   "metadata": {},
   "source": [
    "## Baby attempt at algorithm for determining transects\n",
    "\n",
    "### some notes\n",
    "`isel` with `xr` coordinate (index).\\\n",
    "Returns datavariable in `n` coordinate (ID).\n",
    "\n",
    "## Part 1: Create mask\n",
    "### Objective\n",
    "We will use the mask to select all of the cells that appear in the original mask. We will\n",
    "\n",
    "<ol>\n",
    "    <li>Select all of the cells that appear in the original mask.</li>\n",
    "    <li>Of those cells, select their corresponding vertices and edges to include inside the mask (this prevents cells from being halved if the original mask were to be applied).</li>\n",
    "    <li>Select these cells, edges, and vertices in the base_mask to create a new mask.</li>\n",
    "    <li>Apply this mask to the dso datavariable to plot the datavariable in the new masked area.</li>\n",
    "</ol>"
   ]
  },
  {
   "cell_type": "code",
   "execution_count": 1,
   "id": "166564fd-0d8d-4d8f-958d-88054404b814",
   "metadata": {},
   "outputs": [],
   "source": [
    "#Packages \n",
    "import numpy as np\n",
    "import xarray as xr\n",
    "import cmocean.cm as cmo\n",
    "import matplotlib.pyplot as plt\n",
    "import mpas_tools\n",
    "from mpas_tools.planar_hex import make_planar_hex_mesh\n",
    "from mpas_tools.mesh.conversion import convert, cull, mask\n",
    "from mpas_tools.io import write_netcdf\n",
    "from geometric_features import GeometricFeatures\n",
    "from geometric_features import read_feature_collection\n",
    "\n",
    "from geometric_features import read_feature_collection\n",
    "from mpas_tools.mesh.mask import compute_mpas_region_masks\n",
    "from mpas_tools.parallel import create_pool\n",
    "from mpas_tools.io import write_netcdf\n",
    "\n",
    "import json\n",
    "import mosaic\n",
    "import mpasregions.sections as mps"
   ]
  },
  {
   "cell_type": "markdown",
   "id": "776e713d-d1dd-42da-9b97-9d64af52a00d",
   "metadata": {},
   "source": [
    "### Set up datasets\n",
    "**To create a base mask (a global \"mask\" filled with 1s):**\n",
    "```ruby\n",
    "# create a global base mask of ones everywhere. \n",
    "# We will then apply the mask where we specifically choose nCells, nVertices, and nEdges that are contained in the original mask to this basemask \n",
    "# This creates a new mask with all parts of the cell included. \n",
    "\n",
    "\n",
    "# create a base mask\n",
    "mask['regionCellMasks'] = mask.regionCellMasks * 0 + 1\n",
    "mask['regionVertexMasks'] = mask.regionVertexMasks * 0 + 1\n",
    "mask['regionEdgeMasks'] = mask.regionEdgeMasks * 0 + 1\n",
    "mask['regionNames'] = 'whole cell LS'\n",
    "mask.attrs['How to use'] = 'open separate dataset with nCell, nVertices, nEdges xr index arrays. base_mask.regionCellMasks.where(base_mask.nCells.isin(cells_inside),other = 0)'\n",
    "mask.to_netcdf('/global/homes/k/kuyeda/WMT_NBs/mpas-o_EC30to60_global_base_mask.nc',format='netCDF4',mode='w')\n",
    "mask\n",
    "```\n",
    "\n",
    "**To convert the original mask .geojson file to a .nc file:**\n",
    "```ruby\n",
    "# convert geojson to .nc mask file\n",
    "\n",
    "wmtnb_filepath = '/global/u2/k/kuyeda/WMT_NBs/'\n",
    "fcMask = read_feature_collection(wmtnb_filepath + 'LS_test.geojson')\n",
    "# pool = create_pool(process_count=8)\n",
    "dsMasks = compute_mpas_region_masks(\n",
    "    dsMesh, fcMask, maskTypes=('cell', 'vertex', 'edge'), pool=pool\n",
    ")\n",
    "# dsMasks.to_netcdf(wmtnb_filepath + 'LS_CEV_masks.nc', format='NETCDF4', mode='w')\n",
    "```"
   ]
  },
  {
   "cell_type": "markdown",
   "id": "53e407bb-0e0b-4457-81b0-5bb5a9eb67b0",
   "metadata": {},
   "source": [
    "### Open necessary datasets\n",
    "```mesh``` $\\rightarrow$ contains information about the mesh and cells \\\n",
    "```dso``` $\\rightarrow$ diagnostics from the simulations (datavariables we actually want to plot) \\\n",
    "```mask``` $\\rightarrow$ a mask of 0s and 1s created from a geojson file (created using geojson.io) that was then converted into a netcdf file using ```compute_mpas_region_masks``` \\\n",
    "```base_mask``` $\\rightarrow$ a mask of 1s for the entire globe.\n"
   ]
  },
  {
   "cell_type": "code",
   "execution_count": 2,
   "id": "20690b80-9d00-46c9-9ec1-f061b3b72429",
   "metadata": {},
   "outputs": [
    {
     "name": "stderr",
     "output_type": "stream",
     "text": [
      "/tmp/ipykernel_1225655/3657922681.py:10: FutureWarning: In a future version, xarray will not decode timedelta values based on the presence of a timedelta-like units attribute by default. Instead it will rely on the presence of a timedelta64 dtype attribute, which is now xarray's default way of encoding timedelta64 values. To continue decoding timedeltas based on the presence of a timedelta-like units attribute, users will need to explicitly opt-in by passing True or CFTimedeltaCoder(decode_via_units=True) to decode_timedelta. To silence this warning, set decode_timedelta to True, False, or a 'CFTimedeltaCoder' instance.\n",
      "  dso = xr.open_dataset(bmm_filepath + '20210421_sim7_CORE_60to30E2r2.mpaso.hist.am.timeSeriesStatsMonthly.0063-12-01.nc')\n"
     ]
    }
   ],
   "source": [
    "# global mesh\n",
    "mesh_path = '/global/cfs/projectdirs/e3sm/inputdata/ocn/mpas-o/EC30to60E2r2/ocean.EC30to60E2r2.210210.nc'\n",
    "mesh = xr.open_dataset(mesh_path)\n",
    "mesh = mesh.assign_coords({\n",
    "\"VertexID\": xr.DataArray(mesh.indexToVertexID, dims=('nVertices',)),\n",
    "})\n",
    "\n",
    "# global data\n",
    "bmm_filepath = '/pscratch/sd/b/bmoorema/run_001_062/'\n",
    "dso = xr.open_dataset(bmm_filepath + '20210421_sim7_CORE_60to30E2r2.mpaso.hist.am.timeSeriesStatsMonthly.0063-12-01.nc')\n",
    "\n",
    "# open original (from geojson file) mask to use to make dataset smaller\n",
    "wmtnb_filepath = './'\n",
    "mask = xr.open_dataset(wmtnb_filepath + 'LS_CEV_masks.nc')\n",
    "\n",
    "# open base mask that we will fill with 0s according to the original mask (this new mask will contain cells PLUS their corresponding edges and vertices)\n",
    "base_mask = xr.open_dataset('./mpas-o_EC30to60_global_base_mask.nc')"
   ]
  },
  {
   "cell_type": "markdown",
   "id": "62443c2b-364e-4538-9844-7432719ee7ae",
   "metadata": {},
   "source": [
    "### functions to convert between index (xr) and ID (n) "
   ]
  },
  {
   "cell_type": "code",
   "execution_count": 3,
   "id": "b70139f1-03f6-4f6e-83a9-5ae00baa867e",
   "metadata": {},
   "outputs": [],
   "source": [
    "def n_to_xr_idx(n):\n",
    "    return n-1\n",
    "\n",
    "def xr_to_n_idx(xr):\n",
    "    return xr+1"
   ]
  },
  {
   "cell_type": "markdown",
   "id": "7665ed8f-2fe0-4f3f-b47b-9d75f681a8bb",
   "metadata": {},
   "source": [
    "This code below can be rewritten to use `mesh.indexToEdgeID` or something related to it, but the I/O was messed up the day that I was doing this, so we're using the `n_to_xr_idx` and the `xr_to_n_idx` functions.\n",
    "Also, just subtracting one feels easier and there is a straightforward conversion from ID (n) to index (xr) values. But the equivalent functions are below\n",
    "```ruby\n",
    "def xr_to_n_idx(xr):\n",
    "    return xr+1\n",
    "```\n",
    "\n",
    "The equivalent conversion from  the index (xr) to ID (n) is\n",
    "```ruby\n",
    "cell_part = 'Cell' # 'Edge', 'Vertex'\n",
    "ds = mesh\n",
    "def idx_to_id(idx,cell_part,ds):\n",
    "    id = ds[f'indexTo{cell_part}ID'].isel(nCells=idx).values\n",
    "    return id\n",
    "```"
   ]
  },
  {
   "cell_type": "markdown",
   "id": "19fc0535-41ce-4026-8cc8-e5b5d513d8e5",
   "metadata": {},
   "source": [
    "### function to get cells, edges, and vertices inside a mask"
   ]
  },
  {
   "cell_type": "code",
   "execution_count": 4,
   "id": "d7171751-2d05-4d1a-88bc-b676a120775f",
   "metadata": {},
   "outputs": [],
   "source": [
    "# def xr_inside_mask_info(mesh,mask):\n",
    "#     # STEP 1: Select all of the cells inside teh mask\n",
    "#     # create mask of cells so that whole cells are included in the mask\n",
    "#     cellmask = mask.regionCellMasks.isel(nRegions=0).astype(bool)\n",
    "    \n",
    "#     # --------- GET CELLS IN XR COORDINATES --------------\n",
    "#     # apply the mask to the mesh \n",
    "#     # this returns cells in the xr coordinate\n",
    "#     xr_cells_inside = np.int32(mesh.nCells.where(cellmask,drop=True))\n",
    "    \n",
    "#     # --------- GET VERTICES IN XR COORDINATES --------------\n",
    "    \n",
    "#     # we also need all the vertices associated with the cells_inside masked mesh\n",
    "#     # this returns vertices in the n coordinate\n",
    "#     n_vertices_inside = mesh.verticesOnCell.isel(nCells=xr_cells_inside)\n",
    "    \n",
    "#     # we want the vertices in the xr coordinate\n",
    "#     xr_vertices_inside_raw = n_to_xr_idx(n_vertices_inside)\n",
    "    \n",
    "#     # remove repeat vertex values, remove -1 values (these were originally 0s and represented \"blank\" array spaces where there were fewer than 7 vertices\n",
    "#     xr_vertices_inside = np.delete(np.unique(xr_vertices_inside_raw), np.unique(xr_vertices_inside_raw)==-1)\n",
    "    \n",
    "#     # --------- GET EDGES IN XR COORDINATES --------------\n",
    "    \n",
    "#     # we also need all the edges associated with the cells_inside masked mesh\n",
    "#     # this returns edges in the n coordinate\n",
    "#     n_edges_inside = mesh.edgesOnCell.isel(nCells=xr_cells_inside)\n",
    "    \n",
    "#     # we want  the edges in the xr coordinate\n",
    "#     xr_edges_inside_raw = n_to_xr_idx(n_edges_inside)\n",
    "    \n",
    "#     # remove repeat edge values, remove -1 values (these were originally 0s and represented \"blank\" array spaces where there were fewer than 7 edges\n",
    "#     xr_edges_inside = np.delete(np.unique(xr_edges_inside_raw), np.unique(xr_edges_inside_raw)==-1)\n",
    "\n",
    "#     return xr_cells_inside, xr_vertices_inside, xr_edges_inside"
   ]
  },
  {
   "cell_type": "markdown",
   "id": "0a23c7da-7998-4fec-a923-59d6bd15c898",
   "metadata": {},
   "source": [
    "### Step 1 & 2. Select all of the cells that appear inside the original mask and their corresponding vertices and edges. "
   ]
  },
  {
   "cell_type": "code",
   "execution_count": 5,
   "id": "b878d080-a300-408c-8860-9d0e61bb3275",
   "metadata": {},
   "outputs": [],
   "source": [
    "xr_cells_inside, xr_vertices_inside, xr_edges_inside = mps.xr_inside_mask_info(mesh,mask)"
   ]
  },
  {
   "cell_type": "markdown",
   "id": "78b81b9a-1014-4bc5-8879-c6c982188257",
   "metadata": {},
   "source": [
    "### Step 3. Create a new mask that contains all of the cells inside with their corresponding vertices and edges. "
   ]
  },
  {
   "cell_type": "code",
   "execution_count": 6,
   "id": "ef57086f-ab3b-417b-9ef9-055c0023a102",
   "metadata": {},
   "outputs": [],
   "source": [
    "base_mask['regionCellMasks'] = base_mask.regionCellMasks.where(base_mask.nCells.isin(xr_cells_inside), other = 0)\n",
    "base_mask['regionVertexMasks'] = base_mask.regionVertexMasks.where(base_mask.nVertices.isin(xr_vertices_inside), other = 0)\n",
    "base_mask['regionEdgeMasks'] = base_mask.regionEdgeMasks.where(base_mask.nEdges.isin(xr_edges_inside), other = 0)\n",
    "LS_mask_whole_cells = base_mask"
   ]
  },
  {
   "cell_type": "code",
   "execution_count": 7,
   "id": "6b82575a-73f6-4175-85d8-ef2dfde4b3c4",
   "metadata": {},
   "outputs": [],
   "source": [
    "# convert the 1s and 0s new mask to boolean T/F\n",
    "cellmask = LS_mask_whole_cells.regionCellMasks.isel(nRegions=0).astype(bool)\n",
    "edgemask = LS_mask_whole_cells.regionEdgeMasks.isel(nRegions=0).astype(bool)\n",
    "vertexmask = LS_mask_whole_cells.regionVertexMasks.isel(nRegions=0).astype(bool)"
   ]
  },
  {
   "cell_type": "markdown",
   "id": "cf384601-334c-4ac6-8466-1bfb8946e401",
   "metadata": {},
   "source": [
    "### Step 4. Apply this mask to the dso variable to plot the datavariable in the new masked area. "
   ]
  },
  {
   "cell_type": "code",
   "execution_count": 8,
   "id": "7ed27e46-ccc5-47bd-855b-f71e9d23a94d",
   "metadata": {},
   "outputs": [
    {
     "data": {
      "text/plain": [
       "(51.5, 68.0)"
      ]
     },
     "execution_count": 8,
     "metadata": {},
     "output_type": "execute_result"
    },
    {
     "data": {
      "image/png": "[encoded data removed]",
      "text/plain": [
       "<Figure size 640x480 with 2 Axes>"
      ]
     },
     "metadata": {},
     "output_type": "display_data"
    }
   ],
   "source": [
    "\n",
    "# scratch plot to check stuff\n",
    "# set up mesh to apply polypcolor\n",
    "mesh.attrs['is_periodic'] = 'YES'\n",
    "mesh.attrs['x_period'] = 360\n",
    "mesh.attrs['y_period'] = 0.0\n",
    "\n",
    "descriptor = mosaic.Descriptor(mesh,use_latlon=False)\n",
    "\n",
    "\n",
    "# ds_t0 = dso['timeMonthly_avg_activeTracers_temperature'].isel(nVertLevels=30,Time=0)\n",
    "\n",
    "ds_t0 = dso['timeMonthly_avg_latentHeatFlux'].isel(Time=0)\n",
    "\n",
    "# remove the nans\n",
    "if ds_t0.min() < -9**33:\n",
    "    ds_nonans = ds_t0.where(ds_t0 > -9**33)\n",
    "    print('fake nans detected')\n",
    "else:\n",
    "    ds_nonans = ds_t0\n",
    "\n",
    "# apply the mask\n",
    "ds_masked = ds_nonans.where(cellmask,drop=False)\n",
    "\n",
    "# plot\n",
    "fig,ax = plt.subplots(nrows=1,ncols=1,constrained_layout=True)\n",
    "c = mosaic.polypcolor(ax,descriptor,\n",
    "                  ds_masked,cmap='viridis',\n",
    "                  antialiaseds=False)\n",
    "fig.colorbar(c, extend='both')\n",
    "ax.set_xlim(290, 318)\n",
    "ax.set_ylim(51.5, 68)"
   ]
  },
  {
   "cell_type": "markdown",
   "id": "e5d7f6c3-bbcb-472e-9c8b-44b26bef6dba",
   "metadata": {},
   "source": [
    "<div class=\"alert alert-block alert-info\">\n",
    "<b>All above this is correct:</b> Stop.\n",
    "</div>"
   ]
  },
  {
   "cell_type": "markdown",
   "id": "2e858425-5a3b-4b3e-83a8-ab484e073f82",
   "metadata": {},
   "source": [
    "## Part 2: Algorithm to create transects"
   ]
  },
  {
   "cell_type": "markdown",
   "id": "f80c32a9-c6b6-430c-b403-2096112d744b",
   "metadata": {},
   "source": [
    "## Identify transect based on desired transect location"
   ]
  },
  {
   "cell_type": "markdown",
   "id": "53b25142-e44f-48fa-868d-1c8f06a522e7",
   "metadata": {},
   "source": [
    "### function to select dso data inside mask"
   ]
  },
  {
   "cell_type": "code",
   "execution_count": 9,
   "id": "f87a030b-622e-4de5-a949-a7d0252c58c9",
   "metadata": {},
   "outputs": [],
   "source": [
    "def format_ds(xr_cells_inside_ints, ds, datavariable):\n",
    "    # select just the cells in the masked area\n",
    "    ds_masked = ds[datavariable].isel(nCells=xr_cells_inside_ints)\n",
    "\n",
    "    # remove the nans\n",
    "    if ds_masked.min() > 10**33:\n",
    "        print('fake nans detected')\n",
    "        ds_nonans = ds_masked.where(ds != ds_masked.min())\n",
    "    else:\n",
    "        ds_nonans = ds_masked\n",
    "\n",
    "    # select a specific time\n",
    "    ds_formatted = ds_nonans.to_dataset(name=datavariable)\n",
    "    \n",
    "    return ds_formatted"
   ]
  },
  {
   "cell_type": "markdown",
   "id": "38d5410b-664f-4d83-8eb2-17b8d3b8e5c3",
   "metadata": {},
   "source": [
    "### function to calculate distance between 2 points on a sphere (directly copied from henri's `sectionate/section.py` script"
   ]
  },
  {
   "cell_type": "code",
   "execution_count": 10,
   "id": "d5956061-4aec-47ee-aa07-ea196f6c80f8",
   "metadata": {},
   "outputs": [],
   "source": [
    "def distance_on_unit_sphere(lon1, lat1, lon2, lat2, R=6.371e6, method=\"vincenty\"):\n",
    "    \"\"\"\n",
    "    Calculate geodesic arc distance between points (lon1, lat1) and (lon2, lat2).\n",
    "\n",
    "    PARAMETERS:\n",
    "    -----------\n",
    "        lon1 : float\n",
    "            Start longitude(s), in degrees\n",
    "        lat1 : float\n",
    "            Start latitude(s), in degrees\n",
    "        lon2 : float\n",
    "            End longitude(s), in degrees\n",
    "        lat2 : float\n",
    "            End latitude(s), in degrees\n",
    "        R : float\n",
    "            Radius of sphere. Default: 6.371e6 (realistic Earth value). Set to 1 for\n",
    "            arc distance in radius.\n",
    "        method : str\n",
    "            Name of method. Supported methods: [\"vincenty\", \"haversine\", \"law of cosines\"].\n",
    "            Default: \"vincenty\", which is the most robust. Note, however, that it still can result in\n",
    "            vanishingly small (but crucially non-zero) errors; such as that the distance between (0., 0.)\n",
    "            and (360., 0.) is 1.e-16 meters when it should be identically zero.\n",
    "\n",
    "    RETURNS:\n",
    "    --------\n",
    "\n",
    "    dist : float\n",
    "        Geodesic distance between points (lon1, lat1) and (lon2, lat2).\n",
    "    \"\"\"\n",
    "    \n",
    "    phi1 = np.deg2rad(lat1)\n",
    "    phi2 = np.deg2rad(lat2)\n",
    "    dphi = np.abs(phi2-phi1)\n",
    "    \n",
    "    lam1 = np.deg2rad(lon1)\n",
    "    lam2 = np.deg2rad(lon2)\n",
    "    dlam = np.abs(lam2-lam1)\n",
    "    \n",
    "    if method==\"vincenty\":\n",
    "        numerator = np.sqrt(\n",
    "            (np.cos(phi2)*np.sin(dlam))**2 +\n",
    "            (np.cos(phi1)*np.sin(phi2) - np.sin(phi1)*np.cos(phi2)*np.cos(dlam))**2\n",
    "        )\n",
    "        denominator = np.sin(phi1)*np.sin(phi2) + np.cos(phi1)*np.cos(phi2)*np.cos(dlam)\n",
    "        arc = np.arctan2(numerator, denominator)\n",
    "        \n",
    "    elif method==\"haversine\":\n",
    "        arc = 2*np.arcsin(np.sqrt(\n",
    "            np.sin(dphi/2.)**2 + (1. - np.sin(dphi/2.)**2 - np.sin((phi1+phi2)/2.)**2)*np.sin(dlam/2.)**2\n",
    "        ))\n",
    "    \n",
    "        \n",
    "    elif method==\"law of cosines\":\n",
    "        arc = np.arccos(\n",
    "            np.sin(phi1)*np.sin(phi2) + np.cos(phi1)*np.cos(phi2)*np.cos(dlam)\n",
    "        )\n",
    "\n",
    "    return R * arc\n"
   ]
  },
  {
   "cell_type": "markdown",
   "id": "a29da991-acc8-4d0e-8abb-71b8a4823ad8",
   "metadata": {},
   "source": [
    "### function that uses an algorithm to create transects given a start and end point. "
   ]
  },
  {
   "cell_type": "code",
   "execution_count": 11,
   "id": "fb3a10ad-27b6-44d9-b1cc-55c049a859f3",
   "metadata": {},
   "outputs": [],
   "source": [
    "# function to calculate transect given a target start point, target end point, and mesh\n",
    "def calculate_transects(target_start_lat, target_start_lon, target_end_lat, target_end_lon, mesh, mask):\n",
    "    \"\"\"\n",
    "    Calculate transects given a defined target start and end point.\n",
    "\n",
    "    PARAMETERS:\n",
    "    -----------\n",
    "        target_start_lat : float\n",
    "            Target start latitude, in degrees\n",
    "        target_start_lon : float\n",
    "            Target start longitude, in degrees\n",
    "        target_end_lat : float\n",
    "            Target end latitude, in degrees\n",
    "        mesh: xarray.core.dataset.Dataset\n",
    "            Mesh dataset containing lat/lon Cell/Edge/Vertex\n",
    "        mask: xarray.core.dataset.Dataset\n",
    "            Mask of 0s and 1s to define the desired study region (can be created using __ function)\n",
    "            \n",
    "    RETURNS:\n",
    "    -----------\n",
    "        next_vertices: np.ndarray\n",
    "            xr indices of nVertices that define the transect\n",
    "        xr_transect_edges: np.ndarray\n",
    "            xr indices of edges that define the transect\n",
    "        \n",
    "    \"\"\"\n",
    "    # ---------- INITIATE START VERTEX ----------------\n",
    "    # of these transect cells, select the one that is closest to the desired starting point.\n",
    "    # desired values in deg\n",
    "    # distance_on_unit_sphere(lon1, lat1, lon2, lat 2)\n",
    "    # find the shortest path between the two points\n",
    "    # of all of the points, find the vertex that is closest to the desired start point\n",
    "    distance = distance_on_unit_sphere(mesh.lonVertex * 180/np.pi, mesh.latVertex * 180/np.pi, target_start_lon, target_start_lat)\n",
    "    xr_start_vertex = distance.argmin()\n",
    "    n_start_vertex = xr_to_n_idx(xr_start_vertex)\n",
    "\n",
    "    # repeat to find the vertex that is closest to the desired end point\n",
    "    dist_to_end = distance_on_unit_sphere(mesh.lonVertex * 180/np.pi, mesh.latVertex * 180/np.pi, target_end_lon, target_end_lat)\n",
    "    xr_end_vertex = dist_to_end.argmin()\n",
    "    end_lon = mesh.isel(nVertices = xr_end_vertex).lonVertex * 180/np.pi\n",
    "    end_lat = mesh.isel(nVertices = xr_end_vertex).latVertex * 180/np.pi\n",
    "\n",
    "    print('start vertex is ','(lon,lat)= (', np.float32(mesh.lonVertex.isel(nVertices=xr_start_vertex).values * 180/np.pi), \n",
    "                                             ', ' , np.float32(mesh.latVertex.isel(nVertices=xr_start_vertex).values * 180/np.pi), ')')\n",
    "    print('start vertex xr_index is ', xr_start_vertex.values)\n",
    "\n",
    "    # ---------- FIND NEXT VERTEX ----------------\n",
    "    start_vertices = np.array([])\n",
    "    next_vertices = np.array([])\n",
    "    \n",
    "    count = 0\n",
    "\n",
    "    while distance.min() > 5000:\n",
    "        # get the edges attached to the start vertex\n",
    "        n_edgesOnStartVertex = mesh.edgesOnVertex.isel(nVertices = xr_start_vertex)\n",
    "        xr_edgesOnStartVertex = n_to_xr_idx(n_edgesOnStartVertex)\n",
    "        \n",
    "        # check that the edges you selected are connected to the start vertex (returns in n indices)\n",
    "        # mesh.verticesOnEdge.isel(nEdges = xr_edgesOnStartVertex[0])\n",
    "        \n",
    "        # for each of these edges, find the vertices they are connected to and then remove the start_vertex (we don't want to \"travel back\" to that vertex)\n",
    "        n_vertices_nextToStartVertex = np.unique(mesh.verticesOnEdge.isel(nEdges = np.int32(xr_edgesOnStartVertex)))\n",
    "        xr_vertices_nextToStartVertex = n_to_xr_idx(n_vertices_nextToStartVertex)\n",
    "        # print(xr_vertices_nextToStartVertex)\n",
    "    \n",
    "        used_vertices = np.union1d(start_vertices, xr_start_vertex)\n",
    "        \n",
    "        xr_vertices_nextToStartVertex_Use = np.delete(xr_vertices_nextToStartVertex, np.where(np.isin(xr_vertices_nextToStartVertex, used_vertices)))\n",
    "        # print(xr_vertices_nextToStartVertex_Use)\n",
    "        # calculate the distance from these new vertices to the desired end point\n",
    "            # retrieve the lat and lon of the vertex\n",
    "        ds_vertices_nextLatLon = mesh[['lonVertex','latVertex']].where(mesh.nVertices.isin(xr_vertices_nextToStartVertex_Use))\n",
    "        ds_vertices_nextLatLon['lonVertex'] = ds_vertices_nextLatLon.lonVertex * 180 / np.pi\n",
    "        ds_vertices_nextLatLon['latVertex'] = ds_vertices_nextLatLon.latVertex * 180 / np.pi\n",
    "        \n",
    "            # calculate the distance between the next vertices and the end\n",
    "        distance = distance_on_unit_sphere(ds_vertices_nextLatLon.lonVertex, ds_vertices_nextLatLon.latVertex, end_lon, end_lat)\n",
    "        \n",
    "            # select the nVertex that is the shortest distance from the end point\n",
    "        xr_chosen_nextVertex = distance.argmin()\n",
    "        \n",
    "        # ---------- UPDATE ARRAYS ----------------\n",
    "        # store vertices\n",
    "        start_vertices = np.append(start_vertices, xr_start_vertex)\n",
    "        next_vertices = np.append(next_vertices, xr_chosen_nextVertex)\n",
    "    \n",
    "        xr_start_vertex = xr_chosen_nextVertex \n",
    "    \n",
    "        # if count%100==0:\n",
    "        #     print('(lon,lat)= (', mesh.lonVertex.isel(nVertices=xr_chosen_nextVertex).values * 180/np.pi, mesh.latVertex.isel(nVertices=xr_chosen_nextVertex).values * 180/np.pi, ')')\n",
    "        #     print('xr vertex = ', xr_start_vertex.values)\n",
    "        count +=1\n",
    "        if distance.min() < 10000: # 1 grid cell ~ 100km. distance is measured in meters (see R units) \n",
    "            break\n",
    "\n",
    "# ---------- FIND EDGES OF TRANSECT ---------------- \n",
    "    # We want to identify the edges that connect the vertices. The vertices are already ordered consecutively (because the transects are built from an algorithm)\n",
    "    # We will take advantage of this fact using a for loop to extract the edges that are shared between vertices next to each other\n",
    "    \n",
    "    # modify next_vertices to also include the start vertex\n",
    "    next_vertices = np.insert(next_vertices, 0, n_to_xr_idx(n_start_vertex))\n",
    "\n",
    "    \n",
    "    # next vertices are in xr indices\n",
    "    int_next_vertices = np.int32(next_vertices)\n",
    "    n_transect_edges = np.array([])\n",
    "    \n",
    "    for i in range(0,len(int_next_vertices)-1):\n",
    "        edgesOnVertex0 = mesh.edgesOnVertex.isel(nVertices = int_next_vertices[i]).values\n",
    "        edgesOnVertex1 = mesh.edgesOnVertex.isel(nVertices = int_next_vertices[i+1]).values\n",
    "        shared_edge = np.intersect1d(edgesOnVertex0, edgesOnVertex1)\n",
    "        n_transect_edges = np.append(n_transect_edges, shared_edge)\n",
    "    \n",
    "    xr_transect_edges = n_to_xr_idx(n_transect_edges)\n",
    "\n",
    "    # we also want to identify the cells that border the edges and vertices...\n",
    "    # this is harder because we need to define to which side of the cells we would like to define the mask.\n",
    "\n",
    "    return next_vertices, xr_transect_edges\n",
    "        "
   ]
  },
  {
   "cell_type": "markdown",
   "id": "c946a26c-f8bd-45dd-82e6-0f157e278936",
   "metadata": {},
   "source": [
    "### function to calculate transects given multiple points"
   ]
  },
  {
   "cell_type": "code",
   "execution_count": 12,
   "id": "2cab1cc1-b018-4cfa-b586-9a6c61692004",
   "metadata": {},
   "outputs": [],
   "source": [
    "# calculate transects using multiple points\n",
    "\n",
    "# make_transect_nv, make_transect_e = calculate_transects(target_start_lat, target_start_lon, target_end_lat, target_end_lon, mesh, mask)\n",
    "def calculate_transects_multiple_pts(segment_lons,segment_lats,mesh,mask):\n",
    "    all_xr_transect_vertices = np.array([])\n",
    "    all_xr_transect_edges = np.array([])\n",
    "    for i in range(0,len(segment_lons)-1):\n",
    "        \n",
    "        # set start and end target points based on segment lons and lats\n",
    "        target_start_lat = segment_lats[i]\n",
    "        target_start_lon = segment_lons[i]\n",
    "\n",
    "        target_end_lat = segment_lats[i+1]\n",
    "        target_end_lon = segment_lons[i+1]\n",
    "        \n",
    "        xr_next_vertices, xr_transect_edges_segment = calculate_transects(target_start_lat, target_start_lon, target_end_lat, target_end_lon, mesh, mask)\n",
    "\n",
    "        # update all_xr_transect_ arrays\n",
    "        all_xr_transect_vertices = np.concatenate((all_xr_transect_vertices, xr_next_vertices))\n",
    "        all_xr_transect_edges = np.concatenate((all_xr_transect_edges, xr_transect_edges_segment))\n",
    "\n",
    "    return all_xr_transect_vertices, all_xr_transect_edges\n",
    "        "
   ]
  },
  {
   "cell_type": "markdown",
   "id": "02a0abd6-2cdf-442d-af0c-d9cacd67b649",
   "metadata": {},
   "source": [
    "### calculate transects from algorithm "
   ]
  },
  {
   "cell_type": "code",
   "execution_count": 13,
   "id": "dfba55fa-f8cd-4499-b097-68790f98fd29",
   "metadata": {},
   "outputs": [],
   "source": [
    "# # # # LS\n",
    "# target_start_lat, target_start_lon = 54, 302\n",
    "# target_end_lat, target_end_lon = 60, 315\n",
    "# next_vertices, xr_transect_edges = calculate_transects(target_start_lat, target_start_lon, target_end_lat, target_end_lon, mesh, mask)"
   ]
  },
  {
   "cell_type": "code",
   "execution_count": 14,
   "id": "824adea9-c75f-4245-9a46-30cef4f22993",
   "metadata": {},
   "outputs": [],
   "source": [
    "# base_mask = xr.open_dataset('./mpas-o_EC30to60_global_base_mask.nc')\n",
    "# # LS\n",
    "# base_mask['regionEdgeMasks'] = base_mask.regionEdgeMasks.where(base_mask.nEdges.isin(xr_transect_edges),other=0)\n",
    "\n",
    "# # GofM\n",
    "# # base_mask['regionVertexMasks'] = base_mask.regionVertexMasks.where(base_mask.nVertices.isin(next_vertices),other=1)\n",
    "\n",
    "# edgemask = base_mask.regionEdgeMasks.isel(nRegions=0).astype(bool)\n",
    "\n",
    "# # # set up mesh to apply polypcolor\n",
    "# mesh.attrs['is_periodic'] = 'YES'\n",
    "# mesh.attrs['x_period'] = 360\n",
    "# mesh.attrs['y_period'] = 0.0\n",
    "\n",
    "# descriptor = mosaic.Descriptor(mesh,use_latlon=False)\n",
    "\n",
    "# fig,ax = plt.subplots(nrows=1,ncols=1,constrained_layout=True)\n",
    "# c = mosaic.polypcolor(ax,descriptor,\n",
    "#                   edgemask.astype(int),cmap='viridis',\n",
    "#                   antialiaseds=False)\n",
    "# fig.colorbar(c, extend='both')\n",
    "\n",
    "# # LS\n",
    "# ax.set_xlim(300, 318)\n",
    "# ax.set_ylim(51.5, 68)\n",
    "\n",
    "# # # GofM\n",
    "# # ax.set_xlim(250, 318)\n",
    "# # ax.set_ylim(15, 35)"
   ]
  },
  {
   "cell_type": "code",
   "execution_count": 15,
   "id": "12df667e-3201-483f-83c3-c197c448c9fe",
   "metadata": {},
   "outputs": [
    {
     "name": "stdout",
     "output_type": "stream",
     "text": [
      "start vertex is  (lon,lat)= ( 302.24057 ,  54.05217 )\n",
      "start vertex xr_index is  264002\n",
      "start vertex is  (lon,lat)= ( 315.2718 ,  60.094044 )\n",
      "start vertex xr_index is  157224\n",
      "start vertex is  (lon,lat)= ( 307.87173 ,  65.39093 )\n",
      "start vertex xr_index is  310634\n",
      "start vertex is  (lon,lat)= ( 295.1961 ,  63.954773 )\n",
      "start vertex xr_index is  408499\n",
      "start vertex is  (lon,lat)= ( 297.02753 ,  58.27477 )\n",
      "start vertex xr_index is  59513\n"
     ]
    }
   ],
   "source": [
    "LS_lats= np.array([54, 60, 66, 64, 58])   \n",
    "LS_lons= np.array([302, 315, 310, 295, 296])\n",
    "\n",
    "LS_lats = np.append(LS_lats, LS_lats[0])\n",
    "LS_lons = np.append(LS_lons, LS_lons[0])\n",
    "\n",
    "test_verts, test_edges = calculate_transects_multiple_pts(LS_lons, LS_lats, mesh, mask)"
   ]
  },
  {
   "cell_type": "code",
   "execution_count": 16,
   "id": "b1e7f9a3-b494-43d6-b308-192f2264e2d5",
   "metadata": {},
   "outputs": [
    {
     "data": {
      "text/plain": [
       "(51.5, 68.0)"
      ]
     },
     "execution_count": 16,
     "metadata": {},
     "output_type": "execute_result"
    },
    {
     "data": {
      "image/png": "[encoded data removed]",
      "text/plain": [
       "<Figure size 640x480 with 2 Axes>"
      ]
     },
     "metadata": {},
     "output_type": "display_data"
    }
   ],
   "source": [
    "# assign index numbers to each of the chosen region masks to check sorted order \n",
    "base_mask = xr.open_dataset('./mpas-o_EC30to60_global_base_mask.nc')\n",
    "base_mask['regionEdgeMasks'] = base_mask.regionEdgeMasks.where(base_mask.nEdges.isin(test_edges),other=0)\n",
    "\n",
    "modified_test_edges = test_edges[test_edges != -1]\n",
    "for i in range(0,len(modified_test_edges)):\n",
    "    base_mask.regionEdgeMasks.isel(nRegions=0)[np.int32(modified_test_edges[i])]= i\n",
    "    \n",
    "# # set up mesh to apply polypcolor\n",
    "mesh.attrs['is_periodic'] = 'YES'\n",
    "mesh.attrs['x_period'] = 360\n",
    "mesh.attrs['y_period'] = 0.0\n",
    "\n",
    "descriptor = mosaic.Descriptor(mesh,use_latlon=False)\n",
    "\n",
    "fig,ax = plt.subplots(nrows=1,ncols=1,constrained_layout=True)\n",
    "c = mosaic.polypcolor(ax,descriptor,\n",
    "                  base_mask.regionEdgeMasks.isel(nRegions=0),cmap='viridis',\n",
    "                  antialiaseds=False)\n",
    "fig.colorbar(c, extend='both')\n",
    "\n",
    "# LS\n",
    "ax.set_xlim(290, 318)\n",
    "ax.set_ylim(51.5, 68)\n",
    "\n",
    "# # GofM\n",
    "# ax.set_xlim(250, 318)\n",
    "# ax.set_ylim(15, 35)"
   ]
  },
  {
   "cell_type": "code",
   "execution_count": 17,
   "id": "104427ae-ac7d-40d7-9ad2-e2d7acb5fa2e",
   "metadata": {},
   "outputs": [
    {
     "data": {
      "text/plain": [
       "(51.5, 68.0)"
      ]
     },
     "execution_count": 17,
     "metadata": {},
     "output_type": "execute_result"
    },
    {
     "data": {
      "image/png": "[encoded data removed]",
      "text/plain": [
       "<Figure size 640x480 with 2 Axes>"
      ]
     },
     "metadata": {},
     "output_type": "display_data"
    }
   ],
   "source": [
    "base_mask = xr.open_dataset('./mpas-o_EC30to60_global_base_mask.nc')\n",
    "# LS\n",
    "base_mask['regionVertexMasks'] = base_mask.regionVertexMasks.where(base_mask.nVertices.isin(test_verts),other=0)\n",
    "\n",
    "# GofM\n",
    "# base_mask['regionVertexMasks'] = base_mask.regionVertexMasks.where(base_mask.nVertices.isin(next_vertices),other=1)\n",
    "\n",
    "for i in range(0,len(test_verts)):\n",
    "    base_mask.regionVertexMasks.isel(nRegions=0)[np.int32(test_verts[i])]= i\n",
    "\n",
    "# # set up mesh to apply polypcolor\n",
    "mesh.attrs['is_periodic'] = 'YES'\n",
    "mesh.attrs['x_period'] = 360\n",
    "mesh.attrs['y_period'] = 0.0\n",
    "\n",
    "descriptor = mosaic.Descriptor(mesh,use_latlon=False)\n",
    "\n",
    "fig,ax = plt.subplots(nrows=1,ncols=1,constrained_layout=True)\n",
    "c = mosaic.polypcolor(ax,descriptor,\n",
    "                  base_mask.regionVertexMasks.isel(nRegions=0),cmap='viridis',\n",
    "                  antialiaseds=False)\n",
    "fig.colorbar(c, extend='both')\n",
    "\n",
    "# LS\n",
    "ax.set_xlim(290, 318)\n",
    "ax.set_ylim(51.5, 68)\n",
    "\n",
    "# # GofM\n",
    "# ax.set_xlim(250, 318)\n",
    "# ax.set_ylim(15, 35)"
   ]
  },
  {
   "cell_type": "code",
   "execution_count": 18,
   "id": "83fcb448-2b91-4f9b-bae1-9a5d8490656e",
   "metadata": {},
   "outputs": [],
   "source": [
    "# get the lats and lons of the test_verts \n",
    "test_verts_lats = mesh.latVertex.isel(nVertices = np.int32(test_verts)) * 180 / np.pi \n",
    "test_verts_lons = mesh.lonVertex.isel(nVertices = np.int32(test_verts)) * 180 / np.pi - 360"
   ]
  },
  {
   "cell_type": "code",
   "execution_count": 19,
   "id": "29e30a07-007b-48d1-a3cd-34550f6f17c8",
   "metadata": {},
   "outputs": [
    {
     "data": {
      "text/html": [
       "<div><svg style=\"position: absolute; width: 0; height: 0; overflow: hidden\">\n",
       "<defs>\n",
       "<symbol id=\"icon-database\" viewBox=\"0 0 32 32\">\n",
       "<path d=\"M16 0c-8.837 0-16 2.239-16 5v4c0 2.761 7.163 5 16 5s16-2.239 16-5v-4c0-2.761-7.163-5-16-5z\"></path>\n",
       "<path d=\"M16 17c-8.837 0-16-2.239-16-5v6c0 2.761 7.163 5 16 5s16-2.239 16-5v-6c0 2.761-7.163 5-16 5z\"></path>\n",
       "<path d=\"M16 26c-8.837 0-16-2.239-16-5v6c0 2.761 7.163 5 16 5s16-2.239 16-5v-6c0 2.761-7.163 5-16 5z\"></path>\n",
       "</symbol>\n",
       "<symbol id=\"icon-file-text2\" viewBox=\"0 0 32 32\">\n",
       "<path d=\"M28.681 7.159c-0.694-0.947-1.662-2.053-2.724-3.116s-2.169-2.030-3.116-2.724c-1.612-1.182-2.393-1.319-2.841-1.319h-15.5c-1.378 0-2.5 1.121-2.5 2.5v27c0 1.378 1.122 2.5 2.5 2.5h23c1.378 0 2.5-1.122 2.5-2.5v-19.5c0-0.448-0.137-1.23-1.319-2.841zM24.543 5.457c0.959 0.959 1.712 1.825 2.268 2.543h-4.811v-4.811c0.718 0.556 1.584 1.309 2.543 2.268zM28 29.5c0 0.271-0.229 0.5-0.5 0.5h-23c-0.271 0-0.5-0.229-0.5-0.5v-27c0-0.271 0.229-0.5 0.5-0.5 0 0 15.499-0 15.5 0v7c0 0.552 0.448 1 1 1h7v19.5z\"></path>\n",
       "<path d=\"M23 26h-14c-0.552 0-1-0.448-1-1s0.448-1 1-1h14c0.552 0 1 0.448 1 1s-0.448 1-1 1z\"></path>\n",
       "<path d=\"M23 22h-14c-0.552 0-1-0.448-1-1s0.448-1 1-1h14c0.552 0 1 0.448 1 1s-0.448 1-1 1z\"></path>\n",
       "<path d=\"M23 18h-14c-0.552 0-1-0.448-1-1s0.448-1 1-1h14c0.552 0 1 0.448 1 1s-0.448 1-1 1z\"></path>\n",
       "</symbol>\n",
       "</defs>\n",
       "</svg>\n",
       "<style>/* CSS stylesheet for displaying xarray objects in jupyterlab.\n",
       " *\n",
       " */\n",
       "\n",
       ":root {\n",
       "  --xr-font-color0: var(\n",
       "    --jp-content-font-color0,\n",
       "    var(--pst-color-text-base rgba(0, 0, 0, 1))\n",
       "  );\n",
       "  --xr-font-color2: var(\n",
       "    --jp-content-font-color2,\n",
       "    var(--pst-color-text-base, rgba(0, 0, 0, 0.54))\n",
       "  );\n",
       "  --xr-font-color3: var(\n",
       "    --jp-content-font-color3,\n",
       "    var(--pst-color-text-base, rgba(0, 0, 0, 0.38))\n",
       "  );\n",
       "  --xr-border-color: var(\n",
       "    --jp-border-color2,\n",
       "    hsl(from var(--pst-color-on-background, white) h s calc(l - 10))\n",
       "  );\n",
       "  --xr-disabled-color: var(\n",
       "    --jp-layout-color3,\n",
       "    hsl(from var(--pst-color-on-background, white) h s calc(l - 40))\n",
       "  );\n",
       "  --xr-background-color: var(\n",
       "    --jp-layout-color0,\n",
       "    var(--pst-color-on-background, white)\n",
       "  );\n",
       "  --xr-background-color-row-even: var(\n",
       "    --jp-layout-color1,\n",
       "    hsl(from var(--pst-color-on-background, white) h s calc(l - 5))\n",
       "  );\n",
       "  --xr-background-color-row-odd: var(\n",
       "    --jp-layout-color2,\n",
       "    hsl(from var(--pst-color-on-background, white) h s calc(l - 15))\n",
       "  );\n",
       "}\n",
       "\n",
       "html[theme=\"dark\"],\n",
       "html[data-theme=\"dark\"],\n",
       "body[data-theme=\"dark\"],\n",
       "body.vscode-dark {\n",
       "  --xr-font-color0: var(\n",
       "    --jp-content-font-color0,\n",
       "    var(--pst-color-text-base, rgba(255, 255, 255, 1))\n",
       "  );\n",
       "  --xr-font-color2: var(\n",
       "    --jp-content-font-color2,\n",
       "    var(--pst-color-text-base, rgba(255, 255, 255, 0.54))\n",
       "  );\n",
       "  --xr-font-color3: var(\n",
       "    --jp-content-font-color3,\n",
       "    var(--pst-color-text-base, rgba(255, 255, 255, 0.38))\n",
       "  );\n",
       "  --xr-border-color: var(\n",
       "    --jp-border-color2,\n",
       "    hsl(from var(--pst-color-on-background, #111111) h s calc(l + 10))\n",
       "  );\n",
       "  --xr-disabled-color: var(\n",
       "    --jp-layout-color3,\n",
       "    hsl(from var(--pst-color-on-background, #111111) h s calc(l + 40))\n",
       "  );\n",
       "  --xr-background-color: var(\n",
       "    --jp-layout-color0,\n",
       "    var(--pst-color-on-background, #111111)\n",
       "  );\n",
       "  --xr-background-color-row-even: var(\n",
       "    --jp-layout-color1,\n",
       "    hsl(from var(--pst-color-on-background, #111111) h s calc(l + 5))\n",
       "  );\n",
       "  --xr-background-color-row-odd: var(\n",
       "    --jp-layout-color2,\n",
       "    hsl(from var(--pst-color-on-background, #111111) h s calc(l + 15))\n",
       "  );\n",
       "}\n",
       "\n",
       ".xr-wrap {\n",
       "  display: block !important;\n",
       "  min-width: 300px;\n",
       "  max-width: 700px;\n",
       "}\n",
       "\n",
       ".xr-text-repr-fallback {\n",
       "  /* fallback to plain text repr when CSS is not injected (untrusted notebook) */\n",
       "  display: none;\n",
       "}\n",
       "\n",
       ".xr-header {\n",
       "  padding-top: 6px;\n",
       "  padding-bottom: 6px;\n",
       "  margin-bottom: 4px;\n",
       "  border-bottom: solid 1px var(--xr-border-color);\n",
       "}\n",
       "\n",
       ".xr-header > div,\n",
       ".xr-header > ul {\n",
       "  display: inline;\n",
       "  margin-top: 0;\n",
       "  margin-bottom: 0;\n",
       "}\n",
       "\n",
       ".xr-obj-type,\n",
       ".xr-array-name {\n",
       "  margin-left: 2px;\n",
       "  margin-right: 10px;\n",
       "}\n",
       "\n",
       ".xr-obj-type {\n",
       "  color: var(--xr-font-color2);\n",
       "}\n",
       "\n",
       ".xr-sections {\n",
       "  padding-left: 0 !important;\n",
       "  display: grid;\n",
       "  grid-template-columns: 150px auto auto 1fr 0 20px 0 20px;\n",
       "}\n",
       "\n",
       ".xr-section-item {\n",
       "  display: contents;\n",
       "}\n",
       "\n",
       ".xr-section-item input {\n",
       "  display: inline-block;\n",
       "  opacity: 0;\n",
       "  height: 0;\n",
       "}\n",
       "\n",
       ".xr-section-item input + label {\n",
       "  color: var(--xr-disabled-color);\n",
       "  border: 2px solid transparent !important;\n",
       "}\n",
       "\n",
       ".xr-section-item input:enabled + label {\n",
       "  cursor: pointer;\n",
       "  color: var(--xr-font-color2);\n",
       "}\n",
       "\n",
       ".xr-section-item input:focus + label {\n",
       "  border: 2px solid var(--xr-font-color0) !important;\n",
       "}\n",
       "\n",
       ".xr-section-item input:enabled + label:hover {\n",
       "  color: var(--xr-font-color0);\n",
       "}\n",
       "\n",
       ".xr-section-summary {\n",
       "  grid-column: 1;\n",
       "  color: var(--xr-font-color2);\n",
       "  font-weight: 500;\n",
       "}\n",
       "\n",
       ".xr-section-summary > span {\n",
       "  display: inline-block;\n",
       "  padding-left: 0.5em;\n",
       "}\n",
       "\n",
       ".xr-section-summary-in:disabled + label {\n",
       "  color: var(--xr-font-color2);\n",
       "}\n",
       "\n",
       ".xr-section-summary-in + label:before {\n",
       "  display: inline-block;\n",
       "  content: \"►\";\n",
       "  font-size: 11px;\n",
       "  width: 15px;\n",
       "  text-align: center;\n",
       "}\n",
       "\n",
       ".xr-section-summary-in:disabled + label:before {\n",
       "  color: var(--xr-disabled-color);\n",
       "}\n",
       "\n",
       ".xr-section-summary-in:checked + label:before {\n",
       "  content: \"▼\";\n",
       "}\n",
       "\n",
       ".xr-section-summary-in:checked + label > span {\n",
       "  display: none;\n",
       "}\n",
       "\n",
       ".xr-section-summary,\n",
       ".xr-section-inline-details {\n",
       "  padding-top: 4px;\n",
       "  padding-bottom: 4px;\n",
       "}\n",
       "\n",
       ".xr-section-inline-details {\n",
       "  grid-column: 2 / -1;\n",
       "}\n",
       "\n",
       ".xr-section-details {\n",
       "  display: none;\n",
       "  grid-column: 1 / -1;\n",
       "  margin-bottom: 5px;\n",
       "}\n",
       "\n",
       ".xr-section-summary-in:checked ~ .xr-section-details {\n",
       "  display: contents;\n",
       "}\n",
       "\n",
       ".xr-array-wrap {\n",
       "  grid-column: 1 / -1;\n",
       "  display: grid;\n",
       "  grid-template-columns: 20px auto;\n",
       "}\n",
       "\n",
       ".xr-array-wrap > label {\n",
       "  grid-column: 1;\n",
       "  vertical-align: top;\n",
       "}\n",
       "\n",
       ".xr-preview {\n",
       "  color: var(--xr-font-color3);\n",
       "}\n",
       "\n",
       ".xr-array-preview,\n",
       ".xr-array-data {\n",
       "  padding: 0 5px !important;\n",
       "  grid-column: 2;\n",
       "}\n",
       "\n",
       ".xr-array-data,\n",
       ".xr-array-in:checked ~ .xr-array-preview {\n",
       "  display: none;\n",
       "}\n",
       "\n",
       ".xr-array-in:checked ~ .xr-array-data,\n",
       ".xr-array-preview {\n",
       "  display: inline-block;\n",
       "}\n",
       "\n",
       ".xr-dim-list {\n",
       "  display: inline-block !important;\n",
       "  list-style: none;\n",
       "  padding: 0 !important;\n",
       "  margin: 0;\n",
       "}\n",
       "\n",
       ".xr-dim-list li {\n",
       "  display: inline-block;\n",
       "  padding: 0;\n",
       "  margin: 0;\n",
       "}\n",
       "\n",
       ".xr-dim-list:before {\n",
       "  content: \"(\";\n",
       "}\n",
       "\n",
       ".xr-dim-list:after {\n",
       "  content: \")\";\n",
       "}\n",
       "\n",
       ".xr-dim-list li:not(:last-child):after {\n",
       "  content: \",\";\n",
       "  padding-right: 5px;\n",
       "}\n",
       "\n",
       ".xr-has-index {\n",
       "  font-weight: bold;\n",
       "}\n",
       "\n",
       ".xr-var-list,\n",
       ".xr-var-item {\n",
       "  display: contents;\n",
       "}\n",
       "\n",
       ".xr-var-item > div,\n",
       ".xr-var-item label,\n",
       ".xr-var-item > .xr-var-name span {\n",
       "  background-color: var(--xr-background-color-row-even);\n",
       "  border-color: var(--xr-background-color-row-odd);\n",
       "  margin-bottom: 0;\n",
       "  padding-top: 2px;\n",
       "}\n",
       "\n",
       ".xr-var-item > .xr-var-name:hover span {\n",
       "  padding-right: 5px;\n",
       "}\n",
       "\n",
       ".xr-var-list > li:nth-child(odd) > div,\n",
       ".xr-var-list > li:nth-child(odd) > label,\n",
       ".xr-var-list > li:nth-child(odd) > .xr-var-name span {\n",
       "  background-color: var(--xr-background-color-row-odd);\n",
       "  border-color: var(--xr-background-color-row-even);\n",
       "}\n",
       "\n",
       ".xr-var-name {\n",
       "  grid-column: 1;\n",
       "}\n",
       "\n",
       ".xr-var-dims {\n",
       "  grid-column: 2;\n",
       "}\n",
       "\n",
       ".xr-var-dtype {\n",
       "  grid-column: 3;\n",
       "  text-align: right;\n",
       "  color: var(--xr-font-color2);\n",
       "}\n",
       "\n",
       ".xr-var-preview {\n",
       "  grid-column: 4;\n",
       "}\n",
       "\n",
       ".xr-index-preview {\n",
       "  grid-column: 2 / 5;\n",
       "  color: var(--xr-font-color2);\n",
       "}\n",
       "\n",
       ".xr-var-name,\n",
       ".xr-var-dims,\n",
       ".xr-var-dtype,\n",
       ".xr-preview,\n",
       ".xr-attrs dt {\n",
       "  white-space: nowrap;\n",
       "  overflow: hidden;\n",
       "  text-overflow: ellipsis;\n",
       "  padding-right: 10px;\n",
       "}\n",
       "\n",
       ".xr-var-name:hover,\n",
       ".xr-var-dims:hover,\n",
       ".xr-var-dtype:hover,\n",
       ".xr-attrs dt:hover {\n",
       "  overflow: visible;\n",
       "  width: auto;\n",
       "  z-index: 1;\n",
       "}\n",
       "\n",
       ".xr-var-attrs,\n",
       ".xr-var-data,\n",
       ".xr-index-data {\n",
       "  display: none;\n",
       "  border-top: 2px dotted var(--xr-background-color);\n",
       "  padding-bottom: 20px !important;\n",
       "  padding-top: 10px !important;\n",
       "}\n",
       "\n",
       ".xr-var-attrs-in + label,\n",
       ".xr-var-data-in + label,\n",
       ".xr-index-data-in + label {\n",
       "  padding: 0 1px;\n",
       "}\n",
       "\n",
       ".xr-var-attrs-in:checked ~ .xr-var-attrs,\n",
       ".xr-var-data-in:checked ~ .xr-var-data,\n",
       ".xr-index-data-in:checked ~ .xr-index-data {\n",
       "  display: block;\n",
       "}\n",
       "\n",
       ".xr-var-data > table {\n",
       "  float: right;\n",
       "}\n",
       "\n",
       ".xr-var-data > pre,\n",
       ".xr-index-data > pre,\n",
       ".xr-var-data > table > tbody > tr {\n",
       "  background-color: transparent !important;\n",
       "}\n",
       "\n",
       ".xr-var-name span,\n",
       ".xr-var-data,\n",
       ".xr-index-name div,\n",
       ".xr-index-data,\n",
       ".xr-attrs {\n",
       "  padding-left: 25px !important;\n",
       "}\n",
       "\n",
       ".xr-attrs,\n",
       ".xr-var-attrs,\n",
       ".xr-var-data,\n",
       ".xr-index-data {\n",
       "  grid-column: 1 / -1;\n",
       "}\n",
       "\n",
       "dl.xr-attrs {\n",
       "  padding: 0;\n",
       "  margin: 0;\n",
       "  display: grid;\n",
       "  grid-template-columns: 125px auto;\n",
       "}\n",
       "\n",
       ".xr-attrs dt,\n",
       ".xr-attrs dd {\n",
       "  padding: 0;\n",
       "  margin: 0;\n",
       "  float: left;\n",
       "  padding-right: 10px;\n",
       "  width: auto;\n",
       "}\n",
       "\n",
       ".xr-attrs dt {\n",
       "  font-weight: normal;\n",
       "  grid-column: 1;\n",
       "}\n",
       "\n",
       ".xr-attrs dt:hover span {\n",
       "  display: inline-block;\n",
       "  background: var(--xr-background-color);\n",
       "  padding-right: 10px;\n",
       "}\n",
       "\n",
       ".xr-attrs dd {\n",
       "  grid-column: 2;\n",
       "  white-space: pre-wrap;\n",
       "  word-break: break-all;\n",
       "}\n",
       "\n",
       ".xr-icon-database,\n",
       ".xr-icon-file-text2,\n",
       ".xr-no-icon {\n",
       "  display: inline-block;\n",
       "  vertical-align: middle;\n",
       "  width: 1em;\n",
       "  height: 1.5em !important;\n",
       "  stroke-width: 0;\n",
       "  stroke: currentColor;\n",
       "  fill: currentColor;\n",
       "}\n",
       "\n",
       ".xr-var-attrs-in:checked + label > .xr-icon-file-text2,\n",
       ".xr-var-data-in:checked + label > .xr-icon-database,\n",
       ".xr-index-data-in:checked + label > .xr-icon-database {\n",
       "  color: var(--xr-font-color0);\n",
       "  filter: drop-shadow(1px 1px 5px var(--xr-font-color2));\n",
       "  stroke-width: 0.8px;\n",
       "}\n",
       "</style><pre class='xr-text-repr-fallback'>&lt;xarray.DataArray &#x27;lonVertex&#x27; ()&gt; Size: 8B\n",
       "array(-64.80390802)</pre><div class='xr-wrap' style='display:none'><div class='xr-header'><div class='xr-obj-type'>xarray.DataArray</div><div class='xr-array-name'>'lonVertex'</div></div><ul class='xr-sections'><li class='xr-section-item'><div class='xr-array-wrap'><input id='section-c0c7994d-7f87-482b-ba72-53fa2070c55e' class='xr-array-in' type='checkbox' checked><label for='section-c0c7994d-7f87-482b-ba72-53fa2070c55e' title='Show/hide data repr'><svg class='icon xr-icon-database'><use xlink:href='#icon-database'></use></svg></label><div class='xr-array-preview xr-preview'><span>-64.8</span></div><div class='xr-array-data'><pre>array(-64.80390802)</pre></div></div></li><li class='xr-section-item'><input id='section-17120cb8-1944-49d8-bce6-0c795640175f' class='xr-section-summary-in' type='checkbox' disabled ><label for='section-17120cb8-1944-49d8-bce6-0c795640175f' class='xr-section-summary'  title='Expand/collapse section'>Coordinates: <span>(0)</span></label><div class='xr-section-inline-details'></div><div class='xr-section-details'><ul class='xr-var-list'></ul></div></li><li class='xr-section-item'><input id='section-c1325625-7118-4905-aee9-c209077a48bd' class='xr-section-summary-in' type='checkbox' disabled ><label for='section-c1325625-7118-4905-aee9-c209077a48bd' class='xr-section-summary'  title='Expand/collapse section'>Indexes: <span>(0)</span></label><div class='xr-section-inline-details'></div><div class='xr-section-details'><ul class='xr-var-list'></ul></div></li><li class='xr-section-item'><input id='section-c9e4dbec-201f-42b2-8767-5686f535c43a' class='xr-section-summary-in' type='checkbox' disabled ><label for='section-c9e4dbec-201f-42b2-8767-5686f535c43a' class='xr-section-summary'  title='Expand/collapse section'>Attributes: <span>(0)</span></label><div class='xr-section-inline-details'></div><div class='xr-section-details'><dl class='xr-attrs'></dl></div></li></ul></div></div>"
      ],
      "text/plain": [
       "<xarray.DataArray 'lonVertex' ()> Size: 8B\n",
       "array(-64.80390802)"
      ]
     },
     "execution_count": 19,
     "metadata": {},
     "output_type": "execute_result"
    }
   ],
   "source": [
    "test_verts_lons.min()"
   ]
  },
  {
   "cell_type": "code",
   "execution_count": 20,
   "id": "5d3cfff8-9890-4fb4-8268-76cc124ba6c3",
   "metadata": {},
   "outputs": [
    {
     "data": {
      "text/plain": [
       "(156, 2)"
      ]
     },
     "execution_count": 20,
     "metadata": {},
     "output_type": "execute_result"
    }
   ],
   "source": [
    "test_verts_lonslats = np.array([test_verts_lons,test_verts_lats]).T\n",
    "test_verts_lonslats.shape"
   ]
  },
  {
   "cell_type": "code",
   "execution_count": 21,
   "id": "5c1dc88d-3e91-45ef-ac5e-676ef44b26b2",
   "metadata": {},
   "outputs": [],
   "source": [
    "list_test_verts_lonslats = test_verts_lonslats.tolist()"
   ]
  },
  {
   "cell_type": "code",
   "execution_count": null,
   "id": "59773652-09f2-46fd-95e6-f8514eafdb6a",
   "metadata": {},
   "outputs": [],
   "source": []
  },
  {
   "cell_type": "code",
   "execution_count": 22,
   "id": "0cad784c-2c5a-4dcb-8baf-6498c85fed8c",
   "metadata": {},
   "outputs": [
    {
     "name": "stdout",
     "output_type": "stream",
     "text": [
      "file saved\n"
     ]
    }
   ],
   "source": [
    "import geojson\n",
    "\n",
    "# features = []\n",
    "# for i in range(0,len(test_verts)):\n",
    "#     coords = (test_verts_lons.values[i], test_verts_lats.values[i])\n",
    "#     features.append(geojson.Feature(geometry = geojson.Point(coords)))\n",
    "\n",
    "transect_from_alg = {\n",
    "    \"type\": \"FeatureCollection\",\n",
    "    \"features\": [{\n",
    "        \"type\": \"Feature\",\n",
    "        \"properties\":{\n",
    "            \"name\":\"Labrador Sea from transect algorithm\",\n",
    "            \"tags\":\"Labrador_Sea;Davis_Strait\",\n",
    "            \"object\":\"region\",\n",
    "            \"component\":\"ocean\",\n",
    "            \"author\":\"Kaila Uyeda\"\n",
    "        },\n",
    "        \"geometry\": {\n",
    "            \"coordinates\":[list_test_verts_lonslats],\n",
    "            \"type\": \"Polygon\"\n",
    "        }\n",
    "    }]\n",
    "}\n",
    "\n",
    "\n",
    "wmtnb_filepath = './'\n",
    "# save to a geojson file\n",
    "# with = open and then close\n",
    "# w = write mode\n",
    "\n",
    "with open(wmtnb_filepath+'LS_test_transect_from_alg.geojson','w') as f:\n",
    "    geojson.dump(transect_from_alg, f, indent=2)\n",
    "\n",
    "print('file saved')"
   ]
  },
  {
   "cell_type": "code",
   "execution_count": 23,
   "id": "b0d2bf75-95e1-4f17-bf9e-37e791f4cec7",
   "metadata": {},
   "outputs": [
    {
     "data": {
      "text/plain": [
       "{\"geometry\": {\"coordinates\": [[[-57.759417, 54.052169], [-57.638118, 54.351898], [-57.129228, 54.435675], [-57.003058, 54.734207], [-56.488524, 54.815683], [-56.357494, 55.11247], [-55.837199, 55.191647], [-55.700901, 55.486303], [-55.174764, 55.562906], [-55.032985, 55.855456], [-54.501345, 55.929316], [-54.353572, 56.219785], [-53.817686, 56.290868], [-53.663556, 56.577013], [-53.121959, 56.645761], [-52.962935, 56.926589], [-52.413041, 56.993159], [-52.250463, 57.26981], [-51.691589, 57.333777], [-51.525311, 57.608902], [-50.961336, 57.669657], [-50.789942, 57.945595], [-50.227607, 58.003056], [-50.049018, 58.279774], [-49.497871, 58.33495], [-49.310547, 58.611122], [-48.77276, 58.664013], [-48.576489, 58.940628], [-48.051954, 58.99062], [-47.847206, 59.271295], [-47.319813, 59.31646], [-47.111703, 59.598317], [-46.54065, 59.639412], [-46.337415, 59.906131], [-45.811287, 59.955963], [-45.594869, 60.228702], [-45.069211, 60.271953], [-44.728208, 60.094044], [-44.728208, 60.094044], [-45.069211, 60.271953], [-44.868831, 60.565662], [-45.217251, 60.763796], [-45.006884, 61.040289], [-45.358479, 61.246685], [-45.919662, 61.207498], [-46.135772, 60.936439], [-46.68062, 60.894385], [-47.057521, 61.109516], [-47.604702, 61.065747], [-47.985761, 61.280246], [-48.534234, 61.234848], [-48.920264, 61.448438], [-48.711349, 61.71544], [-49.096861, 61.927338], [-48.888854, 62.190403], [-49.272965, 62.400669], [-49.844261, 62.353119], [-50.235016, 62.562432], [-50.032637, 62.820501], [-50.422568, 63.028838], [-50.221998, 63.281664], [-50.60901, 63.4892], [-51.209037, 63.438228], [-51.606598, 63.645851], [-51.412927, 63.891489], [-51.807483, 64.100821], [-51.613802, 64.338274], [-51.983779, 64.54682], [-51.785527, 64.782394], [-52.048053, 64.950419], [-51.80619, 65.221604], [-52.128268, 65.39093], [-52.128268, 65.39093], [-52.599662, 65.38675], [-53.001952, 65.098511], [-53.652548, 65.185585], [-53.995015, 65.107587], [-54.635844, 65.295549], [-55.07134, 65.228197], [-55.620729, 65.420754], [-56.113194, 65.354935], [-56.62368, 65.543678], [-57.141388, 65.478317], [-57.312355, 65.223591], [-57.843185, 65.15542], [-58.008844, 64.900514], [-58.543889, 64.831186], [-59.026939, 65.017138], [-59.565959, 64.945246], [-59.720398, 64.692329], [-60.259798, 64.618554], [-60.739411, 64.803643], [-61.29046, 64.725065], [-61.425456, 64.477271], [-61.981145, 64.395278], [-62.449577, 64.574169], [-63.015134, 64.488013], [-63.125824, 64.234877], [-63.690071, 64.146529], [-63.791726, 63.884718], [-64.345719, 63.795038], [-64.803908, 63.954774], [-64.803908, 63.954774], [-64.345719, 63.795038], [-64.440721, 63.523777], [-63.985037, 63.365022], [-64.078962, 63.088703], [-63.615292, 62.930207], [-63.706546, 62.651768], [-63.202534, 62.487151], [-63.27956, 62.221713], [-62.779277, 62.050049], [-62.829494, 61.798006], [-62.379069, 61.632835], [-62.414631, 61.367753], [-63.007734, 61.247561], [-63.058484, 60.96557], [-62.643078, 60.812649], [-62.698814, 60.508162], [-62.297548, 60.364011], [-62.348498, 60.036687], [-62.86998, 59.936167], [-62.958645, 59.636235], [-62.453956, 59.443102], [-62.564122, 59.159254], [-63.177727, 59.0709], [-63.279024, 58.760905], [-62.84953, 58.584534], [-62.97248, 58.27477], [-62.97248, 58.27477], [-62.512881, 58.084254], [-62.000741, 58.198127], [-61.541974, 58.016306], [-61.692441, 57.700082], [-61.210139, 57.490059], [-61.277042, 57.237555], [-60.855065, 57.040383], [-60.943254, 56.754182], [-60.540498, 56.559459], [-60.637291, 56.266613], [-60.242347, 56.071088], [-60.344759, 55.775005], [-59.955098, 55.577651], [-60.060578, 55.280276], [-59.67597, 55.081382], [-59.160853, 55.17362], [-58.780359, 54.972144], [-58.894616, 54.673031], [-58.518909, 54.470181], [-58.009661, 54.557397], [-57.889657, 54.856301], [-57.374928, 54.941299], [-57.003058, 54.734207], [-57.129228, 54.435675], [-57.638118, 54.351898], [-57.759417, 54.052169]]], \"type\": \"Polygon\"}, \"properties\": {\"author\": \"Kaila Uyeda\", \"component\": \"ocean\", \"name\": \"Labrador Sea from transect algorithm\", \"object\": \"region\", \"tags\": \"Labrador_Sea;Davis_Strait\"}, \"type\": \"Feature\"}"
      ]
     },
     "execution_count": 23,
     "metadata": {},
     "output_type": "execute_result"
    }
   ],
   "source": [
    "with open(wmtnb_filepath + 'LS_test_transect_from_alg.geojson') as f:\n",
    "    gj = geojson.load(f)\n",
    "features = gj['features'][0]\n",
    "features"
   ]
  },
  {
   "cell_type": "code",
   "execution_count": 24,
   "id": "9a8c64d9-3b9d-411c-a055-b3ba850ca761",
   "metadata": {},
   "outputs": [
    {
     "data": {
      "text/plain": [
       "{\"geometry\": {\"coordinates\": [[[-66.786546, 67.043299], [-64.100717, 57.523161], [-56.444059, 52.236009], [-44.025299, 60.553506], [-49.990736, 67.800904], [-66.786546, 67.043299]]], \"type\": \"Polygon\"}, \"properties\": {\"author\": \"Kaila Uyeda\", \"component\": \"ocean\", \"name\": \"Labrador Sea... sort of\", \"object\": \"region\", \"tags\": \"Labrador_Sea;Davis_Strait\"}, \"type\": \"Feature\"}"
      ]
     },
     "execution_count": 24,
     "metadata": {},
     "output_type": "execute_result"
    }
   ],
   "source": [
    "with open(wmtnb_filepath + 'LS_test.geojson') as f:\n",
    "    gj = geojson.load(f)\n",
    "features = gj['features'][0]\n",
    "features"
   ]
  },
  {
   "cell_type": "code",
   "execution_count": 25,
   "id": "05a7f46d-8058-4eb3-ae8c-1eec9c657b6e",
   "metadata": {},
   "outputs": [],
   "source": [
    "# # convert geojson to .nc mask file\n",
    "\n",
    "# wmtnb_filepath = './'\n",
    "# fcMask = read_feature_collection(wmtnb_filepath + 'LS_test_transect_from_alg.geojson')\n",
    "# pool = create_pool(process_count=8)\n",
    "# dsMasks = compute_mpas_region_masks(\n",
    "#     mesh, fcMask, maskTypes=('cell','edge','vertex'), pool=pool\n",
    "# )"
   ]
  },
  {
   "cell_type": "code",
   "execution_count": 26,
   "id": "f040ee63-8307-4bfe-a951-66f3ed5ca636",
   "metadata": {},
   "outputs": [],
   "source": [
    "# dsMasks.to_netcdf(wmtnb_filepath + 'LS_test_transect_from_alg.nc', format='NETCDF4', mode='w')\n",
    "dsMasks = xr.open_dataset(wmtnb_filepath + 'LS_test_transect_from_alg.nc')"
   ]
  },
  {
   "cell_type": "code",
   "execution_count": 27,
   "id": "0041a748-8569-4d8b-981b-e6b1e28c9a1f",
   "metadata": {},
   "outputs": [],
   "source": [
    "cellmask = dsMasks.regionCellMasks.isel(nRegions=0).astype(bool)\n",
    "edgemask = dsMasks.regionEdgeMasks.isel(nRegions=0).astype(bool)\n",
    "vertexmask = dsMasks.regionVertexMasks.isel(nRegions=0).astype(bool)"
   ]
  },
  {
   "cell_type": "code",
   "execution_count": 28,
   "id": "4f0ef44d-44ef-4373-a3f4-bc549710d2d9",
   "metadata": {},
   "outputs": [
    {
     "data": {
      "image/png": "[encoded data removed]",
      "text/plain": [
       "<Figure size 1200x500 with 3 Axes>"
      ]
     },
     "metadata": {},
     "output_type": "display_data"
    }
   ],
   "source": [
    "# plot this masked region\n",
    "\n",
    "# # set up mesh to apply polypcolor\n",
    "mesh.attrs['is_periodic'] = 'YES'\n",
    "mesh.attrs['x_period'] = 360\n",
    "mesh.attrs['y_period'] = 0.0\n",
    "\n",
    "descriptor = mosaic.Descriptor(mesh,use_latlon=False)\n",
    "\n",
    "fig,ax = plt.subplots(nrows=1,ncols=3,constrained_layout=True,figsize=(12,5))\n",
    "\n",
    "new_cmap = plt.get_cmap('viridis')\n",
    "new_cmap.set_under('magenta')\n",
    "\n",
    "c = mosaic.polypcolor(ax[0],descriptor,\n",
    "                  cellmask.astype(int),cmap='viridis',\n",
    "                  antialiaseds=False)\n",
    "d = mosaic.polypcolor(ax[1],descriptor,\n",
    "                  edgemask.astype(int),cmap='viridis',\n",
    "                  antialiaseds=False)\n",
    "e = mosaic.polypcolor(ax[2],descriptor,\n",
    "                  vertexmask.astype(int),cmap='viridis',\n",
    "                  antialiaseds=False)\n",
    "\n",
    "# fig.colorbar(c, extend='both')\n",
    "\n",
    "# LS\n",
    "for i in range(0,3):\n",
    "    ax[i].set_xlim(290, 318)\n",
    "    ax[i].set_ylim(51.5, 68)\n",
    "\n",
    "\n",
    "# # GofM\n",
    "# ax.set_xlim(250, 318)\n",
    "# ax.set_ylim(15, 35)"
   ]
  },
  {
   "cell_type": "markdown",
   "id": "b54e828c-408e-486c-959d-1e1930515080",
   "metadata": {},
   "source": [
    "the mismatch between the length of the `test_verts_lons` (creating geojson file from alg transect) and the `vertex_lons` (vertices in the .nc file made from the geojson file) makes me feel like something is wrong... To which grid coordinate do the geojson lats and lons get assigned? They are using the same points (`len(np.intersect1d(test_verts_lons + 360, vertex_lons))` is equal to the length of `vertex_lons`, but I don't understand why there are `len(test_verts_lons)-len(vertex_lons)` = 15 missing points. "
   ]
  },
  {
   "cell_type": "code",
   "execution_count": 32,
   "id": "b89738c2-7e7d-4268-995e-c61eecd2e72c",
   "metadata": {},
   "outputs": [],
   "source": [
    "alg_edges, alg_vertices = mps.xr_sorted_transect_edges_and_vertices(mesh,dsMasks)"
   ]
  },
  {
   "cell_type": "code",
   "execution_count": 45,
   "id": "1688f8b2-3743-4dd7-9fb4-cdac1425fe62",
   "metadata": {},
   "outputs": [
    {
     "data": {
      "text/plain": [
       "156"
      ]
     },
     "execution_count": 45,
     "metadata": {},
     "output_type": "execute_result"
    }
   ],
   "source": [
    "len(test_verts_lons)"
   ]
  },
  {
   "cell_type": "code",
   "execution_count": 44,
   "id": "da49723a-9843-42ad-a922-37f43a52486a",
   "metadata": {},
   "outputs": [
    {
     "data": {
      "text/plain": [
       "142"
      ]
     },
     "execution_count": 44,
     "metadata": {},
     "output_type": "execute_result"
    }
   ],
   "source": [
    "len(alg_vertices)"
   ]
  },
  {
   "cell_type": "code",
   "execution_count": 33,
   "id": "79efdf18-c675-4c2d-88be-7655ce51be88",
   "metadata": {},
   "outputs": [
    {
     "data": {
      "text/plain": [
       "Text(0.5, 0.98, 'ordered vertex & edge locations')"
      ]
     },
     "execution_count": 33,
     "metadata": {},
     "output_type": "execute_result"
    },
    {
     "data": {
      "image/png": "[encoded data removed]",
      "text/plain": [
       "<Figure size 1200x500 with 2 Axes>"
      ]
     },
     "metadata": {},
     "output_type": "display_data"
    }
   ],
   "source": [
    "# plot using vertex lats and lons\n",
    "vertex_lons = mesh.lonVertex.isel(nVertices = alg_vertices) * 180 / np.pi\n",
    "vertex_lats = mesh.latVertex.isel(nVertices = alg_vertices) * 180 / np.pi\n",
    "\n",
    "# plot using edge lats and lons\n",
    "edge_lons = mesh.lonEdge.isel(nEdges = alg_edges) * 180 / np.pi\n",
    "edge_lats = mesh.latEdge.isel(nEdges = alg_edges) * 180 / np.pi\n",
    "\n",
    "fig,ax = plt.subplots(nrows=1,ncols=2,constrained_layout=True,figsize=(12,5))\n",
    "v = ax[0].scatter(vertex_lons, vertex_lats,marker='.',label='vertices')\n",
    "v.set_sizes([10])\n",
    "ax[0].plot(edge_lons,edge_lats,color='red',label='edges')\n",
    "\n",
    "ax[1].plot(vertex_lons, vertex_lats, marker='.')\n",
    "s = ax[1].scatter(edge_lons,edge_lats,color='red',marker='x')\n",
    "s.set_sizes([10])\n",
    "\n",
    "fig.suptitle('ordered vertex & edge locations')"
   ]
  },
  {
   "cell_type": "markdown",
   "id": "10191f88-d0e7-431d-9efb-6efc25db298f",
   "metadata": {},
   "source": [
    "<div class=\"alert alert-warning\" role=\"alert\">\n",
    "  <b>END OF TRANSECT CREATION FROM ALGORITHM </b> \n",
    "</div>\n"
   ]
  },
  {
   "cell_type": "markdown",
   "id": "b13773d1-9c6e-499b-a9e0-4bf104a28fb5",
   "metadata": {},
   "source": [
    "## identify transect based on mask"
   ]
  },
  {
   "cell_type": "markdown",
   "id": "bbb3129a-2548-40d7-9179-942ff6b522f8",
   "metadata": {},
   "source": [
    "## An attempt to select edge cells that surround the mask without using an algorithm"
   ]
  },
  {
   "cell_type": "code",
   "execution_count": 35,
   "id": "6b33389a-bb77-4496-9043-02ac0793c0f4",
   "metadata": {},
   "outputs": [],
   "source": [
    "next_edges, next_vertices = mps.xr_sorted_transect_edges_and_vertices(mesh,mask)"
   ]
  },
  {
   "cell_type": "code",
   "execution_count": 38,
   "id": "f2234949-a545-42d7-b12a-9dd800017ff4",
   "metadata": {},
   "outputs": [
    {
     "data": {
      "text/plain": [
       "Text(0.5, 1.0, 'ordered edges')"
      ]
     },
     "execution_count": 38,
     "metadata": {},
     "output_type": "execute_result"
    },
    {
     "data": {
      "image/png": "[encoded data removed]",
      "text/plain": [
       "<Figure size 640x480 with 2 Axes>"
      ]
     },
     "metadata": {},
     "output_type": "display_data"
    }
   ],
   "source": [
    "base_mask = xr.open_dataset('./mpas-o_EC30to60_global_base_mask.nc')\n",
    "# LS\n",
    "base_mask['regionEdgeMasks'] = base_mask.regionEdgeMasks.where(base_mask.nEdges.isin(np.int32(next_edges)),other=0)\n",
    "\n",
    "for i in range(0,len(next_edges)):\n",
    "    base_mask.regionEdgeMasks.isel(nRegions=0)[np.int32(next_edges[i])]= i+1\n",
    "\n",
    "# # set up mesh to apply polypcolor\n",
    "mesh.attrs['is_periodic'] = 'YES'\n",
    "mesh.attrs['x_period'] = 360\n",
    "mesh.attrs['y_period'] = 0.0\n",
    "\n",
    "descriptor = mosaic.Descriptor(mesh,use_latlon=False)\n",
    "\n",
    "fig,ax = plt.subplots(nrows=1,ncols=1,constrained_layout=True)\n",
    "\n",
    "new_cmap = plt.get_cmap('viridis')\n",
    "new_cmap.set_under('magenta')\n",
    "\n",
    "c = mosaic.polypcolor(ax,descriptor,\n",
    "                  base_mask.regionEdgeMasks.isel(nRegions=0),cmap=new_cmap,vmin=1,\n",
    "                  antialiaseds=False)\n",
    "fig.colorbar(c, extend='both')\n",
    "\n",
    "# LS\n",
    "ax.set_xlim(290, 318)\n",
    "ax.set_ylim(51.5, 68)\n",
    "ax.set_title('ordered edges')\n",
    "\n",
    "# # GofM\n",
    "# ax.set_xlim(250, 318)\n",
    "# ax.set_ylim(15, 35)"
   ]
  },
  {
   "cell_type": "code",
   "execution_count": 39,
   "id": "edb99a0e-c6e2-4be5-9395-4fe303c21241",
   "metadata": {},
   "outputs": [
    {
     "data": {
      "text/plain": [
       "Text(0.5, 1.0, 'ordered vertices')"
      ]
     },
     "execution_count": 39,
     "metadata": {},
     "output_type": "execute_result"
    },
    {
     "data": {
      "image/png": "[encoded data removed]",
      "text/plain": [
       "<Figure size 640x480 with 2 Axes>"
      ]
     },
     "metadata": {},
     "output_type": "display_data"
    }
   ],
   "source": [
    "base_mask = xr.open_dataset('./mpas-o_EC30to60_global_base_mask.nc')\n",
    "# LS\n",
    "base_mask['regionEdgeMasks'] = base_mask.regionVertexMasks.where(base_mask.nVertices.isin(next_vertices),other=0)\n",
    "\n",
    "for i in range(0,len(next_edges)):\n",
    "    base_mask.regionVertexMasks.isel(nRegions=0)[np.int32(next_vertices[i])]= i+1\n",
    "\n",
    "# # set up mesh to apply polypcolor\n",
    "mesh.attrs['is_periodic'] = 'YES'\n",
    "mesh.attrs['x_period'] = 360\n",
    "mesh.attrs['y_period'] = 0.0\n",
    "\n",
    "descriptor = mosaic.Descriptor(mesh,use_latlon=False)\n",
    "\n",
    "fig,ax = plt.subplots(nrows=1,ncols=1,constrained_layout=True)\n",
    "\n",
    "new_cmap = plt.get_cmap('viridis')\n",
    "new_cmap.set_under('magenta')\n",
    "\n",
    "c = mosaic.polypcolor(ax,descriptor,\n",
    "                  base_mask.regionVertexMasks.isel(nRegions=0),cmap=new_cmap,vmin=1,\n",
    "                  antialiaseds=False)\n",
    "fig.colorbar(c, extend='both')\n",
    "\n",
    "# LS\n",
    "ax.set_xlim(290, 318)\n",
    "ax.set_ylim(51.5, 68)\n",
    "ax.set_title('ordered vertices')\n",
    "\n",
    "# # GofM\n",
    "# ax.set_xlim(250, 318)\n",
    "# ax.set_ylim(15, 35)"
   ]
  },
  {
   "cell_type": "code",
   "execution_count": 40,
   "id": "76b5c833-49f0-4ccc-8051-0b6c7a93d836",
   "metadata": {},
   "outputs": [
    {
     "data": {
      "text/plain": [
       "Text(0.5, 0.98, 'ordered vertex & edge locations')"
      ]
     },
     "execution_count": 40,
     "metadata": {},
     "output_type": "execute_result"
    },
    {
     "data": {
      "image/png": "[encoded data removed]",
      "text/plain": [
       "<Figure size 1200x500 with 2 Axes>"
      ]
     },
     "metadata": {},
     "output_type": "display_data"
    }
   ],
   "source": [
    "# plot using vertex lats and lons\n",
    "vertex_lons = mesh.lonVertex.isel(nVertices = next_vertices) * 180 / np.pi\n",
    "vertex_lats = mesh.latVertex.isel(nVertices = next_vertices) * 180 / np.pi\n",
    "\n",
    "# plot using edge lats and lons\n",
    "edge_lons = mesh.lonEdge.isel(nEdges = np.int32(next_edges)) * 180 / np.pi\n",
    "edge_lats = mesh.latEdge.isel(nEdges = np.int32(next_edges)) * 180 / np.pi\n",
    "\n",
    "fig,ax = plt.subplots(nrows=1,ncols=2,constrained_layout=True,figsize=(12,5))\n",
    "v = ax[0].scatter(vertex_lons, vertex_lats,marker='.',label='vertices')\n",
    "v.set_sizes([10])\n",
    "ax[0].plot(edge_lons,edge_lats,color='red',label='edges')\n",
    "\n",
    "ax[1].plot(vertex_lons, vertex_lats, marker='.')\n",
    "s = ax[1].scatter(edge_lons,edge_lats,color='red',marker='x')\n",
    "s.set_sizes([10])\n",
    "\n",
    "fig.suptitle('ordered vertex & edge locations')"
   ]
  },
  {
   "cell_type": "code",
   "execution_count": 41,
   "id": "ece00218-6ef4-457e-b4a9-89dbecf7e070",
   "metadata": {},
   "outputs": [
    {
     "ename": "NameError",
     "evalue": "name 'xr_nextVertex' is not defined",
     "output_type": "error",
     "traceback": [
      "\u001b[31m---------------------------------------------------------------------------\u001b[39m",
      "\u001b[31mNameError\u001b[39m                                 Traceback (most recent call last)",
      "\u001b[36mCell\u001b[39m\u001b[36m \u001b[39m\u001b[32mIn[41]\u001b[39m\u001b[32m, line 1\u001b[39m\n\u001b[32m----> \u001b[39m\u001b[32m1\u001b[39m condition = ((mesh.verticesOnEdge.isel(TWO=\u001b[32m0\u001b[39m) == \u001b[43mxr_nextVertex\u001b[49m) & (mesh.verticesOnEdge.isel(TWO=\u001b[32m1\u001b[39m) == current_vertex)) | \\\n\u001b[32m      2\u001b[39m ((mesh.verticesOnEdge.isel(TWO=\u001b[32m0\u001b[39m) == current_vertex) & (mesh.verticesOnEdge.isel(TWO=\u001b[32m1\u001b[39m) == xr_nextVertex))                                                 \n",
      "\u001b[31mNameError\u001b[39m: name 'xr_nextVertex' is not defined"
     ]
    }
   ],
   "source": [
    "condition = ((mesh.verticesOnEdge.isel(TWO=0) == xr_nextVertex) & (mesh.verticesOnEdge.isel(TWO=1) == current_vertex)) | \\\n",
    "((mesh.verticesOnEdge.isel(TWO=0) == current_vertex) & (mesh.verticesOnEdge.isel(TWO=1) == xr_nextVertex))                                                 "
   ]
  },
  {
   "cell_type": "code",
   "execution_count": null,
   "id": "a413a808-826a-40a7-a6ea-24793179e7ce",
   "metadata": {},
   "outputs": [],
   "source": [
    "np.unique(((mesh.verticesOnEdge.isel(TWO=0) == xr_nextVertex) & (mesh.verticesOnEdge.isel(TWO=1) == current_vertex)))"
   ]
  },
  {
   "cell_type": "code",
   "execution_count": null,
   "id": "3e494183-d454-45ad-ab2e-37ba8e20cb8d",
   "metadata": {},
   "outputs": [],
   "source": [
    "np.unique(((mesh.verticesOnEdge.isel(TWO=0) == current_vertex) & (mesh.verticesOnEdge.isel(TWO=1) == xr_nextVertex)) )"
   ]
  },
  {
   "cell_type": "code",
   "execution_count": null,
   "id": "ee40d99d-11e2-4c93-a1f5-f949e044fce5",
   "metadata": {},
   "outputs": [],
   "source": [
    "mesh.verticesOnEdge"
   ]
  },
  {
   "cell_type": "code",
   "execution_count": null,
   "id": "e4a61ea6-b93c-41b0-85ea-689b1baf597d",
   "metadata": {},
   "outputs": [],
   "source": [
    "next_vertices"
   ]
  },
  {
   "cell_type": "code",
   "execution_count": null,
   "id": "bfede70a-a514-4e03-b9a8-7206fa6786ca",
   "metadata": {},
   "outputs": [],
   "source": [
    "next_edges"
   ]
  },
  {
   "cell_type": "code",
   "execution_count": null,
   "id": "ca902b5d-f2c9-4ab8-bf62-d6fbdd1332f8",
   "metadata": {},
   "outputs": [],
   "source": [
    "next_edges"
   ]
  },
  {
   "cell_type": "code",
   "execution_count": null,
   "id": "fa63ab33-ec6c-44c2-af49-fcfbab58bddc",
   "metadata": {},
   "outputs": [],
   "source": [
    "xr_nextEdges"
   ]
  },
  {
   "cell_type": "code",
   "execution_count": null,
   "id": "e2095982-9718-454e-8300-324338ed3ee2",
   "metadata": {},
   "outputs": [],
   "source": [
    "current_vertex = next_vertices[-1]\n",
    "possible_vertices = mesh.verticesOnEdge.isel(nEdges = xr_nextEdge)\n",
    "possible_vertices\n",
    "\n",
    "n_possible_vertices_raw = np.unique(mesh.verticesOnEdge.isel(nEdges = xr_nextEdge))\n",
    "n_possible_vertices = n_possible_vertices_raw[n_possible_vertices_raw != current_vertex]"
   ]
  },
  {
   "cell_type": "code",
   "execution_count": null,
   "id": "19cd3fd8-42b9-44e5-b0e7-6f096b7fcb00",
   "metadata": {},
   "outputs": [],
   "source": [
    "np.intersect1d(xr_nextEdges, xr_mask_edges)"
   ]
  },
  {
   "cell_type": "code",
   "execution_count": null,
   "id": "9892914f-465a-423e-a4fc-a8da62741174",
   "metadata": {},
   "outputs": [],
   "source": [
    "mesh.edgesOnVertex.isel(nVertices = xr_nextVertex)"
   ]
  },
  {
   "cell_type": "code",
   "execution_count": null,
   "id": "f90b3040-3053-4fbc-a543-a034c5b9176f",
   "metadata": {},
   "outputs": [],
   "source": [
    "base_mask = xr.open_dataset('./mpas-o_EC30to60_global_base_mask.nc')\n",
    "# LS\n",
    "base_mask['regionEdgeMasks'] = base_mask.regionEdgeMasks.where(base_mask.nEdges.isin(np.array([125371])),other=0)\n",
    "\n",
    "\n",
    "edgemask = base_mask.regionEdgeMasks.isel(nRegions=0).astype(bool)\n",
    "\n",
    "fig,ax = plt.subplots(nrows=1,ncols=1,constrained_layout=True)\n",
    "c = mosaic.polypcolor(ax,descriptor,\n",
    "                  edgemask.astype(int),cmap='viridis',\n",
    "                  antialiaseds=False)\n",
    "fig.colorbar(c, extend='both')\n",
    "\n",
    "# LS\n",
    "ax.set_xlim(290, 318)\n",
    "ax.set_ylim(51.5, 68)"
   ]
  },
  {
   "cell_type": "code",
   "execution_count": null,
   "id": "1d9e4565-4cd7-4c1c-9158-fe9a0e51020c",
   "metadata": {},
   "outputs": [],
   "source": [
    "base_mask = xr.open_dataset('./mpas-o_EC30to60_global_base_mask.nc')\n",
    "# LS\n",
    "base_mask['regionEdgeMasks'] = base_mask.regionEdgeMasks.where(base_mask.nEdges.isin(np.array([125371,58236])),other=0)\n",
    "\n",
    "\n",
    "edgemask = base_mask.regionEdgeMasks.isel(nRegions=0).astype(bool)\n",
    "\n",
    "fig,ax = plt.subplots(nrows=1,ncols=1,constrained_layout=True)\n",
    "c = mosaic.polypcolor(ax,descriptor,\n",
    "                  edgemask.astype(int),cmap='viridis',\n",
    "                  antialiaseds=False)\n",
    "fig.colorbar(c, extend='both')\n",
    "\n",
    "# LS\n",
    "ax.set_xlim(290, 318)\n",
    "ax.set_ylim(51.5, 68)"
   ]
  },
  {
   "cell_type": "code",
   "execution_count": null,
   "id": "f51bdfb6-63d5-4645-9f8e-61038366946d",
   "metadata": {},
   "outputs": [],
   "source": [
    "base_mask = xr.open_dataset('./mpas-o_EC30to60_global_base_mask.nc')\n",
    "# LS\n",
    "base_mask['regionEdgeMasks'] = base_mask.regionEdgeMasks.where(base_mask.nEdges.isin(np.array([125371,348615])),other=0)\n",
    "\n",
    "\n",
    "edgemask = base_mask.regionEdgeMasks.isel(nRegions=0).astype(bool)\n",
    "\n",
    "fig,ax = plt.subplots(nrows=1,ncols=1,constrained_layout=True)\n",
    "c = mosaic.polypcolor(ax,descriptor,\n",
    "                  edgemask.astype(int),cmap='viridis',\n",
    "                  antialiaseds=False)\n",
    "fig.colorbar(c, extend='both')\n",
    "\n",
    "# LS\n",
    "ax.set_xlim(290, 318)\n",
    "ax.set_ylim(51.5, 68)"
   ]
  },
  {
   "cell_type": "code",
   "execution_count": null,
   "id": "dd1d6d58-3e99-48e6-b350-7a407f0eccdd",
   "metadata": {},
   "outputs": [],
   "source": [
    "base_mask = xr.open_dataset('./mpas-o_EC30to60_global_base_mask.nc')\n",
    "# LS\n",
    "base_mask['regionEdgeMasks'] = base_mask.regionEdgeMasks.where(base_mask.nEdges.isin(np.array([125371,58236,348615])),other=0)\n",
    "\n",
    "\n",
    "edgemask = base_mask.regionEdgeMasks.isel(nRegions=0).astype(bool)\n",
    "\n",
    "fig,ax = plt.subplots(nrows=1,ncols=1,constrained_layout=True)\n",
    "c = mosaic.polypcolor(ax,descriptor,\n",
    "                  edgemask.astype(int),cmap='viridis',\n",
    "                  antialiaseds=False)\n",
    "fig.colorbar(c, extend='both')\n",
    "\n",
    "# LS\n",
    "ax.set_xlim(290, 318)\n",
    "ax.set_ylim(51.5, 68)"
   ]
  },
  {
   "cell_type": "code",
   "execution_count": null,
   "id": "aebf3023-27ad-4309-9f2e-b6df80b5e4ab",
   "metadata": {},
   "outputs": [],
   "source": [
    "xr_nextVertex"
   ]
  },
  {
   "cell_type": "code",
   "execution_count": null,
   "id": "3f015c03-c39a-449b-886a-10cc9a92a0a0",
   "metadata": {},
   "outputs": [],
   "source": [
    "xr_startEdge"
   ]
  },
  {
   "cell_type": "code",
   "execution_count": null,
   "id": "a79148bc-1d49-49de-9577-2611f4006172",
   "metadata": {},
   "outputs": [],
   "source": [
    "xr_nextEdge"
   ]
  },
  {
   "cell_type": "markdown",
   "id": "358c780d-2eca-4fc1-a7cf-df624fd76246",
   "metadata": {},
   "source": [
    "```mask_transect_cells``` \\\n",
    "```xr_transect_vertices``` \\\n",
    "```test_edge_transect```\n"
   ]
  },
  {
   "cell_type": "code",
   "execution_count": null,
   "id": "bf04d03b-75aa-4780-8b19-68ac8ceda6c1",
   "metadata": {},
   "outputs": [],
   "source": [
    "# get the cells/vertices/edges that are in the transect IN ORDER\n",
    "# we want to travel from the start vertex to the end vertex\n",
    "# ID the start vertex\n",
    "# GofM\n",
    "target_start_lat, target_start_lon = 20, 270\n",
    "target_end_lat, target_end_lon = 26, 280\n",
    "\n",
    "# # distance_on_unit_sphere(lon1, lat1, lon2, lat 2)\n",
    "# # find the shortest path between the two points\n",
    "# # of all of the points, find the vertex that is closest to the desired start point\n",
    "# distance = distance_on_unit_sphere(mesh.lonVertex * 180/np.pi, mesh.latVertex * 180/np.pi, target_start_lon, target_start_lat)\n",
    "# xr_start_vertex = distance.argmin()\n",
    "# n_start_vertex = xr_to_n_idx(xr_start_vertex)\n",
    "# print('started at n vertex ', n_start_vertex.values)\n",
    "\n",
    "# # repeat to find the vertex that is closest to the desired end point\n",
    "# dist_to_end = distance_on_unit_sphere(mesh.lonVertex * 180/np.pi, mesh.latVertex * 180/np.pi, target_end_lon, target_end_lat)\n",
    "# xr_end_vertex = dist_to_end.argmin()\n",
    "# end_lon = mesh.isel(nVertices = xr_end_vertex).lonVertex * 180/np.pi\n",
    "# end_lat = mesh.isel(nVertices = xr_end_vertex).latVertex * 180/np.pi\n",
    "\n",
    "# we only want to look at the cells/vertices/edges that are in the transect\n",
    "# so we need to apply the algorithm to the test_mask (modified base_mask)\n",
    "# xr_border_edges\n",
    "base_mask = xr.open_dataset('./mpas-o_EC30to60_global_base_mask.nc')\n",
    "#base_mask['regionCellMasks'] = base_mask.regionCellMasks.where(base_mask.nCells.isin(n_border_cells+1), other = 1)\n",
    "base_mask['regionCellMasks'] = base_mask.regionCellMasks.where(base_mask.nCells.isin(mask_transect_cells), other = 0)\n",
    "base_mask['regionEdgeMasks'] = base_mask.regionEdgeMasks.where(base_mask.nEdges.isin(test_edge_transect),other=0)\n",
    "base_mask['regionVertexMasks'] = base_mask.regionVertexMasks.where(base_mask.nVertices.isin(xr_transect_vertices),other=0)\n",
    "print('finished selecting base_mask values')\n",
    "\n",
    "test_mask = base_mask\n",
    "\n",
    "# convert the 1s and 0s new mask to boolean T/F\n",
    "cellmask = test_mask.regionCellMasks.isel(nRegions=0).astype(bool)\n",
    "edgemask = test_mask.regionEdgeMasks.isel(nRegions=0).astype(bool)\n",
    "vertexmask = test_mask.regionVertexMasks.isel(nRegions=0).astype(bool)\n",
    "print('converted test_mask to bool')"
   ]
  },
  {
   "cell_type": "code",
   "execution_count": null,
   "id": "2aa83d78-ad9d-4220-a4bd-115db2543f2f",
   "metadata": {},
   "outputs": [],
   "source": [
    "# retrieve lats and lons that correspond to the cells/vertices/edges in the transect\n",
    "mesh_cellLatsLons = mesh[['lonCell','latCell']].where(cellmask,drop=False)\n",
    "mesh_vertexLatsLons = mesh[['lonVertex','latVertex']].where(vertexmask,drop=False)\n",
    "mesh_edgeLatsLons =  mesh[['lonEdge','latEdge']].where(edgemask,drop=False)\n",
    "mesh_edgesOnVertex = mesh['edgesOnVertex'].where(vertexmask,drop=False)\n",
    "mesh_verticesOnEdge = mesh['verticesOnEdge'].where(edgemask,drop=False)\n",
    "mesh_cellsOnVertex = mesh['cellsOnVertex'].where(vertexmask,drop=False)\n",
    "mesh_edgesOnCell = mesh['edgesOnCell'].where(cellmask, drop=False)\n",
    "\n",
    "transect_mesh = xr.merge([mesh_cellLatsLons, mesh_vertexLatsLons, mesh_edgeLatsLons, mesh_edgesOnVertex, mesh_verticesOnEdge, mesh_cellsOnVertex])\n",
    "#transect_mesh\n",
    "\n"
   ]
  },
  {
   "cell_type": "code",
   "execution_count": null,
   "id": "9bd9a8ad-00e2-4d05-88bf-cf35a71d72cb",
   "metadata": {},
   "outputs": [],
   "source": [
    "def find_land_start_edge(i,transect_mesh,test_edge_transect):\n",
    "    \"\"\"\n",
    "    function to find the transect edges that border land\n",
    "    \"\"\"\n",
    "    \n",
    "    # to order edges\n",
    "    # ------- FIND START POINT NEXT TO LAND ----------\n",
    "    # specify a starting vertex that is right next to land \n",
    "    # find the vertices that are next to land cells (i.e., cellsOnVertex is nan) by creating a mask (all cells next to land have a value of 1)\n",
    "    all_transectCellsOnVertex = transect_mesh.cellsOnVertex.where(np.isin(transect_mesh.cellsOnVertex,0),drop=False) + 1\n",
    "    all_transect_cellsOnVertex_ds = all_transectCellsOnVertex.to_dataset(name='cellsOnVertex')\n",
    "    \n",
    "    # reduce along the vertexDegree dimension\n",
    "    reduced_transect_cellsOnVertex_ds= all_transect_cellsOnVertex_ds.cellsOnVertex.sum(dim='vertexDegree')\n",
    "    \n",
    "    # we want the vertices where the cellsOnVertex = 1 (i.e., is land)\n",
    "    xr_transect_landCellsOnVertex = reduced_transect_cellsOnVertex_ds.nVertices.where(reduced_transect_cellsOnVertex_ds==1,drop=True)\n",
    "    total_transect_landCellsOnVertex = len(xr_transect_landCellsOnVertex)\n",
    "    \n",
    "    # choose the first vertex to start at \n",
    "    xr_landCellsOnVertex_start = np.int32(xr_transect_landCellsOnVertex[i].values)\n",
    "    \n",
    "    # find the edges that this vertex is connected to\n",
    "    n_edgesOnStartVertex = transect_mesh.edgesOnVertex.isel(nVertices = xr_landCellsOnVertex_start)\n",
    "    xr_edgesOnStartVertex = n_to_xr_idx(n_edgesOnStartVertex)\n",
    "    \n",
    "    # get the intersection of the edges on the start vertex and the edges in the transect (gives starting edge)\n",
    "    xr_startEdge = np.int32(np.intersect1d(xr_edgesOnStartVertex, test_edge_transect))\n",
    "        \n",
    "    \n",
    "    return xr_startEdge, xr_landCellsOnVertex_start, total_transect_landCellsOnVertex"
   ]
  },
  {
   "cell_type": "code",
   "execution_count": null,
   "id": "e07273a2-f70d-4db2-bf58-52092e6131a5",
   "metadata": {},
   "outputs": [],
   "source": [
    "xr_startEdge, xr_startLandVertex, total_transect_landCellsOnVertex = find_land_start_edge(0,transect_mesh,test_edge_transect)"
   ]
  },
  {
   "cell_type": "code",
   "execution_count": null,
   "id": "4aa71739-35bb-43b0-8815-919696b89bd3",
   "metadata": {},
   "outputs": [],
   "source": [
    "# xr_startEdge, xr_startLandVertex, total_transect_landCellsOnVertex = find_land_start_edge(0,transect_mesh,test_edge_transect)\n",
    "\n",
    "# get an array of all possible transect land starting edges\n",
    "xr_transect_landEdges = np.array([])\n",
    "transect_landLonEdges = np.array([])\n",
    "transect_landLatEdges = np.array([])\n",
    "xr_transect_landVertices = np.array([])\n",
    "\n",
    "for i in range(0,total_transect_landCellsOnVertex):\n",
    "    xr_transect_landEdge, xr_transect_landVertex, ignore_length = find_land_start_edge(i,transect_mesh,test_edge_transect)\n",
    "    xr_transect_landEdges = np.append(xr_transect_landEdge, xr_transect_landEdges)\n",
    "    xr_transect_landVertices = np.append(xr_transect_landVertex, xr_transect_landVertices)\n",
    "\n",
    "    # get the lats and lons of the possible transect land starting edges\n",
    "    transect_edges_landLatLon = mesh[['lonEdge','latEdge']].where(mesh.nEdges.isin(xr_transect_landEdges))\n"
   ]
  },
  {
   "cell_type": "code",
   "execution_count": null,
   "id": "f1845af0-53ea-4d17-b704-197dc26f012c",
   "metadata": {},
   "outputs": [],
   "source": [
    "#  ------- SURVEY EDGES CONNECTED TO THIS EDGE FOR THE EDGE THAT IS ALSO IN THE TRANSECT ----------\n",
    "# get the first edge and its corresponding vertex\n",
    "xr_startEdge = np.int32(xr_transect_landEdges[0])\n",
    "xr_startVertex = np.int32(xr_transect_landVertices[0])\n",
    "\n",
    "# set up arrays\n",
    "next_edges = np.array([xr_startEdge])\n",
    "next_vertices = np.array([xr_startVertex])\n",
    "remaining_edges = test_edge_transect[test_edge_transect != xr_startEdge]\n",
    "remaining_vertices = xr_transect_vertices[xr_transect_vertices != xr_startVertex]\n",
    "\n",
    "# set up counter for land vertices\n",
    "land_vertices_counter = 0\n",
    "\n",
    "while len(remaining_edges)>0:\n",
    "    # get the next vertex attached to the start edge\n",
    "    n_verticesOnStartEdge = mesh.verticesOnEdge.isel(nEdges = xr_startEdge)\n",
    "    xr_verticesOnStartEdge = n_to_xr_idx(n_verticesOnStartEdge)\n",
    "\n",
    "    # get only the vertex that is not equal to the previously chosen vertex\n",
    "    xr_nextVertex = np.intersect1d(xr_verticesOnStartEdge, remaining_vertices)\n",
    "\n",
    "    # get the edges connected to the next vertex\n",
    "    n_nextEdges = mesh.edgesOnVertex.isel(nVertices = xr_nextVertex)\n",
    "    xr_nextEdges = n_to_xr_idx(n_nextEdges)\n",
    "\n",
    "    # select the edge that is also in the transect\n",
    "    xr_nextEdge = np.intersect1d(xr_nextEdges, remaining_edges)\n",
    "\n",
    "    # if the land is blocking getting the next start vertex\n",
    "    if xr_nextEdge.size == 0:\n",
    "        print('finding next land start point')\n",
    "        current_edge = next_edges[-1]\n",
    "        current_edgeLon = mesh.lonEdge.isel(nEdges = current_edge) * 180 / np.pi\n",
    "        current_edgeLat = mesh.latEdge.isel(nEdges = current_edge) * 180 / np.pi\n",
    "\n",
    "        # consider only the unused land edges\n",
    "        remaining_landEdges = np.intersect1d(remaining_edges, xr_transect_landEdges)\n",
    "\n",
    "        # calculate the distance between the current edge and the remaining land edges\n",
    "        remaining_landLatLon = transect_edges_landLatLon.where(transect_edges_landLatLon.nEdges.isin(remaining_landEdges))\n",
    "        \n",
    "        current_to_land = distance_on_unit_sphere(current_edgeLon, remaining_landLatLon.lonEdge, current_edgeLat, remaining_landLatLon.latEdge)\n",
    "        xr_nextEdge = current_to_land.argmin().values\n",
    "\n",
    "        # find the vertices attached to this edge that is also next to land\n",
    "        n_verticesOnNextEdge = mesh.verticesOnEdge.isel(nEdges = xr_nextEdge)\n",
    "        xr_verticesOnNextEdge = n_to_xr_idx(n_verticesOnNextEdge)\n",
    "\n",
    "        xr_nextVertex = np.intersect1d(xr_verticesOnNextEdge, xr_transect_landVertices)\n",
    "\n",
    "    # update arrays \n",
    "    # print(xr_nextEdge)\n",
    "    next_edges = np.append(next_edges, xr_nextEdge)\n",
    "    next_vertices = np.append(next_vertices, xr_nextVertex)\n",
    "    remaining_edges = remaining_edges[remaining_edges != xr_nextEdge]\n",
    "    remaining_vertices = remaining_vertices[remaining_vertices != xr_nextVertex]\n",
    "\n",
    "    # update to make the next_edge the new start_edge\n",
    "    xr_startEdge = xr_nextEdge"
   ]
  },
  {
   "cell_type": "markdown",
   "id": "d601bfef-1162-4d33-b206-f2e41d9ce6a5",
   "metadata": {},
   "source": [
    "<div class=\"alert alert-warning\" role=\"alert\">\n",
    "  <b>9/16/25 you need to differentiate between the two methods. Also, I have no idea how to check if this is correct... </b> \n",
    "</div>\n"
   ]
  },
  {
   "cell_type": "code",
   "execution_count": null,
   "id": "65c1ee06-2f97-463e-99da-39d7d88ff4c0",
   "metadata": {},
   "outputs": [],
   "source": [
    "next_edges"
   ]
  },
  {
   "cell_type": "code",
   "execution_count": null,
   "id": "f5cfd14c-eaaf-40a7-ba6c-44198d58df46",
   "metadata": {},
   "outputs": [],
   "source": [
    "# assign index numbers to each of the chosen region masks to check sorted order \n",
    "\n",
    "for i in range(0,len(next_edges)):\n",
    "    base_mask.regionEdgeMasks.isel(nRegions=0)[next_edges[i]]= i"
   ]
  },
  {
   "cell_type": "code",
   "execution_count": null,
   "id": "ebb68449-7cb2-4ac5-9d85-900a47622411",
   "metadata": {},
   "outputs": [],
   "source": [
    "# # set up mesh to apply polypcolor\n",
    "mesh.attrs['is_periodic'] = 'YES'\n",
    "mesh.attrs['x_period'] = 360\n",
    "mesh.attrs['y_period'] = 0.0\n",
    "\n",
    "descriptor = mosaic.Descriptor(mesh,use_latlon=False)\n",
    "\n",
    "fig,ax = plt.subplots(nrows=1,ncols=1,constrained_layout=True)\n",
    "c = mosaic.polypcolor(ax,descriptor,\n",
    "                  base_mask.regionEdgeMasks.isel(nRegions=0),cmap='viridis',\n",
    "                  antialiaseds=False)\n",
    "fig.colorbar(c, extend='both')\n",
    "\n",
    "# LS\n",
    "ax.set_xlim(290, 318)\n",
    "ax.set_ylim(51.5, 68)\n",
    "\n",
    "# # GofM\n",
    "# ax.set_xlim(250, 318)\n",
    "# ax.set_ylim(15, 35)"
   ]
  },
  {
   "cell_type": "code",
   "execution_count": null,
   "id": "c616e864-0691-4e78-a1ff-2b670f7263c0",
   "metadata": {},
   "outputs": [],
   "source": [
    "\n",
    "# distance_on_unit_sphere(lon1, lat1, lon2, lat 2)\n",
    "# find the shortest path between the two points\n",
    "# of all of the points, find the vertex that is closest to the desired start point\n",
    "distance = distance_on_unit_sphere(transect_mesh.lonVertex * 180/np.pi, transect_mesh.latVertex * 180/np.pi, target_start_lon, target_start_lat)\n",
    "xr_start_vertex = distance.argmin()\n",
    "n_start_vertex = xr_to_n_idx(xr_start_vertex)\n",
    "print('started at n vertex ', n_start_vertex.values)\n",
    "\n",
    "target_start_lon = transect_mesh.isel(nVertices=xr_start_vertex).lonVertex * 180/np.pi\n",
    "target_start_lat = transect_mesh.isel(nVertices=xr_start_vertex).latVertex * 180/np.pi\n",
    "\n",
    "# repeat to find the vertex that is closest to the desired end point\n",
    "dist_to_end = distance_on_unit_sphere(transect_mesh.lonVertex * 180/np.pi, mesh.latVertex * 180/np.pi, target_end_lon, target_end_lat)\n",
    "xr_end_vertex = dist_to_end.argmin()\n",
    "target_end_lon = transect_mesh.isel(nVertices = xr_end_vertex).lonVertex * 180/np.pi\n",
    "target_end_lat = transect_mesh.isel(nVertices = xr_end_vertex).latVertex * 180/np.pi"
   ]
  },
  {
   "cell_type": "code",
   "execution_count": null,
   "id": "764b11dc-10a6-4a76-b160-22287b801f7e",
   "metadata": {},
   "outputs": [],
   "source": [
    "# next_vertices, xr_transect_edges = calculate_transects(target_start_lat, target_start_lon, target_end_lat, target_end_lon, transect_mesh, test_mask)"
   ]
  },
  {
   "cell_type": "code",
   "execution_count": null,
   "id": "aa50d4e6-5854-4378-9927-7bfab3724da7",
   "metadata": {},
   "outputs": [],
   "source": [
    "mesh.isel(nVertices = xr_end_vertex).cellsOnVertex"
   ]
  },
  {
   "cell_type": "code",
   "execution_count": null,
   "id": "e58d6cce-6167-415f-ada4-ef5ba4f0e9c4",
   "metadata": {},
   "outputs": [],
   "source": [
    "conV = mesh.cellsOnVertex.isel(nVertices=xr_transect_vertices)\n",
    "a = conV.where(np.isin(conV,0))\n",
    "np.unique(a,return_counts=True)"
   ]
  },
  {
   "cell_type": "code",
   "execution_count": null,
   "id": "80d56a8d-d499-47d7-82c7-3793a38dcca4",
   "metadata": {},
   "outputs": [],
   "source": [
    "base_mask = xr.open_dataset('./mpas-o_EC30to60_global_base_mask.nc')\n",
    "# LS\n",
    "base_mask['regionEdgeMasks'] = base_mask.regionEdgeMasks.where(base_mask.nEdges.isin(test_edge_transect),other=0)\n",
    "\n",
    "# GofM\n",
    "# base_mask['regionVertexMasks'] = base_mask.regionVertexMasks.where(base_mask.nVertices.isin(next_vertices),other=1)\n",
    "\n",
    "edgemask = base_mask.regionEdgeMasks.isel(nRegions=0).astype(bool)\n",
    "\n",
    "# # set up mesh to apply polypcolor\n",
    "mesh.attrs['is_periodic'] = 'YES'\n",
    "mesh.attrs['x_period'] = 360\n",
    "mesh.attrs['y_period'] = 0.0\n",
    "\n",
    "descriptor = mosaic.Descriptor(mesh,use_latlon=False)\n",
    "\n",
    "fig,ax = plt.subplots(nrows=1,ncols=1,constrained_layout=True)\n",
    "c = mosaic.polypcolor(ax,descriptor,\n",
    "                  edgemask.astype(int),cmap='viridis',\n",
    "                  antialiaseds=False)\n",
    "fig.colorbar(c, extend='both')\n",
    "\n",
    "# LS\n",
    "ax.set_xlim(290, 318)\n",
    "ax.set_ylim(51.5, 68)\n",
    "\n",
    "# # GofM\n",
    "# ax.set_xlim(250, 318)\n",
    "# ax.set_ylim(15, 35)"
   ]
  },
  {
   "cell_type": "code",
   "execution_count": null,
   "id": "7d953ec4-9568-47f8-80ce-ebedbe635cc0",
   "metadata": {},
   "outputs": [],
   "source": [
    "# LS_lats= np.array([54, 60, 66, 64, 58])   \n",
    "# LS_lons= np.array([302, 315, 310, 295, 296])\n",
    "\n",
    "# LS_lats = np.append(LS_lats, LS_lats[0])\n",
    "# LS_lons = np.append(LS_lons, LS_lons[0])\n",
    "\n",
    "# test_verts, test_edges = calculate_transects_multiple_pts(LS_lons, LS_lats, mesh, mask)"
   ]
  },
  {
   "cell_type": "code",
   "execution_count": null,
   "id": "7f900637-7026-40d3-937e-a328fa675bde",
   "metadata": {},
   "outputs": [],
   "source": [
    "mesh"
   ]
  },
  {
   "cell_type": "markdown",
   "id": "a210342c-c98f-4e0b-afac-7b12d79ee5dd",
   "metadata": {},
   "source": [
    "### Here would be a good place to put a function to calculate the transect for this \"mesh\""
   ]
  },
  {
   "cell_type": "code",
   "execution_count": null,
   "id": "6c377dd4-d7ed-4b7a-a7fc-b81c1a1e289d",
   "metadata": {},
   "outputs": [],
   "source": [
    "# scratch plot to check stuff\n",
    "# set up mesh to apply polypcolor\n",
    "mesh.attrs['is_periodic'] = 'YES'\n",
    "mesh.attrs['x_period'] = 360\n",
    "mesh.attrs['y_period'] = 0.0\n",
    "\n",
    "descriptor = mosaic.Descriptor(mesh,use_latlon=False)\n",
    "\n",
    "\n",
    "# ds_t0 = dso['timeMonthly_avg_activeTracers_temperature'].isel(nVertLevels=30,Time=0)\n",
    "\n",
    "# ds_t0 = dso['timeMonthly_avg_latentHeatFlux'].isel(Time=0)\n",
    "\n",
    "ds_t0 = dso['timeMonthly_avg_normalVelocitySquared'].isel(Time=0,nVertLevels=0)\n",
    "\n",
    "# remove the nans\n",
    "if ds_t0.min() < -9**33:\n",
    "    ds_nonans = ds_t0.where(ds_t0 > -9**33)\n",
    "    print('fake nans detected')\n",
    "else:\n",
    "    ds_nonans = ds_t0\n",
    "\n",
    "# apply the mask\n",
    "# ds_masked = ds_nonans.where(cellmask,drop=False)\n",
    "print('beginning masked.where')\n",
    "ds_masked = ds_nonans.where(edgemask,drop=False)\n",
    "\n",
    "# plot\n",
    "fig,ax = plt.subplots(nrows=1,ncols=1,constrained_layout=True)\n",
    "c = mosaic.polypcolor(ax,descriptor,\n",
    "                  edgemask.astype(int),cmap='viridis',\n",
    "                  antialiaseds=False)\n",
    "fig.colorbar(c, extend='both')\n",
    "ax.set_xlim(290, 318)\n",
    "ax.set_ylim(51.5, 68)\n",
    "# ax.set_xlim(0, 360)\n"
   ]
  },
  {
   "cell_type": "code",
   "execution_count": null,
   "id": "2f98de63-6a1c-41bb-93a4-a572626ed330",
   "metadata": {},
   "outputs": [],
   "source": [
    "# xr_transect_vertices\n",
    "base_mask = xr.open_dataset('./mpas-o_EC30to60_global_base_mask.nc')\n",
    "#base_mask['regionCellMasks'] = base_mask.regionCellMasks.where(base_mask.nCells.isin(n_border_cells+1), other = 1)\n",
    "base_mask['regionCellMasks'] = base_mask.regionCellMasks.where(base_mask.nCells.isin(mask_transect_cells), other = 0)\n",
    "base_mask['regionEdgeMasks'] = base_mask.regionEdgeMasks.where(base_mask.nEdges.isin(test_edge_transect),other=0)\n",
    "base_mask['regionVertexMasks'] = base_mask.regionVertexMasks.where(base_mask.nVertices.isin(xr_transect_vertices),other=0)\n",
    "print('finished selecting base_mask values')\n",
    "\n",
    "test_mask = base_mask\n",
    "\n",
    "# convert the 1s and 0s new mask to boolean T/F\n",
    "cellmask = test_mask.regionCellMasks.isel(nRegions=0).astype(bool)\n",
    "edgemask = test_mask.regionEdgeMasks.isel(nRegions=0).astype(bool)\n",
    "vertexmask = test_mask.regionVertexMasks.isel(nRegions=0).astype(bool)\n",
    "print('converted test_mask to bool')\n",
    "\n",
    "\n",
    "# scratch plot to check stuff\n",
    "# set up mesh to apply polypcolor\n",
    "mesh.attrs['is_periodic'] = 'YES'\n",
    "mesh.attrs['x_period'] = 360\n",
    "mesh.attrs['y_period'] = 0.0\n",
    "\n",
    "descriptor = mosaic.Descriptor(mesh,use_latlon=False)\n",
    "\n",
    "\n",
    "# ds_t0 = dso['timeMonthly_avg_activeTracers_temperature'].isel(nVertLevels=30,Time=0)\n",
    "\n",
    "# ds_t0 = dso['timeMonthly_avg_latentHeatFlux'].isel(Time=0)\n",
    "\n",
    "ds_t0 = dso['timeMonthly_avg_normalVelocitySquared'].isel(Time=0,nVertLevels=0)\n",
    "\n",
    "# remove the nans\n",
    "if ds_t0.min() < -9**33:\n",
    "    ds_nonans = ds_t0.where(ds_t0 > -9**33)\n",
    "    print('fake nans detected')\n",
    "else:\n",
    "    ds_nonans = ds_t0\n",
    "\n",
    "# apply the mask\n",
    "# ds_masked = ds_nonans.where(cellmask,drop=False)\n",
    "print('beginning masked.where')\n",
    "ds_masked = ds_nonans.where(edgemask,drop=False)\n",
    "\n",
    "# plot\n",
    "fig,ax = plt.subplots(nrows=1,ncols=1,constrained_layout=True)\n",
    "c = mosaic.polypcolor(ax,descriptor,\n",
    "                  vertexmask.astype(int),cmap='viridis',\n",
    "                  antialiaseds=False)\n",
    "fig.colorbar(c, extend='both')\n",
    "ax.set_xlim(290, 318)\n",
    "ax.set_ylim(51.5, 68)\n",
    "# ax.set_xlim(0, 360)\n"
   ]
  },
  {
   "cell_type": "code",
   "execution_count": null,
   "id": "1ef61340-f4ce-4289-85ab-d9c294cff112",
   "metadata": {},
   "outputs": [],
   "source": [
    "# edgemask\n",
    "fig,ax = plt.subplots(nrows=1,ncols=1,constrained_layout=True)\n",
    "c = mosaic.polypcolor(ax,descriptor,\n",
    "                  edgemask.astype(int),cmap='viridis',\n",
    "                  antialiaseds=False)\n",
    "fig.colorbar(c, extend='both')\n",
    "ax.set_xlim(290, 318)\n",
    "ax.set_ylim(51.5, 68)\n",
    "# ax.set_xlim(0, 360)\n"
   ]
  },
  {
   "cell_type": "code",
   "execution_count": null,
   "id": "a7fdda29-5f4e-4310-9077-0a2a715e7f8a",
   "metadata": {},
   "outputs": [],
   "source": [
    "# cellmask\n",
    "fig,ax = plt.subplots(nrows=1,ncols=1,constrained_layout=True)\n",
    "c = mosaic.polypcolor(ax,descriptor,\n",
    "                  cellmask.astype(int),cmap='viridis',\n",
    "                  antialiaseds=False)\n",
    "fig.colorbar(c, extend='both')\n",
    "ax.set_xlim(290, 318)\n",
    "ax.set_ylim(51.5, 68)\n",
    "# ax.set_xlim(0, 360)\n"
   ]
  },
  {
   "cell_type": "code",
   "execution_count": null,
   "id": "0a9de61b-45eb-48e2-97f6-1cd47c829c7f",
   "metadata": {},
   "outputs": [],
   "source": [
    "# get the cells that share an edge with the border cells\n",
    "n_cellsOnBorderEdges = np.unique(mesh.cellsOnEdge.isel(nEdges = xr_border_edges))\n",
    "xr_cellsOnBorderEdges = n_to_xr_idx(n_cellsOnBorderEdges)\n",
    "\n",
    "# we only want the cells that share an edge with the border cells AND are inside the mask\n",
    "mask_transect_cells = np.intersect1d(xr_cellsOnBorderEdges, xr_cells_inside)"
   ]
  },
  {
   "cell_type": "code",
   "execution_count": null,
   "id": "794b4c39-c903-4800-a178-c9512e0902d9",
   "metadata": {},
   "outputs": [],
   "source": [
    "# xr_border_edges\n",
    "base_mask = xr.open_dataset('./mpas-o_EC30to60_global_base_mask.nc')\n",
    "#base_mask['regionCellMasks'] = base_mask.regionCellMasks.where(base_mask.nCells.isin(n_border_cells+1), other = 1)\n",
    "base_mask['regionCellMasks'] = base_mask.regionCellMasks.where(base_mask.nCells.isin(mask_transect_cells), other = 0)\n",
    "base_mask['regionEdgeMasks'] = base_mask.regionEdgeMasks.where(base_mask.nEdges.isin(xr_border_edges),other=0)\n",
    "# base_mask['regionVertexMasks'] = base_mask.regionVertexMasks.where(base_mask.nVertices.isin(xr_border_vertices),other=1)\n",
    "print('finished selecting base_mask values')\n",
    "\n",
    "test_mask = base_mask\n",
    "\n",
    "# convert the 1s and 0s new mask to boolean T/F\n",
    "cellmask = test_mask.regionCellMasks.isel(nRegions=0).astype(bool)\n",
    "edgemask = test_mask.regionEdgeMasks.isel(nRegions=0).astype(bool)\n",
    "vertexmask = test_mask.regionVertexMasks.isel(nRegions=0).astype(bool)\n",
    "print('converted test_mask to bool')\n",
    "\n",
    "\n",
    "# scratch plot to check stuff\n",
    "# set up mesh to apply polypcolor\n",
    "mesh.attrs['is_periodic'] = 'YES'\n",
    "mesh.attrs['x_period'] = 360\n",
    "mesh.attrs['y_period'] = 0.0\n",
    "\n",
    "descriptor = mosaic.Descriptor(mesh,use_latlon=False)\n",
    "\n",
    "\n",
    "# ds_t0 = dso['timeMonthly_avg_activeTracers_temperature'].isel(nVertLevels=30,Time=0)\n",
    "\n",
    "# ds_t0 = dso['timeMonthly_avg_latentHeatFlux'].isel(Time=0)\n",
    "\n",
    "ds_t0 = dso['timeMonthly_avg_normalVelocitySquared'].isel(Time=0,nVertLevels=0)\n",
    "\n",
    "# remove the nans\n",
    "if ds_t0.min() < -9**33:\n",
    "    ds_nonans = ds_t0.where(ds_t0 > -9**33)\n",
    "    print('fake nans detected')\n",
    "else:\n",
    "    ds_nonans = ds_t0\n",
    "\n",
    "# apply the mask\n",
    "# ds_masked = ds_nonans.where(cellmask,drop=False)\n",
    "print('beginning masked.where')\n",
    "ds_masked = ds_nonans.where(edgemask,drop=False)\n",
    "\n",
    "# plot\n",
    "fig,ax = plt.subplots(nrows=1,ncols=1,constrained_layout=True)\n",
    "c = mosaic.polypcolor(ax,descriptor,\n",
    "                  edgemask.astype(int),cmap='viridis',\n",
    "                  antialiaseds=False)\n",
    "fig.colorbar(c, extend='both')\n",
    "ax.set_xlim(290, 318)\n",
    "ax.set_ylim(51.5, 68)\n",
    "# ax.set_xlim(0, 360)\n"
   ]
  },
  {
   "cell_type": "markdown",
   "id": "54606f54-d1c4-4a21-918a-4fdf3d90662c",
   "metadata": {},
   "source": [
    "attempt to plot the cells that are inside the mask by at the border \n",
    "xr_cellsOnBorderEdges\n",
    "cells_inside"
   ]
  },
  {
   "cell_type": "code",
   "execution_count": null,
   "id": "2c986e8d-2c90-4321-811a-8558829820bb",
   "metadata": {},
   "outputs": [],
   "source": [
    "# xr_cells_inside\n",
    "base_mask = xr.open_dataset('./mpas-o_EC30to60_global_base_mask.nc')\n",
    "#base_mask['regionCellMasks'] = base_mask.regionCellMasks.where(base_mask.nCells.isin(n_border_cells+1), other = 1)\n",
    "base_mask['regionCellMasks'] = base_mask.regionCellMasks.where(base_mask.nCells.isin(xr_cells_inside), other = 0)\n",
    "base_mask['regionEdgeMasks'] = base_mask.regionEdgeMasks.where(base_mask.nEdges.isin(xr_border_edges),other=0)\n",
    "base_mask['regionVertexMasks'] = base_mask.regionVertexMasks.where(base_mask.nVertices.isin(xr_border_vertices),other=0)\n",
    "print('finished selecting base_mask values')\n",
    "\n",
    "test_mask = base_mask\n",
    "\n",
    "# convert the 1s and 0s new mask to boolean T/F\n",
    "cellmask = test_mask.regionCellMasks.isel(nRegions=0).astype(bool)\n",
    "edgemask = test_mask.regionEdgeMasks.isel(nRegions=0).astype(bool)\n",
    "vertexmask = test_mask.regionVertexMasks.isel(nRegions=0).astype(bool)\n",
    "print('converted test_mask to bool')\n",
    "\n",
    "\n",
    "# scratch plot to check stuff\n",
    "# set up mesh to apply polypcolor\n",
    "mesh.attrs['is_periodic'] = 'YES'\n",
    "mesh.attrs['x_period'] = 360\n",
    "mesh.attrs['y_period'] = 0.0\n",
    "\n",
    "descriptor = mosaic.Descriptor(mesh,use_latlon=False)\n",
    "\n",
    "\n",
    "# ds_t0 = dso['timeMonthly_avg_activeTracers_temperature'].isel(nVertLevels=30,Time=0)\n",
    "\n",
    "# ds_t0 = dso['timeMonthly_avg_latentHeatFlux'].isel(Time=0)\n",
    "\n",
    "ds_t0 = dso['timeMonthly_avg_normalVelocitySquared'].isel(Time=0,nVertLevels=0)\n",
    "\n",
    "# remove the nans\n",
    "if ds_t0.min() < -9**33:\n",
    "    ds_nonans = ds_t0.where(ds_t0 > -9**33)\n",
    "    print('fake nans detected')\n",
    "else:\n",
    "    ds_nonans = ds_t0\n",
    "\n",
    "# apply the mask\n",
    "# ds_masked = ds_nonans.where(cellmask,drop=False)\n",
    "print('beginning masked.where')\n",
    "ds_masked = ds_nonans.where(edgemask,drop=False)\n",
    "\n",
    "# plot\n",
    "fig,ax = plt.subplots(nrows=1,ncols=1,constrained_layout=True)\n",
    "c = mosaic.polypcolor(ax,descriptor,\n",
    "                  cellmask.astype(int),cmap='viridis',\n",
    "                  antialiaseds=False)\n",
    "fig.colorbar(c, extend='both')\n",
    "ax.set_xlim(290, 318)\n",
    "ax.set_ylim(51.5, 68)\n",
    "# ax.set_xlim(0, 360)\n"
   ]
  },
  {
   "cell_type": "code",
   "execution_count": null,
   "id": "af94e314-d053-4a32-b2f0-11bbef465488",
   "metadata": {},
   "outputs": [],
   "source": [
    "# mask_transect_cells\n",
    "base_mask = xr.open_dataset('./mpas-o_EC30to60_global_base_mask.nc')\n",
    "#base_mask['regionCellMasks'] = base_mask.regionCellMasks.where(base_mask.nCells.isin(n_border_cells+1), other = 1)\n",
    "base_mask['regionCellMasks'] = base_mask.regionCellMasks.where(base_mask.nCells.isin(mask_transect_cells), other = 0)\n",
    "base_mask['regionEdgeMasks'] = base_mask.regionEdgeMasks.where(base_mask.nEdges.isin(xr_border_edges),other=0)\n",
    "base_mask['regionVertexMasks'] = base_mask.regionVertexMasks.where(base_mask.nVertices.isin(xr_border_vertices),other=0)\n",
    "print('finished selecting base_mask values')\n",
    "\n",
    "test_mask = base_mask\n",
    "\n",
    "# convert the 1s and 0s new mask to boolean T/F\n",
    "cellmask = test_mask.regionCellMasks.isel(nRegions=0).astype(bool)\n",
    "edgemask = test_mask.regionEdgeMasks.isel(nRegions=0).astype(bool)\n",
    "vertexmask = test_mask.regionVertexMasks.isel(nRegions=0).astype(bool)\n",
    "print('converted test_mask to bool')\n",
    "\n",
    "\n",
    "# scratch plot to check stuff\n",
    "# set up mesh to apply polypcolor\n",
    "mesh.attrs['is_periodic'] = 'YES'\n",
    "mesh.attrs['x_period'] = 360\n",
    "mesh.attrs['y_period'] = 0.0\n",
    "\n",
    "descriptor = mosaic.Descriptor(mesh,use_latlon=False)\n",
    "\n",
    "\n",
    "# ds_t0 = dso['timeMonthly_avg_activeTracers_temperature'].isel(nVertLevels=30,Time=0)\n",
    "\n",
    "# ds_t0 = dso['timeMonthly_avg_latentHeatFlux'].isel(Time=0)\n",
    "\n",
    "ds_t0 = dso['timeMonthly_avg_normalVelocitySquared'].isel(Time=0,nVertLevels=0)\n",
    "\n",
    "# remove the nans\n",
    "if ds_t0.min() < -9**33:\n",
    "    ds_nonans = ds_t0.where(ds_t0 > -9**33)\n",
    "    print('fake nans detected')\n",
    "else:\n",
    "    ds_nonans = ds_t0\n",
    "\n",
    "# apply the mask\n",
    "# ds_masked = ds_nonans.where(cellmask,drop=False)\n",
    "print('beginning masked.where')\n",
    "ds_masked = ds_nonans.where(edgemask,drop=False)\n",
    "\n",
    "# plot\n",
    "fig,ax = plt.subplots(nrows=1,ncols=1,constrained_layout=True)\n",
    "c = mosaic.polypcolor(ax,descriptor,\n",
    "                  cellmask.astype(int),cmap='viridis',\n",
    "                  antialiaseds=False)\n",
    "fig.colorbar(c, extend='both')\n",
    "ax.set_xlim(290, 318)\n",
    "ax.set_ylim(51.5, 68)\n",
    "# ax.set_xlim(0, 360)\n"
   ]
  },
  {
   "cell_type": "code",
   "execution_count": null,
   "id": "4c8a4deb-ec00-4c32-a736-53d9256a9808",
   "metadata": {},
   "outputs": [],
   "source": []
  },
  {
   "cell_type": "markdown",
   "id": "1555e462-beda-49dd-9f3e-6ccb115a911e",
   "metadata": {},
   "source": [
    "<div class=\"alert alert-block alert-info\">\n",
    "<b>Everything above this is somewhat correct except for the boolean / .where choices...:</b> Stop.\n",
    "</div>"
   ]
  },
  {
   "cell_type": "markdown",
   "id": "e8ff5e85-bb9c-4e58-9834-5db27f18be71",
   "metadata": {
    "jp-MarkdownHeadingCollapsed": true
   },
   "source": [
    "### check indices between n and xr for Cells\n",
    "`isel` with `xr` coordinate.\\\n",
    "Returns datavariable in `n` coordinate."
   ]
  },
  {
   "cell_type": "code",
   "execution_count": null,
   "id": "1d282047-6cb2-4942-8e87-4d12d53eb9b9",
   "metadata": {},
   "outputs": [],
   "source": [
    "# get the edges connected to a cell with the xr_ID of 0 (isel(nCells=0)). Then choose the first edge of that cell\n",
    "# returns edges in the n coordinate\n",
    "edge_nCell0_0 = mesh.edgesOnCell.isel(nCells=0).values[0] \n",
    "display(edge_nCell0_0)\n",
    "\n",
    "# convert the edge in the n coordinate to the xr coordinate (xr = n -1) \n",
    "xr_edge_nCell0_0 = edge_nCell0_0 -1\n",
    "display(xr_edge_nCell0_0)\n",
    "\n",
    "# check our work \n",
    "# get the cells connected to an edge identified with xr_ID and n\n",
    "mesh.cellsOnEdge.isel(nEdges=xr_edge_nCell0_0).values\n",
    "# indices returned in the ncell indices"
   ]
  },
  {
   "cell_type": "markdown",
   "id": "0e72d6e0-841b-4968-85a2-4c4d57187b76",
   "metadata": {},
   "source": [
    "### check indices between n and xr for Vertices"
   ]
  },
  {
   "cell_type": "code",
   "execution_count": null,
   "id": "3167adba-aa70-4906-8218-ae094b4f9c38",
   "metadata": {},
   "outputs": [],
   "source": [
    "# get the vertices connected to a cell with the xr_ID of 0 (isel(nCells=0)). then choose the first vertex of that cell\n",
    "# returns vertices in the n coordinate\n",
    "nCell_idx = 0\n",
    "vert_nCell0_0 = mesh.verticesOnCell.isel(nCells=nCell_idx).values[0]\n",
    "display(vert_nCell0_0)\n",
    "\n",
    "# convert the vertex in the n coordinate to the xr coordinate (xr = n-1)\n",
    "xr_vert_nCell0_0 = n_to_xr_idx(vert_nCell0_0)\n",
    "display(xr_vert_nCell0_0)\n",
    "\n",
    "# check our work\n",
    "# get the cells connected to the vertex identified with xr_ID and n\n",
    "nCell_vert31235_0 = mesh.cellsOnVertex.isel(nVertices = xr_vert_nCell0_0).values\n",
    "\n",
    "# indices returned in the ncell indices. Convert ncell index to xr index\n",
    "nCell_from_vertex = n_to_xr_idx(nCell_vert31235_0)\n",
    "display(nCell_from_vertex)\n"
   ]
  }
 ],
 "metadata": {
  "kernelspec": {
   "display_name": "lanl_env",
   "language": "python",
   "name": "lanl_env"
  },
  "language_info": {
   "codemirror_mode": {
    "name": "ipython",
    "version": 3
   },
   "file_extension": ".py",
   "mimetype": "text/x-python",
   "name": "python",
   "nbconvert_exporter": "python",
   "pygments_lexer": "ipython3",
   "version": "3.13.3"
  }
 },
 "nbformat": 4,
 "nbformat_minor": 5
}

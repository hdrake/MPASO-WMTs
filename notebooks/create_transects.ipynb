{
 "cells": [
  {
   "cell_type": "code",
   "execution_count": 1,
   "id": "2aff3fa0-1e60-462a-8ddb-5075765ad04d",
   "metadata": {},
   "outputs": [],
   "source": [
    "%load_ext autoreload\n",
    "%autoreload 2\n"
   ]
  },
  {
   "cell_type": "markdown",
   "id": "8abc6817-d9c8-46a5-b4fa-1e57f3ef59e3",
   "metadata": {},
   "source": [
    "# Identify transects\n",
    "\n",
    "## Overview\n",
    "This notebook contains two ways transects (i.e., boundaries of a chosen region) can be identified. \n",
    "<ol>\n",
    "    <li> Given desired locations of points through which we want a transect to cross through, identify the consecutive edges and vertices between them. Then create a mask (i.e., find all the points that are enclosed by the transect). </li>\n",
    "    <li> Given a mask, identify consecutive edges and vertices that are on the border of this mask.</li>\n",
    "</ol>"
   ]
  },
  {
   "cell_type": "code",
   "execution_count": 2,
   "id": "166564fd-0d8d-4d8f-958d-88054404b814",
   "metadata": {},
   "outputs": [],
   "source": [
    "#Packages \n",
    "import numpy as np\n",
    "import xarray as xr\n",
    "import cmocean.cm as cmo\n",
    "import matplotlib.pyplot as plt\n",
    "import mpas_tools\n",
    "# from mpas_tools.planar_hex import make_planar_hex_mesh\n",
    "# from mpas_tools.mesh.conversion import convert, cull, mask\n",
    "# from mpas_tools.io import write_netcdf\n",
    "from geometric_features import GeometricFeatures\n",
    "from geometric_features import read_feature_collection\n",
    "\n",
    "from mpas_tools.mesh.mask import compute_mpas_region_masks\n",
    "from mpas_tools.parallel import create_pool\n",
    "from mpas_tools.io import write_netcdf\n",
    "\n",
    "import geojson\n",
    "import json\n",
    "import mosaic\n",
    "import os.path\n",
    "import mpasregions.sections as mps"
   ]
  },
  {
   "cell_type": "markdown",
   "id": "776e713d-d1dd-42da-9b97-9d64af52a00d",
   "metadata": {},
   "source": [
    "### Set up datasets\n",
    "**To create a base mask (a global \"mask\" filled with 1s):**\n",
    "```ruby\n",
    "# create a global base mask of ones everywhere. \n",
    "# We will then apply the mask where we specifically choose nCells, nVertices, and nEdges that are contained in the original mask to this basemask \n",
    "# This creates a new mask with all parts of the cell included. \n",
    "\n",
    "\n",
    "# create a base mask\n",
    "mask['regionCellMasks'] = mask.regionCellMasks * 0 + 1\n",
    "mask['regionVertexMasks'] = mask.regionVertexMasks * 0 + 1\n",
    "mask['regionEdgeMasks'] = mask.regionEdgeMasks * 0 + 1\n",
    "mask['regionNames'] = 'whole cell LS'\n",
    "mask.attrs['How to use'] = 'open separate dataset with nCell, nVertices, nEdges xr index arrays. base_mask.regionCellMasks.where(base_mask.nCells.isin(cells_inside),other = 0)'\n",
    "mask.to_netcdf('/global/homes/k/kuyeda/WMT_NBs/mpas-o_EC30to60_global_base_mask.nc',format='netCDF4',mode='w')\n",
    "mask\n",
    "```\n",
    "\n",
    "**To convert the original mask .geojson file to a .nc file:**\n",
    "```ruby\n",
    "# convert geojson to .nc mask file\n",
    "\n",
    "wmtnb_filepath = '/global/u2/k/kuyeda/WMT_NBs/'\n",
    "fcMask = read_feature_collection(wmtnb_filepath + 'LS_test.geojson')\n",
    "# pool = create_pool(process_count=8)\n",
    "dsMasks = compute_mpas_region_masks(\n",
    "    dsMesh, fcMask, maskTypes=('cell', 'vertex', 'edge'), pool=pool\n",
    ")\n",
    "# dsMasks.to_netcdf(wmtnb_filepath + 'LS_CEV_masks.nc', format='NETCDF4', mode='w')\n",
    "```\n",
    "\n",
    "**To switch between ID and indices** \n",
    "\n",
    "Code to convert between ID (called `n`) and index (called `xr`) is shown below. \n",
    "`__On__` will give `n` coordinates (IDs). \\ \n",
    "`nCells/Edges/Vertices` will give `xr` coordinates (indices).\n",
    "\n",
    "Also, just subtracting one feels easier and there is a straightforward conversion from ID (n) to index (xr) values. But the equivalent functions are below\n",
    "```ruby\n",
    "def xr_to_n_idx(xr):\n",
    "    return xr+1\n",
    "```\n",
    "\n",
    "The equivalent conversion from  the index (xr) to ID (n) is\n",
    "```ruby\n",
    "cell_part = 'Cell' # 'Edge', 'Vertex'\n",
    "ds = mesh\n",
    "def idx_to_id(idx,cell_part,ds):\n",
    "    id = ds[f'indexTo{cell_part}ID'].isel(nCells=idx).values\n",
    "    return id\n",
    "```"
   ]
  },
  {
   "cell_type": "markdown",
   "id": "53e407bb-0e0b-4457-81b0-5bb5a9eb67b0",
   "metadata": {},
   "source": [
    "### Open necessary datasets\n",
    "```mesh``` $\\rightarrow$ contains information about the mesh and cells \\\n",
    "```dso``` $\\rightarrow$ diagnostics from the simulations (datavariables we actually want to plot) \\\n",
    "```mask``` $\\rightarrow$ a mask of 0s and 1s created from a geojson file (created using geojson.io) that was then converted into a netcdf file using ```compute_mpas_region_masks``` \\\n",
    "```base_mask``` $\\rightarrow$ a mask of 1s for the entire globe.\n"
   ]
  },
  {
   "cell_type": "code",
   "execution_count": 3,
   "id": "20690b80-9d00-46c9-9ec1-f061b3b72429",
   "metadata": {},
   "outputs": [
    {
     "name": "stderr",
     "output_type": "stream",
     "text": [
      "/tmp/ipykernel_1026236/638316685.py:10: FutureWarning: In a future version, xarray will not decode timedelta values based on the presence of a timedelta-like units attribute by default. Instead it will rely on the presence of a timedelta64 dtype attribute, which is now xarray's default way of encoding timedelta64 values. To continue decoding timedeltas based on the presence of a timedelta-like units attribute, users will need to explicitly opt-in by passing True or CFTimedeltaCoder(decode_via_units=True) to decode_timedelta. To silence this warning, set decode_timedelta to True, False, or a 'CFTimedeltaCoder' instance.\n",
      "  dso = xr.open_dataset(bmm_filepath + '20210421_sim7_CORE_60to30E2r2.mpaso.hist.am.timeSeriesStatsMonthly.0063-12-01.nc')\n"
     ]
    }
   ],
   "source": [
    "# global mesh\n",
    "mesh_path = '/global/cfs/projectdirs/e3sm/inputdata/ocn/mpas-o/EC30to60E2r2/ocean.EC30to60E2r2.210210.nc'\n",
    "mesh = xr.open_dataset(mesh_path)\n",
    "mesh = mesh.assign_coords({\n",
    "\"VertexID\": xr.DataArray(mesh.indexToVertexID, dims=('nVertices',)),\n",
    "})\n",
    "\n",
    "# global data\n",
    "bmm_filepath = '/pscratch/sd/b/bmoorema/run_001_062/'\n",
    "dso = xr.open_dataset(bmm_filepath + '20210421_sim7_CORE_60to30E2r2.mpaso.hist.am.timeSeriesStatsMonthly.0063-12-01.nc')\n",
    "\n",
    "# open base mask that we will fill with 0s according to the original mask (this new mask will contain cells PLUS their corresponding edges and vertices)\n",
    "base_mask = xr.open_dataset('./mpas-o_EC30to60_global_base_mask.nc')\n"
   ]
  },
  {
   "cell_type": "code",
   "execution_count": 4,
   "id": "b0688b2f-c0f5-42ef-b68c-8ee55c48a045",
   "metadata": {},
   "outputs": [],
   "source": [
    "# set up descriptor for plotting \n",
    "# # set up mesh to apply polypcolor\n",
    "mesh.attrs['is_periodic'] = 'YES'\n",
    "mesh.attrs['x_period'] = 360\n",
    "mesh.attrs['y_period'] = 0.0\n",
    "\n",
    "descriptor = mosaic.Descriptor(mesh,use_latlon=False)"
   ]
  },
  {
   "cell_type": "markdown",
   "id": "2e858425-5a3b-4b3e-83a8-ab484e073f82",
   "metadata": {},
   "source": [
    "## Part 1: Algorithm to create transects\n",
    "### Identify transect based on desired transect location"
   ]
  },
  {
   "cell_type": "code",
   "execution_count": 5,
   "id": "d8c8adb1-0217-46e3-9103-20366d4396f2",
   "metadata": {},
   "outputs": [],
   "source": [
    "target_start_lon = 315\n",
    "target_start_lat = 60\n",
    "target_end_lon = 310\n",
    "target_end_lat = 66"
   ]
  },
  {
   "cell_type": "code",
   "execution_count": 6,
   "id": "12df667e-3201-483f-83c3-c197c448c9fe",
   "metadata": {},
   "outputs": [],
   "source": [
    "LS_lats= np.array([54, 60, 66, 64, 58])   \n",
    "LS_lons= np.array([302, 315, 310, 295, 296])\n",
    "\n",
    "LS_lats = np.append(LS_lats, LS_lats[0])\n",
    "LS_lons = np.append(LS_lons, LS_lons[0])\n",
    "\n",
    "# calculate transects from algorithm, sort vertices & edges to be in consecutive order\n",
    "test_verts, test_edges = mps.calculate_transects_multiple_pts(LS_lons, LS_lats, mesh)"
   ]
  },
  {
   "cell_type": "code",
   "execution_count": 7,
   "id": "e7d9be5a-3139-4e5e-a89d-2ff211b85806",
   "metadata": {},
   "outputs": [],
   "source": [
    "# remove the repeated vertices and edges (no backtracks)"
   ]
  },
  {
   "cell_type": "code",
   "execution_count": 8,
   "id": "32dc3933-dd2d-42a3-af8d-4ecd54de255b",
   "metadata": {},
   "outputs": [],
   "source": [
    "# you need to remove the backtracks (this is done AFTER creating a mask file with the geojson) (so this cell will need to move down)\n",
    "# for loop --> as you loop through, are there any repeats?\n",
    "# if yes to repeats --> check if the edge used to id that vertex borders a cell in the mask\n",
    "# if yes to bordering --> keep\n",
    "# if no to bordering --> remove"
   ]
  },
  {
   "cell_type": "code",
   "execution_count": 9,
   "id": "b1e7f9a3-b494-43d6-b308-192f2264e2d5",
   "metadata": {},
   "outputs": [],
   "source": [
    "# # assign index numbers to each of the chosen region masks to check sorted order \n",
    "# base_mask = xr.open_dataset('./mpas-o_EC30to60_global_base_mask.nc')\n",
    "# base_mask['regionEdgeMasks'] = base_mask.regionEdgeMasks.where(base_mask.nEdges.isin(test_edges),other=0)\n",
    "# base_mask['regionVertexMasks'] = base_mask.regionVertexMasks.where(base_mask.nVertices.isin(test_verts),other=0)\n",
    "\n",
    "# # assign index value to sorted edges and vertices \n",
    "\n",
    "# modified_test_edges = test_edges[test_edges != -1]\n",
    "# for i in range(0,len(modified_test_edges)):\n",
    "#     base_mask.regionEdgeMasks.isel(nRegions=0)[np.int32(modified_test_edges[i])]= i\n",
    "\n",
    "# for i in range(0,len(test_verts)):\n",
    "#     base_mask.regionVertexMasks.isel(nRegions=0)[np.int32(test_verts[i])]= i\n",
    "\n",
    "# fig,ax = plt.subplots(nrows=1,ncols=2,constrained_layout=True,figsize=(12,5))\n",
    "# c = mosaic.polypcolor(ax[0],descriptor,\n",
    "#                   base_mask.regionEdgeMasks.isel(nRegions=0),cmap='viridis',\n",
    "#                   antialiaseds=False)\n",
    "\n",
    "# d = mosaic.polypcolor(ax[1],descriptor,\n",
    "#                   base_mask.regionVertexMasks.isel(nRegions=0),cmap='viridis',\n",
    "#                   antialiaseds=False)\n",
    "\n",
    "# ax[0].set_title('Sorted Edges')\n",
    "# ax[1].set_title('Sorted Vertices')\n",
    "\n",
    "# # LS\n",
    "# for i in range(0,2):\n",
    "#     ax[i].set_xlim(290, 318)\n",
    "#     ax[i].set_ylim(51.5, 68)\n",
    "\n",
    "# fig.suptitle('Transect from Algorithm')"
   ]
  },
  {
   "cell_type": "markdown",
   "id": "f650f7c5-6a93-4435-9c91-0a4784b17b71",
   "metadata": {},
   "source": [
    "## Create a geojson file using the vertex lats and lons we just found. Then create a mask for all the points contained by this transect."
   ]
  },
  {
   "cell_type": "code",
   "execution_count": 10,
   "id": "83fcb448-2b91-4f9b-bae1-9a5d8490656e",
   "metadata": {},
   "outputs": [],
   "source": [
    "# get the lats and lons of the test_verts to use for creation of a geojson file\n",
    "test_verts_lats = mesh.latVertex.isel(nVertices = np.int32(test_verts)) * 180 / np.pi \n",
    "test_verts_lons = mesh.lonVertex.isel(nVertices = np.int32(test_verts)) * 180 / np.pi - 360\n",
    "\n",
    "test_verts_lonslats = np.array([test_verts_lons,test_verts_lats]).T\n",
    "list_test_verts_lonslats = test_verts_lonslats.tolist()"
   ]
  },
  {
   "cell_type": "code",
   "execution_count": 11,
   "id": "0cad784c-2c5a-4dcb-8baf-6498c85fed8c",
   "metadata": {},
   "outputs": [
    {
     "name": "stdout",
     "output_type": "stream",
     "text": [
      "LS_test_transect_from_alg.geojson exists!\n",
      "Opening LS_test_transect_from_alg.nc as dsMasks\n"
     ]
    }
   ],
   "source": [
    "# check if the geojson mask file created from a transect algorithm exists\n",
    "path = './'\n",
    "filename = 'LS_test'\n",
    "alg_filename = filename + '_transect_from_alg'\n",
    "\n",
    "check_alg_geojson_existence = os.path.isfile(path + alg_filename + '.geojson')\n",
    "\n",
    "if check_alg_geojson_existence == True:\n",
    "    print(f'{alg_filename}.geojson exists!')\n",
    "else:\n",
    "    print('Creating geojson file from vertices identified with transect algorithm')\n",
    "    \n",
    "    transect_from_alg = {\n",
    "        \"type\": \"FeatureCollection\",\n",
    "        \"features\": [{\n",
    "            \"type\": \"Feature\",\n",
    "            \"properties\":{\n",
    "                \"name\":\"Labrador Sea from transect algorithm\",\n",
    "                \"tags\":\"Labrador_Sea;Davis_Strait\",\n",
    "                \"object\":\"region\",\n",
    "                \"component\":\"ocean\",\n",
    "                \"author\":\"Kaila Uyeda\"\n",
    "            },\n",
    "            \"geometry\": {\n",
    "                \"coordinates\":[list_test_verts_lonslats],\n",
    "                \"type\": \"Polygon\"\n",
    "            }\n",
    "        }]\n",
    "    }\n",
    "\n",
    "    filepath = './'\n",
    "    # save to a geojson file\n",
    "    # with = open and then close\n",
    "    # w = write mode\n",
    "    \n",
    "    with open(filepath + f'{alg_filename}.geojson','w') as f:\n",
    "        geojson.dump(transect_from_alg, f, indent=2)\n",
    "\n",
    "    \n",
    "# check if the .nc mask file created from a transect algorithm exists\n",
    "check_alg_nc_existence = os.path.isfile(path + alg_filename + '.nc')\n",
    "check_alg_nc_existence == False\n",
    "\n",
    "if check_alg_nc_existence == True:\n",
    "    print(f'Opening {alg_filename}.nc as dsMasks')\n",
    "    dsMasks = xr.open_dataset(path + alg_filename + '.nc')\n",
    "else:\n",
    "    print('Creating netcdf mask file from geojson file (vertices identified from transect algorithm)')\n",
    "    fcMask = read_feature_collection(path + alg_filename + '.geojson')\n",
    "    # pool = create_pool(process_count=8)\n",
    "    dsMasks = compute_mpas_region_masks(mesh, fcMask, maskTypes=('cell',), pool=pool)\n",
    "    dsMasks.to_netcdf(path + alg_filename + '.nc', format='NETCDF4', mode='w')\n",
    "    dsMasks = xr.open_dataset(path + alg_filename + '.nc')\n",
    "    print(f'{alg_filename}.nc created and opened as dsMasks')\n",
    "    \n"
   ]
  },
  {
   "cell_type": "code",
   "execution_count": 12,
   "id": "0041a748-8569-4d8b-981b-e6b1e28c9a1f",
   "metadata": {},
   "outputs": [],
   "source": [
    "# create cellmasks (which cells centers are included in the masked region)\n",
    "cellmask = dsMasks.regionCellMasks.isel(nRegions=0).astype(bool)"
   ]
  },
  {
   "cell_type": "code",
   "execution_count": 13,
   "id": "5c73f1cc-aec5-42a4-9249-f1f801ceca15",
   "metadata": {},
   "outputs": [
    {
     "data": {
      "text/plain": [
       "(51.5, 68.0)"
      ]
     },
     "execution_count": 13,
     "metadata": {},
     "output_type": "execute_result"
    },
    {
     "data": {
      "image/png": "[encoded data removed]",
      "text/plain": [
       "<Figure size 1400x1000 with 1 Axes>"
      ]
     },
     "metadata": {},
     "output_type": "display_data"
    }
   ],
   "source": [
    "# plot this masked region\n",
    "fig,ax = plt.subplots(nrows=1,ncols=1,constrained_layout=True,figsize=(14,10))\n",
    "\n",
    "# plot the cellmask created from the cell centers in the mask (id'd with MPAS-tools)\n",
    "c = mosaic.polypcolor(ax,descriptor,\n",
    "                  cellmask.astype(int),cmap='OrRd',\n",
    "                  antialiaseds=False)\n",
    "\n",
    "# fig.colorbar(c, extend='both')\n",
    "\n",
    "# LS (lats and lons of vertices from transect)\n",
    "ax.scatter(test_verts_lons + 360,test_verts_lats, alpha=0.5, s=30)\n",
    "\n",
    "# LS the target start and end points when creating the algorithm\n",
    "ax.plot(LS_lons, LS_lats, \"ro\")\n",
    "\n",
    "\n",
    "ax.set_xlim(290, 318)\n",
    "ax.set_ylim(51.5, 68)\n",
    "\n",
    "#fig.suptitle('Grid variables from mask made from transect algorithm + MPAS-Tools')"
   ]
  },
  {
   "cell_type": "code",
   "execution_count": null,
   "id": "c83b590e-1439-4e13-9970-3d0ef9d0ecd4",
   "metadata": {},
   "outputs": [],
   "source": [
    "mesh"
   ]
  },
  {
   "cell_type": "code",
   "execution_count": 39,
   "id": "4f0ef44d-44ef-4373-a3f4-bc549710d2d9",
   "metadata": {},
   "outputs": [
    {
     "ename": "NameError",
     "evalue": "name 'edgemask' is not defined",
     "output_type": "error",
     "traceback": [
      "\u001b[31m---------------------------------------------------------------------------\u001b[39m",
      "\u001b[31mNameError\u001b[39m                                 Traceback (most recent call last)",
      "\u001b[36mCell\u001b[39m\u001b[36m \u001b[39m\u001b[32mIn[39]\u001b[39m\u001b[32m, line 11\u001b[39m\n\u001b[32m      5\u001b[39m new_cmap.set_under(\u001b[33m'\u001b[39m\u001b[33mmagenta\u001b[39m\u001b[33m'\u001b[39m)\n\u001b[32m      7\u001b[39m c = mosaic.polypcolor(ax[\u001b[32m0\u001b[39m],descriptor,\n\u001b[32m      8\u001b[39m                   cellmask.astype(\u001b[38;5;28mint\u001b[39m),cmap=\u001b[33m'\u001b[39m\u001b[33mviridis\u001b[39m\u001b[33m'\u001b[39m,\n\u001b[32m      9\u001b[39m                   antialiaseds=\u001b[38;5;28;01mFalse\u001b[39;00m)\n\u001b[32m     10\u001b[39m d = mosaic.polypcolor(ax[\u001b[32m1\u001b[39m],descriptor,\n\u001b[32m---> \u001b[39m\u001b[32m11\u001b[39m                   \u001b[43medgemask\u001b[49m.astype(\u001b[38;5;28mint\u001b[39m),cmap=\u001b[33m'\u001b[39m\u001b[33mviridis\u001b[39m\u001b[33m'\u001b[39m,\n\u001b[32m     12\u001b[39m                   antialiaseds=\u001b[38;5;28;01mFalse\u001b[39;00m)\n\u001b[32m     13\u001b[39m e = mosaic.polypcolor(ax[\u001b[32m2\u001b[39m],descriptor,\n\u001b[32m     14\u001b[39m                   vertexmask.astype(\u001b[38;5;28mint\u001b[39m),cmap=\u001b[33m'\u001b[39m\u001b[33mviridis\u001b[39m\u001b[33m'\u001b[39m,\n\u001b[32m     15\u001b[39m                   antialiaseds=\u001b[38;5;28;01mFalse\u001b[39;00m)\n\u001b[32m     17\u001b[39m \u001b[38;5;66;03m# fig.colorbar(c, extend='both')\u001b[39;00m\n\u001b[32m     18\u001b[39m \n\u001b[32m     19\u001b[39m \u001b[38;5;66;03m# LS\u001b[39;00m\n",
      "\u001b[31mNameError\u001b[39m: name 'edgemask' is not defined"
     ]
    },
    {
     "data": {
      "image/png": "[encoded data removed]",
      "text/plain": [
       "<Figure size 1200x500 with 3 Axes>"
      ]
     },
     "metadata": {},
     "output_type": "display_data"
    }
   ],
   "source": [
    "# # plot this masked region\n",
    "# fig,ax = plt.subplots(nrows=1,ncols=3,constrained_layout=True,figsize=(12,5))\n",
    "\n",
    "# new_cmap = plt.get_cmap('viridis')\n",
    "# new_cmap.set_under('magenta')\n",
    "\n",
    "# c = mosaic.polypcolor(ax[0],descriptor,\n",
    "#                   cellmask.astype(int),cmap='viridis',\n",
    "#                   antialiaseds=False)\n",
    "# d = mosaic.polypcolor(ax[1],descriptor,\n",
    "#                   edgemask.astype(int),cmap='viridis',\n",
    "#                   antialiaseds=False)\n",
    "# e = mosaic.polypcolor(ax[2],descriptor,\n",
    "#                   vertexmask.astype(int),cmap='viridis',\n",
    "#                   antialiaseds=False)\n",
    "\n",
    "# # fig.colorbar(c, extend='both')\n",
    "\n",
    "# # LS\n",
    "# for i in range(0,3):\n",
    "#     ax[i].set_xlim(290, 318)\n",
    "#     ax[i].set_ylim(51.5, 68)\n",
    "\n",
    "# ax[0].set_title('Cells')\n",
    "# ax[1].set_title('Edges')\n",
    "# ax[2].set_title('Vertices')\n",
    "# fig.suptitle('Grid variables from mask made from transect algorithm + MPAS-Tools')"
   ]
  },
  {
   "cell_type": "markdown",
   "id": "b54e828c-408e-486c-959d-1e1930515080",
   "metadata": {},
   "source": [
    "the mismatch between the length of the `test_verts_lons` (creating geojson file from alg transect) and the `vertex_lons` (vertices in the .nc file made from the geojson file) makes me feel like something is wrong... To which grid coordinate do the geojson lats and lons get assigned? They are using the same points (`len(np.intersect1d(test_verts_lons + 360, vertex_lons))` is equal to the length of `vertex_lons`, but I don't understand why there are `len(test_verts_lons)-len(vertex_lons)` = 15 missing points. "
   ]
  },
  {
   "cell_type": "code",
   "execution_count": null,
   "id": "b89738c2-7e7d-4268-995e-c61eecd2e72c",
   "metadata": {},
   "outputs": [],
   "source": [
    "alg_edges, alg_vertices = mps.xr_sorted_transect_edges_and_vertices(mesh,dsMasks)"
   ]
  },
  {
   "cell_type": "code",
   "execution_count": null,
   "id": "1688f8b2-3743-4dd7-9fb4-cdac1425fe62",
   "metadata": {},
   "outputs": [],
   "source": [
    "len(test_verts_lons)"
   ]
  },
  {
   "cell_type": "code",
   "execution_count": null,
   "id": "da49723a-9843-42ad-a922-37f43a52486a",
   "metadata": {},
   "outputs": [],
   "source": [
    "len(alg_vertices)"
   ]
  },
  {
   "cell_type": "code",
   "execution_count": null,
   "id": "79efdf18-c675-4c2d-88be-7655ce51be88",
   "metadata": {},
   "outputs": [],
   "source": [
    "# plot using vertex lats and lons\n",
    "vertex_lons = mesh.lonVertex.isel(nVertices = alg_vertices) * 180 / np.pi\n",
    "vertex_lats = mesh.latVertex.isel(nVertices = alg_vertices) * 180 / np.pi\n",
    "\n",
    "# plot using edge lats and lons\n",
    "edge_lons = mesh.lonEdge.isel(nEdges = alg_edges) * 180 / np.pi\n",
    "edge_lats = mesh.latEdge.isel(nEdges = alg_edges) * 180 / np.pi\n",
    "\n",
    "fig,ax = plt.subplots(nrows=1,ncols=2,constrained_layout=True,figsize=(12,5))\n",
    "v = ax[0].scatter(vertex_lons, vertex_lats,marker='.',label='vertices')\n",
    "v.set_sizes([10])\n",
    "ax[0].plot(edge_lons,edge_lats,color='red',label='edges')\n",
    "\n",
    "ax[1].plot(vertex_lons, vertex_lats, marker='.')\n",
    "s = ax[1].scatter(edge_lons,edge_lats,color='red',marker='x')\n",
    "s.set_sizes([10])\n",
    "ax[0].legend()\n",
    "\n",
    "fig.suptitle('Sorted vertex & edge locations')"
   ]
  },
  {
   "cell_type": "markdown",
   "id": "10191f88-d0e7-431d-9efb-6efc25db298f",
   "metadata": {},
   "source": [
    "<div class=\"alert alert-warning\" role=\"alert\">\n",
    "  <b>END OF TRANSECT CREATION FROM ALGORITHM </b> \n",
    "</div>\n"
   ]
  },
  {
   "cell_type": "markdown",
   "id": "b13773d1-9c6e-499b-a9e0-4bf104a28fb5",
   "metadata": {},
   "source": [
    "# Part 2: Mask to create transects"
   ]
  },
  {
   "cell_type": "code",
   "execution_count": 38,
   "id": "6da14bd0-3f0e-4c3f-a472-78a9afa5041c",
   "metadata": {},
   "outputs": [
    {
     "name": "stdout",
     "output_type": "stream",
     "text": [
      "Creating .nc file\n",
      "Using LS_test_transect_from_mask.geojson to create .nc file\n",
      "LS_test_transect_from_mask.nc created and opened as masks\n"
     ]
    }
   ],
   "source": [
    "# open mask of desired region (this is to find transects from a pre-existing mask)\n",
    "\n",
    "path = './'\n",
    "filename = 'LS_test_transect_from_mask'\n",
    "\n",
    "check_nc_existence = os.path.isfile(path + filename + '.nc')\n",
    "\n",
    "# check if .nc mask file exists\n",
    "if check_nc_existence == True:\n",
    "    print(f'Opening {filename}.nc file')\n",
    "    mask = xr.open_dataset(path + filename + '.nc')\n",
    "else: \n",
    "    print('Creating .nc file')\n",
    "    check_geojson_existence = os.path.isfile(path + filename + '.geojson')\n",
    "\n",
    "    # convert LS_test.geojson to LS_test.nc mask file\n",
    "    if check_geojson_existence == True:\n",
    "        print(f'Using {filename}.geojson to create .nc file')\n",
    "        fcMask = read_feature_collection(path + filename + '.geojson')\n",
    "        # pool = create_pool(process_count=8)\n",
    "        dsMasks = compute_mpas_region_masks(mesh, fcMask, maskTypes =('cell',), pool=pool)\n",
    "        dsMasks.to_netcdf(path + filename + '.nc', format='NETCDF4', mode='w')\n",
    "        mask = xr.open_dataset(path + filename + '.nc')\n",
    "        print(f'{filename}.nc created and opened as masks')\n",
    "    else:\n",
    "        print(f'{filename}.geojson does NOT exist!')\n"
   ]
  },
  {
   "cell_type": "code",
   "execution_count": null,
   "id": "6b33389a-bb77-4496-9043-02ac0793c0f4",
   "metadata": {},
   "outputs": [],
   "source": [
    "next_edges, next_vertices = mps.xr_sorted_transect_edges_and_vertices(mesh,mask)"
   ]
  },
  {
   "cell_type": "code",
   "execution_count": null,
   "id": "edb99a0e-c6e2-4be5-9395-4fe303c21241",
   "metadata": {},
   "outputs": [],
   "source": [
    "base_mask = xr.open_dataset('./mpas-o_EC30to60_global_base_mask.nc')\n",
    "# LS\n",
    "base_mask['regionEdgeMasks'] = base_mask.regionEdgeMasks.where(base_mask.nEdges.isin(next_edges),other=0)\n",
    "base_mask['regionVertexMasks'] = base_mask.regionVertexMasks.where(base_mask.nVertices.isin(next_vertices),other=0)\n",
    "\n",
    "for i in range(0,len(next_edges)):\n",
    "    base_mask.regionEdgeMasks.isel(nRegions=0)[np.int32(next_edges[i])]= i+1\n",
    "\n",
    "for i in range(0,len(next_edges)):\n",
    "    base_mask.regionVertexMasks.isel(nRegions=0)[np.int32(next_vertices[i])]= i+1\n",
    "\n",
    "\n",
    "fig,ax = plt.subplots(nrows=1,ncols=2,constrained_layout=True,figsize=(12,5))\n",
    "\n",
    "new_cmap = plt.get_cmap('viridis')\n",
    "new_cmap.set_under('magenta')\n",
    "\n",
    "c = mosaic.polypcolor(ax[0],descriptor,\n",
    "                  base_mask.regionEdgeMasks.isel(nRegions=0),cmap=new_cmap,vmin=1,\n",
    "                  antialiaseds=False)\n",
    "\n",
    "d = mosaic.polypcolor(ax[1],descriptor,\n",
    "                  base_mask.regionVertexMasks.isel(nRegions=0),cmap=new_cmap,vmin=1,\n",
    "                  antialiaseds=False)\n",
    "\n",
    "\n",
    "# LS\n",
    "for i in range(0,2):\n",
    "    ax[i].set_xlim(290, 318)\n",
    "    ax[i].set_ylim(51.5, 68)\n",
    "\n",
    "ax[0].set_title('Sorted edges')\n",
    "ax[1].set_title('Sorted vertices')\n",
    "\n",
    "fig.suptitle('Transect from Mask')"
   ]
  },
  {
   "cell_type": "code",
   "execution_count": null,
   "id": "76b5c833-49f0-4ccc-8051-0b6c7a93d836",
   "metadata": {},
   "outputs": [],
   "source": [
    "# plot using vertex lats and lons\n",
    "vertex_lons = mesh.lonVertex.isel(nVertices = next_vertices) * 180 / np.pi\n",
    "vertex_lats = mesh.latVertex.isel(nVertices = next_vertices) * 180 / np.pi\n",
    "\n",
    "# plot using edge lats and lons\n",
    "edge_lons = mesh.lonEdge.isel(nEdges = np.int32(next_edges)) * 180 / np.pi\n",
    "edge_lats = mesh.latEdge.isel(nEdges = np.int32(next_edges)) * 180 / np.pi\n",
    "\n",
    "fig,ax = plt.subplots(nrows=1,ncols=2,constrained_layout=True,figsize=(12,5))\n",
    "v = ax[0].scatter(vertex_lons, vertex_lats,marker='.',label='vertices')\n",
    "v.set_sizes([10])\n",
    "ax[0].plot(edge_lons,edge_lats,color='red',label='edges')\n",
    "\n",
    "ax[1].plot(vertex_lons, vertex_lats, marker='.')\n",
    "s = ax[1].scatter(edge_lons,edge_lats,color='red',marker='x')\n",
    "s.set_sizes([10])\n",
    "ax[0].legend()\n",
    "\n",
    "fig.suptitle('Sorted vertex & edge locations')"
   ]
  }
 ],
 "metadata": {
  "kernelspec": {
   "display_name": "lanl_env",
   "language": "python",
   "name": "lanl_env"
  },
  "language_info": {
   "codemirror_mode": {
    "name": "ipython",
    "version": 3
   },
   "file_extension": ".py",
   "mimetype": "text/x-python",
   "name": "python",
   "nbconvert_exporter": "python",
   "pygments_lexer": "ipython3",
   "version": "3.13.3"
  }
 },
 "nbformat": 4,
 "nbformat_minor": 5
}

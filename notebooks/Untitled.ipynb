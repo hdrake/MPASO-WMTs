{
 "cells": [
  {
   "cell_type": "code",
   "execution_count": 2,
   "id": "113cdc47-a0a4-4d27-a1dc-5cae4f083cae",
   "metadata": {},
   "outputs": [],
   "source": [
    "import mpasregions"
   ]
  },
  {
   "cell_type": "code",
   "execution_count": 3,
   "id": "24586433-1e69-4b81-a9f0-b56af2cff163",
   "metadata": {},
   "outputs": [
    {
     "name": "stdout",
     "output_type": "stream",
     "text": [
      "Hi. testing.\n"
     ]
    }
   ],
   "source": [
    "mpasregions.test_func()"
   ]
  },
  {
   "cell_type": "code",
   "execution_count": 4,
   "id": "1a5256c3-94b7-43cf-a682-325941bedae4",
   "metadata": {},
   "outputs": [
    {
     "data": {
      "text/plain": [
       "'0.0.1'"
      ]
     },
     "execution_count": 4,
     "metadata": {},
     "output_type": "execute_result"
    }
   ],
   "source": [
    "mpasregions.__version__"
   ]
  },
  {
   "cell_type": "code",
   "execution_count": null,
   "id": "b296bccc-98de-4afa-8033-078cc0177084",
   "metadata": {},
   "outputs": [],
   "source": []
  }
 ],
 "metadata": {
  "kernelspec": {
   "display_name": "lanl_env",
   "language": "python",
   "name": "lanl_env"
  },
  "language_info": {
   "codemirror_mode": {
    "name": "ipython",
    "version": 3
   },
   "file_extension": ".py",
   "mimetype": "text/x-python",
   "name": "python",
   "nbconvert_exporter": "python",
   "pygments_lexer": "ipython3",
   "version": "3.13.3"
  }
 },
 "nbformat": 4,
 "nbformat_minor": 5
}

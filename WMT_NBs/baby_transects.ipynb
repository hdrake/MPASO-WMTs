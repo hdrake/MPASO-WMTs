{
 "cells": [
  {
   "cell_type": "markdown",
   "id": "8abc6817-d9c8-46a5-b4fa-1e57f3ef59e3",
   "metadata": {},
   "source": [
    "## Baby attempt at algorithm for determining transects\n",
    "\n",
    "### some notes\n",
    "`isel` with `xr` coordinate (index).\\\n",
    "Returns datavariable in `n` coordinate (ID).\n",
    "\n",
    "## Part 1: Create mask\n",
    "### Objective\n",
    "We will use the mask to select all of the cells that appear in the original mask. We will\n",
    "\n",
    "<ol>\n",
    "    <li>Select all of the cells that appear in the original mask.</li>\n",
    "    <li>Of those cells, select their corresponding vertices and edges to include inside the mask (this prevents cells from being halved if the original mask were to be applied).</li>\n",
    "    <li>Select these cells, edges, and vertices in the base_mask to create a new mask.</li>\n",
    "    <li>Apply this mask to the dso datavariable to plot the datavariable in the new masked area.</li>\n",
    "</ol>"
   ]
  },
  {
   "cell_type": "code",
   "execution_count": 111,
   "id": "166564fd-0d8d-4d8f-958d-88054404b814",
   "metadata": {},
   "outputs": [],
   "source": [
    "#Packages \n",
    "import numpy as np\n",
    "import xarray as xr\n",
    "import cmocean.cm as cmo\n",
    "import matplotlib.pyplot as plt\n",
    "import mpas_tools\n",
    "from mpas_tools.planar_hex import make_planar_hex_mesh\n",
    "from mpas_tools.mesh.conversion import convert, cull, mask\n",
    "from mpas_tools.io import write_netcdf\n",
    "from geometric_features import GeometricFeatures\n",
    "from geometric_features import read_feature_collection\n",
    "\n",
    "from geometric_features import read_feature_collection\n",
    "from mpas_tools.mesh.mask import compute_mpas_region_masks\n",
    "from mpas_tools.parallel import create_pool\n",
    "from mpas_tools.io import write_netcdf\n",
    "\n",
    "import json\n",
    "import mosaic"
   ]
  },
  {
   "cell_type": "markdown",
   "id": "776e713d-d1dd-42da-9b97-9d64af52a00d",
   "metadata": {},
   "source": [
    "### Set up datasets\n",
    "**To create a base mask (a global \"mask\" filled with 1s):**\n",
    "```ruby\n",
    "# create a global base mask of ones everywhere. \n",
    "# We will then apply the mask where we specifically choose nCells, nVertices, and nEdges that are contained in the original mask to this basemask \n",
    "# This creates a new mask with all parts of the cell included. \n",
    "\n",
    "\n",
    "# create a base mask\n",
    "mask['regionCellMasks'] = mask.regionCellMasks * 0 + 1\n",
    "mask['regionVertexMasks'] = mask.regionVertexMasks * 0 + 1\n",
    "mask['regionEdgeMasks'] = mask.regionEdgeMasks * 0 + 1\n",
    "mask['regionNames'] = 'whole cell LS'\n",
    "mask.attrs['How to use'] = 'open separate dataset with nCell, nVertices, nEdges xr index arrays. base_mask.regionCellMasks.where(base_mask.nCells.isin(cells_inside),other = 0)'\n",
    "mask.to_netcdf('/global/homes/k/kuyeda/WMT_NBs/mpas-o_EC30to60_global_base_mask.nc',format='netCDF4',mode='w')\n",
    "mask\n",
    "```\n",
    "\n",
    "**To convert the original mask .geojson file to a .nc file:**\n",
    "```ruby\n",
    "# convert geojson to .nc mask file\n",
    "\n",
    "wmtnb_filepath = '/global/u2/k/kuyeda/WMT_NBs/'\n",
    "fcMask = read_feature_collection(wmtnb_filepath + 'LS_test.geojson')\n",
    "# pool = create_pool(process_count=8)\n",
    "dsMasks = compute_mpas_region_masks(\n",
    "    dsMesh, fcMask, maskTypes=('cell', 'vertex', 'edge'), pool=pool\n",
    ")\n",
    "# dsMasks.to_netcdf(wmtnb_filepath + 'LS_CEV_masks.nc', format='NETCDF4', mode='w')\n",
    "```"
   ]
  },
  {
   "cell_type": "markdown",
   "id": "53e407bb-0e0b-4457-81b0-5bb5a9eb67b0",
   "metadata": {},
   "source": [
    "### Open necessary datasets\n",
    "```mesh``` $\\rightarrow$ contains information about the mesh and cells \\\n",
    "```dso``` $\\rightarrow$ diagnostics from the simulations (datavariables we actually want to plot) \\\n",
    "```mask``` $\\rightarrow$ a mask of 0s and 1s created from a geojson file (created using geojson.io) that was then converted into a netcdf file using ```compute_mpas_region_masks``` \\\n",
    "```base_mask``` $\\rightarrow$ a mask of 1s for the entire globe.\n"
   ]
  },
  {
   "cell_type": "code",
   "execution_count": 112,
   "id": "20690b80-9d00-46c9-9ec1-f061b3b72429",
   "metadata": {},
   "outputs": [
    {
     "name": "stderr",
     "output_type": "stream",
     "text": [
      "/tmp/ipykernel_344038/3657922681.py:10: FutureWarning: In a future version, xarray will not decode timedelta values based on the presence of a timedelta-like units attribute by default. Instead it will rely on the presence of a timedelta64 dtype attribute, which is now xarray's default way of encoding timedelta64 values. To continue decoding timedeltas based on the presence of a timedelta-like units attribute, users will need to explicitly opt-in by passing True or CFTimedeltaCoder(decode_via_units=True) to decode_timedelta. To silence this warning, set decode_timedelta to True, False, or a 'CFTimedeltaCoder' instance.\n",
      "  dso = xr.open_dataset(bmm_filepath + '20210421_sim7_CORE_60to30E2r2.mpaso.hist.am.timeSeriesStatsMonthly.0063-12-01.nc')\n"
     ]
    }
   ],
   "source": [
    "# global mesh\n",
    "mesh_path = '/global/cfs/projectdirs/e3sm/inputdata/ocn/mpas-o/EC30to60E2r2/ocean.EC30to60E2r2.210210.nc'\n",
    "mesh = xr.open_dataset(mesh_path)\n",
    "mesh = mesh.assign_coords({\n",
    "\"VertexID\": xr.DataArray(mesh.indexToVertexID, dims=('nVertices',)),\n",
    "})\n",
    "\n",
    "# global data\n",
    "bmm_filepath = '/pscratch/sd/b/bmoorema/run_001_062/'\n",
    "dso = xr.open_dataset(bmm_filepath + '20210421_sim7_CORE_60to30E2r2.mpaso.hist.am.timeSeriesStatsMonthly.0063-12-01.nc')\n",
    "\n",
    "# open original (from geojson file) mask to use to make dataset smaller\n",
    "wmtnb_filepath = './'\n",
    "mask = xr.open_dataset(wmtnb_filepath + 'LS_CEV_masks.nc')\n",
    "\n",
    "# open base mask that we will fill with 0s according to the original mask (this new mask will contain cells PLUS their corresponding edges and vertices)\n",
    "base_mask = xr.open_dataset('./mpas-o_EC30to60_global_base_mask.nc')"
   ]
  },
  {
   "cell_type": "markdown",
   "id": "62443c2b-364e-4538-9844-7432719ee7ae",
   "metadata": {},
   "source": [
    "### functions to convert between index (xr) and ID (n) "
   ]
  },
  {
   "cell_type": "code",
   "execution_count": 113,
   "id": "b70139f1-03f6-4f6e-83a9-5ae00baa867e",
   "metadata": {},
   "outputs": [],
   "source": [
    "def n_to_xr_idx(n):\n",
    "    return n-1\n",
    "\n",
    "def xr_to_n_idx(xr):\n",
    "    return xr+1"
   ]
  },
  {
   "cell_type": "markdown",
   "id": "7665ed8f-2fe0-4f3f-b47b-9d75f681a8bb",
   "metadata": {},
   "source": [
    "This code below can be rewritten to use `mesh.indexToEdgeID` or something related to it, but the I/O was messed up the day that I was doing this, so we're using the `n_to_xr_idx` and the `xr_to_n_idx` functions.\n",
    "Also, just subtracting one feels easier and there is a straightforward conversion from ID (n) to index (xr) values. But the equivalent functions are below\n",
    "```ruby\n",
    "def xr_to_n_idx(xr):\n",
    "    return xr+1\n",
    "```\n",
    "\n",
    "The equivalent conversion from  the index (xr) to ID (n) is\n",
    "```ruby\n",
    "cell_part = 'Cell' # 'Edge', 'Vertex'\n",
    "ds = mesh\n",
    "def idx_to_id(idx,cell_part,ds):\n",
    "    id = ds[f'indexTo{cell_part}ID'].isel(nCells=idx).values\n",
    "    return id\n",
    "```"
   ]
  },
  {
   "cell_type": "markdown",
   "id": "19fc0535-41ce-4026-8cc8-e5b5d513d8e5",
   "metadata": {},
   "source": [
    "### function to get cells, edges, and vertices inside a mask"
   ]
  },
  {
   "cell_type": "code",
   "execution_count": 114,
   "id": "d7171751-2d05-4d1a-88bc-b676a120775f",
   "metadata": {},
   "outputs": [],
   "source": [
    "def xr_inside_mask_info(mesh,mask):\n",
    "    # STEP 1: Select all of the cells inside teh mask\n",
    "    # create mask of cells so that whole cells are included in the mask\n",
    "    cellmask = mask.regionCellMasks.isel(nRegions=0).astype(bool)\n",
    "    \n",
    "    # --------- GET CELLS IN XR COORDINATES --------------\n",
    "    # apply the mask to the mesh \n",
    "    # this returns cells in the xr coordinate\n",
    "    xr_cells_inside = np.int32(mesh.nCells.where(cellmask,drop=True))\n",
    "    \n",
    "    # --------- GET VERTICES IN XR COORDINATES --------------\n",
    "    \n",
    "    # we also need all the vertices associated with the cells_inside masked mesh\n",
    "    # this returns vertices in the n coordinate\n",
    "    n_vertices_inside = mesh.verticesOnCell.isel(nCells=xr_cells_inside)\n",
    "    \n",
    "    # we want the vertices in the xr coordinate\n",
    "    xr_vertices_inside_raw = n_to_xr_idx(n_vertices_inside)\n",
    "    \n",
    "    # remove repeat vertex values, remove -1 values (these were originally 0s and represented \"blank\" array spaces where there were fewer than 7 vertices\n",
    "    xr_vertices_inside = np.delete(np.unique(xr_vertices_inside_raw), np.unique(xr_vertices_inside_raw)==-1)\n",
    "    \n",
    "    # --------- GET EDGES IN XR COORDINATES --------------\n",
    "    \n",
    "    # we also need all the edges associated with the cells_inside masked mesh\n",
    "    # this returns edges in the n coordinate\n",
    "    n_edges_inside = mesh.edgesOnCell.isel(nCells=xr_cells_inside)\n",
    "    \n",
    "    # we want  the edges in the xr coordinate\n",
    "    xr_edges_inside_raw = n_to_xr_idx(n_edges_inside)\n",
    "    \n",
    "    # remove repeat edge values, remove -1 values (these were originally 0s and represented \"blank\" array spaces where there were fewer than 7 edges\n",
    "    xr_edges_inside = np.delete(np.unique(xr_edges_inside_raw), np.unique(xr_edges_inside_raw)==-1)\n",
    "\n",
    "    return xr_cells_inside, xr_vertices_inside, xr_edges_inside"
   ]
  },
  {
   "cell_type": "markdown",
   "id": "0a23c7da-7998-4fec-a923-59d6bd15c898",
   "metadata": {},
   "source": [
    "### Step 1 & 2. Select all of the cells that appear inside the original mask and their corresponding vertices and edges. "
   ]
  },
  {
   "cell_type": "code",
   "execution_count": 115,
   "id": "b878d080-a300-408c-8860-9d0e61bb3275",
   "metadata": {},
   "outputs": [],
   "source": [
    "xr_cells_inside, xr_vertices_inside, xr_edges_inside = xr_inside_mask_info(mesh,mask)"
   ]
  },
  {
   "cell_type": "markdown",
   "id": "78b81b9a-1014-4bc5-8879-c6c982188257",
   "metadata": {},
   "source": [
    "### Step 3. Create a new mask that contains all of the cells inside with their corresponding vertices and edges. "
   ]
  },
  {
   "cell_type": "code",
   "execution_count": 116,
   "id": "ef57086f-ab3b-417b-9ef9-055c0023a102",
   "metadata": {},
   "outputs": [],
   "source": [
    "base_mask['regionCellMasks'] = base_mask.regionCellMasks.where(base_mask.nCells.isin(xr_cells_inside), other = 0)\n",
    "base_mask['regionVertexMasks'] = base_mask.regionVertexMasks.where(base_mask.nVertices.isin(xr_vertices_inside), other = 0)\n",
    "base_mask['regionEdgeMasks'] = base_mask.regionEdgeMasks.where(base_mask.nEdges.isin(xr_edges_inside), other = 0)\n",
    "LS_mask_whole_cells = base_mask"
   ]
  },
  {
   "cell_type": "code",
   "execution_count": 117,
   "id": "6b82575a-73f6-4175-85d8-ef2dfde4b3c4",
   "metadata": {},
   "outputs": [],
   "source": [
    "# convert the 1s and 0s new mask to boolean T/F\n",
    "cellmask = LS_mask_whole_cells.regionCellMasks.isel(nRegions=0).astype(bool)\n",
    "edgemask = LS_mask_whole_cells.regionEdgeMasks.isel(nRegions=0).astype(bool)\n",
    "vertexmask = LS_mask_whole_cells.regionVertexMasks.isel(nRegions=0).astype(bool)"
   ]
  },
  {
   "cell_type": "markdown",
   "id": "cf384601-334c-4ac6-8466-1bfb8946e401",
   "metadata": {},
   "source": [
    "### Step 4. Apply this mask to the dso variable to plot the datavariable in the new masked area. "
   ]
  },
  {
   "cell_type": "code",
   "execution_count": 118,
   "id": "7ed27e46-ccc5-47bd-855b-f71e9d23a94d",
   "metadata": {},
   "outputs": [
    {
     "data": {
      "text/plain": [
       "(51.5, 68.0)"
      ]
     },
     "execution_count": 118,
     "metadata": {},
     "output_type": "execute_result"
    },
    {
     "data": {
      "image/png": "[encoded data removed]",
      "text/plain": [
       "<Figure size 640x480 with 2 Axes>"
      ]
     },
     "metadata": {},
     "output_type": "display_data"
    }
   ],
   "source": [
    "\n",
    "# scratch plot to check stuff\n",
    "# set up mesh to apply polypcolor\n",
    "mesh.attrs['is_periodic'] = 'YES'\n",
    "mesh.attrs['x_period'] = 360\n",
    "mesh.attrs['y_period'] = 0.0\n",
    "\n",
    "descriptor = mosaic.Descriptor(mesh,use_latlon=False)\n",
    "\n",
    "\n",
    "# ds_t0 = dso['timeMonthly_avg_activeTracers_temperature'].isel(nVertLevels=30,Time=0)\n",
    "\n",
    "ds_t0 = dso['timeMonthly_avg_latentHeatFlux'].isel(Time=0)\n",
    "\n",
    "# remove the nans\n",
    "if ds_t0.min() < -9**33:\n",
    "    ds_nonans = ds_t0.where(ds_t0 > -9**33)\n",
    "    print('fake nans detected')\n",
    "else:\n",
    "    ds_nonans = ds_t0\n",
    "\n",
    "# apply the mask\n",
    "ds_masked = ds_nonans.where(cellmask,drop=False)\n",
    "\n",
    "# plot\n",
    "fig,ax = plt.subplots(nrows=1,ncols=1,constrained_layout=True)\n",
    "c = mosaic.polypcolor(ax,descriptor,\n",
    "                  ds_masked,cmap='viridis',\n",
    "                  antialiaseds=False)\n",
    "fig.colorbar(c, extend='both')\n",
    "ax.set_xlim(290, 318)\n",
    "ax.set_ylim(51.5, 68)"
   ]
  },
  {
   "cell_type": "markdown",
   "id": "e5d7f6c3-bbcb-472e-9c8b-44b26bef6dba",
   "metadata": {},
   "source": [
    "<div class=\"alert alert-block alert-info\">\n",
    "<b>All above this is correct:</b> Stop.\n",
    "</div>"
   ]
  },
  {
   "cell_type": "markdown",
   "id": "2e858425-5a3b-4b3e-83a8-ab484e073f82",
   "metadata": {},
   "source": [
    "## Part 2: Algorithm to create transects"
   ]
  },
  {
   "cell_type": "markdown",
   "id": "f80c32a9-c6b6-430c-b403-2096112d744b",
   "metadata": {},
   "source": [
    "## Identify transect based on desired transect location"
   ]
  },
  {
   "cell_type": "markdown",
   "id": "53b25142-e44f-48fa-868d-1c8f06a522e7",
   "metadata": {},
   "source": [
    "### function to select dso data inside mask"
   ]
  },
  {
   "cell_type": "code",
   "execution_count": 119,
   "id": "f87a030b-622e-4de5-a949-a7d0252c58c9",
   "metadata": {},
   "outputs": [],
   "source": [
    "def format_ds(xr_cells_inside_ints, ds, datavariable):\n",
    "    # select just the cells in the masked area\n",
    "    ds_masked = ds[datavariable].isel(nCells=xr_cells_inside_ints)\n",
    "\n",
    "    # remove the nans\n",
    "    if ds_masked.min() > 10**33:\n",
    "        print('fake nans detected')\n",
    "        ds_nonans = ds_masked.where(ds != ds_masked.min())\n",
    "    else:\n",
    "        ds_nonans = ds_masked\n",
    "\n",
    "    # select a specific time\n",
    "    ds_formatted = ds_nonans.to_dataset(name=datavariable)\n",
    "    \n",
    "    return ds_formatted"
   ]
  },
  {
   "cell_type": "markdown",
   "id": "38d5410b-664f-4d83-8eb2-17b8d3b8e5c3",
   "metadata": {},
   "source": [
    "### function to calculate distance between 2 points on a sphere (directly copied from henri's `sectionate/section.py` script"
   ]
  },
  {
   "cell_type": "code",
   "execution_count": 120,
   "id": "d5956061-4aec-47ee-aa07-ea196f6c80f8",
   "metadata": {},
   "outputs": [],
   "source": [
    "def distance_on_unit_sphere(lon1, lat1, lon2, lat2, R=6.371e6, method=\"vincenty\"):\n",
    "    \"\"\"\n",
    "    Calculate geodesic arc distance between points (lon1, lat1) and (lon2, lat2).\n",
    "\n",
    "    PARAMETERS:\n",
    "    -----------\n",
    "        lon1 : float\n",
    "            Start longitude(s), in degrees\n",
    "        lat1 : float\n",
    "            Start latitude(s), in degrees\n",
    "        lon2 : float\n",
    "            End longitude(s), in degrees\n",
    "        lat2 : float\n",
    "            End latitude(s), in degrees\n",
    "        R : float\n",
    "            Radius of sphere. Default: 6.371e6 (realistic Earth value). Set to 1 for\n",
    "            arc distance in radius.\n",
    "        method : str\n",
    "            Name of method. Supported methods: [\"vincenty\", \"haversine\", \"law of cosines\"].\n",
    "            Default: \"vincenty\", which is the most robust. Note, however, that it still can result in\n",
    "            vanishingly small (but crucially non-zero) errors; such as that the distance between (0., 0.)\n",
    "            and (360., 0.) is 1.e-16 meters when it should be identically zero.\n",
    "\n",
    "    RETURNS:\n",
    "    --------\n",
    "\n",
    "    dist : float\n",
    "        Geodesic distance between points (lon1, lat1) and (lon2, lat2).\n",
    "    \"\"\"\n",
    "    \n",
    "    phi1 = np.deg2rad(lat1)\n",
    "    phi2 = np.deg2rad(lat2)\n",
    "    dphi = np.abs(phi2-phi1)\n",
    "    \n",
    "    lam1 = np.deg2rad(lon1)\n",
    "    lam2 = np.deg2rad(lon2)\n",
    "    dlam = np.abs(lam2-lam1)\n",
    "    \n",
    "    if method==\"vincenty\":\n",
    "        numerator = np.sqrt(\n",
    "            (np.cos(phi2)*np.sin(dlam))**2 +\n",
    "            (np.cos(phi1)*np.sin(phi2) - np.sin(phi1)*np.cos(phi2)*np.cos(dlam))**2\n",
    "        )\n",
    "        denominator = np.sin(phi1)*np.sin(phi2) + np.cos(phi1)*np.cos(phi2)*np.cos(dlam)\n",
    "        arc = np.arctan2(numerator, denominator)\n",
    "        \n",
    "    elif method==\"haversine\":\n",
    "        arc = 2*np.arcsin(np.sqrt(\n",
    "            np.sin(dphi/2.)**2 + (1. - np.sin(dphi/2.)**2 - np.sin((phi1+phi2)/2.)**2)*np.sin(dlam/2.)**2\n",
    "        ))\n",
    "    \n",
    "        \n",
    "    elif method==\"law of cosines\":\n",
    "        arc = np.arccos(\n",
    "            np.sin(phi1)*np.sin(phi2) + np.cos(phi1)*np.cos(phi2)*np.cos(dlam)\n",
    "        )\n",
    "\n",
    "    return R * arc\n"
   ]
  },
  {
   "cell_type": "markdown",
   "id": "a29da991-acc8-4d0e-8abb-71b8a4823ad8",
   "metadata": {},
   "source": [
    "### function that uses an algorithm to create transects given a start and end point. "
   ]
  },
  {
   "cell_type": "code",
   "execution_count": 121,
   "id": "fb3a10ad-27b6-44d9-b1cc-55c049a859f3",
   "metadata": {},
   "outputs": [],
   "source": [
    "# function to calculate transect given a target start point, target end point, and mesh\n",
    "def calculate_transects(target_start_lat, target_start_lon, target_end_lat, target_end_lon, mesh, mask):\n",
    "    \"\"\"\n",
    "    Calculate transects given a defined target start and end point.\n",
    "\n",
    "    PARAMETERS:\n",
    "    -----------\n",
    "        target_start_lat : float\n",
    "            Target start latitude, in degrees\n",
    "        target_start_lon : float\n",
    "            Target start longitude, in degrees\n",
    "        target_end_lat : float\n",
    "            Target end latitude, in degrees\n",
    "        mesh: xarray.core.dataset.Dataset\n",
    "            Mesh dataset containing lat/lon Cell/Edge/Vertex\n",
    "        mask: xarray.core.dataset.Dataset\n",
    "            Mask of 0s and 1s to define the desired study region (can be created using __ function)\n",
    "            \n",
    "    RETURNS:\n",
    "    -----------\n",
    "        next_vertices: np.ndarray\n",
    "            xr indices of nVertices that define the transect\n",
    "        xr_transect_edges: np.ndarray\n",
    "            xr indices of edges that define the transect\n",
    "        \n",
    "    \"\"\"\n",
    "    # ---------- INITIATE START VERTEX ----------------\n",
    "    # of these transect cells, select the one that is closest to the desired starting point.\n",
    "    # desired values in deg\n",
    "    # distance_on_unit_sphere(lon1, lat1, lon2, lat 2)\n",
    "    # find the shortest path between the two points\n",
    "    # of all of the points, find the vertex that is closest to the desired start point\n",
    "    distance = distance_on_unit_sphere(mesh.lonVertex * 180/np.pi, mesh.latVertex * 180/np.pi, target_start_lon, target_start_lat)\n",
    "    xr_start_vertex = distance.argmin()\n",
    "    n_start_vertex = xr_to_n_idx(xr_start_vertex)\n",
    "\n",
    "    # repeat to find the vertex that is closest to the desired end point\n",
    "    dist_to_end = distance_on_unit_sphere(mesh.lonVertex * 180/np.pi, mesh.latVertex * 180/np.pi, target_end_lon, target_end_lat)\n",
    "    xr_end_vertex = dist_to_end.argmin()\n",
    "    end_lon = mesh.isel(nVertices = xr_end_vertex).lonVertex * 180/np.pi\n",
    "    end_lat = mesh.isel(nVertices = xr_end_vertex).latVertex * 180/np.pi\n",
    "\n",
    "    print('start vertex is ','(lon,lat)= (', np.float32(mesh.lonVertex.isel(nVertices=xr_start_vertex).values * 180/np.pi), \n",
    "                                             ', ' , np.float32(mesh.latVertex.isel(nVertices=xr_start_vertex).values * 180/np.pi), ')')\n",
    "    print('start vertex xr_index is ', xr_start_vertex.values)\n",
    "\n",
    "    # ---------- FIND NEXT VERTEX ----------------\n",
    "    start_vertices = np.array([])\n",
    "    next_vertices = np.array([])\n",
    "    \n",
    "    count = 0\n",
    "\n",
    "    while distance.min() > 5000:\n",
    "        # get the edges attached to the start vertex\n",
    "        n_edgesOnStartVertex = mesh.edgesOnVertex.isel(nVertices = xr_start_vertex)\n",
    "        xr_edgesOnStartVertex = n_to_xr_idx(n_edgesOnStartVertex)\n",
    "        \n",
    "        # check that the edges you selected are connected to the start vertex (returns in n indices)\n",
    "        # mesh.verticesOnEdge.isel(nEdges = xr_edgesOnStartVertex[0])\n",
    "        \n",
    "        # for each of these edges, find the vertices they are connected to and then remove the start_vertex (we don't want to \"travel back\" to that vertex)\n",
    "        n_vertices_nextToStartVertex = np.unique(mesh.verticesOnEdge.isel(nEdges = np.int32(xr_edgesOnStartVertex)))\n",
    "        xr_vertices_nextToStartVertex = n_to_xr_idx(n_vertices_nextToStartVertex)\n",
    "        # print(xr_vertices_nextToStartVertex)\n",
    "    \n",
    "        used_vertices = np.union1d(start_vertices, xr_start_vertex)\n",
    "        \n",
    "        xr_vertices_nextToStartVertex_Use = np.delete(xr_vertices_nextToStartVertex, np.where(np.isin(xr_vertices_nextToStartVertex, used_vertices)))\n",
    "        # print(xr_vertices_nextToStartVertex_Use)\n",
    "        # calculate the distance from these new vertices to the desired end point\n",
    "            # retrieve the lat and lon of the vertex\n",
    "        ds_vertices_nextLatLon = mesh[['lonVertex','latVertex']].where(mesh.nVertices.isin(xr_vertices_nextToStartVertex_Use))\n",
    "        ds_vertices_nextLatLon['lonVertex'] = ds_vertices_nextLatLon.lonVertex * 180 / np.pi\n",
    "        ds_vertices_nextLatLon['latVertex'] = ds_vertices_nextLatLon.latVertex * 180 / np.pi\n",
    "        \n",
    "            # calculate the distance between the next vertices and the end\n",
    "        distance = distance_on_unit_sphere(ds_vertices_nextLatLon.lonVertex, ds_vertices_nextLatLon.latVertex, end_lon, end_lat)\n",
    "        \n",
    "            # select the nVertex that is the shortest distance from the end point\n",
    "        xr_chosen_nextVertex = distance.argmin()\n",
    "        \n",
    "        # ---------- UPDATE ARRAYS ----------------\n",
    "        # store vertices\n",
    "        start_vertices = np.append(start_vertices, xr_start_vertex)\n",
    "        next_vertices = np.append(next_vertices, xr_chosen_nextVertex)\n",
    "    \n",
    "        xr_start_vertex = xr_chosen_nextVertex \n",
    "    \n",
    "        # if count%100==0:\n",
    "        #     print('(lon,lat)= (', mesh.lonVertex.isel(nVertices=xr_chosen_nextVertex).values * 180/np.pi, mesh.latVertex.isel(nVertices=xr_chosen_nextVertex).values * 180/np.pi, ')')\n",
    "        #     print('xr vertex = ', xr_start_vertex.values)\n",
    "        count +=1\n",
    "        if distance.min() < 10000: # 1 grid cell ~ 100km. distance is measured in meters (see R units) \n",
    "            break\n",
    "\n",
    "# ---------- FIND EDGES OF TRANSECT ---------------- \n",
    "    # We want to identify the edges that connect the vertices. The vertices are already ordered consecutively (because the transects are built from an algorithm)\n",
    "    # We will take advantage of this fact using a for loop to extract the edges that are shared between vertices next to each other\n",
    "    \n",
    "    # modify next_vertices to also include the start vertex\n",
    "    next_vertices = np.insert(next_vertices, 0, n_to_xr_idx(n_start_vertex))\n",
    "\n",
    "    \n",
    "    # next vertices are in xr indices\n",
    "    int_next_vertices = np.int32(next_vertices)\n",
    "    n_transect_edges = np.array([])\n",
    "    \n",
    "    for i in range(0,len(int_next_vertices)-1):\n",
    "        edgesOnVertex0 = mesh.edgesOnVertex.isel(nVertices = int_next_vertices[i]).values\n",
    "        edgesOnVertex1 = mesh.edgesOnVertex.isel(nVertices = int_next_vertices[i+1]).values\n",
    "        shared_edge = np.intersect1d(edgesOnVertex0, edgesOnVertex1)\n",
    "        n_transect_edges = np.append(n_transect_edges, shared_edge)\n",
    "    \n",
    "    xr_transect_edges = n_to_xr_idx(n_transect_edges)\n",
    "\n",
    "    # we also want to identify the cells that border the edges and vertices...\n",
    "    # this is harder because we need to define to which side of the cells we would like to define the mask.\n",
    "\n",
    "    return next_vertices, xr_transect_edges\n",
    "        "
   ]
  },
  {
   "cell_type": "markdown",
   "id": "c946a26c-f8bd-45dd-82e6-0f157e278936",
   "metadata": {},
   "source": [
    "### function to calculate transects given multiple points"
   ]
  },
  {
   "cell_type": "code",
   "execution_count": 122,
   "id": "2cab1cc1-b018-4cfa-b586-9a6c61692004",
   "metadata": {},
   "outputs": [],
   "source": [
    "# calculate transects using multiple points\n",
    "\n",
    "# make_transect_nv, make_transect_e = calculate_transects(target_start_lat, target_start_lon, target_end_lat, target_end_lon, mesh, mask)\n",
    "def calculate_transects_multiple_pts(segment_lons,segment_lats,mesh,mask):\n",
    "    all_xr_transect_vertices = np.array([])\n",
    "    all_xr_transect_edges = np.array([])\n",
    "    for i in range(0,len(segment_lons)-1):\n",
    "        \n",
    "        # set start and end target points based on segment lons and lats\n",
    "        target_start_lat = segment_lats[i]\n",
    "        target_start_lon = segment_lons[i]\n",
    "\n",
    "        target_end_lat = segment_lats[i+1]\n",
    "        target_end_lon = segment_lons[i+1]\n",
    "        \n",
    "        xr_next_vertices, xr_transect_edges_segment = calculate_transects(target_start_lat, target_start_lon, target_end_lat, target_end_lon, mesh, mask)\n",
    "\n",
    "        # update all_xr_transect_ arrays\n",
    "        all_xr_transect_vertices = np.concatenate((all_xr_transect_vertices, xr_next_vertices))\n",
    "        all_xr_transect_edges = np.concatenate((all_xr_transect_edges, xr_transect_edges_segment))\n",
    "\n",
    "    return all_xr_transect_vertices, all_xr_transect_edges\n",
    "        "
   ]
  },
  {
   "cell_type": "markdown",
   "id": "02a0abd6-2cdf-442d-af0c-d9cacd67b649",
   "metadata": {},
   "source": [
    "### calculate transects from algorithm "
   ]
  },
  {
   "cell_type": "code",
   "execution_count": 123,
   "id": "dfba55fa-f8cd-4499-b097-68790f98fd29",
   "metadata": {},
   "outputs": [
    {
     "name": "stdout",
     "output_type": "stream",
     "text": [
      "start vertex is  (lon,lat)= ( 302.24057 ,  54.05217 )\n",
      "start vertex xr_index is  264002\n"
     ]
    }
   ],
   "source": [
    "# # # LS\n",
    "target_start_lat, target_start_lon = 54, 302\n",
    "target_end_lat, target_end_lon = 60, 315\n",
    "next_vertices, xr_transect_edges = calculate_transects(target_start_lat, target_start_lon, target_end_lat, target_end_lon, mesh, mask)"
   ]
  },
  {
   "cell_type": "code",
   "execution_count": 124,
   "id": "824adea9-c75f-4245-9a46-30cef4f22993",
   "metadata": {},
   "outputs": [
    {
     "data": {
      "text/plain": [
       "(51.5, 68.0)"
      ]
     },
     "execution_count": 124,
     "metadata": {},
     "output_type": "execute_result"
    },
    {
     "data": {
      "image/png": "[encoded data removed]",
      "text/plain": [
       "<Figure size 640x480 with 2 Axes>"
      ]
     },
     "metadata": {},
     "output_type": "display_data"
    }
   ],
   "source": [
    "base_mask = xr.open_dataset('./mpas-o_EC30to60_global_base_mask.nc')\n",
    "# LS\n",
    "base_mask['regionEdgeMasks'] = base_mask.regionEdgeMasks.where(base_mask.nEdges.isin(xr_transect_edges),other=0)\n",
    "\n",
    "# GofM\n",
    "# base_mask['regionVertexMasks'] = base_mask.regionVertexMasks.where(base_mask.nVertices.isin(next_vertices),other=1)\n",
    "\n",
    "edgemask = base_mask.regionEdgeMasks.isel(nRegions=0).astype(bool)\n",
    "\n",
    "# # set up mesh to apply polypcolor\n",
    "mesh.attrs['is_periodic'] = 'YES'\n",
    "mesh.attrs['x_period'] = 360\n",
    "mesh.attrs['y_period'] = 0.0\n",
    "\n",
    "descriptor = mosaic.Descriptor(mesh,use_latlon=False)\n",
    "\n",
    "fig,ax = plt.subplots(nrows=1,ncols=1,constrained_layout=True)\n",
    "c = mosaic.polypcolor(ax,descriptor,\n",
    "                  edgemask.astype(int),cmap='viridis',\n",
    "                  antialiaseds=False)\n",
    "fig.colorbar(c, extend='both')\n",
    "\n",
    "# LS\n",
    "ax.set_xlim(300, 318)\n",
    "ax.set_ylim(51.5, 68)\n",
    "\n",
    "# # GofM\n",
    "# ax.set_xlim(250, 318)\n",
    "# ax.set_ylim(15, 35)"
   ]
  },
  {
   "cell_type": "code",
   "execution_count": 125,
   "id": "12df667e-3201-483f-83c3-c197c448c9fe",
   "metadata": {},
   "outputs": [
    {
     "name": "stdout",
     "output_type": "stream",
     "text": [
      "start vertex is  (lon,lat)= ( 302.24057 ,  54.05217 )\n",
      "start vertex xr_index is  264002\n",
      "start vertex is  (lon,lat)= ( 315.2718 ,  60.094044 )\n",
      "start vertex xr_index is  157224\n",
      "start vertex is  (lon,lat)= ( 307.87173 ,  65.39093 )\n",
      "start vertex xr_index is  310634\n",
      "start vertex is  (lon,lat)= ( 295.1961 ,  63.954773 )\n",
      "start vertex xr_index is  408499\n",
      "start vertex is  (lon,lat)= ( 297.02753 ,  58.27477 )\n",
      "start vertex xr_index is  59513\n"
     ]
    }
   ],
   "source": [
    "LS_lats= np.array([54, 60, 66, 64, 58])   \n",
    "LS_lons= np.array([302, 315, 310, 295, 296])\n",
    "\n",
    "LS_lats = np.append(LS_lats, LS_lats[0])\n",
    "LS_lons = np.append(LS_lons, LS_lons[0])\n",
    "\n",
    "test_verts, test_edges = calculate_transects_multiple_pts(LS_lons, LS_lats, mesh, mask)"
   ]
  },
  {
   "cell_type": "code",
   "execution_count": 126,
   "id": "b1e7f9a3-b494-43d6-b308-192f2264e2d5",
   "metadata": {},
   "outputs": [
    {
     "data": {
      "text/plain": [
       "(51.5, 68.0)"
      ]
     },
     "execution_count": 126,
     "metadata": {},
     "output_type": "execute_result"
    },
    {
     "data": {
      "image/png": "[encoded data removed]",
      "text/plain": [
       "<Figure size 640x480 with 2 Axes>"
      ]
     },
     "metadata": {},
     "output_type": "display_data"
    }
   ],
   "source": [
    "base_mask = xr.open_dataset('./mpas-o_EC30to60_global_base_mask.nc')\n",
    "# LS\n",
    "base_mask['regionEdgeMasks'] = base_mask.regionEdgeMasks.where(base_mask.nEdges.isin(test_edges),other=0)\n",
    "\n",
    "# GofM\n",
    "# base_mask['regionVertexMasks'] = base_mask.regionVertexMasks.where(base_mask.nVertices.isin(next_vertices),other=1)\n",
    "\n",
    "edgemask = base_mask.regionEdgeMasks.isel(nRegions=0).astype(bool)\n",
    "\n",
    "# # set up mesh to apply polypcolor\n",
    "mesh.attrs['is_periodic'] = 'YES'\n",
    "mesh.attrs['x_period'] = 360\n",
    "mesh.attrs['y_period'] = 0.0\n",
    "\n",
    "descriptor = mosaic.Descriptor(mesh,use_latlon=False)\n",
    "\n",
    "fig,ax = plt.subplots(nrows=1,ncols=1,constrained_layout=True)\n",
    "c = mosaic.polypcolor(ax,descriptor,\n",
    "                  edgemask.astype(int),cmap='viridis',\n",
    "                  antialiaseds=False)\n",
    "fig.colorbar(c, extend='both')\n",
    "\n",
    "# LS\n",
    "ax.set_xlim(290, 318)\n",
    "ax.set_ylim(51.5, 68)\n",
    "\n",
    "# # GofM\n",
    "# ax.set_xlim(250, 318)\n",
    "# ax.set_ylim(15, 35)"
   ]
  },
  {
   "cell_type": "markdown",
   "id": "10191f88-d0e7-431d-9efb-6efc25db298f",
   "metadata": {},
   "source": [
    "<div class=\"alert alert-warning\" role=\"alert\">\n",
    "  <b>END OF TRANSECT CREATION FROM ALGORITHM </b> \n",
    "</div>\n"
   ]
  },
  {
   "cell_type": "markdown",
   "id": "b13773d1-9c6e-499b-a9e0-4bf104a28fb5",
   "metadata": {},
   "source": [
    "## identify transect based on mask"
   ]
  },
  {
   "cell_type": "markdown",
   "id": "bbb3129a-2548-40d7-9179-942ff6b522f8",
   "metadata": {},
   "source": [
    "## An attempt to select edge cells that surround the mask without using an algorithm"
   ]
  },
  {
   "cell_type": "markdown",
   "id": "d5ae593d-ce57-4d45-b400-f5c495d2d872",
   "metadata": {},
   "source": [
    "### these are cells on the edge but NOT inside. "
   ]
  },
  {
   "cell_type": "code",
   "execution_count": 127,
   "id": "e0dd33d2-3ffb-4003-8325-427abafc9517",
   "metadata": {},
   "outputs": [],
   "source": [
    "xr_cells_inside, xr_vertices_inside, xr_edges_inside = xr_inside_mask_info(mesh,mask)"
   ]
  },
  {
   "cell_type": "code",
   "execution_count": 128,
   "id": "2737bc71-b966-4b89-8f60-832e6f23b90d",
   "metadata": {},
   "outputs": [],
   "source": [
    "# get all cells on edge\n",
    "masked_mesh = mesh.isel(nCells=xr_cells_inside,nEdges=xr_edges_inside,nVertices=xr_vertices_inside)\n",
    "\n",
    "nCellsOnEdge = np.unique(masked_mesh.cellsOnEdge)\n",
    "\n",
    "xrCellsOnEdge = n_to_xr_idx(nCellsOnEdge)\n",
    "\n",
    "xr_border_cells = xrCellsOnEdge[~np.isin(xrCellsOnEdge, xr_cells_inside)]\n",
    "\n",
    "n_border_cells = n_to_xr_idx(xr_border_cells)\n",
    "\n",
    "\n",
    "# base_mask = xr.open_dataset('./mpas-o_EC30to60_global_base_mask.nc')\n",
    "# #base_mask['regionCellMasks'] = base_mask.regionCellMasks.where(base_mask.nCells.isin(n_border_cells+1), other = 1)\n",
    "# base_mask['regionCellMasks'] = base_mask.regionCellMasks.where(base_mask.nCells.isin(xr_border_cells), other = 1)\n",
    "\n"
   ]
  },
  {
   "cell_type": "code",
   "execution_count": 129,
   "id": "19bea842-3215-497a-9591-efd0e8afd7d4",
   "metadata": {},
   "outputs": [],
   "source": [
    "# --------------- GET BORDER VERTICES IN XR COORDINATES ---------------\n",
    "# get the vertices that correspond to the xr_border_cells\n",
    "# this returns vertices in n coordinate\n",
    "n_border_vertices = mesh.verticesOnCell.isel(nCells = xr_border_cells)\n",
    "\n",
    "# we want the vertices in the xr coordinate\n",
    "xr_border_vertices_raw = n_to_xr_idx(n_border_vertices)\n",
    "\n",
    "# remove repeat vertex values, remove -1 values (these were origianlly 0s and represented \"blank array spaces\")\n",
    "xr_border_vertices = np.delete(np.unique(xr_border_vertices_raw),np.unique(xr_border_vertices_raw)==-1)\n",
    "\n",
    "# --------------- GET BORDER EDGES IN XR COORDINATES ---------------\n",
    "# get the edges that correspond to the xr_border_cells\n",
    "n_border_edges = mesh.edgesOnCell.isel(nCells = xr_border_cells)\n",
    "\n",
    "# we want the edges in the xr coordinate\n",
    "xr_border_edges_raw = n_to_xr_idx(n_border_edges)\n",
    "\n",
    "# remove repeat edge values, remove -1 values (these were origianlly 0s and represented \"blank array spaces\")\n",
    "xr_border_edges = np.delete(np.unique(xr_border_edges_raw),np.unique(xr_border_edges_raw)==-1)"
   ]
  },
  {
   "cell_type": "code",
   "execution_count": 130,
   "id": "c9754839-41b2-4a27-82ef-668b2c10dbe7",
   "metadata": {},
   "outputs": [],
   "source": [
    "# --------------- GET VERTICES IN MASK AND ON BORDER CELLS ---------------\n",
    "# get the cells that share an edge with the border cells\n",
    "n_cellsOnBorderEdges = np.unique(mesh.cellsOnEdge.isel(nEdges = xr_border_edges))\n",
    "xr_cellsOnBorderEdges = n_to_xr_idx(n_cellsOnBorderEdges)\n",
    "\n",
    "# we only want the cells that share an edge with the border cells AND are inside the mask\n",
    "mask_transect_cells = np.intersect1d(xr_cellsOnBorderEdges, xr_cells_inside)\n",
    "\n",
    "# we want vertices that are in the border cell vertices AND in the mask vertices\n",
    "xr_transect_vertices = np.intersect1d(xr_border_vertices, xr_vertices_inside)\n",
    "n_transect_vertices = xr_to_n_idx(xr_transect_vertices)\n",
    "\n",
    "\n",
    "# now we connect these vertices... Uhhh do I actually even have to do this\n",
    "# choose a starting point\n",
    "transect_vertices_ds = mesh[['latVertex', 'lonVertex']].isel(nVertices = xr_transect_vertices)\n",
    "\n",
    "# get the edges that connect these vertices\n",
    "n_transect_edgesOnVertex = mesh.edgesOnVertex.where(mesh.nVertices.isin(xr_transect_vertices),drop='all')\n",
    "xr_transect_edgesOnVertex = n_to_xr_idx(n_transect_edgesOnVertex)\n",
    "\n",
    "# --------------- GET EDGES IN MASK AND ON BORDER CELLS ---------------\n",
    "# get the edges that both surround border cells AND surround masked cells\n",
    "test_edge_transect = np.intersect1d(xr_border_edges, xr_edges_inside)\n",
    "\n",
    "# we want edges that are on the transect vertices AND are on the cells inside the mask\n",
    "# len(np.intersect1d(xr_edges_inside, xr_transect_edgesOnVertex))"
   ]
  },
  {
   "cell_type": "markdown",
   "id": "358c780d-2eca-4fc1-a7cf-df624fd76246",
   "metadata": {},
   "source": [
    "```mask_transect_cells``` \\\n",
    "```xr_transect_vertices``` \\\n",
    "```test_edge_transect```\n"
   ]
  },
  {
   "cell_type": "code",
   "execution_count": 131,
   "id": "bf04d03b-75aa-4780-8b19-68ac8ceda6c1",
   "metadata": {},
   "outputs": [
    {
     "name": "stdout",
     "output_type": "stream",
     "text": [
      "finished selecting base_mask values\n",
      "converted test_mask to bool\n"
     ]
    }
   ],
   "source": [
    "# get the cells/vertices/edges that are in the transect IN ORDER\n",
    "# we want to travel from the start vertex to the end vertex\n",
    "# ID the start vertex\n",
    "# GofM\n",
    "target_start_lat, target_start_lon = 20, 270\n",
    "target_end_lat, target_end_lon = 26, 280\n",
    "\n",
    "# # distance_on_unit_sphere(lon1, lat1, lon2, lat 2)\n",
    "# # find the shortest path between the two points\n",
    "# # of all of the points, find the vertex that is closest to the desired start point\n",
    "# distance = distance_on_unit_sphere(mesh.lonVertex * 180/np.pi, mesh.latVertex * 180/np.pi, target_start_lon, target_start_lat)\n",
    "# xr_start_vertex = distance.argmin()\n",
    "# n_start_vertex = xr_to_n_idx(xr_start_vertex)\n",
    "# print('started at n vertex ', n_start_vertex.values)\n",
    "\n",
    "# # repeat to find the vertex that is closest to the desired end point\n",
    "# dist_to_end = distance_on_unit_sphere(mesh.lonVertex * 180/np.pi, mesh.latVertex * 180/np.pi, target_end_lon, target_end_lat)\n",
    "# xr_end_vertex = dist_to_end.argmin()\n",
    "# end_lon = mesh.isel(nVertices = xr_end_vertex).lonVertex * 180/np.pi\n",
    "# end_lat = mesh.isel(nVertices = xr_end_vertex).latVertex * 180/np.pi\n",
    "\n",
    "# we only want to look at the cells/vertices/edges that are in the transect\n",
    "# so we need to apply the algorithm to the test_mask (modified base_mask)\n",
    "# xr_border_edges\n",
    "base_mask = xr.open_dataset('./mpas-o_EC30to60_global_base_mask.nc')\n",
    "#base_mask['regionCellMasks'] = base_mask.regionCellMasks.where(base_mask.nCells.isin(n_border_cells+1), other = 1)\n",
    "base_mask['regionCellMasks'] = base_mask.regionCellMasks.where(base_mask.nCells.isin(mask_transect_cells), other = 0)\n",
    "base_mask['regionEdgeMasks'] = base_mask.regionEdgeMasks.where(base_mask.nEdges.isin(test_edge_transect),other=0)\n",
    "base_mask['regionVertexMasks'] = base_mask.regionVertexMasks.where(base_mask.nVertices.isin(xr_transect_vertices),other=0)\n",
    "print('finished selecting base_mask values')\n",
    "\n",
    "test_mask = base_mask\n",
    "\n",
    "# convert the 1s and 0s new mask to boolean T/F\n",
    "cellmask = test_mask.regionCellMasks.isel(nRegions=0).astype(bool)\n",
    "edgemask = test_mask.regionEdgeMasks.isel(nRegions=0).astype(bool)\n",
    "vertexmask = test_mask.regionVertexMasks.isel(nRegions=0).astype(bool)\n",
    "print('converted test_mask to bool')"
   ]
  },
  {
   "cell_type": "code",
   "execution_count": 132,
   "id": "2aa83d78-ad9d-4220-a4bd-115db2543f2f",
   "metadata": {},
   "outputs": [],
   "source": [
    "# retrieve lats and lons that correspond to the cells/vertices/edges in the transect\n",
    "mesh_cellLatsLons = mesh[['lonCell','latCell']].where(cellmask,drop=False)\n",
    "mesh_vertexLatsLons = mesh[['lonVertex','latVertex']].where(vertexmask,drop=False)\n",
    "mesh_edgeLatsLons =  mesh[['lonEdge','latEdge']].where(edgemask,drop=False)\n",
    "mesh_edgesOnVertex = mesh['edgesOnVertex'].where(vertexmask,drop=False)\n",
    "mesh_verticesOnEdge = mesh['verticesOnEdge'].where(edgemask,drop=False)\n",
    "mesh_cellsOnVertex = mesh['cellsOnVertex'].where(vertexmask,drop=False)\n",
    "mesh_edgesOnCell = mesh['edgesOnCell'].where(cellmask, drop=False)\n",
    "\n",
    "transect_mesh = xr.merge([mesh_cellLatsLons, mesh_vertexLatsLons, mesh_edgeLatsLons, mesh_edgesOnVertex, mesh_verticesOnEdge, mesh_cellsOnVertex])\n",
    "#transect_mesh\n",
    "\n"
   ]
  },
  {
   "cell_type": "code",
   "execution_count": 133,
   "id": "9bd9a8ad-00e2-4d05-88bf-cf35a71d72cb",
   "metadata": {},
   "outputs": [],
   "source": [
    "def find_land_start_edge(i,transect_mesh,test_edge_transect):\n",
    "    \"\"\"\n",
    "    function to find the transect edges that border land\n",
    "    \"\"\"\n",
    "    \n",
    "    # to order edges\n",
    "    # ------- FIND START POINT NEXT TO LAND ----------\n",
    "    # specify a starting vertex that is right next to land \n",
    "    # find the vertices that are next to land cells (i.e., cellsOnVertex is nan) by creating a mask (all cells next to land have a value of 1)\n",
    "    all_transectCellsOnVertex = transect_mesh.cellsOnVertex.where(np.isin(transect_mesh.cellsOnVertex,0),drop=False) + 1\n",
    "    all_transect_cellsOnVertex_ds = all_transectCellsOnVertex.to_dataset(name='cellsOnVertex')\n",
    "    \n",
    "    # reduce along the vertexDegree dimension\n",
    "    reduced_transect_cellsOnVertex_ds= all_transect_cellsOnVertex_ds.cellsOnVertex.sum(dim='vertexDegree')\n",
    "    \n",
    "    # we want the vertices where the cellsOnVertex = 1 (i.e., is land)\n",
    "    xr_transect_landCellsOnVertex = reduced_transect_cellsOnVertex_ds.nVertices.where(reduced_transect_cellsOnVertex_ds==1,drop=True)\n",
    "    total_transect_landCellsOnVertex = len(xr_transect_landCellsOnVertex)\n",
    "    \n",
    "    # choose the first vertex to start at \n",
    "    xr_landCellsOnVertex_start = np.int32(xr_transect_landCellsOnVertex[i].values)\n",
    "    \n",
    "    # find the edges that this vertex is connected to\n",
    "    n_edgesOnStartVertex = transect_mesh.edgesOnVertex.isel(nVertices = xr_landCellsOnVertex_start)\n",
    "    xr_edgesOnStartVertex = n_to_xr_idx(n_edgesOnStartVertex)\n",
    "    \n",
    "    # get the intersection of the edges on the start vertex and the edges in the transect (gives starting edge)\n",
    "    xr_startEdge = np.int32(np.intersect1d(xr_edgesOnStartVertex, test_edge_transect))\n",
    "        \n",
    "    \n",
    "    return xr_startEdge, xr_landCellsOnVertex_start, total_transect_landCellsOnVertex"
   ]
  },
  {
   "cell_type": "code",
   "execution_count": 134,
   "id": "4aa71739-35bb-43b0-8815-919696b89bd3",
   "metadata": {},
   "outputs": [],
   "source": [
    "# xr_startEdge, total_transect_landCellsOnVertex = find_land_start_edge(0,transect_mesh,test_edge_transect)\n",
    "\n",
    "# get an array of all possible transect land starting edges\n",
    "xr_transect_landEdges = np.array([])\n",
    "transect_landLonEdges = np.array([])\n",
    "transect_landLatEdges = np.array([])\n",
    "xr_transect_landVertices = np.array([])\n",
    "\n",
    "for i in range(0,total_transect_landCellsOnVertex):\n",
    "    xr_transect_landEdge, xr_transect_landVertex, ignore_length = find_land_start_edge(i,transect_mesh,test_edge_transect)\n",
    "    xr_transect_landEdges = np.append(xr_transect_landEdge, xr_transect_landEdges)\n",
    "    xr_transect_landVertices = np.append(xr_transect_landVertices, xr_transect_landVertex)\n",
    "\n",
    "    # get the lats and lons of the possible transect land starting edges\n",
    "    transect_edges_landLatLon = mesh[['lonEdge','latEdge']].where(mesh.nEdges.isin(xr_transect_landEdges))\n"
   ]
  },
  {
   "cell_type": "code",
   "execution_count": 135,
   "id": "b001e2d3-7f98-4128-90d9-022d2bd993ec",
   "metadata": {},
   "outputs": [],
   "source": [
    "# # to order edges\n",
    "# # ------- FIND START POINT NEXT TO LAND ----------\n",
    "# # specify a starting vertex that is right next to land \n",
    "# # find the vertices that are next to land cells (i.e., cellsOnVertex is nan) by creating a mask (all cells next to land have a value of 1)\n",
    "# all_transectCellsOnVertex = transect_mesh.cellsOnVertex.where(np.isin(transect_mesh.cellsOnVertex,0),drop=False) + 1\n",
    "# all_transect_cellsOnVertex_ds = all_transectCellsOnVertex.to_dataset(name='cellsOnVertex')\n",
    "\n",
    "# # reduce along the vertexDegree dimension\n",
    "# reduced_transect_cellsOnVertex_ds= all_transect_cellsOnVertex_ds.cellsOnVertex.sum(dim='vertexDegree')\n",
    "\n",
    "# # we want the vertices where the cellsOnVertex = 1 (i.e., is land)\n",
    "# xr_transect_landCellsOnVertex = reduced_transect_cellsOnVertex_ds.nVertices.where(reduced_transect_cellsOnVertex_ds==1,drop=True)\n",
    "\n",
    "# # choose the first vertex to start at \n",
    "# xr_landCellsOnVertex_start = np.int32(xr_transect_landCellsOnVertex[0].values)\n",
    "\n",
    "# # find the edges that this vertex is connected to\n",
    "# n_edgesOnStartVertex = transect_mesh.edgesOnVertex.isel(nVertices = xr_landCellsOnVertex_start)\n",
    "# xr_edgesOnStartVertex = n_to_xr_idx(n_edgesOnStartVertex)\n",
    "\n",
    "# # get the intersection of the edges on the start vertex and the edges in the transect (gives starting edge)\n",
    "# xr_startEdge = np.int32(np.intersect1d(xr_edgesOnStartVertex, test_edge_transect))"
   ]
  },
  {
   "cell_type": "code",
   "execution_count": 136,
   "id": "66fb67bb-a907-434d-9212-0f5a0a43aaae",
   "metadata": {},
   "outputs": [
    {
     "data": {
      "text/plain": [
       "array([651674., 691625., 167991., 173997., 221771., 400526., 580212.,\n",
       "       583520.])"
      ]
     },
     "execution_count": 136,
     "metadata": {},
     "output_type": "execute_result"
    }
   ],
   "source": [
    "xr_transect_landEdges"
   ]
  },
  {
   "cell_type": "code",
   "execution_count": 137,
   "id": "fc0e52f0-fd5c-4e48-aa1c-7df206ca8bca",
   "metadata": {},
   "outputs": [],
   "source": [
    "xr_startEdge = np.int32(xr_transect_landEdges[0])\n",
    "xr_startVertex = np.int32(xr_transect_landVertices[0])\n",
    "\n",
    "n_next_edges = mesh.edgesOnEdge.isel(nEdges=xr_startEdge)\n",
    "xr_next_edges = n_to_xr_idx(n_next_edges)\n",
    "\n",
    "# get the intersection of the edges on the next edge and the edges in transect\n",
    "xr_nextEdge = np.intersect1d(xr_next_edges, test_edge_transect)\n",
    "\n",
    "# get the vertices attached to the start edge that are also in the transect\n",
    "n_verticesOnStartEdge = mesh.verticesOnEdge.isel(nEdges = xr_nextEdge)\n",
    "xr_verticesOnStartEdge = n_to_xr_idx(n_verticesOnStartEdge)\n",
    "xr_transect_verticesOnStartEdge = np.intersect1d(xr_verticesOnStartEdge , xr_transect_vertices)\n",
    "\n"
   ]
  },
  {
   "cell_type": "code",
   "execution_count": 138,
   "id": "9cb3ef35-5eee-4d4f-bc5a-26586f951b0f",
   "metadata": {},
   "outputs": [
    {
     "data": {
      "text/plain": [
       "np.int32(651674)"
      ]
     },
     "execution_count": 138,
     "metadata": {},
     "output_type": "execute_result"
    }
   ],
   "source": [
    "xr_startEdge"
   ]
  },
  {
   "cell_type": "code",
   "execution_count": 139,
   "id": "16e64996-4da0-4d4c-8a5f-e424bd64b2ae",
   "metadata": {},
   "outputs": [],
   "source": [
    "xr_startEdge = 159034\n",
    "\n",
    "# find vertices start edge is connected to\n",
    "n_verticesOnStartEdge = mesh.verticesOnEdge.isel(nEdges = xr_startEdge)\n",
    "xr_verticesOnStartEdge = n_to_xr_idx(n_verticesOnStartEdge)\n",
    "\n",
    "# of these vertices, which is in the transect AND also has not already been used (i.e., previously connected to an edge)\n"
   ]
  },
  {
   "cell_type": "code",
   "execution_count": 140,
   "id": "6b881693-635a-466c-a962-934e9aaeb5df",
   "metadata": {},
   "outputs": [
    {
     "data": {
      "text/plain": [
       "159034"
      ]
     },
     "execution_count": 140,
     "metadata": {},
     "output_type": "execute_result"
    }
   ],
   "source": [
    "xr_startEdge"
   ]
  },
  {
   "cell_type": "code",
   "execution_count": 141,
   "id": "ad668f50-79e6-4cf1-9f3a-6406d8795fd7",
   "metadata": {},
   "outputs": [
    {
     "ename": "NameError",
     "evalue": "name 'n_to_xr' is not defined",
     "output_type": "error",
     "traceback": [
      "\u001b[31m---------------------------------------------------------------------------\u001b[39m",
      "\u001b[31mNameError\u001b[39m                                 Traceback (most recent call last)",
      "\u001b[36mCell\u001b[39m\u001b[36m \u001b[39m\u001b[32mIn[141]\u001b[39m\u001b[32m, line 15\u001b[39m\n\u001b[32m     13\u001b[39m \u001b[38;5;66;03m# check that the chosen edge also is connected to the same vertex as this edge.\u001b[39;00m\n\u001b[32m     14\u001b[39m n_next_edgeVertices = mesh.verticesOnEdge.isel(nEdges = xr_next_edge)\n\u001b[32m---> \u001b[39m\u001b[32m15\u001b[39m xr_next_edgeVertices = \u001b[43mn_to_xr\u001b[49m(n_next_edgeVertices)\n\u001b[32m     17\u001b[39m n_start_edgeVertices = mesh.verticesOnEdge.isel(nEdges= xr_start_edge)\n\u001b[32m     19\u001b[39m \u001b[38;5;66;03m# if the land is blocking getting the next start vertex\u001b[39;00m\n",
      "\u001b[31mNameError\u001b[39m: name 'n_to_xr' is not defined"
     ]
    }
   ],
   "source": [
    "#  ------- SURVEY EDGES CONNECTED TO THIS EDGE FOR THE EDGE THAT IS ALSO IN THE TRANSECT ----------\n",
    "next_edges = np.array([xr_startEdge])\n",
    "remaining_edges = test_edge_transect\n",
    "land_vertices_counter = 0 \n",
    "\n",
    "while len(remaining_edges)>0:\n",
    "    n_next_edges = mesh.edgesOnEdge.isel(nEdges=xr_startEdge)\n",
    "    xr_next_edges = n_to_xr_idx(n_next_edges)\n",
    "    \n",
    "    # get the intersection of the edges on the next edge and the edges in transect\n",
    "    xr_next_edge = np.intersect1d(xr_next_edges, test_edge_transect)\n",
    "\n",
    "    # check that the chosen edge also is connected to the same vertex as this edge.\n",
    "    n_next_edgeVertices = mesh.verticesOnEdge.isel(nEdges = xr_next_edge)\n",
    "    xr_next_edgeVertices = n_to_xr(n_next_edgeVertices)\n",
    "\n",
    "    n_start_edgeVertices = mesh.verticesOnEdge.isel(nEdges= xr_start_edge)\n",
    "\n",
    "    # if the land is blocking getting the next start vertex\n",
    "    if xr_next_edge.size == 0:\n",
    "        print('finding next land start point')\n",
    "        current_edge = next_edges[-1]\n",
    "        current_edgeLon = mesh.lonEdge.isel(nEdges = current_edge) * 180 / np.pi\n",
    "        current_edgeLat = mesh.latEdge.isel(nEdges = current_edge) * 180 / np.pi\n",
    "\n",
    "        # consider only the unused land edges\n",
    "        remaining_landEdges = np.intersect1d(remaining_edges, xr_transect_landEdges)\n",
    "\n",
    "        # calculate the distance between the current edge and the remaining land edges\n",
    "        remaining_landLatLon = transect_edges_landLatLon.where(transect_edges_landLatLon.nEdges.isin(remaining_landEdges))\n",
    "        \n",
    "        current_to_land = distance_on_unit_sphere(current_edgeLon, remaining_landLatLon.lonEdge, current_edgeLat, remaining_landLatLon.latEdge)\n",
    "        xr_next_edge = current_to_land.argmin()\n",
    "\n",
    "    # update arrays \n",
    "    next_edges = np.append(next_edges, xr_next_edge)\n",
    "    remaining_edges = remaining_edges[remaining_edges != xr_next_edge]\n",
    "\n",
    "    # update to make next_edge the new start_edge\n",
    "    xr_startEdge = xr_next_edge\n",
    "    \n",
    "\n"
   ]
  },
  {
   "cell_type": "code",
   "execution_count": null,
   "id": "9f292567-19a9-4124-bc24-4d8da0855385",
   "metadata": {},
   "outputs": [],
   "source": [
    "remaining_landLatLon = transect_edges_landLatLon.where(transect_edges_landLatLon.nEdges.isin(remaining_landEdges))"
   ]
  },
  {
   "cell_type": "code",
   "execution_count": null,
   "id": "0578e56c-0f03-4016-bd6a-5f8f66ac1a76",
   "metadata": {},
   "outputs": [],
   "source": [
    "remaining_landLatLon"
   ]
  },
  {
   "cell_type": "code",
   "execution_count": null,
   "id": "c616e864-0691-4e78-a1ff-2b670f7263c0",
   "metadata": {},
   "outputs": [],
   "source": [
    "\n",
    "# distance_on_unit_sphere(lon1, lat1, lon2, lat 2)\n",
    "# find the shortest path between the two points\n",
    "# of all of the points, find the vertex that is closest to the desired start point\n",
    "distance = distance_on_unit_sphere(transect_mesh.lonVertex * 180/np.pi, transect_mesh.latVertex * 180/np.pi, target_start_lon, target_start_lat)\n",
    "xr_start_vertex = distance.argmin()\n",
    "n_start_vertex = xr_to_n_idx(xr_start_vertex)\n",
    "print('started at n vertex ', n_start_vertex.values)\n",
    "\n",
    "target_start_lon = transect_mesh.isel(nVertices=xr_start_vertex).lonVertex * 180/np.pi\n",
    "target_start_lat = transect_mesh.isel(nVertices=xr_start_vertex).latVertex * 180/np.pi\n",
    "\n",
    "# repeat to find the vertex that is closest to the desired end point\n",
    "dist_to_end = distance_on_unit_sphere(transect_mesh.lonVertex * 180/np.pi, mesh.latVertex * 180/np.pi, target_end_lon, target_end_lat)\n",
    "xr_end_vertex = dist_to_end.argmin()\n",
    "target_end_lon = transect_mesh.isel(nVertices = xr_end_vertex).lonVertex * 180/np.pi\n",
    "target_end_lat = transect_mesh.isel(nVertices = xr_end_vertex).latVertex * 180/np.pi"
   ]
  },
  {
   "cell_type": "code",
   "execution_count": null,
   "id": "764b11dc-10a6-4a76-b160-22287b801f7e",
   "metadata": {},
   "outputs": [],
   "source": [
    "# next_vertices, xr_transect_edges = calculate_transects(target_start_lat, target_start_lon, target_end_lat, target_end_lon, transect_mesh, test_mask)"
   ]
  },
  {
   "cell_type": "code",
   "execution_count": null,
   "id": "aa50d4e6-5854-4378-9927-7bfab3724da7",
   "metadata": {},
   "outputs": [],
   "source": [
    "mesh.isel(nVertices = xr_end_vertex).cellsOnVertex"
   ]
  },
  {
   "cell_type": "code",
   "execution_count": null,
   "id": "e58d6cce-6167-415f-ada4-ef5ba4f0e9c4",
   "metadata": {},
   "outputs": [],
   "source": [
    "conV = mesh.cellsOnVertex.isel(nVertices=xr_transect_vertices)\n",
    "a = conV.where(np.isin(conV,0))\n",
    "np.unique(a,return_counts=True)"
   ]
  },
  {
   "cell_type": "code",
   "execution_count": null,
   "id": "80d56a8d-d499-47d7-82c7-3793a38dcca4",
   "metadata": {},
   "outputs": [],
   "source": [
    "base_mask = xr.open_dataset('./mpas-o_EC30to60_global_base_mask.nc')\n",
    "# LS\n",
    "base_mask['regionEdgeMasks'] = base_mask.regionEdgeMasks.where(base_mask.nEdges.isin(test_edge_transect),other=0)\n",
    "\n",
    "# GofM\n",
    "# base_mask['regionVertexMasks'] = base_mask.regionVertexMasks.where(base_mask.nVertices.isin(next_vertices),other=1)\n",
    "\n",
    "edgemask = base_mask.regionEdgeMasks.isel(nRegions=0).astype(bool)\n",
    "\n",
    "# # set up mesh to apply polypcolor\n",
    "mesh.attrs['is_periodic'] = 'YES'\n",
    "mesh.attrs['x_period'] = 360\n",
    "mesh.attrs['y_period'] = 0.0\n",
    "\n",
    "descriptor = mosaic.Descriptor(mesh,use_latlon=False)\n",
    "\n",
    "fig,ax = plt.subplots(nrows=1,ncols=1,constrained_layout=True)\n",
    "c = mosaic.polypcolor(ax,descriptor,\n",
    "                  edgemask.astype(int),cmap='viridis',\n",
    "                  antialiaseds=False)\n",
    "fig.colorbar(c, extend='both')\n",
    "\n",
    "# LS\n",
    "ax.set_xlim(290, 318)\n",
    "ax.set_ylim(51.5, 68)\n",
    "\n",
    "# # GofM\n",
    "# ax.set_xlim(250, 318)\n",
    "# ax.set_ylim(15, 35)"
   ]
  },
  {
   "cell_type": "code",
   "execution_count": null,
   "id": "7d953ec4-9568-47f8-80ce-ebedbe635cc0",
   "metadata": {},
   "outputs": [],
   "source": [
    "# LS_lats= np.array([54, 60, 66, 64, 58])   \n",
    "# LS_lons= np.array([302, 315, 310, 295, 296])\n",
    "\n",
    "# LS_lats = np.append(LS_lats, LS_lats[0])\n",
    "# LS_lons = np.append(LS_lons, LS_lons[0])\n",
    "\n",
    "# test_verts, test_edges = calculate_transects_multiple_pts(LS_lons, LS_lats, mesh, mask)"
   ]
  },
  {
   "cell_type": "code",
   "execution_count": null,
   "id": "7f900637-7026-40d3-937e-a328fa675bde",
   "metadata": {},
   "outputs": [],
   "source": [
    "mesh"
   ]
  },
  {
   "cell_type": "markdown",
   "id": "a210342c-c98f-4e0b-afac-7b12d79ee5dd",
   "metadata": {},
   "source": [
    "### Here would be a good place to put a function to calculate the transect for this \"mesh\""
   ]
  },
  {
   "cell_type": "code",
   "execution_count": null,
   "id": "6c377dd4-d7ed-4b7a-a7fc-b81c1a1e289d",
   "metadata": {},
   "outputs": [],
   "source": [
    "# scratch plot to check stuff\n",
    "# set up mesh to apply polypcolor\n",
    "mesh.attrs['is_periodic'] = 'YES'\n",
    "mesh.attrs['x_period'] = 360\n",
    "mesh.attrs['y_period'] = 0.0\n",
    "\n",
    "descriptor = mosaic.Descriptor(mesh,use_latlon=False)\n",
    "\n",
    "\n",
    "# ds_t0 = dso['timeMonthly_avg_activeTracers_temperature'].isel(nVertLevels=30,Time=0)\n",
    "\n",
    "# ds_t0 = dso['timeMonthly_avg_latentHeatFlux'].isel(Time=0)\n",
    "\n",
    "ds_t0 = dso['timeMonthly_avg_normalVelocitySquared'].isel(Time=0,nVertLevels=0)\n",
    "\n",
    "# remove the nans\n",
    "if ds_t0.min() < -9**33:\n",
    "    ds_nonans = ds_t0.where(ds_t0 > -9**33)\n",
    "    print('fake nans detected')\n",
    "else:\n",
    "    ds_nonans = ds_t0\n",
    "\n",
    "# apply the mask\n",
    "# ds_masked = ds_nonans.where(cellmask,drop=False)\n",
    "print('beginning masked.where')\n",
    "ds_masked = ds_nonans.where(edgemask,drop=False)\n",
    "\n",
    "# plot\n",
    "fig,ax = plt.subplots(nrows=1,ncols=1,constrained_layout=True)\n",
    "c = mosaic.polypcolor(ax,descriptor,\n",
    "                  edgemask.astype(int),cmap='viridis',\n",
    "                  antialiaseds=False)\n",
    "fig.colorbar(c, extend='both')\n",
    "ax.set_xlim(290, 318)\n",
    "ax.set_ylim(51.5, 68)\n",
    "# ax.set_xlim(0, 360)\n"
   ]
  },
  {
   "cell_type": "code",
   "execution_count": null,
   "id": "2f98de63-6a1c-41bb-93a4-a572626ed330",
   "metadata": {},
   "outputs": [],
   "source": [
    "# xr_transect_vertices\n",
    "base_mask = xr.open_dataset('./mpas-o_EC30to60_global_base_mask.nc')\n",
    "#base_mask['regionCellMasks'] = base_mask.regionCellMasks.where(base_mask.nCells.isin(n_border_cells+1), other = 1)\n",
    "base_mask['regionCellMasks'] = base_mask.regionCellMasks.where(base_mask.nCells.isin(mask_transect_cells), other = 0)\n",
    "base_mask['regionEdgeMasks'] = base_mask.regionEdgeMasks.where(base_mask.nEdges.isin(test_edge_transect),other=0)\n",
    "base_mask['regionVertexMasks'] = base_mask.regionVertexMasks.where(base_mask.nVertices.isin(xr_transect_vertices),other=0)\n",
    "print('finished selecting base_mask values')\n",
    "\n",
    "test_mask = base_mask\n",
    "\n",
    "# convert the 1s and 0s new mask to boolean T/F\n",
    "cellmask = test_mask.regionCellMasks.isel(nRegions=0).astype(bool)\n",
    "edgemask = test_mask.regionEdgeMasks.isel(nRegions=0).astype(bool)\n",
    "vertexmask = test_mask.regionVertexMasks.isel(nRegions=0).astype(bool)\n",
    "print('converted test_mask to bool')\n",
    "\n",
    "\n",
    "# scratch plot to check stuff\n",
    "# set up mesh to apply polypcolor\n",
    "mesh.attrs['is_periodic'] = 'YES'\n",
    "mesh.attrs['x_period'] = 360\n",
    "mesh.attrs['y_period'] = 0.0\n",
    "\n",
    "descriptor = mosaic.Descriptor(mesh,use_latlon=False)\n",
    "\n",
    "\n",
    "# ds_t0 = dso['timeMonthly_avg_activeTracers_temperature'].isel(nVertLevels=30,Time=0)\n",
    "\n",
    "# ds_t0 = dso['timeMonthly_avg_latentHeatFlux'].isel(Time=0)\n",
    "\n",
    "ds_t0 = dso['timeMonthly_avg_normalVelocitySquared'].isel(Time=0,nVertLevels=0)\n",
    "\n",
    "# remove the nans\n",
    "if ds_t0.min() < -9**33:\n",
    "    ds_nonans = ds_t0.where(ds_t0 > -9**33)\n",
    "    print('fake nans detected')\n",
    "else:\n",
    "    ds_nonans = ds_t0\n",
    "\n",
    "# apply the mask\n",
    "# ds_masked = ds_nonans.where(cellmask,drop=False)\n",
    "print('beginning masked.where')\n",
    "ds_masked = ds_nonans.where(edgemask,drop=False)\n",
    "\n",
    "# plot\n",
    "fig,ax = plt.subplots(nrows=1,ncols=1,constrained_layout=True)\n",
    "c = mosaic.polypcolor(ax,descriptor,\n",
    "                  vertexmask.astype(int),cmap='viridis',\n",
    "                  antialiaseds=False)\n",
    "fig.colorbar(c, extend='both')\n",
    "ax.set_xlim(290, 318)\n",
    "ax.set_ylim(51.5, 68)\n",
    "# ax.set_xlim(0, 360)\n"
   ]
  },
  {
   "cell_type": "code",
   "execution_count": null,
   "id": "1ef61340-f4ce-4289-85ab-d9c294cff112",
   "metadata": {},
   "outputs": [],
   "source": [
    "# edgemask\n",
    "fig,ax = plt.subplots(nrows=1,ncols=1,constrained_layout=True)\n",
    "c = mosaic.polypcolor(ax,descriptor,\n",
    "                  edgemask.astype(int),cmap='viridis',\n",
    "                  antialiaseds=False)\n",
    "fig.colorbar(c, extend='both')\n",
    "ax.set_xlim(290, 318)\n",
    "ax.set_ylim(51.5, 68)\n",
    "# ax.set_xlim(0, 360)\n"
   ]
  },
  {
   "cell_type": "code",
   "execution_count": null,
   "id": "a7fdda29-5f4e-4310-9077-0a2a715e7f8a",
   "metadata": {},
   "outputs": [],
   "source": [
    "# cellmask\n",
    "fig,ax = plt.subplots(nrows=1,ncols=1,constrained_layout=True)\n",
    "c = mosaic.polypcolor(ax,descriptor,\n",
    "                  cellmask.astype(int),cmap='viridis',\n",
    "                  antialiaseds=False)\n",
    "fig.colorbar(c, extend='both')\n",
    "ax.set_xlim(290, 318)\n",
    "ax.set_ylim(51.5, 68)\n",
    "# ax.set_xlim(0, 360)\n"
   ]
  },
  {
   "cell_type": "code",
   "execution_count": null,
   "id": "0a9de61b-45eb-48e2-97f6-1cd47c829c7f",
   "metadata": {},
   "outputs": [],
   "source": [
    "# get the cells that share an edge with the border cells\n",
    "n_cellsOnBorderEdges = np.unique(mesh.cellsOnEdge.isel(nEdges = xr_border_edges))\n",
    "xr_cellsOnBorderEdges = n_to_xr_idx(n_cellsOnBorderEdges)\n",
    "\n",
    "# we only want the cells that share an edge with the border cells AND are inside the mask\n",
    "mask_transect_cells = np.intersect1d(xr_cellsOnBorderEdges, xr_cells_inside)"
   ]
  },
  {
   "cell_type": "code",
   "execution_count": null,
   "id": "794b4c39-c903-4800-a178-c9512e0902d9",
   "metadata": {},
   "outputs": [],
   "source": [
    "# xr_border_edges\n",
    "base_mask = xr.open_dataset('./mpas-o_EC30to60_global_base_mask.nc')\n",
    "#base_mask['regionCellMasks'] = base_mask.regionCellMasks.where(base_mask.nCells.isin(n_border_cells+1), other = 1)\n",
    "base_mask['regionCellMasks'] = base_mask.regionCellMasks.where(base_mask.nCells.isin(mask_transect_cells), other = 0)\n",
    "base_mask['regionEdgeMasks'] = base_mask.regionEdgeMasks.where(base_mask.nEdges.isin(xr_border_edges),other=0)\n",
    "# base_mask['regionVertexMasks'] = base_mask.regionVertexMasks.where(base_mask.nVertices.isin(xr_border_vertices),other=1)\n",
    "print('finished selecting base_mask values')\n",
    "\n",
    "test_mask = base_mask\n",
    "\n",
    "# convert the 1s and 0s new mask to boolean T/F\n",
    "cellmask = test_mask.regionCellMasks.isel(nRegions=0).astype(bool)\n",
    "edgemask = test_mask.regionEdgeMasks.isel(nRegions=0).astype(bool)\n",
    "vertexmask = test_mask.regionVertexMasks.isel(nRegions=0).astype(bool)\n",
    "print('converted test_mask to bool')\n",
    "\n",
    "\n",
    "# scratch plot to check stuff\n",
    "# set up mesh to apply polypcolor\n",
    "mesh.attrs['is_periodic'] = 'YES'\n",
    "mesh.attrs['x_period'] = 360\n",
    "mesh.attrs['y_period'] = 0.0\n",
    "\n",
    "descriptor = mosaic.Descriptor(mesh,use_latlon=False)\n",
    "\n",
    "\n",
    "# ds_t0 = dso['timeMonthly_avg_activeTracers_temperature'].isel(nVertLevels=30,Time=0)\n",
    "\n",
    "# ds_t0 = dso['timeMonthly_avg_latentHeatFlux'].isel(Time=0)\n",
    "\n",
    "ds_t0 = dso['timeMonthly_avg_normalVelocitySquared'].isel(Time=0,nVertLevels=0)\n",
    "\n",
    "# remove the nans\n",
    "if ds_t0.min() < -9**33:\n",
    "    ds_nonans = ds_t0.where(ds_t0 > -9**33)\n",
    "    print('fake nans detected')\n",
    "else:\n",
    "    ds_nonans = ds_t0\n",
    "\n",
    "# apply the mask\n",
    "# ds_masked = ds_nonans.where(cellmask,drop=False)\n",
    "print('beginning masked.where')\n",
    "ds_masked = ds_nonans.where(edgemask,drop=False)\n",
    "\n",
    "# plot\n",
    "fig,ax = plt.subplots(nrows=1,ncols=1,constrained_layout=True)\n",
    "c = mosaic.polypcolor(ax,descriptor,\n",
    "                  edgemask.astype(int),cmap='viridis',\n",
    "                  antialiaseds=False)\n",
    "fig.colorbar(c, extend='both')\n",
    "ax.set_xlim(290, 318)\n",
    "ax.set_ylim(51.5, 68)\n",
    "# ax.set_xlim(0, 360)\n"
   ]
  },
  {
   "cell_type": "markdown",
   "id": "54606f54-d1c4-4a21-918a-4fdf3d90662c",
   "metadata": {},
   "source": [
    "attempt to plot the cells that are inside the mask by at the border \n",
    "xr_cellsOnBorderEdges\n",
    "cells_inside"
   ]
  },
  {
   "cell_type": "code",
   "execution_count": null,
   "id": "2c986e8d-2c90-4321-811a-8558829820bb",
   "metadata": {},
   "outputs": [],
   "source": [
    "# xr_cells_inside\n",
    "base_mask = xr.open_dataset('./mpas-o_EC30to60_global_base_mask.nc')\n",
    "#base_mask['regionCellMasks'] = base_mask.regionCellMasks.where(base_mask.nCells.isin(n_border_cells+1), other = 1)\n",
    "base_mask['regionCellMasks'] = base_mask.regionCellMasks.where(base_mask.nCells.isin(xr_cells_inside), other = 0)\n",
    "base_mask['regionEdgeMasks'] = base_mask.regionEdgeMasks.where(base_mask.nEdges.isin(xr_border_edges),other=0)\n",
    "base_mask['regionVertexMasks'] = base_mask.regionVertexMasks.where(base_mask.nVertices.isin(xr_border_vertices),other=0)\n",
    "print('finished selecting base_mask values')\n",
    "\n",
    "test_mask = base_mask\n",
    "\n",
    "# convert the 1s and 0s new mask to boolean T/F\n",
    "cellmask = test_mask.regionCellMasks.isel(nRegions=0).astype(bool)\n",
    "edgemask = test_mask.regionEdgeMasks.isel(nRegions=0).astype(bool)\n",
    "vertexmask = test_mask.regionVertexMasks.isel(nRegions=0).astype(bool)\n",
    "print('converted test_mask to bool')\n",
    "\n",
    "\n",
    "# scratch plot to check stuff\n",
    "# set up mesh to apply polypcolor\n",
    "mesh.attrs['is_periodic'] = 'YES'\n",
    "mesh.attrs['x_period'] = 360\n",
    "mesh.attrs['y_period'] = 0.0\n",
    "\n",
    "descriptor = mosaic.Descriptor(mesh,use_latlon=False)\n",
    "\n",
    "\n",
    "# ds_t0 = dso['timeMonthly_avg_activeTracers_temperature'].isel(nVertLevels=30,Time=0)\n",
    "\n",
    "# ds_t0 = dso['timeMonthly_avg_latentHeatFlux'].isel(Time=0)\n",
    "\n",
    "ds_t0 = dso['timeMonthly_avg_normalVelocitySquared'].isel(Time=0,nVertLevels=0)\n",
    "\n",
    "# remove the nans\n",
    "if ds_t0.min() < -9**33:\n",
    "    ds_nonans = ds_t0.where(ds_t0 > -9**33)\n",
    "    print('fake nans detected')\n",
    "else:\n",
    "    ds_nonans = ds_t0\n",
    "\n",
    "# apply the mask\n",
    "# ds_masked = ds_nonans.where(cellmask,drop=False)\n",
    "print('beginning masked.where')\n",
    "ds_masked = ds_nonans.where(edgemask,drop=False)\n",
    "\n",
    "# plot\n",
    "fig,ax = plt.subplots(nrows=1,ncols=1,constrained_layout=True)\n",
    "c = mosaic.polypcolor(ax,descriptor,\n",
    "                  cellmask.astype(int),cmap='viridis',\n",
    "                  antialiaseds=False)\n",
    "fig.colorbar(c, extend='both')\n",
    "ax.set_xlim(290, 318)\n",
    "ax.set_ylim(51.5, 68)\n",
    "# ax.set_xlim(0, 360)\n"
   ]
  },
  {
   "cell_type": "code",
   "execution_count": null,
   "id": "af94e314-d053-4a32-b2f0-11bbef465488",
   "metadata": {},
   "outputs": [],
   "source": [
    "# mask_transect_cells\n",
    "base_mask = xr.open_dataset('./mpas-o_EC30to60_global_base_mask.nc')\n",
    "#base_mask['regionCellMasks'] = base_mask.regionCellMasks.where(base_mask.nCells.isin(n_border_cells+1), other = 1)\n",
    "base_mask['regionCellMasks'] = base_mask.regionCellMasks.where(base_mask.nCells.isin(mask_transect_cells), other = 0)\n",
    "base_mask['regionEdgeMasks'] = base_mask.regionEdgeMasks.where(base_mask.nEdges.isin(xr_border_edges),other=0)\n",
    "base_mask['regionVertexMasks'] = base_mask.regionVertexMasks.where(base_mask.nVertices.isin(xr_border_vertices),other=0)\n",
    "print('finished selecting base_mask values')\n",
    "\n",
    "test_mask = base_mask\n",
    "\n",
    "# convert the 1s and 0s new mask to boolean T/F\n",
    "cellmask = test_mask.regionCellMasks.isel(nRegions=0).astype(bool)\n",
    "edgemask = test_mask.regionEdgeMasks.isel(nRegions=0).astype(bool)\n",
    "vertexmask = test_mask.regionVertexMasks.isel(nRegions=0).astype(bool)\n",
    "print('converted test_mask to bool')\n",
    "\n",
    "\n",
    "# scratch plot to check stuff\n",
    "# set up mesh to apply polypcolor\n",
    "mesh.attrs['is_periodic'] = 'YES'\n",
    "mesh.attrs['x_period'] = 360\n",
    "mesh.attrs['y_period'] = 0.0\n",
    "\n",
    "descriptor = mosaic.Descriptor(mesh,use_latlon=False)\n",
    "\n",
    "\n",
    "# ds_t0 = dso['timeMonthly_avg_activeTracers_temperature'].isel(nVertLevels=30,Time=0)\n",
    "\n",
    "# ds_t0 = dso['timeMonthly_avg_latentHeatFlux'].isel(Time=0)\n",
    "\n",
    "ds_t0 = dso['timeMonthly_avg_normalVelocitySquared'].isel(Time=0,nVertLevels=0)\n",
    "\n",
    "# remove the nans\n",
    "if ds_t0.min() < -9**33:\n",
    "    ds_nonans = ds_t0.where(ds_t0 > -9**33)\n",
    "    print('fake nans detected')\n",
    "else:\n",
    "    ds_nonans = ds_t0\n",
    "\n",
    "# apply the mask\n",
    "# ds_masked = ds_nonans.where(cellmask,drop=False)\n",
    "print('beginning masked.where')\n",
    "ds_masked = ds_nonans.where(edgemask,drop=False)\n",
    "\n",
    "# plot\n",
    "fig,ax = plt.subplots(nrows=1,ncols=1,constrained_layout=True)\n",
    "c = mosaic.polypcolor(ax,descriptor,\n",
    "                  cellmask.astype(int),cmap='viridis',\n",
    "                  antialiaseds=False)\n",
    "fig.colorbar(c, extend='both')\n",
    "ax.set_xlim(290, 318)\n",
    "ax.set_ylim(51.5, 68)\n",
    "# ax.set_xlim(0, 360)\n"
   ]
  },
  {
   "cell_type": "code",
   "execution_count": null,
   "id": "4c8a4deb-ec00-4c32-a736-53d9256a9808",
   "metadata": {},
   "outputs": [],
   "source": []
  },
  {
   "cell_type": "markdown",
   "id": "1555e462-beda-49dd-9f3e-6ccb115a911e",
   "metadata": {},
   "source": [
    "<div class=\"alert alert-block alert-info\">\n",
    "<b>Everything above this is somewhat correct except for the boolean / .where choices...:</b> Stop.\n",
    "</div>"
   ]
  },
  {
   "cell_type": "markdown",
   "id": "e8ff5e85-bb9c-4e58-9834-5db27f18be71",
   "metadata": {
    "jp-MarkdownHeadingCollapsed": true
   },
   "source": [
    "### check indices between n and xr for Cells\n",
    "`isel` with `xr` coordinate.\\\n",
    "Returns datavariable in `n` coordinate."
   ]
  },
  {
   "cell_type": "code",
   "execution_count": null,
   "id": "1d282047-6cb2-4942-8e87-4d12d53eb9b9",
   "metadata": {},
   "outputs": [],
   "source": [
    "# get the edges connected to a cell with the xr_ID of 0 (isel(nCells=0)). Then choose the first edge of that cell\n",
    "# returns edges in the n coordinate\n",
    "edge_nCell0_0 = mesh.edgesOnCell.isel(nCells=0).values[0] \n",
    "display(edge_nCell0_0)\n",
    "\n",
    "# convert the edge in the n coordinate to the xr coordinate (xr = n -1) \n",
    "xr_edge_nCell0_0 = edge_nCell0_0 -1\n",
    "display(xr_edge_nCell0_0)\n",
    "\n",
    "# check our work \n",
    "# get the cells connected to an edge identified with xr_ID and n\n",
    "mesh.cellsOnEdge.isel(nEdges=xr_edge_nCell0_0).values\n",
    "# indices returned in the ncell indices"
   ]
  },
  {
   "cell_type": "markdown",
   "id": "0e72d6e0-841b-4968-85a2-4c4d57187b76",
   "metadata": {},
   "source": [
    "### check indices between n and xr for Vertices"
   ]
  },
  {
   "cell_type": "code",
   "execution_count": null,
   "id": "3167adba-aa70-4906-8218-ae094b4f9c38",
   "metadata": {},
   "outputs": [],
   "source": [
    "# get the vertices connected to a cell with the xr_ID of 0 (isel(nCells=0)). then choose the first vertex of that cell\n",
    "# returns vertices in the n coordinate\n",
    "nCell_idx = 0\n",
    "vert_nCell0_0 = mesh.verticesOnCell.isel(nCells=nCell_idx).values[0]\n",
    "display(vert_nCell0_0)\n",
    "\n",
    "# convert the vertex in the n coordinate to the xr coordinate (xr = n-1)\n",
    "xr_vert_nCell0_0 = n_to_xr_idx(vert_nCell0_0)\n",
    "display(xr_vert_nCell0_0)\n",
    "\n",
    "# check our work\n",
    "# get the cells connected to the vertex identified with xr_ID and n\n",
    "nCell_vert31235_0 = mesh.cellsOnVertex.isel(nVertices = xr_vert_nCell0_0).values\n",
    "\n",
    "# indices returned in the ncell indices. Convert ncell index to xr index\n",
    "nCell_from_vertex = n_to_xr_idx(nCell_vert31235_0)\n",
    "display(nCell_from_vertex)\n"
   ]
  }
 ],
 "metadata": {
  "kernelspec": {
   "display_name": "lanl_env",
   "language": "python",
   "name": "lanl_env"
  },
  "language_info": {
   "codemirror_mode": {
    "name": "ipython",
    "version": 3
   },
   "file_extension": ".py",
   "mimetype": "text/x-python",
   "name": "python",
   "nbconvert_exporter": "python",
   "pygments_lexer": "ipython3",
   "version": "3.13.3"
  }
 },
 "nbformat": 4,
 "nbformat_minor": 5
}
